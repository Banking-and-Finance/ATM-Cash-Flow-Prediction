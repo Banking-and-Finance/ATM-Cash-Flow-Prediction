{
 "cells": [
  {
   "cell_type": "code",
   "execution_count": 16,
   "metadata": {},
   "outputs": [],
   "source": [
    "import seaborn as sns\n",
    "import matplotlib.pyplot as plt\n",
    "import numpy as np\n",
    "import pandas as pd\n",
    "%matplotlib inline"
   ]
  },
  {
   "cell_type": "code",
   "execution_count": 17,
   "metadata": {},
   "outputs": [],
   "source": [
    "data = pd.read_csv(\"AggregatedData.csv\")"
   ]
  },
  {
   "cell_type": "markdown",
   "metadata": {},
   "source": [
    "<h3> Convert Weekday column to Uppercase because of format mismatch </h3>"
   ]
  },
  {
   "cell_type": "code",
   "execution_count": 18,
   "metadata": {},
   "outputs": [],
   "source": [
    "data['Weekday'] = data['Weekday'].str.upper()"
   ]
  },
  {
   "cell_type": "code",
   "execution_count": 19,
   "metadata": {},
   "outputs": [
    {
     "name": "stdout",
     "output_type": "stream",
     "text": [
      "<class 'pandas.core.frame.DataFrame'>\n",
      "RangeIndex: 11589 entries, 0 to 11588\n",
      "Data columns (total 12 columns):\n",
      "ATM Name                        11589 non-null object\n",
      "Transaction Date                11589 non-null object\n",
      "No Of Withdrawals               11589 non-null int64\n",
      "No Of XYZ Card Withdrawals      11589 non-null int64\n",
      "No Of Other Card Withdrawals    11589 non-null int64\n",
      "Total amount Withdrawn          11589 non-null int64\n",
      "Amount withdrawn XYZ Card       11589 non-null int64\n",
      "Amount withdrawn Other Card     11589 non-null int64\n",
      "Weekday                         11589 non-null object\n",
      "Festival Religion               11589 non-null object\n",
      "Working Day                     11589 non-null object\n",
      "Holiday Sequence                11589 non-null object\n",
      "dtypes: int64(6), object(6)\n",
      "memory usage: 1.1+ MB\n"
     ]
    }
   ],
   "source": [
    "data.info()"
   ]
  },
  {
   "cell_type": "markdown",
   "metadata": {},
   "source": [
    "<h3> Convert Transaction Date column to Date Time object </h3>"
   ]
  },
  {
   "cell_type": "code",
   "execution_count": 20,
   "metadata": {},
   "outputs": [],
   "source": [
    "import datetime \n",
    "data['Transaction Date'] = pd.to_datetime(data['Transaction Date']) "
   ]
  },
  {
   "cell_type": "code",
   "execution_count": 21,
   "metadata": {},
   "outputs": [
    {
     "data": {
      "text/html": [
       "<div>\n",
       "<style scoped>\n",
       "    .dataframe tbody tr th:only-of-type {\n",
       "        vertical-align: middle;\n",
       "    }\n",
       "\n",
       "    .dataframe tbody tr th {\n",
       "        vertical-align: top;\n",
       "    }\n",
       "\n",
       "    .dataframe thead th {\n",
       "        text-align: right;\n",
       "    }\n",
       "</style>\n",
       "<table border=\"1\" class=\"dataframe\">\n",
       "  <thead>\n",
       "    <tr style=\"text-align: right;\">\n",
       "      <th></th>\n",
       "      <th>ATM Name</th>\n",
       "      <th>Transaction Date</th>\n",
       "      <th>No Of Withdrawals</th>\n",
       "      <th>No Of XYZ Card Withdrawals</th>\n",
       "      <th>No Of Other Card Withdrawals</th>\n",
       "      <th>Total amount Withdrawn</th>\n",
       "      <th>Amount withdrawn XYZ Card</th>\n",
       "      <th>Amount withdrawn Other Card</th>\n",
       "      <th>Weekday</th>\n",
       "      <th>Festival Religion</th>\n",
       "      <th>Working Day</th>\n",
       "      <th>Holiday Sequence</th>\n",
       "    </tr>\n",
       "  </thead>\n",
       "  <tbody>\n",
       "    <tr>\n",
       "      <th>0</th>\n",
       "      <td>Big Street ATM</td>\n",
       "      <td>2011-01-01</td>\n",
       "      <td>50</td>\n",
       "      <td>20</td>\n",
       "      <td>30</td>\n",
       "      <td>123800</td>\n",
       "      <td>41700</td>\n",
       "      <td>82100</td>\n",
       "      <td>SATURDAY</td>\n",
       "      <td>H</td>\n",
       "      <td>H</td>\n",
       "      <td>WHH</td>\n",
       "    </tr>\n",
       "    <tr>\n",
       "      <th>1</th>\n",
       "      <td>Mount Road ATM</td>\n",
       "      <td>2011-01-01</td>\n",
       "      <td>253</td>\n",
       "      <td>67</td>\n",
       "      <td>186</td>\n",
       "      <td>767900</td>\n",
       "      <td>270900</td>\n",
       "      <td>497000</td>\n",
       "      <td>SATURDAY</td>\n",
       "      <td>C</td>\n",
       "      <td>H</td>\n",
       "      <td>WHH</td>\n",
       "    </tr>\n",
       "    <tr>\n",
       "      <th>2</th>\n",
       "      <td>Airport ATM</td>\n",
       "      <td>2011-01-01</td>\n",
       "      <td>98</td>\n",
       "      <td>56</td>\n",
       "      <td>42</td>\n",
       "      <td>503400</td>\n",
       "      <td>347700</td>\n",
       "      <td>155700</td>\n",
       "      <td>SATURDAY</td>\n",
       "      <td>C</td>\n",
       "      <td>H</td>\n",
       "      <td>WHH</td>\n",
       "    </tr>\n",
       "    <tr>\n",
       "      <th>3</th>\n",
       "      <td>KK Nagar ATM</td>\n",
       "      <td>2011-01-01</td>\n",
       "      <td>265</td>\n",
       "      <td>159</td>\n",
       "      <td>106</td>\n",
       "      <td>945300</td>\n",
       "      <td>532600</td>\n",
       "      <td>412700</td>\n",
       "      <td>SATURDAY</td>\n",
       "      <td>C</td>\n",
       "      <td>H</td>\n",
       "      <td>WHH</td>\n",
       "    </tr>\n",
       "    <tr>\n",
       "      <th>4</th>\n",
       "      <td>Christ College ATM</td>\n",
       "      <td>2011-01-01</td>\n",
       "      <td>74</td>\n",
       "      <td>25</td>\n",
       "      <td>49</td>\n",
       "      <td>287700</td>\n",
       "      <td>148200</td>\n",
       "      <td>139500</td>\n",
       "      <td>SATURDAY</td>\n",
       "      <td>C</td>\n",
       "      <td>H</td>\n",
       "      <td>WHH</td>\n",
       "    </tr>\n",
       "  </tbody>\n",
       "</table>\n",
       "</div>"
      ],
      "text/plain": [
       "             ATM Name Transaction Date  No Of Withdrawals  \\\n",
       "0      Big Street ATM       2011-01-01                 50   \n",
       "1      Mount Road ATM       2011-01-01                253   \n",
       "2         Airport ATM       2011-01-01                 98   \n",
       "3        KK Nagar ATM       2011-01-01                265   \n",
       "4  Christ College ATM       2011-01-01                 74   \n",
       "\n",
       "   No Of XYZ Card Withdrawals  No Of Other Card Withdrawals  \\\n",
       "0                          20                            30   \n",
       "1                          67                           186   \n",
       "2                          56                            42   \n",
       "3                         159                           106   \n",
       "4                          25                            49   \n",
       "\n",
       "   Total amount Withdrawn  Amount withdrawn XYZ Card  \\\n",
       "0                  123800                      41700   \n",
       "1                  767900                     270900   \n",
       "2                  503400                     347700   \n",
       "3                  945300                     532600   \n",
       "4                  287700                     148200   \n",
       "\n",
       "   Amount withdrawn Other Card   Weekday Festival Religion Working Day  \\\n",
       "0                        82100  SATURDAY                 H           H   \n",
       "1                       497000  SATURDAY                 C           H   \n",
       "2                       155700  SATURDAY                 C           H   \n",
       "3                       412700  SATURDAY                 C           H   \n",
       "4                       139500  SATURDAY                 C           H   \n",
       "\n",
       "  Holiday Sequence  \n",
       "0              WHH  \n",
       "1              WHH  \n",
       "2              WHH  \n",
       "3              WHH  \n",
       "4              WHH  "
      ]
     },
     "execution_count": 21,
     "metadata": {},
     "output_type": "execute_result"
    }
   ],
   "source": [
    "data.head()"
   ]
  },
  {
   "cell_type": "markdown",
   "metadata": {},
   "source": [
    "<h3> Removing the XYZ and Other Card Withdrawn Amounts columns too because I think they will end up biasing the model too much because the Total Amount Withdrawn column is just the sum of these two columns </h3>\n",
    "<h4> Actually the number of withdrawals should be removed too, because in a real-time scenario, we cannot really have that value but I'm keeping it in for now </h4>"
   ]
  },
  {
   "cell_type": "code",
   "execution_count": 22,
   "metadata": {},
   "outputs": [],
   "source": [
    "new_data = data.drop(['Transaction Date', 'Amount withdrawn Other Card',\n",
    "               'Amount withdrawn XYZ Card', 'No Of Withdrawals', 'No Of XYZ Card Withdrawals',\n",
    "       'No Of Other Card Withdrawals'], axis = 1)\n",
    "\n",
    "# y = data['Total amount Withdrawn']"
   ]
  },
  {
   "cell_type": "markdown",
   "metadata": {},
   "source": [
    "<h3> Converting Transaction Date to separate columns, otherwise model won't accept it </h3>\n"
   ]
  },
  {
   "cell_type": "code",
   "execution_count": 23,
   "metadata": {},
   "outputs": [],
   "source": [
    "new_data['Month'] = data['Transaction Date'].dt.month\n",
    "new_data['Day'] = data['Transaction Date'].dt.day\n",
    "new_data['Year'] = data['Transaction Date'].dt.year"
   ]
  },
  {
   "cell_type": "code",
   "execution_count": 24,
   "metadata": {},
   "outputs": [
    {
     "data": {
      "text/plain": [
       "Index(['ATM Name', 'Total amount Withdrawn', 'Weekday', 'Festival Religion',\n",
       "       'Working Day', 'Holiday Sequence', 'Month', 'Day', 'Year'],\n",
       "      dtype='object')"
      ]
     },
     "execution_count": 24,
     "metadata": {},
     "output_type": "execute_result"
    }
   ],
   "source": [
    "new_data.columns"
   ]
  },
  {
   "cell_type": "markdown",
   "metadata": {},
   "source": [
    "<h3> Converting Categorical Columns to Boolean Columns using pd.get_dummies() </h3>"
   ]
  },
  {
   "cell_type": "code",
   "execution_count": 25,
   "metadata": {},
   "outputs": [],
   "source": [
    "categorical_features_list = ['ATM Name', 'Weekday', 'Festival Religion', 'Working Day', 'Holiday Sequence', 'Month', 'Day', 'Year']\n",
    "numeric_features_list = []"
   ]
  },
  {
   "cell_type": "code",
   "execution_count": 26,
   "metadata": {},
   "outputs": [],
   "source": [
    "# Convert all categorical columns to Dummy Data (One-Hot Encoding I think)\n",
    "# drop_first = True to avoid the first column of each dummy column's result\n",
    "# So if column = Gender and has two unique values Male and Female, get_dummies on this column creates two new columns\n",
    "# male and female, if person male that column is 1 and the other is 0 and same for female column, but we only just need\n",
    "# one of these columns, male or female, if male is 0 it guarantees person is female, for that reason drop_first=True\n",
    "\n",
    "numeric_data = pd.get_dummies(new_data, columns=categorical_features_list, drop_first=True)"
   ]
  },
  {
   "cell_type": "code",
   "execution_count": 27,
   "metadata": {},
   "outputs": [
    {
     "data": {
      "text/html": [
       "<div>\n",
       "<style scoped>\n",
       "    .dataframe tbody tr th:only-of-type {\n",
       "        vertical-align: middle;\n",
       "    }\n",
       "\n",
       "    .dataframe tbody tr th {\n",
       "        vertical-align: top;\n",
       "    }\n",
       "\n",
       "    .dataframe thead th {\n",
       "        text-align: right;\n",
       "    }\n",
       "</style>\n",
       "<table border=\"1\" class=\"dataframe\">\n",
       "  <thead>\n",
       "    <tr style=\"text-align: right;\">\n",
       "      <th></th>\n",
       "      <th>Total amount Withdrawn</th>\n",
       "      <th>ATM Name_Big Street ATM</th>\n",
       "      <th>ATM Name_Christ College ATM</th>\n",
       "      <th>ATM Name_KK Nagar ATM</th>\n",
       "      <th>ATM Name_Mount Road ATM</th>\n",
       "      <th>Weekday_MONDAY</th>\n",
       "      <th>Weekday_SATURDAY</th>\n",
       "      <th>Weekday_SUNDAY</th>\n",
       "      <th>Weekday_THURSDAY</th>\n",
       "      <th>Weekday_TUESDAY</th>\n",
       "      <th>...</th>\n",
       "      <th>Day_28</th>\n",
       "      <th>Day_29</th>\n",
       "      <th>Day_30</th>\n",
       "      <th>Day_31</th>\n",
       "      <th>Year_2012</th>\n",
       "      <th>Year_2013</th>\n",
       "      <th>Year_2014</th>\n",
       "      <th>Year_2015</th>\n",
       "      <th>Year_2016</th>\n",
       "      <th>Year_2017</th>\n",
       "    </tr>\n",
       "  </thead>\n",
       "  <tbody>\n",
       "    <tr>\n",
       "      <th>0</th>\n",
       "      <td>123800</td>\n",
       "      <td>1</td>\n",
       "      <td>0</td>\n",
       "      <td>0</td>\n",
       "      <td>0</td>\n",
       "      <td>0</td>\n",
       "      <td>1</td>\n",
       "      <td>0</td>\n",
       "      <td>0</td>\n",
       "      <td>0</td>\n",
       "      <td>...</td>\n",
       "      <td>0</td>\n",
       "      <td>0</td>\n",
       "      <td>0</td>\n",
       "      <td>0</td>\n",
       "      <td>0</td>\n",
       "      <td>0</td>\n",
       "      <td>0</td>\n",
       "      <td>0</td>\n",
       "      <td>0</td>\n",
       "      <td>0</td>\n",
       "    </tr>\n",
       "    <tr>\n",
       "      <th>1</th>\n",
       "      <td>767900</td>\n",
       "      <td>0</td>\n",
       "      <td>0</td>\n",
       "      <td>0</td>\n",
       "      <td>1</td>\n",
       "      <td>0</td>\n",
       "      <td>1</td>\n",
       "      <td>0</td>\n",
       "      <td>0</td>\n",
       "      <td>0</td>\n",
       "      <td>...</td>\n",
       "      <td>0</td>\n",
       "      <td>0</td>\n",
       "      <td>0</td>\n",
       "      <td>0</td>\n",
       "      <td>0</td>\n",
       "      <td>0</td>\n",
       "      <td>0</td>\n",
       "      <td>0</td>\n",
       "      <td>0</td>\n",
       "      <td>0</td>\n",
       "    </tr>\n",
       "    <tr>\n",
       "      <th>2</th>\n",
       "      <td>503400</td>\n",
       "      <td>0</td>\n",
       "      <td>0</td>\n",
       "      <td>0</td>\n",
       "      <td>0</td>\n",
       "      <td>0</td>\n",
       "      <td>1</td>\n",
       "      <td>0</td>\n",
       "      <td>0</td>\n",
       "      <td>0</td>\n",
       "      <td>...</td>\n",
       "      <td>0</td>\n",
       "      <td>0</td>\n",
       "      <td>0</td>\n",
       "      <td>0</td>\n",
       "      <td>0</td>\n",
       "      <td>0</td>\n",
       "      <td>0</td>\n",
       "      <td>0</td>\n",
       "      <td>0</td>\n",
       "      <td>0</td>\n",
       "    </tr>\n",
       "    <tr>\n",
       "      <th>3</th>\n",
       "      <td>945300</td>\n",
       "      <td>0</td>\n",
       "      <td>0</td>\n",
       "      <td>1</td>\n",
       "      <td>0</td>\n",
       "      <td>0</td>\n",
       "      <td>1</td>\n",
       "      <td>0</td>\n",
       "      <td>0</td>\n",
       "      <td>0</td>\n",
       "      <td>...</td>\n",
       "      <td>0</td>\n",
       "      <td>0</td>\n",
       "      <td>0</td>\n",
       "      <td>0</td>\n",
       "      <td>0</td>\n",
       "      <td>0</td>\n",
       "      <td>0</td>\n",
       "      <td>0</td>\n",
       "      <td>0</td>\n",
       "      <td>0</td>\n",
       "    </tr>\n",
       "    <tr>\n",
       "      <th>4</th>\n",
       "      <td>287700</td>\n",
       "      <td>0</td>\n",
       "      <td>1</td>\n",
       "      <td>0</td>\n",
       "      <td>0</td>\n",
       "      <td>0</td>\n",
       "      <td>1</td>\n",
       "      <td>0</td>\n",
       "      <td>0</td>\n",
       "      <td>0</td>\n",
       "      <td>...</td>\n",
       "      <td>0</td>\n",
       "      <td>0</td>\n",
       "      <td>0</td>\n",
       "      <td>0</td>\n",
       "      <td>0</td>\n",
       "      <td>0</td>\n",
       "      <td>0</td>\n",
       "      <td>0</td>\n",
       "      <td>0</td>\n",
       "      <td>0</td>\n",
       "    </tr>\n",
       "  </tbody>\n",
       "</table>\n",
       "<p>5 rows × 70 columns</p>\n",
       "</div>"
      ],
      "text/plain": [
       "   Total amount Withdrawn  ATM Name_Big Street ATM  \\\n",
       "0                  123800                        1   \n",
       "1                  767900                        0   \n",
       "2                  503400                        0   \n",
       "3                  945300                        0   \n",
       "4                  287700                        0   \n",
       "\n",
       "   ATM Name_Christ College ATM  ATM Name_KK Nagar ATM  \\\n",
       "0                            0                      0   \n",
       "1                            0                      0   \n",
       "2                            0                      0   \n",
       "3                            0                      1   \n",
       "4                            1                      0   \n",
       "\n",
       "   ATM Name_Mount Road ATM  Weekday_MONDAY  Weekday_SATURDAY  Weekday_SUNDAY  \\\n",
       "0                        0               0                 1               0   \n",
       "1                        1               0                 1               0   \n",
       "2                        0               0                 1               0   \n",
       "3                        0               0                 1               0   \n",
       "4                        0               0                 1               0   \n",
       "\n",
       "   Weekday_THURSDAY  Weekday_TUESDAY  ...  Day_28  Day_29  Day_30  Day_31  \\\n",
       "0                 0                0  ...       0       0       0       0   \n",
       "1                 0                0  ...       0       0       0       0   \n",
       "2                 0                0  ...       0       0       0       0   \n",
       "3                 0                0  ...       0       0       0       0   \n",
       "4                 0                0  ...       0       0       0       0   \n",
       "\n",
       "   Year_2012  Year_2013  Year_2014  Year_2015  Year_2016  Year_2017  \n",
       "0          0          0          0          0          0          0  \n",
       "1          0          0          0          0          0          0  \n",
       "2          0          0          0          0          0          0  \n",
       "3          0          0          0          0          0          0  \n",
       "4          0          0          0          0          0          0  \n",
       "\n",
       "[5 rows x 70 columns]"
      ]
     },
     "execution_count": 27,
     "metadata": {},
     "output_type": "execute_result"
    }
   ],
   "source": [
    "numeric_data.head()"
   ]
  },
  {
   "cell_type": "markdown",
   "metadata": {},
   "source": [
    "<h3> Train Test Split followed by Scaling all Columns </h3>\n",
    "<h3> Since all columns are non-numeric, we don't really need scaling, so I commented it out for now </h3>"
   ]
  },
  {
   "cell_type": "code",
   "execution_count": 28,
   "metadata": {},
   "outputs": [],
   "source": [
    "from sklearn.model_selection import train_test_split\n",
    "from sklearn.preprocessing import StandardScaler\n",
    "\n",
    "X = numeric_data.drop('Total amount Withdrawn', axis=1)\n",
    "y = numeric_data['Total amount Withdrawn']\n",
    "\n",
    "X_train, X_test, y_train, y_test = train_test_split(X, y, test_size=0.3, random_state=101)\n",
    "\n",
    "# Note that we fit the scaler on X_train only and not X, otherwise test data will get biased on means and std of test data\n",
    "# Instead it should use train data mean and std\n",
    "# scaler = StandardScaler().fit(X_train)\n",
    "# scaled_X_train = pd.DataFrame(data=scaler.transform(X_train), columns=X.columns)\n",
    "# scaled_X_test = pd.DataFrame(data=scaler.transform(X_test), columns=X.columns)\n",
    "\n",
    "# scaled_X_train"
   ]
  },
  {
   "cell_type": "markdown",
   "metadata": {},
   "source": [
    "<h3> KNN Implementation & Error Rate Visualization </h3>"
   ]
  },
  {
   "cell_type": "code",
   "execution_count": 29,
   "metadata": {},
   "outputs": [
    {
     "name": "stdout",
     "output_type": "stream",
     "text": [
      "k=1 Model Trained and Tested\n",
      "k=2 Model Trained and Tested\n",
      "k=3 Model Trained and Tested\n",
      "k=4 Model Trained and Tested\n",
      "k=5 Model Trained and Tested\n",
      "k=6 Model Trained and Tested\n",
      "k=7 Model Trained and Tested\n",
      "k=8 Model Trained and Tested\n",
      "k=9 Model Trained and Tested\n",
      "k=10 Model Trained and Tested\n",
      "k=11 Model Trained and Tested\n",
      "k=12 Model Trained and Tested\n",
      "k=13 Model Trained and Tested\n",
      "k=14 Model Trained and Tested\n",
      "k=15 Model Trained and Tested\n",
      "k=16 Model Trained and Tested\n",
      "k=17 Model Trained and Tested\n",
      "k=18 Model Trained and Tested\n",
      "k=19 Model Trained and Tested\n",
      "k=20 Model Trained and Tested\n",
      "k=21 Model Trained and Tested\n",
      "k=22 Model Trained and Tested\n",
      "k=23 Model Trained and Tested\n",
      "k=24 Model Trained and Tested\n",
      "k=25 Model Trained and Tested\n",
      "k=26 Model Trained and Tested\n",
      "k=27 Model Trained and Tested\n",
      "k=28 Model Trained and Tested\n",
      "k=29 Model Trained and Tested\n",
      "k=30 Model Trained and Tested\n",
      "k=31 Model Trained and Tested\n",
      "k=32 Model Trained and Tested\n",
      "k=33 Model Trained and Tested\n",
      "k=34 Model Trained and Tested\n",
      "k=35 Model Trained and Tested\n",
      "k=36 Model Trained and Tested\n",
      "k=37 Model Trained and Tested\n",
      "k=38 Model Trained and Tested\n",
      "k=39 Model Trained and Tested\n",
      "k=40 Model Trained and Tested\n",
      "k=41 Model Trained and Tested\n",
      "k=42 Model Trained and Tested\n",
      "k=43 Model Trained and Tested\n",
      "k=44 Model Trained and Tested\n",
      "k=45 Model Trained and Tested\n",
      "k=46 Model Trained and Tested\n",
      "k=47 Model Trained and Tested\n",
      "k=48 Model Trained and Tested\n",
      "k=49 Model Trained and Tested\n",
      "k=50 Model Trained and Tested\n"
     ]
    }
   ],
   "source": [
    "from sklearn.neighbors import KNeighborsRegressor\n",
    "from sklearn.metrics import mean_squared_error\n",
    "\n",
    "error_rate = []\n",
    "for k in range(1, 51):\n",
    "    knn = KNeighborsRegressor(n_neighbors=k, n_jobs=-1)\n",
    "    knn.fit(X_train, y_train)\n",
    "    predictions = knn.predict(X_test)\n",
    "    error_rate.append(np.sqrt(mean_squared_error(y_test, predictions)))\n",
    "    print(\"k={} Model Trained and Tested\".format(k))"
   ]
  },
  {
   "cell_type": "code",
   "execution_count": 30,
   "metadata": {},
   "outputs": [
    {
     "data": {
      "text/plain": [
       "[<matplotlib.lines.Line2D at 0x26b1fe3d040>]"
      ]
     },
     "execution_count": 30,
     "metadata": {},
     "output_type": "execute_result"
    },
    {
     "data": {
      "image/png": "[encoded data removed]",
      "text/plain": [
       "<Figure size 720x432 with 1 Axes>"
      ]
     },
     "metadata": {
      "needs_background": "light"
     },
     "output_type": "display_data"
    }
   ],
   "source": [
    "plt.figure(figsize=(10,6))\n",
    "plt.plot(range(1,51), error_rate, linestyle='--', marker='o', markerfacecolor='red', color='blue')"
   ]
  },
  {
   "cell_type": "code",
   "execution_count": 31,
   "metadata": {},
   "outputs": [
    {
     "name": "stdout",
     "output_type": "stream",
     "text": [
      "Best K: 37\n",
      "Best RMSE: 243180.0491744677\n"
     ]
    }
   ],
   "source": [
    "print(\"Best K:\", error_rate.index(min(error_rate)))\n",
    "print(\"Best RMSE:\", min(error_rate))"
   ]
  },
  {
   "cell_type": "markdown",
   "metadata": {},
   "source": [
    "<h3> Best RMSE: 243180.0491744677 </h3>"
   ]
  },
  {
   "cell_type": "markdown",
   "metadata": {},
   "source": [
    "<h2> Linear Regression </h2>"
   ]
  },
  {
   "cell_type": "code",
   "execution_count": 32,
   "metadata": {},
   "outputs": [
    {
     "name": "stdout",
     "output_type": "stream",
     "text": [
      "251419.81922358868\n"
     ]
    }
   ],
   "source": [
    "from sklearn.linear_model import LinearRegression\n",
    "\n",
    "lr = LinearRegression(n_jobs=-1)\n",
    "\n",
    "lr.fit(X_train, y_train)\n",
    "\n",
    "lr_predictions = lr.predict(X_test)\n",
    "\n",
    "lr_rmse = np.sqrt(mean_squared_error(y_test, lr_predictions))\n",
    "\n",
    "print(lr_rmse)"
   ]
  },
  {
   "cell_type": "markdown",
   "metadata": {},
   "source": [
    "<h3> Linear Regression RMSE: 251419.81922358868 </h3>"
   ]
  },
  {
   "cell_type": "markdown",
   "metadata": {},
   "source": [
    "<h2> Ridge Linear Regression </h2>"
   ]
  },
  {
   "cell_type": "code",
   "execution_count": 33,
   "metadata": {},
   "outputs": [
    {
     "name": "stdout",
     "output_type": "stream",
     "text": [
      "251386.47604234665\n"
     ]
    }
   ],
   "source": [
    "from sklearn.linear_model import Ridge\n",
    "\n",
    "# Potential to use Hyperparameter Tuning with solvers, alpha\n",
    "ridge_lr = Ridge()\n",
    "\n",
    "ridge_lr.fit(X_train, y_train)\n",
    "\n",
    "ridge_lr_predictions = ridge_lr.predict(X_test)\n",
    "\n",
    "ridge_lr_rmse = np.sqrt(mean_squared_error(y_test, ridge_lr_predictions))\n",
    "\n",
    "print(ridge_lr_rmse)"
   ]
  },
  {
   "cell_type": "markdown",
   "metadata": {},
   "source": [
    "<h3> Ridge Linear Regression RMSE: 251386.47604234665 </h3>"
   ]
  },
  {
   "cell_type": "markdown",
   "metadata": {},
   "source": [
    "<h2> Lasso Linear Regression </h2>"
   ]
  },
  {
   "cell_type": "code",
   "execution_count": 34,
   "metadata": {},
   "outputs": [
    {
     "name": "stdout",
     "output_type": "stream",
     "text": [
      "251415.86960634057\n",
      "1091\n"
     ]
    }
   ],
   "source": [
    "from sklearn.linear_model import Lasso\n",
    "\n",
    "# Potential to use Hyperparameter Tuning with alpha\n",
    "lasso_lr = Lasso(max_iter=1100)\n",
    "\n",
    "lasso_lr.fit(X_train, y_train)\n",
    "\n",
    "lasso_lr_predictions = lasso_lr.predict(X_test)\n",
    "\n",
    "lasso_lr_rmse = np.sqrt(mean_squared_error(y_test, lasso_lr_predictions))\n",
    "\n",
    "print(lasso_lr_rmse)\n",
    "print(lasso_lr.n_iter_)"
   ]
  },
  {
   "cell_type": "markdown",
   "metadata": {},
   "source": [
    "<h3> Lasso Linear Regression RMSE: 251415.86960634057 </h3>"
   ]
  },
  {
   "cell_type": "markdown",
   "metadata": {},
   "source": [
    "<h2> Bayesian Ridge Linear Regression </h2>"
   ]
  },
  {
   "cell_type": "code",
   "execution_count": 35,
   "metadata": {},
   "outputs": [
    {
     "name": "stdout",
     "output_type": "stream",
     "text": [
      "251396.25827460986\n"
     ]
    }
   ],
   "source": [
    "from sklearn.linear_model import BayesianRidge\n",
    "\n",
    "# Lot of potential to use Hyperparameter Tuning with alpha_1, 2, lambda_1, lambda_2 \n",
    "bayes_ridge_lr = BayesianRidge()\n",
    "\n",
    "bayes_ridge_lr.fit(X_train, y_train)\n",
    "\n",
    "bayes_ridge_lr_predictions = bayes_ridge_lr.predict(X_test)\n",
    "\n",
    "bayes_ridge_lr_rmse = np.sqrt(mean_squared_error(y_test, bayes_ridge_lr_predictions))\n",
    "\n",
    "print(bayes_ridge_lr_rmse)"
   ]
  },
  {
   "cell_type": "markdown",
   "metadata": {},
   "source": [
    "<h3> Bayesian Ridge Linear Regression RMSE: 251396.25827460986 </h3>"
   ]
  },
  {
   "cell_type": "markdown",
   "metadata": {},
   "source": [
    "<h2> Elasticnet Linear Regression </h2>"
   ]
  },
  {
   "cell_type": "code",
   "execution_count": 36,
   "metadata": {},
   "outputs": [
    {
     "name": "stdout",
     "output_type": "stream",
     "text": [
      "299840.48379522713\n"
     ]
    }
   ],
   "source": [
    "from sklearn.linear_model import ElasticNet\n",
    "\n",
    "# Potential to use Hyperparameter Tuning with alpha and l1_ratio\n",
    "enet_lr = ElasticNet()\n",
    "\n",
    "enet_lr.fit(X_train, y_train)\n",
    "\n",
    "enet_lr_predictions = enet_lr.predict(X_test)\n",
    "\n",
    "enet_lr_rmse = np.sqrt(mean_squared_error(y_test, enet_lr_predictions))\n",
    "\n",
    "print(enet_lr_rmse)"
   ]
  },
  {
   "cell_type": "markdown",
   "metadata": {},
   "source": [
    "<h3> Elasticnet Linear Regression RMSE: 299840.48379522713 </h3>"
   ]
  },
  {
   "cell_type": "markdown",
   "metadata": {},
   "source": [
    "<h2> Support Vector Regression </h2>"
   ]
  },
  {
   "cell_type": "code",
   "execution_count": 37,
   "metadata": {},
   "outputs": [
    {
     "name": "stdout",
     "output_type": "stream",
     "text": [
      "330051.3590919249\n"
     ]
    }
   ],
   "source": [
    "from sklearn.svm import SVR\n",
    "\n",
    "# Potential to use Hyperparameter Tuning with kernel and C\n",
    "svr = SVR()\n",
    "\n",
    "svr.fit(X_train, y_train)\n",
    "\n",
    "svr_predictions = svr.predict(X_test)\n",
    "\n",
    "svr_rmse = np.sqrt(mean_squared_error(y_test, svr_predictions))\n",
    "\n",
    "print(svr_rmse)"
   ]
  },
  {
   "cell_type": "markdown",
   "metadata": {},
   "source": [
    "<h3> Support Vector Regression RMSE: 330051.3590919249 </h3>"
   ]
  },
  {
   "cell_type": "markdown",
   "metadata": {},
   "source": [
    "<h2> Decision Tree Regression </h2>"
   ]
  },
  {
   "cell_type": "code",
   "execution_count": 38,
   "metadata": {},
   "outputs": [
    {
     "name": "stdout",
     "output_type": "stream",
     "text": [
      "257408.1982611818\n"
     ]
    }
   ],
   "source": [
    "from sklearn.tree import DecisionTreeRegressor\n",
    "\n",
    "# Lord knows how to Hyperparameter this, so many features\n",
    "dtree_reg = DecisionTreeRegressor()\n",
    "\n",
    "dtree_reg.fit(X_train, y_train)\n",
    "\n",
    "dtree_reg_predictions = dtree_reg.predict(X_test)\n",
    "\n",
    "dtree_reg_rmse = np.sqrt(mean_squared_error(y_test, dtree_reg_predictions))\n",
    "\n",
    "print(dtree_reg_rmse)"
   ]
  },
  {
   "cell_type": "markdown",
   "metadata": {},
   "source": [
    "<h3> Decision Tree Regression RMSE: Varies with each execution but range from 255000 to 257000 </h3>"
   ]
  },
  {
   "cell_type": "markdown",
   "metadata": {},
   "source": [
    "<h2> Random Forest Regression </h2>"
   ]
  },
  {
   "cell_type": "code",
   "execution_count": 39,
   "metadata": {},
   "outputs": [
    {
     "name": "stdout",
     "output_type": "stream",
     "text": [
      "206851.5682182753\n"
     ]
    }
   ],
   "source": [
    "from sklearn.ensemble import RandomForestRegressor\n",
    "\n",
    "rf_reg = RandomForestRegressor()\n",
    "\n",
    "rf_reg.fit(X_train, y_train)\n",
    "\n",
    "rf_reg_predictions = rf_reg.predict(X_test)\n",
    "\n",
    "rf_reg_rmse = np.sqrt(mean_squared_error(y_test, rf_reg_predictions))\n",
    "\n",
    "print(rf_reg_rmse)"
   ]
  },
  {
   "cell_type": "markdown",
   "metadata": {},
   "source": [
    "<h3> Random Forest Regression RMSE: Varies with each execution but ranges from 205500 to 207200 </h3>"
   ]
  },
  {
   "cell_type": "markdown",
   "metadata": {},
   "source": [
    "<h2> Running all models to get summary of all RMSEs </h2>"
   ]
  },
  {
   "cell_type": "code",
   "execution_count": 40,
   "metadata": {},
   "outputs": [],
   "source": [
    "models = {'K-Nearest Neighbours': KNeighborsRegressor(n_neighbors=15, n_jobs=-1), 'Vanilla Linear Regression': LinearRegression(), \n",
    "          'Ridge Linear Regression': Ridge(), 'Elasticnet Linear Regression': ElasticNet(), \n",
    "          'Lasso Linear Regression': Lasso(max_iter=1100), 'Bayesian Ridge Linear Regression': BayesianRidge(), \n",
    "          'Support Vector Regression': SVR(), 'Random Forest Regression': RandomForestRegressor(), \n",
    "          'Decision Tree Regression': DecisionTreeRegressor()}"
   ]
  },
  {
   "cell_type": "code",
   "execution_count": 41,
   "metadata": {},
   "outputs": [],
   "source": [
    "def compute_rmse_model_list(models):\n",
    "    print(\"RMSEs for each model\")\n",
    "    for model_name in models:\n",
    "        model = models[model_name]\n",
    "        model.fit(X_train, y_train)\n",
    "        model_predictions = model.predict(X_test)\n",
    "        model_rmse = np.sqrt(mean_squared_error(y_test, model_predictions))\n",
    "        print(\"{} : {}\".format(model_name, model_rmse))"
   ]
  },
  {
   "cell_type": "code",
   "execution_count": 42,
   "metadata": {},
   "outputs": [
    {
     "name": "stdout",
     "output_type": "stream",
     "text": [
      "RMSEs for each model\n",
      "K-Nearest Neighbours : 250864.9272479264\n",
      "Vanilla Linear Regression : 251419.81922358868\n",
      "Ridge Linear Regression : 251386.47604234665\n",
      "Elasticnet Linear Regression : 299840.48379522713\n",
      "Lasso Linear Regression : 251415.86960634057\n",
      "Bayesian Ridge Linear Regression : 251396.25827460986\n",
      "Support Vector Regression : 330051.3590919249\n",
      "Random Forest Regression : 206396.5535018417\n",
      "Decision Tree Regression : 258729.00153492705\n"
     ]
    }
   ],
   "source": [
    "compute_rmse_model_list(models)"
   ]
  },
  {
   "cell_type": "code",
   "execution_count": 44,
   "metadata": {},
   "outputs": [
    {
     "data": {
      "text/html": [
       "<div>\n",
       "<style scoped>\n",
       "    .dataframe tbody tr th:only-of-type {\n",
       "        vertical-align: middle;\n",
       "    }\n",
       "\n",
       "    .dataframe tbody tr th {\n",
       "        vertical-align: top;\n",
       "    }\n",
       "\n",
       "    .dataframe thead th {\n",
       "        text-align: right;\n",
       "    }\n",
       "</style>\n",
       "<table border=\"1\" class=\"dataframe\">\n",
       "  <thead>\n",
       "    <tr style=\"text-align: right;\">\n",
       "      <th></th>\n",
       "      <th>Total amount Withdrawn</th>\n",
       "      <th>ATM Name_Big Street ATM</th>\n",
       "      <th>ATM Name_Christ College ATM</th>\n",
       "      <th>ATM Name_KK Nagar ATM</th>\n",
       "      <th>ATM Name_Mount Road ATM</th>\n",
       "      <th>Weekday_MONDAY</th>\n",
       "      <th>Weekday_SATURDAY</th>\n",
       "      <th>Weekday_SUNDAY</th>\n",
       "      <th>Weekday_THURSDAY</th>\n",
       "      <th>Weekday_TUESDAY</th>\n",
       "      <th>...</th>\n",
       "      <th>Day_28</th>\n",
       "      <th>Day_29</th>\n",
       "      <th>Day_30</th>\n",
       "      <th>Day_31</th>\n",
       "      <th>Year_2012</th>\n",
       "      <th>Year_2013</th>\n",
       "      <th>Year_2014</th>\n",
       "      <th>Year_2015</th>\n",
       "      <th>Year_2016</th>\n",
       "      <th>Year_2017</th>\n",
       "    </tr>\n",
       "  </thead>\n",
       "  <tbody>\n",
       "    <tr>\n",
       "      <th>0</th>\n",
       "      <td>123800</td>\n",
       "      <td>1</td>\n",
       "      <td>0</td>\n",
       "      <td>0</td>\n",
       "      <td>0</td>\n",
       "      <td>0</td>\n",
       "      <td>1</td>\n",
       "      <td>0</td>\n",
       "      <td>0</td>\n",
       "      <td>0</td>\n",
       "      <td>...</td>\n",
       "      <td>0</td>\n",
       "      <td>0</td>\n",
       "      <td>0</td>\n",
       "      <td>0</td>\n",
       "      <td>0</td>\n",
       "      <td>0</td>\n",
       "      <td>0</td>\n",
       "      <td>0</td>\n",
       "      <td>0</td>\n",
       "      <td>0</td>\n",
       "    </tr>\n",
       "    <tr>\n",
       "      <th>1</th>\n",
       "      <td>767900</td>\n",
       "      <td>0</td>\n",
       "      <td>0</td>\n",
       "      <td>0</td>\n",
       "      <td>1</td>\n",
       "      <td>0</td>\n",
       "      <td>1</td>\n",
       "      <td>0</td>\n",
       "      <td>0</td>\n",
       "      <td>0</td>\n",
       "      <td>...</td>\n",
       "      <td>0</td>\n",
       "      <td>0</td>\n",
       "      <td>0</td>\n",
       "      <td>0</td>\n",
       "      <td>0</td>\n",
       "      <td>0</td>\n",
       "      <td>0</td>\n",
       "      <td>0</td>\n",
       "      <td>0</td>\n",
       "      <td>0</td>\n",
       "    </tr>\n",
       "    <tr>\n",
       "      <th>2</th>\n",
       "      <td>503400</td>\n",
       "      <td>0</td>\n",
       "      <td>0</td>\n",
       "      <td>0</td>\n",
       "      <td>0</td>\n",
       "      <td>0</td>\n",
       "      <td>1</td>\n",
       "      <td>0</td>\n",
       "      <td>0</td>\n",
       "      <td>0</td>\n",
       "      <td>...</td>\n",
       "      <td>0</td>\n",
       "      <td>0</td>\n",
       "      <td>0</td>\n",
       "      <td>0</td>\n",
       "      <td>0</td>\n",
       "      <td>0</td>\n",
       "      <td>0</td>\n",
       "      <td>0</td>\n",
       "      <td>0</td>\n",
       "      <td>0</td>\n",
       "    </tr>\n",
       "    <tr>\n",
       "      <th>3</th>\n",
       "      <td>945300</td>\n",
       "      <td>0</td>\n",
       "      <td>0</td>\n",
       "      <td>1</td>\n",
       "      <td>0</td>\n",
       "      <td>0</td>\n",
       "      <td>1</td>\n",
       "      <td>0</td>\n",
       "      <td>0</td>\n",
       "      <td>0</td>\n",
       "      <td>...</td>\n",
       "      <td>0</td>\n",
       "      <td>0</td>\n",
       "      <td>0</td>\n",
       "      <td>0</td>\n",
       "      <td>0</td>\n",
       "      <td>0</td>\n",
       "      <td>0</td>\n",
       "      <td>0</td>\n",
       "      <td>0</td>\n",
       "      <td>0</td>\n",
       "    </tr>\n",
       "    <tr>\n",
       "      <th>4</th>\n",
       "      <td>287700</td>\n",
       "      <td>0</td>\n",
       "      <td>1</td>\n",
       "      <td>0</td>\n",
       "      <td>0</td>\n",
       "      <td>0</td>\n",
       "      <td>1</td>\n",
       "      <td>0</td>\n",
       "      <td>0</td>\n",
       "      <td>0</td>\n",
       "      <td>...</td>\n",
       "      <td>0</td>\n",
       "      <td>0</td>\n",
       "      <td>0</td>\n",
       "      <td>0</td>\n",
       "      <td>0</td>\n",
       "      <td>0</td>\n",
       "      <td>0</td>\n",
       "      <td>0</td>\n",
       "      <td>0</td>\n",
       "      <td>0</td>\n",
       "    </tr>\n",
       "    <tr>\n",
       "      <th>...</th>\n",
       "      <td>...</td>\n",
       "      <td>...</td>\n",
       "      <td>...</td>\n",
       "      <td>...</td>\n",
       "      <td>...</td>\n",
       "      <td>...</td>\n",
       "      <td>...</td>\n",
       "      <td>...</td>\n",
       "      <td>...</td>\n",
       "      <td>...</td>\n",
       "      <td>...</td>\n",
       "      <td>...</td>\n",
       "      <td>...</td>\n",
       "      <td>...</td>\n",
       "      <td>...</td>\n",
       "      <td>...</td>\n",
       "      <td>...</td>\n",
       "      <td>...</td>\n",
       "      <td>...</td>\n",
       "      <td>...</td>\n",
       "      <td>...</td>\n",
       "    </tr>\n",
       "    <tr>\n",
       "      <th>11584</th>\n",
       "      <td>468800</td>\n",
       "      <td>1</td>\n",
       "      <td>0</td>\n",
       "      <td>0</td>\n",
       "      <td>0</td>\n",
       "      <td>0</td>\n",
       "      <td>0</td>\n",
       "      <td>0</td>\n",
       "      <td>0</td>\n",
       "      <td>0</td>\n",
       "      <td>...</td>\n",
       "      <td>0</td>\n",
       "      <td>1</td>\n",
       "      <td>0</td>\n",
       "      <td>0</td>\n",
       "      <td>0</td>\n",
       "      <td>0</td>\n",
       "      <td>0</td>\n",
       "      <td>0</td>\n",
       "      <td>0</td>\n",
       "      <td>1</td>\n",
       "    </tr>\n",
       "    <tr>\n",
       "      <th>11585</th>\n",
       "      <td>305100</td>\n",
       "      <td>0</td>\n",
       "      <td>0</td>\n",
       "      <td>0</td>\n",
       "      <td>1</td>\n",
       "      <td>0</td>\n",
       "      <td>0</td>\n",
       "      <td>0</td>\n",
       "      <td>0</td>\n",
       "      <td>0</td>\n",
       "      <td>...</td>\n",
       "      <td>0</td>\n",
       "      <td>1</td>\n",
       "      <td>0</td>\n",
       "      <td>0</td>\n",
       "      <td>0</td>\n",
       "      <td>0</td>\n",
       "      <td>0</td>\n",
       "      <td>0</td>\n",
       "      <td>0</td>\n",
       "      <td>1</td>\n",
       "    </tr>\n",
       "    <tr>\n",
       "      <th>11586</th>\n",
       "      <td>709900</td>\n",
       "      <td>0</td>\n",
       "      <td>0</td>\n",
       "      <td>0</td>\n",
       "      <td>0</td>\n",
       "      <td>0</td>\n",
       "      <td>0</td>\n",
       "      <td>0</td>\n",
       "      <td>0</td>\n",
       "      <td>0</td>\n",
       "      <td>...</td>\n",
       "      <td>0</td>\n",
       "      <td>1</td>\n",
       "      <td>0</td>\n",
       "      <td>0</td>\n",
       "      <td>0</td>\n",
       "      <td>0</td>\n",
       "      <td>0</td>\n",
       "      <td>0</td>\n",
       "      <td>0</td>\n",
       "      <td>1</td>\n",
       "    </tr>\n",
       "    <tr>\n",
       "      <th>11587</th>\n",
       "      <td>408700</td>\n",
       "      <td>0</td>\n",
       "      <td>0</td>\n",
       "      <td>1</td>\n",
       "      <td>0</td>\n",
       "      <td>0</td>\n",
       "      <td>0</td>\n",
       "      <td>0</td>\n",
       "      <td>0</td>\n",
       "      <td>0</td>\n",
       "      <td>...</td>\n",
       "      <td>0</td>\n",
       "      <td>1</td>\n",
       "      <td>0</td>\n",
       "      <td>0</td>\n",
       "      <td>0</td>\n",
       "      <td>0</td>\n",
       "      <td>0</td>\n",
       "      <td>0</td>\n",
       "      <td>0</td>\n",
       "      <td>1</td>\n",
       "    </tr>\n",
       "    <tr>\n",
       "      <th>11588</th>\n",
       "      <td>700400</td>\n",
       "      <td>0</td>\n",
       "      <td>1</td>\n",
       "      <td>0</td>\n",
       "      <td>0</td>\n",
       "      <td>0</td>\n",
       "      <td>0</td>\n",
       "      <td>0</td>\n",
       "      <td>0</td>\n",
       "      <td>0</td>\n",
       "      <td>...</td>\n",
       "      <td>0</td>\n",
       "      <td>1</td>\n",
       "      <td>0</td>\n",
       "      <td>0</td>\n",
       "      <td>0</td>\n",
       "      <td>0</td>\n",
       "      <td>0</td>\n",
       "      <td>0</td>\n",
       "      <td>0</td>\n",
       "      <td>1</td>\n",
       "    </tr>\n",
       "  </tbody>\n",
       "</table>\n",
       "<p>11589 rows × 70 columns</p>\n",
       "</div>"
      ],
      "text/plain": [
       "       Total amount Withdrawn  ATM Name_Big Street ATM  \\\n",
       "0                      123800                        1   \n",
       "1                      767900                        0   \n",
       "2                      503400                        0   \n",
       "3                      945300                        0   \n",
       "4                      287700                        0   \n",
       "...                       ...                      ...   \n",
       "11584                  468800                        1   \n",
       "11585                  305100                        0   \n",
       "11586                  709900                        0   \n",
       "11587                  408700                        0   \n",
       "11588                  700400                        0   \n",
       "\n",
       "       ATM Name_Christ College ATM  ATM Name_KK Nagar ATM  \\\n",
       "0                                0                      0   \n",
       "1                                0                      0   \n",
       "2                                0                      0   \n",
       "3                                0                      1   \n",
       "4                                1                      0   \n",
       "...                            ...                    ...   \n",
       "11584                            0                      0   \n",
       "11585                            0                      0   \n",
       "11586                            0                      0   \n",
       "11587                            0                      1   \n",
       "11588                            1                      0   \n",
       "\n",
       "       ATM Name_Mount Road ATM  Weekday_MONDAY  Weekday_SATURDAY  \\\n",
       "0                            0               0                 1   \n",
       "1                            1               0                 1   \n",
       "2                            0               0                 1   \n",
       "3                            0               0                 1   \n",
       "4                            0               0                 1   \n",
       "...                        ...             ...               ...   \n",
       "11584                        0               0                 0   \n",
       "11585                        1               0                 0   \n",
       "11586                        0               0                 0   \n",
       "11587                        0               0                 0   \n",
       "11588                        0               0                 0   \n",
       "\n",
       "       Weekday_SUNDAY  Weekday_THURSDAY  Weekday_TUESDAY  ...  Day_28  Day_29  \\\n",
       "0                   0                 0                0  ...       0       0   \n",
       "1                   0                 0                0  ...       0       0   \n",
       "2                   0                 0                0  ...       0       0   \n",
       "3                   0                 0                0  ...       0       0   \n",
       "4                   0                 0                0  ...       0       0   \n",
       "...               ...               ...              ...  ...     ...     ...   \n",
       "11584               0                 0                0  ...       0       1   \n",
       "11585               0                 0                0  ...       0       1   \n",
       "11586               0                 0                0  ...       0       1   \n",
       "11587               0                 0                0  ...       0       1   \n",
       "11588               0                 0                0  ...       0       1   \n",
       "\n",
       "       Day_30  Day_31  Year_2012  Year_2013  Year_2014  Year_2015  Year_2016  \\\n",
       "0           0       0          0          0          0          0          0   \n",
       "1           0       0          0          0          0          0          0   \n",
       "2           0       0          0          0          0          0          0   \n",
       "3           0       0          0          0          0          0          0   \n",
       "4           0       0          0          0          0          0          0   \n",
       "...       ...     ...        ...        ...        ...        ...        ...   \n",
       "11584       0       0          0          0          0          0          0   \n",
       "11585       0       0          0          0          0          0          0   \n",
       "11586       0       0          0          0          0          0          0   \n",
       "11587       0       0          0          0          0          0          0   \n",
       "11588       0       0          0          0          0          0          0   \n",
       "\n",
       "       Year_2017  \n",
       "0              0  \n",
       "1              0  \n",
       "2              0  \n",
       "3              0  \n",
       "4              0  \n",
       "...          ...  \n",
       "11584          1  \n",
       "11585          1  \n",
       "11586          1  \n",
       "11587          1  \n",
       "11588          1  \n",
       "\n",
       "[11589 rows x 70 columns]"
      ]
     },
     "execution_count": 44,
     "metadata": {},
     "output_type": "execute_result"
    }
   ],
   "source": [
    "numeric_data"
   ]
  },
  {
   "cell_type": "code",
   "execution_count": 50,
   "metadata": {},
   "outputs": [
    {
     "name": "stdout",
     "output_type": "stream",
     "text": [
      "10434\n",
      "1155\n"
     ]
    }
   ],
   "source": [
    "train_data = numeric_data[numeric_data['Year_2017'] == 0]\n",
    "test_data = numeric_data[numeric_data['Year_2017'] == 1]\n",
    "\n",
    "print(len(train_data))\n",
    "print(len(test_data))\n",
    "\n",
    "X_train = train_data.drop('Total amount Withdrawn', axis=1)\n",
    "X_test = train_data['Total amount Withdrawn']"
   ]
  }
 ],
 "metadata": {
  "kernelspec": {
   "display_name": "Python 3",
   "language": "python",
   "name": "python3"
  },
  "language_info": {
   "codemirror_mode": {
    "name": "ipython",
    "version": 3
   },
   "file_extension": ".py",
   "mimetype": "text/x-python",
   "name": "python",
   "nbconvert_exporter": "python",
   "pygments_lexer": "ipython3",
   "version": "3.8.2"
  }
 },
 "nbformat": 4,
 "nbformat_minor": 4
}
