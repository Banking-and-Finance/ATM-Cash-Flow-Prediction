{
  "nbformat": 4,
  "nbformat_minor": 0,
  "metadata": {
    "colab": {
      "name": "LSTM_Timeseries_Baseline",
      "provenance": [],
      "collapsed_sections": []
    },
    "kernelspec": {
      "name": "python3",
      "display_name": "Python 3"
    }
  },
  "cells": [
    {
      "cell_type": "markdown",
      "metadata": {
        "id": "ygCe6pkP8Wta",
        "colab_type": "text"
      },
      "source": [
        "## Imports"
      ]
    },
    {
      "cell_type": "code",
      "metadata": {
        "id": "7bGvhbxTeDoi",
        "colab_type": "code",
        "colab": {}
      },
      "source": [
        "import pandas as pd"
      ],
      "execution_count": 4,
      "outputs": []
    },
    {
      "cell_type": "code",
      "metadata": {
        "id": "HAEcdn_Ytd-b",
        "colab_type": "code",
        "colab": {}
      },
      "source": [
        "from bokeh.plotting import figure, output_file, show\n",
        "from bokeh.models import ColumnDataSource\n",
        "from bokeh.io import output_notebook\n",
        "output_notebook()"
      ],
      "execution_count": 49,
      "outputs": []
    },
    {
      "cell_type": "markdown",
      "metadata": {
        "id": "-k_l6-NkeFHp",
        "colab_type": "text"
      },
      "source": [
        "## Data Preparation\n",
        "Reading & Cleaning aggregated data of 5 ATMs\n"
      ]
    },
    {
      "cell_type": "code",
      "metadata": {
        "id": "AhFdl3jheMly",
        "colab_type": "code",
        "colab": {
          "base_uri": "https://localhost:8080/",
          "height": 265
        },
        "outputId": "944adec8-545c-4da2-dadd-84c2ab50fd5e"
      },
      "source": [
        "aggregated_data = pd.read_csv('/content/aggregated_atm_data.csv')\n",
        "aggregated_data.head(3)"
      ],
      "execution_count": 6,
      "outputs": [
        {
          "output_type": "execute_result",
          "data": {
            "text/html": [
              "<div>\n",
              "<style scoped>\n",
              "    .dataframe tbody tr th:only-of-type {\n",
              "        vertical-align: middle;\n",
              "    }\n",
              "\n",
              "    .dataframe tbody tr th {\n",
              "        vertical-align: top;\n",
              "    }\n",
              "\n",
              "    .dataframe thead th {\n",
              "        text-align: right;\n",
              "    }\n",
              "</style>\n",
              "<table border=\"1\" class=\"dataframe\">\n",
              "  <thead>\n",
              "    <tr style=\"text-align: right;\">\n",
              "      <th></th>\n",
              "      <th>ATM Name</th>\n",
              "      <th>Transaction Date</th>\n",
              "      <th>No Of Withdrawals</th>\n",
              "      <th>No Of XYZ Card Withdrawals</th>\n",
              "      <th>No Of Other Card Withdrawals</th>\n",
              "      <th>Total amount Withdrawn</th>\n",
              "      <th>Amount withdrawn XYZ Card</th>\n",
              "      <th>Amount withdrawn Other Card</th>\n",
              "      <th>Weekday</th>\n",
              "      <th>Festival Religion</th>\n",
              "      <th>Working Day</th>\n",
              "      <th>Holiday Sequence</th>\n",
              "    </tr>\n",
              "  </thead>\n",
              "  <tbody>\n",
              "    <tr>\n",
              "      <th>0</th>\n",
              "      <td>Big Street ATM</td>\n",
              "      <td>1/1/2011</td>\n",
              "      <td>50</td>\n",
              "      <td>20</td>\n",
              "      <td>30</td>\n",
              "      <td>123800</td>\n",
              "      <td>41700</td>\n",
              "      <td>82100</td>\n",
              "      <td>Saturday</td>\n",
              "      <td>H</td>\n",
              "      <td>H</td>\n",
              "      <td>WHH</td>\n",
              "    </tr>\n",
              "    <tr>\n",
              "      <th>1</th>\n",
              "      <td>Mount Road ATM</td>\n",
              "      <td>1/1/2011</td>\n",
              "      <td>253</td>\n",
              "      <td>67</td>\n",
              "      <td>186</td>\n",
              "      <td>767900</td>\n",
              "      <td>270900</td>\n",
              "      <td>497000</td>\n",
              "      <td>Saturday</td>\n",
              "      <td>C</td>\n",
              "      <td>H</td>\n",
              "      <td>WHH</td>\n",
              "    </tr>\n",
              "    <tr>\n",
              "      <th>2</th>\n",
              "      <td>Airport ATM</td>\n",
              "      <td>1/1/2011</td>\n",
              "      <td>98</td>\n",
              "      <td>56</td>\n",
              "      <td>42</td>\n",
              "      <td>503400</td>\n",
              "      <td>347700</td>\n",
              "      <td>155700</td>\n",
              "      <td>Saturday</td>\n",
              "      <td>C</td>\n",
              "      <td>H</td>\n",
              "      <td>WHH</td>\n",
              "    </tr>\n",
              "  </tbody>\n",
              "</table>\n",
              "</div>"
            ],
            "text/plain": [
              "         ATM Name Transaction Date  ...  Working Day  Holiday Sequence\n",
              "0  Big Street ATM         1/1/2011  ...            H               WHH\n",
              "1  Mount Road ATM         1/1/2011  ...            H               WHH\n",
              "2     Airport ATM         1/1/2011  ...            H               WHH\n",
              "\n",
              "[3 rows x 12 columns]"
            ]
          },
          "metadata": {
            "tags": []
          },
          "execution_count": 6
        }
      ]
    },
    {
      "cell_type": "code",
      "metadata": {
        "id": "TAPLg5_1eT39",
        "colab_type": "code",
        "colab": {
          "base_uri": "https://localhost:8080/",
          "height": 347
        },
        "outputId": "86ecc0aa-46e7-4f18-c9f7-f2d4b207d4ee"
      },
      "source": [
        "aggregated_data.info()"
      ],
      "execution_count": 7,
      "outputs": [
        {
          "output_type": "stream",
          "text": [
            "<class 'pandas.core.frame.DataFrame'>\n",
            "RangeIndex: 11589 entries, 0 to 11588\n",
            "Data columns (total 12 columns):\n",
            " #   Column                        Non-Null Count  Dtype \n",
            "---  ------                        --------------  ----- \n",
            " 0   ATM Name                      11589 non-null  object\n",
            " 1   Transaction Date              11589 non-null  object\n",
            " 2   No Of Withdrawals             11589 non-null  int64 \n",
            " 3   No Of XYZ Card Withdrawals    11589 non-null  int64 \n",
            " 4   No Of Other Card Withdrawals  11589 non-null  int64 \n",
            " 5   Total amount Withdrawn        11589 non-null  int64 \n",
            " 6   Amount withdrawn XYZ Card     11589 non-null  int64 \n",
            " 7   Amount withdrawn Other Card   11589 non-null  int64 \n",
            " 8   Weekday                       11589 non-null  object\n",
            " 9   Festival Religion             11589 non-null  object\n",
            " 10  Working Day                   11589 non-null  object\n",
            " 11  Holiday Sequence              11589 non-null  object\n",
            "dtypes: int64(6), object(6)\n",
            "memory usage: 1.1+ MB\n"
          ],
          "name": "stdout"
        }
      ]
    },
    {
      "cell_type": "markdown",
      "metadata": {
        "id": "712NiQ15gcII",
        "colab_type": "text"
      },
      "source": [
        "#### Convert Transaction Date column to datetime\n",
        "But before this we need to fix the Transaction Date column, because it contains dates in slash format as well as hyphen format"
      ]
    },
    {
      "cell_type": "code",
      "metadata": {
        "id": "2iFYvpiyrRD9",
        "colab_type": "code",
        "colab": {}
      },
      "source": [
        "def dateformat_fixer(date):\n",
        "    # If its part of the first format, convert it to the second one\n",
        "    if '/' in date:\n",
        "        date_parts = date.split('/')\n",
        "        \n",
        "        year = date_parts[2]\n",
        "        month = date_parts[1]\n",
        "        day = date_parts[0]\n",
        "        \n",
        "        if int(month) < 10:\n",
        "            month = '0' + month\n",
        "        if int(day) < 10:\n",
        "            day = '0' + day\n",
        "        \n",
        "        return day + '-' + month + '-' + year\n",
        "    # If its already in second format, keep it as it is\n",
        "    else:\n",
        "        return date\n",
        "\n",
        "aggregated_data['Transaction Date'] = aggregated_data.apply(lambda row: dateformat_fixer(row['Transaction Date']), axis=1)"
      ],
      "execution_count": 8,
      "outputs": []
    },
    {
      "cell_type": "code",
      "metadata": {
        "id": "qifivr6aerhL",
        "colab_type": "code",
        "colab": {
          "base_uri": "https://localhost:8080/",
          "height": 265
        },
        "outputId": "2620b7ce-6c6c-4d34-c7cb-6cd0ba53d5c2"
      },
      "source": [
        "aggregated_data['Transaction Date'] = pd.to_datetime(aggregated_data['Transaction Date'], format='%d-%m-%Y')\n",
        "aggregated_data.head(3)\n",
        "# aggregated_data['Month'] = aggregated_data['Transaction Date'].month"
      ],
      "execution_count": 9,
      "outputs": [
        {
          "output_type": "execute_result",
          "data": {
            "text/html": [
              "<div>\n",
              "<style scoped>\n",
              "    .dataframe tbody tr th:only-of-type {\n",
              "        vertical-align: middle;\n",
              "    }\n",
              "\n",
              "    .dataframe tbody tr th {\n",
              "        vertical-align: top;\n",
              "    }\n",
              "\n",
              "    .dataframe thead th {\n",
              "        text-align: right;\n",
              "    }\n",
              "</style>\n",
              "<table border=\"1\" class=\"dataframe\">\n",
              "  <thead>\n",
              "    <tr style=\"text-align: right;\">\n",
              "      <th></th>\n",
              "      <th>ATM Name</th>\n",
              "      <th>Transaction Date</th>\n",
              "      <th>No Of Withdrawals</th>\n",
              "      <th>No Of XYZ Card Withdrawals</th>\n",
              "      <th>No Of Other Card Withdrawals</th>\n",
              "      <th>Total amount Withdrawn</th>\n",
              "      <th>Amount withdrawn XYZ Card</th>\n",
              "      <th>Amount withdrawn Other Card</th>\n",
              "      <th>Weekday</th>\n",
              "      <th>Festival Religion</th>\n",
              "      <th>Working Day</th>\n",
              "      <th>Holiday Sequence</th>\n",
              "    </tr>\n",
              "  </thead>\n",
              "  <tbody>\n",
              "    <tr>\n",
              "      <th>0</th>\n",
              "      <td>Big Street ATM</td>\n",
              "      <td>2011-01-01</td>\n",
              "      <td>50</td>\n",
              "      <td>20</td>\n",
              "      <td>30</td>\n",
              "      <td>123800</td>\n",
              "      <td>41700</td>\n",
              "      <td>82100</td>\n",
              "      <td>Saturday</td>\n",
              "      <td>H</td>\n",
              "      <td>H</td>\n",
              "      <td>WHH</td>\n",
              "    </tr>\n",
              "    <tr>\n",
              "      <th>1</th>\n",
              "      <td>Mount Road ATM</td>\n",
              "      <td>2011-01-01</td>\n",
              "      <td>253</td>\n",
              "      <td>67</td>\n",
              "      <td>186</td>\n",
              "      <td>767900</td>\n",
              "      <td>270900</td>\n",
              "      <td>497000</td>\n",
              "      <td>Saturday</td>\n",
              "      <td>C</td>\n",
              "      <td>H</td>\n",
              "      <td>WHH</td>\n",
              "    </tr>\n",
              "    <tr>\n",
              "      <th>2</th>\n",
              "      <td>Airport ATM</td>\n",
              "      <td>2011-01-01</td>\n",
              "      <td>98</td>\n",
              "      <td>56</td>\n",
              "      <td>42</td>\n",
              "      <td>503400</td>\n",
              "      <td>347700</td>\n",
              "      <td>155700</td>\n",
              "      <td>Saturday</td>\n",
              "      <td>C</td>\n",
              "      <td>H</td>\n",
              "      <td>WHH</td>\n",
              "    </tr>\n",
              "  </tbody>\n",
              "</table>\n",
              "</div>"
            ],
            "text/plain": [
              "         ATM Name Transaction Date  ...  Working Day  Holiday Sequence\n",
              "0  Big Street ATM       2011-01-01  ...            H               WHH\n",
              "1  Mount Road ATM       2011-01-01  ...            H               WHH\n",
              "2     Airport ATM       2011-01-01  ...            H               WHH\n",
              "\n",
              "[3 rows x 12 columns]"
            ]
          },
          "metadata": {
            "tags": []
          },
          "execution_count": 9
        }
      ]
    },
    {
      "cell_type": "markdown",
      "metadata": {
        "id": "kWjuTlDVsZfy",
        "colab_type": "text"
      },
      "source": [
        "#### Convert Weekday to all caps\n",
        "Some weekday values are in the format 'Sunday' and others in 'SUNDAY`"
      ]
    },
    {
      "cell_type": "code",
      "metadata": {
        "id": "VJ5MwHD5smOV",
        "colab_type": "code",
        "colab": {}
      },
      "source": [
        "aggregated_data['Weekday'] = aggregated_data['Weekday'].str.upper()"
      ],
      "execution_count": 10,
      "outputs": []
    },
    {
      "cell_type": "markdown",
      "metadata": {
        "id": "EmeT9GO6gS7S",
        "colab_type": "text"
      },
      "source": [
        "#### Keep only Big Street ATM"
      ]
    },
    {
      "cell_type": "code",
      "metadata": {
        "id": "2c3IXWBqg6SF",
        "colab_type": "code",
        "colab": {
          "base_uri": "https://localhost:8080/",
          "height": 216
        },
        "outputId": "acfbe05d-078f-4b71-b1ff-6670ea669908"
      },
      "source": [
        "big_street = aggregated_data[aggregated_data['ATM Name'] == 'Big Street ATM']\n",
        "big_street.head(2)"
      ],
      "execution_count": 11,
      "outputs": [
        {
          "output_type": "execute_result",
          "data": {
            "text/html": [
              "<div>\n",
              "<style scoped>\n",
              "    .dataframe tbody tr th:only-of-type {\n",
              "        vertical-align: middle;\n",
              "    }\n",
              "\n",
              "    .dataframe tbody tr th {\n",
              "        vertical-align: top;\n",
              "    }\n",
              "\n",
              "    .dataframe thead th {\n",
              "        text-align: right;\n",
              "    }\n",
              "</style>\n",
              "<table border=\"1\" class=\"dataframe\">\n",
              "  <thead>\n",
              "    <tr style=\"text-align: right;\">\n",
              "      <th></th>\n",
              "      <th>ATM Name</th>\n",
              "      <th>Transaction Date</th>\n",
              "      <th>No Of Withdrawals</th>\n",
              "      <th>No Of XYZ Card Withdrawals</th>\n",
              "      <th>No Of Other Card Withdrawals</th>\n",
              "      <th>Total amount Withdrawn</th>\n",
              "      <th>Amount withdrawn XYZ Card</th>\n",
              "      <th>Amount withdrawn Other Card</th>\n",
              "      <th>Weekday</th>\n",
              "      <th>Festival Religion</th>\n",
              "      <th>Working Day</th>\n",
              "      <th>Holiday Sequence</th>\n",
              "    </tr>\n",
              "  </thead>\n",
              "  <tbody>\n",
              "    <tr>\n",
              "      <th>0</th>\n",
              "      <td>Big Street ATM</td>\n",
              "      <td>2011-01-01</td>\n",
              "      <td>50</td>\n",
              "      <td>20</td>\n",
              "      <td>30</td>\n",
              "      <td>123800</td>\n",
              "      <td>41700</td>\n",
              "      <td>82100</td>\n",
              "      <td>SATURDAY</td>\n",
              "      <td>H</td>\n",
              "      <td>H</td>\n",
              "      <td>WHH</td>\n",
              "    </tr>\n",
              "    <tr>\n",
              "      <th>5</th>\n",
              "      <td>Big Street ATM</td>\n",
              "      <td>2011-01-02</td>\n",
              "      <td>17</td>\n",
              "      <td>5</td>\n",
              "      <td>12</td>\n",
              "      <td>52800</td>\n",
              "      <td>20900</td>\n",
              "      <td>31900</td>\n",
              "      <td>SUNDAY</td>\n",
              "      <td>NH</td>\n",
              "      <td>H</td>\n",
              "      <td>HHW</td>\n",
              "    </tr>\n",
              "  </tbody>\n",
              "</table>\n",
              "</div>"
            ],
            "text/plain": [
              "         ATM Name Transaction Date  ...  Working Day  Holiday Sequence\n",
              "0  Big Street ATM       2011-01-01  ...            H               WHH\n",
              "5  Big Street ATM       2011-01-02  ...            H               HHW\n",
              "\n",
              "[2 rows x 12 columns]"
            ]
          },
          "metadata": {
            "tags": []
          },
          "execution_count": 11
        }
      ]
    },
    {
      "cell_type": "markdown",
      "metadata": {
        "id": "wE1fYpK6xxXA",
        "colab_type": "text"
      },
      "source": [
        "#### Plot Big Street Withdrawal (All years)"
      ]
    },
    {
      "cell_type": "code",
      "metadata": {
        "id": "6pzWTwzcsOKF",
        "colab_type": "code",
        "colab": {
          "base_uri": "https://localhost:8080/",
          "height": 417
        },
        "outputId": "7226c25d-0757-475e-9c86-7aa6562e2eb2"
      },
      "source": [
        "source = ColumnDataSource(big_street)\n",
        "p = figure(x_axis_type='datetime', plot_width=1200, plot_height=400)\n",
        "p.line(x='Transaction Date', y='Total amount Withdrawn', source=source, legend_label='Total amount Withdrawn')\n",
        "show(p)"
      ],
      "execution_count": 12,
      "outputs": [
        {
          "output_type": "display_data",
          "data": {
            "application/javascript": [
              "\n",
              "(function(root) {\n",
              "  function now() {\n",
              "    return new Date();\n",
              "  }\n",
              "\n",
              "  var force = true;\n",
              "\n",
              "  if (typeof root._bokeh_onload_callbacks === \"undefined\" || force === true) {\n",
              "    root._bokeh_onload_callbacks = [];\n",
              "    root._bokeh_is_loading = undefined;\n",
              "  }\n",
              "\n",
              "  var JS_MIME_TYPE = 'application/javascript';\n",
              "  var HTML_MIME_TYPE = 'text/html';\n",
              "  var EXEC_MIME_TYPE = 'application/vnd.bokehjs_exec.v0+json';\n",
              "  var CLASS_NAME = 'output_bokeh rendered_html';\n",
              "\n",
              "  /**\n",
              "   * Render data to the DOM node\n",
              "   */\n",
              "  function render(props, node) {\n",
              "    var script = document.createElement(\"script\");\n",
              "    node.appendChild(script);\n",
              "  }\n",
              "\n",
              "  /**\n",
              "   * Handle when an output is cleared or removed\n",
              "   */\n",
              "  function handleClearOutput(event, handle) {\n",
              "    var cell = handle.cell;\n",
              "\n",
              "    var id = cell.output_area._bokeh_element_id;\n",
              "    var server_id = cell.output_area._bokeh_server_id;\n",
              "    // Clean up Bokeh references\n",
              "    if (id != null && id in Bokeh.index) {\n",
              "      Bokeh.index[id].model.document.clear();\n",
              "      delete Bokeh.index[id];\n",
              "    }\n",
              "\n",
              "    if (server_id !== undefined) {\n",
              "      // Clean up Bokeh references\n",
              "      var cmd = \"from bokeh.io.state import curstate; print(curstate().uuid_to_server['\" + server_id + \"'].get_sessions()[0].document.roots[0]._id)\";\n",
              "      cell.notebook.kernel.execute(cmd, {\n",
              "        iopub: {\n",
              "          output: function(msg) {\n",
              "            var id = msg.content.text.trim();\n",
              "            if (id in Bokeh.index) {\n",
              "              Bokeh.index[id].model.document.clear();\n",
              "              delete Bokeh.index[id];\n",
              "            }\n",
              "          }\n",
              "        }\n",
              "      });\n",
              "      // Destroy server and session\n",
              "      var cmd = \"import bokeh.io.notebook as ion; ion.destroy_server('\" + server_id + \"')\";\n",
              "      cell.notebook.kernel.execute(cmd);\n",
              "    }\n",
              "  }\n",
              "\n",
              "  /**\n",
              "   * Handle when a new output is added\n",
              "   */\n",
              "  function handleAddOutput(event, handle) {\n",
              "    var output_area = handle.output_area;\n",
              "    var output = handle.output;\n",
              "\n",
              "    // limit handleAddOutput to display_data with EXEC_MIME_TYPE content only\n",
              "    if ((output.output_type != \"display_data\") || (!output.data.hasOwnProperty(EXEC_MIME_TYPE))) {\n",
              "      return\n",
              "    }\n",
              "\n",
              "    var toinsert = output_area.element.find(\".\" + CLASS_NAME.split(' ')[0]);\n",
              "\n",
              "    if (output.metadata[EXEC_MIME_TYPE][\"id\"] !== undefined) {\n",
              "      toinsert[toinsert.length - 1].firstChild.textContent = output.data[JS_MIME_TYPE];\n",
              "      // store reference to embed id on output_area\n",
              "      output_area._bokeh_element_id = output.metadata[EXEC_MIME_TYPE][\"id\"];\n",
              "    }\n",
              "    if (output.metadata[EXEC_MIME_TYPE][\"server_id\"] !== undefined) {\n",
              "      var bk_div = document.createElement(\"div\");\n",
              "      bk_div.innerHTML = output.data[HTML_MIME_TYPE];\n",
              "      var script_attrs = bk_div.children[0].attributes;\n",
              "      for (var i = 0; i < script_attrs.length; i++) {\n",
              "        toinsert[toinsert.length - 1].firstChild.setAttribute(script_attrs[i].name, script_attrs[i].value);\n",
              "        toinsert[toinsert.length - 1].firstChild.textContent = bk_div.children[0].textContent\n",
              "      }\n",
              "      // store reference to server id on output_area\n",
              "      output_area._bokeh_server_id = output.metadata[EXEC_MIME_TYPE][\"server_id\"];\n",
              "    }\n",
              "  }\n",
              "\n",
              "  function register_renderer(events, OutputArea) {\n",
              "\n",
              "    function append_mime(data, metadata, element) {\n",
              "      // create a DOM node to render to\n",
              "      var toinsert = this.create_output_subarea(\n",
              "        metadata,\n",
              "        CLASS_NAME,\n",
              "        EXEC_MIME_TYPE\n",
              "      );\n",
              "      this.keyboard_manager.register_events(toinsert);\n",
              "      // Render to node\n",
              "      var props = {data: data, metadata: metadata[EXEC_MIME_TYPE]};\n",
              "      render(props, toinsert[toinsert.length - 1]);\n",
              "      element.append(toinsert);\n",
              "      return toinsert\n",
              "    }\n",
              "\n",
              "    /* Handle when an output is cleared or removed */\n",
              "    events.on('clear_output.CodeCell', handleClearOutput);\n",
              "    events.on('delete.Cell', handleClearOutput);\n",
              "\n",
              "    /* Handle when a new output is added */\n",
              "    events.on('output_added.OutputArea', handleAddOutput);\n",
              "\n",
              "    /**\n",
              "     * Register the mime type and append_mime function with output_area\n",
              "     */\n",
              "    OutputArea.prototype.register_mime_type(EXEC_MIME_TYPE, append_mime, {\n",
              "      /* Is output safe? */\n",
              "      safe: true,\n",
              "      /* Index of renderer in `output_area.display_order` */\n",
              "      index: 0\n",
              "    });\n",
              "  }\n",
              "\n",
              "  // register the mime type if in Jupyter Notebook environment and previously unregistered\n",
              "  if (root.Jupyter !== undefined) {\n",
              "    var events = require('base/js/events');\n",
              "    var OutputArea = require('notebook/js/outputarea').OutputArea;\n",
              "\n",
              "    if (OutputArea.prototype.mime_types().indexOf(EXEC_MIME_TYPE) == -1) {\n",
              "      register_renderer(events, OutputArea);\n",
              "    }\n",
              "  }\n",
              "\n",
              "  \n",
              "  if (typeof (root._bokeh_timeout) === \"undefined\" || force === true) {\n",
              "    root._bokeh_timeout = Date.now() + 5000;\n",
              "    root._bokeh_failed_load = false;\n",
              "  }\n",
              "\n",
              "  var NB_LOAD_WARNING = {'data': {'text/html':\n",
              "     \"<div style='background-color: #fdd'>\\n\"+\n",
              "     \"<p>\\n\"+\n",
              "     \"BokehJS does not appear to have successfully loaded. If loading BokehJS from CDN, this \\n\"+\n",
              "     \"may be due to a slow or bad network connection. Possible fixes:\\n\"+\n",
              "     \"</p>\\n\"+\n",
              "     \"<ul>\\n\"+\n",
              "     \"<li>re-rerun `output_notebook()` to attempt to load from CDN again, or</li>\\n\"+\n",
              "     \"<li>use INLINE resources instead, as so:</li>\\n\"+\n",
              "     \"</ul>\\n\"+\n",
              "     \"<code>\\n\"+\n",
              "     \"from bokeh.resources import INLINE\\n\"+\n",
              "     \"output_notebook(resources=INLINE)\\n\"+\n",
              "     \"</code>\\n\"+\n",
              "     \"</div>\"}};\n",
              "\n",
              "  function display_loaded() {\n",
              "    var el = document.getElementById(null);\n",
              "    if (el != null) {\n",
              "      el.textContent = \"BokehJS is loading...\";\n",
              "    }\n",
              "    if (root.Bokeh !== undefined) {\n",
              "      if (el != null) {\n",
              "        el.textContent = \"BokehJS \" + root.Bokeh.version + \" successfully loaded.\";\n",
              "      }\n",
              "    } else if (Date.now() < root._bokeh_timeout) {\n",
              "      setTimeout(display_loaded, 100)\n",
              "    }\n",
              "  }\n",
              "\n",
              "\n",
              "  function run_callbacks() {\n",
              "    try {\n",
              "      root._bokeh_onload_callbacks.forEach(function(callback) {\n",
              "        if (callback != null)\n",
              "          callback();\n",
              "      });\n",
              "    } finally {\n",
              "      delete root._bokeh_onload_callbacks\n",
              "    }\n",
              "    console.debug(\"Bokeh: all callbacks have finished\");\n",
              "  }\n",
              "\n",
              "  function load_libs(css_urls, js_urls, callback) {\n",
              "    if (css_urls == null) css_urls = [];\n",
              "    if (js_urls == null) js_urls = [];\n",
              "\n",
              "    root._bokeh_onload_callbacks.push(callback);\n",
              "    if (root._bokeh_is_loading > 0) {\n",
              "      console.debug(\"Bokeh: BokehJS is being loaded, scheduling callback at\", now());\n",
              "      return null;\n",
              "    }\n",
              "    if (js_urls == null || js_urls.length === 0) {\n",
              "      run_callbacks();\n",
              "      return null;\n",
              "    }\n",
              "    console.debug(\"Bokeh: BokehJS not loaded, scheduling load and callback at\", now());\n",
              "    root._bokeh_is_loading = css_urls.length + js_urls.length;\n",
              "\n",
              "    function on_load() {\n",
              "      root._bokeh_is_loading--;\n",
              "      if (root._bokeh_is_loading === 0) {\n",
              "        console.debug(\"Bokeh: all BokehJS libraries/stylesheets loaded\");\n",
              "        run_callbacks()\n",
              "      }\n",
              "    }\n",
              "\n",
              "    function on_error() {\n",
              "      console.error(\"failed to load \" + url);\n",
              "    }\n",
              "\n",
              "    for (var i = 0; i < css_urls.length; i++) {\n",
              "      var url = css_urls[i];\n",
              "      const element = document.createElement(\"link\");\n",
              "      element.onload = on_load;\n",
              "      element.onerror = on_error;\n",
              "      element.rel = \"stylesheet\";\n",
              "      element.type = \"text/css\";\n",
              "      element.href = url;\n",
              "      console.debug(\"Bokeh: injecting link tag for BokehJS stylesheet: \", url);\n",
              "      document.body.appendChild(element);\n",
              "    }\n",
              "\n",
              "    const hashes = {\"https://cdn.bokeh.org/bokeh/release/bokeh-2.1.1.min.js\": \"kLr4fYcqcSpbuI95brIH3vnnYCquzzSxHPU6XGQCIkQRGJwhg0StNbj1eegrHs12\", \"https://cdn.bokeh.org/bokeh/release/bokeh-widgets-2.1.1.min.js\": \"xIGPmVtaOm+z0BqfSOMn4lOR6ciex448GIKG4eE61LsAvmGj48XcMQZtKcE/UXZe\", \"https://cdn.bokeh.org/bokeh/release/bokeh-tables-2.1.1.min.js\": \"Dc9u1wF/0zApGIWoBbH77iWEHtdmkuYWG839Uzmv8y8yBLXebjO9ZnERsde5Ln/P\", \"https://cdn.bokeh.org/bokeh/release/bokeh-gl-2.1.1.min.js\": \"cT9JaBz7GiRXdENrJLZNSC6eMNF3nh3fa5fTF51Svp+ukxPdwcU5kGXGPBgDCa2j\"};\n",
              "\n",
              "    for (var i = 0; i < js_urls.length; i++) {\n",
              "      var url = js_urls[i];\n",
              "      var element = document.createElement('script');\n",
              "      element.onload = on_load;\n",
              "      element.onerror = on_error;\n",
              "      element.async = false;\n",
              "      element.src = url;\n",
              "      if (url in hashes) {\n",
              "        element.crossOrigin = \"anonymous\";\n",
              "        element.integrity = \"sha384-\" + hashes[url];\n",
              "      }\n",
              "      console.debug(\"Bokeh: injecting script tag for BokehJS library: \", url);\n",
              "      document.head.appendChild(element);\n",
              "    }\n",
              "  };\n",
              "\n",
              "  function inject_raw_css(css) {\n",
              "    const element = document.createElement(\"style\");\n",
              "    element.appendChild(document.createTextNode(css));\n",
              "    document.body.appendChild(element);\n",
              "  }\n",
              "\n",
              "  \n",
              "  var js_urls = [\"https://cdn.bokeh.org/bokeh/release/bokeh-2.1.1.min.js\", \"https://cdn.bokeh.org/bokeh/release/bokeh-widgets-2.1.1.min.js\", \"https://cdn.bokeh.org/bokeh/release/bokeh-tables-2.1.1.min.js\", \"https://cdn.bokeh.org/bokeh/release/bokeh-gl-2.1.1.min.js\"];\n",
              "  var css_urls = [];\n",
              "  \n",
              "\n",
              "  var inline_js = [\n",
              "    function(Bokeh) {\n",
              "      Bokeh.set_log_level(\"info\");\n",
              "    },\n",
              "    function(Bokeh) {\n",
              "    \n",
              "    \n",
              "    }\n",
              "  ];\n",
              "\n",
              "  function run_inline_js() {\n",
              "    \n",
              "    if (root.Bokeh !== undefined || force === true) {\n",
              "      \n",
              "    for (var i = 0; i < inline_js.length; i++) {\n",
              "      inline_js[i].call(root, root.Bokeh);\n",
              "    }\n",
              "    } else if (Date.now() < root._bokeh_timeout) {\n",
              "      setTimeout(run_inline_js, 100);\n",
              "    } else if (!root._bokeh_failed_load) {\n",
              "      console.log(\"Bokeh: BokehJS failed to load within specified timeout.\");\n",
              "      root._bokeh_failed_load = true;\n",
              "    } else if (force !== true) {\n",
              "      var cell = $(document.getElementById(null)).parents('.cell').data().cell;\n",
              "      cell.output_area.append_execute_result(NB_LOAD_WARNING)\n",
              "    }\n",
              "\n",
              "  }\n",
              "\n",
              "  if (root._bokeh_is_loading === 0) {\n",
              "    console.debug(\"Bokeh: BokehJS loaded, going straight to plotting\");\n",
              "    run_inline_js();\n",
              "  } else {\n",
              "    load_libs(css_urls, js_urls, function() {\n",
              "      console.debug(\"Bokeh: BokehJS plotting callback run at\", now());\n",
              "      run_inline_js();\n",
              "    });\n",
              "  }\n",
              "}(window));"
            ],
            "application/vnd.bokehjs_load.v0+json": "\n(function(root) {\n  function now() {\n    return new Date();\n  }\n\n  var force = true;\n\n  if (typeof root._bokeh_onload_callbacks === \"undefined\" || force === true) {\n    root._bokeh_onload_callbacks = [];\n    root._bokeh_is_loading = undefined;\n  }\n\n  \n\n  \n  if (typeof (root._bokeh_timeout) === \"undefined\" || force === true) {\n    root._bokeh_timeout = Date.now() + 5000;\n    root._bokeh_failed_load = false;\n  }\n\n  var NB_LOAD_WARNING = {'data': {'text/html':\n     \"<div style='background-color: #fdd'>\\n\"+\n     \"<p>\\n\"+\n     \"BokehJS does not appear to have successfully loaded. If loading BokehJS from CDN, this \\n\"+\n     \"may be due to a slow or bad network connection. Possible fixes:\\n\"+\n     \"</p>\\n\"+\n     \"<ul>\\n\"+\n     \"<li>re-rerun `output_notebook()` to attempt to load from CDN again, or</li>\\n\"+\n     \"<li>use INLINE resources instead, as so:</li>\\n\"+\n     \"</ul>\\n\"+\n     \"<code>\\n\"+\n     \"from bokeh.resources import INLINE\\n\"+\n     \"output_notebook(resources=INLINE)\\n\"+\n     \"</code>\\n\"+\n     \"</div>\"}};\n\n  function display_loaded() {\n    var el = document.getElementById(null);\n    if (el != null) {\n      el.textContent = \"BokehJS is loading...\";\n    }\n    if (root.Bokeh !== undefined) {\n      if (el != null) {\n        el.textContent = \"BokehJS \" + root.Bokeh.version + \" successfully loaded.\";\n      }\n    } else if (Date.now() < root._bokeh_timeout) {\n      setTimeout(display_loaded, 100)\n    }\n  }\n\n\n  function run_callbacks() {\n    try {\n      root._bokeh_onload_callbacks.forEach(function(callback) {\n        if (callback != null)\n          callback();\n      });\n    } finally {\n      delete root._bokeh_onload_callbacks\n    }\n    console.debug(\"Bokeh: all callbacks have finished\");\n  }\n\n  function load_libs(css_urls, js_urls, callback) {\n    if (css_urls == null) css_urls = [];\n    if (js_urls == null) js_urls = [];\n\n    root._bokeh_onload_callbacks.push(callback);\n    if (root._bokeh_is_loading > 0) {\n      console.debug(\"Bokeh: BokehJS is being loaded, scheduling callback at\", now());\n      return null;\n    }\n    if (js_urls == null || js_urls.length === 0) {\n      run_callbacks();\n      return null;\n    }\n    console.debug(\"Bokeh: BokehJS not loaded, scheduling load and callback at\", now());\n    root._bokeh_is_loading = css_urls.length + js_urls.length;\n\n    function on_load() {\n      root._bokeh_is_loading--;\n      if (root._bokeh_is_loading === 0) {\n        console.debug(\"Bokeh: all BokehJS libraries/stylesheets loaded\");\n        run_callbacks()\n      }\n    }\n\n    function on_error() {\n      console.error(\"failed to load \" + url);\n    }\n\n    for (var i = 0; i < css_urls.length; i++) {\n      var url = css_urls[i];\n      const element = document.createElement(\"link\");\n      element.onload = on_load;\n      element.onerror = on_error;\n      element.rel = \"stylesheet\";\n      element.type = \"text/css\";\n      element.href = url;\n      console.debug(\"Bokeh: injecting link tag for BokehJS stylesheet: \", url);\n      document.body.appendChild(element);\n    }\n\n    const hashes = {\"https://cdn.bokeh.org/bokeh/release/bokeh-2.1.1.min.js\": \"kLr4fYcqcSpbuI95brIH3vnnYCquzzSxHPU6XGQCIkQRGJwhg0StNbj1eegrHs12\", \"https://cdn.bokeh.org/bokeh/release/bokeh-widgets-2.1.1.min.js\": \"xIGPmVtaOm+z0BqfSOMn4lOR6ciex448GIKG4eE61LsAvmGj48XcMQZtKcE/UXZe\", \"https://cdn.bokeh.org/bokeh/release/bokeh-tables-2.1.1.min.js\": \"Dc9u1wF/0zApGIWoBbH77iWEHtdmkuYWG839Uzmv8y8yBLXebjO9ZnERsde5Ln/P\", \"https://cdn.bokeh.org/bokeh/release/bokeh-gl-2.1.1.min.js\": \"cT9JaBz7GiRXdENrJLZNSC6eMNF3nh3fa5fTF51Svp+ukxPdwcU5kGXGPBgDCa2j\"};\n\n    for (var i = 0; i < js_urls.length; i++) {\n      var url = js_urls[i];\n      var element = document.createElement('script');\n      element.onload = on_load;\n      element.onerror = on_error;\n      element.async = false;\n      element.src = url;\n      if (url in hashes) {\n        element.crossOrigin = \"anonymous\";\n        element.integrity = \"sha384-\" + hashes[url];\n      }\n      console.debug(\"Bokeh: injecting script tag for BokehJS library: \", url);\n      document.head.appendChild(element);\n    }\n  };\n\n  function inject_raw_css(css) {\n    const element = document.createElement(\"style\");\n    element.appendChild(document.createTextNode(css));\n    document.body.appendChild(element);\n  }\n\n  \n  var js_urls = [\"https://cdn.bokeh.org/bokeh/release/bokeh-2.1.1.min.js\", \"https://cdn.bokeh.org/bokeh/release/bokeh-widgets-2.1.1.min.js\", \"https://cdn.bokeh.org/bokeh/release/bokeh-tables-2.1.1.min.js\", \"https://cdn.bokeh.org/bokeh/release/bokeh-gl-2.1.1.min.js\"];\n  var css_urls = [];\n  \n\n  var inline_js = [\n    function(Bokeh) {\n      Bokeh.set_log_level(\"info\");\n    },\n    function(Bokeh) {\n    \n    \n    }\n  ];\n\n  function run_inline_js() {\n    \n    if (root.Bokeh !== undefined || force === true) {\n      \n    for (var i = 0; i < inline_js.length; i++) {\n      inline_js[i].call(root, root.Bokeh);\n    }\n    } else if (Date.now() < root._bokeh_timeout) {\n      setTimeout(run_inline_js, 100);\n    } else if (!root._bokeh_failed_load) {\n      console.log(\"Bokeh: BokehJS failed to load within specified timeout.\");\n      root._bokeh_failed_load = true;\n    } else if (force !== true) {\n      var cell = $(document.getElementById(null)).parents('.cell').data().cell;\n      cell.output_area.append_execute_result(NB_LOAD_WARNING)\n    }\n\n  }\n\n  if (root._bokeh_is_loading === 0) {\n    console.debug(\"Bokeh: BokehJS loaded, going straight to plotting\");\n    run_inline_js();\n  } else {\n    load_libs(css_urls, js_urls, function() {\n      console.debug(\"Bokeh: BokehJS plotting callback run at\", now());\n      run_inline_js();\n    });\n  }\n}(window));"
          },
          "metadata": {
            "tags": []
          }
        },
        {
          "output_type": "display_data",
          "data": {
            "text/html": [
              "\n",
              "\n",
              "\n",
              "\n",
              "\n",
              "\n",
              "  <div class=\"bk-root\" id=\"a5eae7cf-e3f1-4a41-b561-223575b0658d\" data-root-id=\"1002\"></div>\n"
            ]
          },
          "metadata": {
            "tags": []
          }
        },
        {
          "output_type": "display_data",
          "data": {
            "application/javascript": [
              "(function(root) {\n",
              "  function embed_document(root) {\n",
              "    \n",
              "  var docs_json = {\"84276012-635b-4fd8-a052-c107f236bbd7\":{\"roots\":{\"references\":[{\"attributes\":{\"below\":[{\"id\":\"1011\"}],\"center\":[{\"id\":\"1014\"},{\"id\":\"1018\"},{\"id\":\"1059\"}],\"left\":[{\"id\":\"1015\"}],\"plot_height\":400,\"plot_width\":1200,\"renderers\":[{\"id\":\"1036\"}],\"title\":{\"id\":\"1038\"},\"toolbar\":{\"id\":\"1026\"},\"x_range\":{\"id\":\"1003\"},\"x_scale\":{\"id\":\"1007\"},\"y_range\":{\"id\":\"1005\"},\"y_scale\":{\"id\":\"1009\"}},\"id\":\"1002\",\"subtype\":\"Figure\",\"type\":\"Plot\"},{\"attributes\":{\"days\":[1,4,7,10,13,16,19,22,25,28]},\"id\":\"1049\",\"type\":\"DaysTicker\"},{\"attributes\":{\"text\":\"\"},\"id\":\"1038\",\"type\":\"Title\"},{\"attributes\":{\"days\":[1,8,15,22]},\"id\":\"1050\",\"type\":\"DaysTicker\"},{\"attributes\":{\"data_source\":{\"id\":\"1001\"},\"glyph\":{\"id\":\"1034\"},\"hover_glyph\":null,\"muted_glyph\":null,\"nonselection_glyph\":{\"id\":\"1035\"},\"selection_glyph\":null,\"view\":{\"id\":\"1037\"}},\"id\":\"1036\",\"type\":\"GlyphRenderer\"},{\"attributes\":{\"line_alpha\":0.1,\"line_color\":\"#1f77b4\",\"x\":{\"field\":\"Transaction Date\"},\"y\":{\"field\":\"Total amount Withdrawn\"}},\"id\":\"1035\",\"type\":\"Line\"},{\"attributes\":{\"days\":[1,15]},\"id\":\"1051\",\"type\":\"DaysTicker\"},{\"attributes\":{},\"id\":\"1019\",\"type\":\"PanTool\"},{\"attributes\":{},\"id\":\"1040\",\"type\":\"BasicTickFormatter\"},{\"attributes\":{\"months\":[0,1,2,3,4,5,6,7,8,9,10,11]},\"id\":\"1052\",\"type\":\"MonthsTicker\"},{\"attributes\":{},\"id\":\"1020\",\"type\":\"WheelZoomTool\"},{\"attributes\":{\"months\":[0,2,4,6,8,10]},\"id\":\"1053\",\"type\":\"MonthsTicker\"},{\"attributes\":{\"overlay\":{\"id\":\"1025\"}},\"id\":\"1021\",\"type\":\"BoxZoomTool\"},{\"attributes\":{\"months\":[0,4,8]},\"id\":\"1054\",\"type\":\"MonthsTicker\"},{\"attributes\":{},\"id\":\"1022\",\"type\":\"SaveTool\"},{\"attributes\":{\"months\":[0,6]},\"id\":\"1055\",\"type\":\"MonthsTicker\"},{\"attributes\":{},\"id\":\"1023\",\"type\":\"ResetTool\"},{\"attributes\":{},\"id\":\"1056\",\"type\":\"YearsTicker\"},{\"attributes\":{},\"id\":\"1024\",\"type\":\"HelpTool\"},{\"attributes\":{\"axis\":{\"id\":\"1011\"},\"ticker\":null},\"id\":\"1014\",\"type\":\"Grid\"},{\"attributes\":{\"formatter\":{\"id\":\"1042\"},\"ticker\":{\"id\":\"1012\"}},\"id\":\"1011\",\"type\":\"DatetimeAxis\"},{\"attributes\":{},\"id\":\"1057\",\"type\":\"UnionRenderers\"},{\"attributes\":{\"active_drag\":\"auto\",\"active_inspect\":\"auto\",\"active_multi\":null,\"active_scroll\":\"auto\",\"active_tap\":\"auto\",\"tools\":[{\"id\":\"1019\"},{\"id\":\"1020\"},{\"id\":\"1021\"},{\"id\":\"1022\"},{\"id\":\"1023\"},{\"id\":\"1024\"}]},\"id\":\"1026\",\"type\":\"Toolbar\"},{\"attributes\":{},\"id\":\"1058\",\"type\":\"Selection\"},{\"attributes\":{\"days\":[1,2,3,4,5,6,7,8,9,10,11,12,13,14,15,16,17,18,19,20,21,22,23,24,25,26,27,28,29,30,31]},\"id\":\"1048\",\"type\":\"DaysTicker\"},{\"attributes\":{\"base\":60,\"mantissas\":[1,2,5,10,15,20,30],\"max_interval\":1800000.0,\"min_interval\":1000.0,\"num_minor_ticks\":0},\"id\":\"1046\",\"type\":\"AdaptiveTicker\"},{\"attributes\":{},\"id\":\"1009\",\"type\":\"LinearScale\"},{\"attributes\":{\"items\":[{\"id\":\"1060\"}]},\"id\":\"1059\",\"type\":\"Legend\"},{\"attributes\":{},\"id\":\"1007\",\"type\":\"LinearScale\"},{\"attributes\":{\"label\":{\"value\":\"Total amount Withdrawn\"},\"renderers\":[{\"id\":\"1036\"}]},\"id\":\"1060\",\"type\":\"LegendItem\"},{\"attributes\":{\"mantissas\":[1,2,5],\"max_interval\":500.0,\"num_minor_ticks\":0},\"id\":\"1045\",\"type\":\"AdaptiveTicker\"},{\"attributes\":{\"base\":24,\"mantissas\":[1,2,4,6,8,12],\"max_interval\":43200000.0,\"min_interval\":3600000.0,\"num_minor_ticks\":0},\"id\":\"1047\",\"type\":\"AdaptiveTicker\"},{\"attributes\":{},\"id\":\"1005\",\"type\":\"DataRange1d\"},{\"attributes\":{\"bottom_units\":\"screen\",\"fill_alpha\":0.5,\"fill_color\":\"lightgrey\",\"left_units\":\"screen\",\"level\":\"overlay\",\"line_alpha\":1.0,\"line_color\":\"black\",\"line_dash\":[4,4],\"line_width\":2,\"right_units\":\"screen\",\"top_units\":\"screen\"},\"id\":\"1025\",\"type\":\"BoxAnnotation\"},{\"attributes\":{},\"id\":\"1003\",\"type\":\"DataRange1d\"},{\"attributes\":{\"num_minor_ticks\":5,\"tickers\":[{\"id\":\"1045\"},{\"id\":\"1046\"},{\"id\":\"1047\"},{\"id\":\"1048\"},{\"id\":\"1049\"},{\"id\":\"1050\"},{\"id\":\"1051\"},{\"id\":\"1052\"},{\"id\":\"1053\"},{\"id\":\"1054\"},{\"id\":\"1055\"},{\"id\":\"1056\"}]},\"id\":\"1012\",\"type\":\"DatetimeTicker\"},{\"attributes\":{\"formatter\":{\"id\":\"1040\"},\"ticker\":{\"id\":\"1016\"}},\"id\":\"1015\",\"type\":\"LinearAxis\"},{\"attributes\":{\"source\":{\"id\":\"1001\"}},\"id\":\"1037\",\"type\":\"CDSView\"},{\"attributes\":{},\"id\":\"1016\",\"type\":\"BasicTicker\"},{\"attributes\":{\"data\":{\"ATM Name\":[\"Big Street ATM\",\"Big Street ATM\",\"Big Street ATM\",\"Big Street ATM\",\"Big Street ATM\",\"Big Street ATM\",\"Big Street ATM\",\"Big Street ATM\",\"Big Street ATM\",\"Big Street ATM\",\"Big Street ATM\",\"Big Street ATM\",\"Big Street ATM\",\"Big Street ATM\",\"Big Street ATM\",\"Big Street ATM\",\"Big Street ATM\",\"Big Street ATM\",\"Big Street ATM\",\"Big Street ATM\",\"Big Street ATM\",\"Big Street ATM\",\"Big Street ATM\",\"Big Street ATM\",\"Big Street ATM\",\"Big Street ATM\",\"Big Street ATM\",\"Big Street ATM\",\"Big Street ATM\",\"Big Street ATM\",\"Big Street ATM\",\"Big Street ATM\",\"Big Street ATM\",\"Big Street ATM\",\"Big Street ATM\",\"Big Street ATM\",\"Big Street ATM\",\"Big Street ATM\",\"Big Street ATM\",\"Big Street ATM\",\"Big Street ATM\",\"Big Street ATM\",\"Big Street ATM\",\"Big Street ATM\",\"Big Street ATM\",\"Big Street ATM\",\"Big Street ATM\",\"Big Street ATM\",\"Big Street ATM\",\"Big Street ATM\",\"Big Street ATM\",\"Big Street ATM\",\"Big Street ATM\",\"Big Street ATM\",\"Big Street ATM\",\"Big Street ATM\",\"Big Street ATM\",\"Big Street ATM\",\"Big Street ATM\",\"Big Street ATM\",\"Big Street ATM\",\"Big Street ATM\",\"Big Street ATM\",\"Big Street ATM\",\"Big Street ATM\",\"Big Street ATM\",\"Big Street ATM\",\"Big Street ATM\",\"Big Street ATM\",\"Big Street ATM\",\"Big Street ATM\",\"Big Street ATM\",\"Big Street ATM\",\"Big Street ATM\",\"Big Street ATM\",\"Big Street ATM\",\"Big Street ATM\",\"Big Street ATM\",\"Big Street ATM\",\"Big Street ATM\",\"Big Street ATM\",\"Big Street ATM\",\"Big Street ATM\",\"Big Street ATM\",\"Big Street ATM\",\"Big Street ATM\",\"Big Street ATM\",\"Big Street ATM\",\"Big Street ATM\",\"Big Street ATM\",\"Big Street ATM\",\"Big Street ATM\",\"Big Street ATM\",\"Big Street ATM\",\"Big Street ATM\",\"Big Street ATM\",\"Big Street ATM\",\"Big Street ATM\",\"Big Street ATM\",\"Big Street ATM\",\"Big Street ATM\",\"Big Street ATM\",\"Big Street ATM\",\"Big Street ATM\",\"Big Street ATM\",\"Big Street ATM\",\"Big Street ATM\",\"Big Street ATM\",\"Big Street ATM\",\"Big Street ATM\",\"Big Street ATM\",\"Big Street ATM\",\"Big Street ATM\",\"Big Street ATM\",\"Big Street ATM\",\"Big Street ATM\",\"Big Street ATM\",\"Big Street ATM\",\"Big Street ATM\",\"Big Street ATM\",\"Big Street ATM\",\"Big Street ATM\",\"Big Street ATM\",\"Big Street ATM\",\"Big Street ATM\",\"Big Street ATM\",\"Big Street ATM\",\"Big Street ATM\",\"Big Street ATM\",\"Big Street ATM\",\"Big Street ATM\",\"Big Street ATM\",\"Big Street ATM\",\"Big Street ATM\",\"Big Street ATM\",\"Big Street ATM\",\"Big Street ATM\",\"Big Street ATM\",\"Big Street ATM\",\"Big Street ATM\",\"Big Street ATM\",\"Big Street ATM\",\"Big Street ATM\",\"Big Street ATM\",\"Big Street ATM\",\"Big Street ATM\",\"Big Street ATM\",\"Big Street ATM\",\"Big Street ATM\",\"Big Street ATM\",\"Big Street ATM\",\"Big Street ATM\",\"Big Street ATM\",\"Big Street ATM\",\"Big Street ATM\",\"Big Street ATM\",\"Big Street ATM\",\"Big Street ATM\",\"Big Street ATM\",\"Big Street ATM\",\"Big Street ATM\",\"Big Street ATM\",\"Big Street ATM\",\"Big Street ATM\",\"Big Street ATM\",\"Big Street ATM\",\"Big Street ATM\",\"Big Street ATM\",\"Big Street ATM\",\"Big Street ATM\",\"Big Street ATM\",\"Big Street ATM\",\"Big Street ATM\",\"Big Street ATM\",\"Big Street ATM\",\"Big Street ATM\",\"Big Street ATM\",\"Big Street ATM\",\"Big Street ATM\",\"Big Street ATM\",\"Big Street ATM\",\"Big Street ATM\",\"Big Street ATM\",\"Big Street ATM\",\"Big Street ATM\",\"Big Street ATM\",\"Big Street ATM\",\"Big Street ATM\",\"Big Street ATM\",\"Big Street ATM\",\"Big Street ATM\",\"Big Street ATM\",\"Big Street ATM\",\"Big Street ATM\",\"Big Street ATM\",\"Big Street ATM\",\"Big Street ATM\",\"Big Street ATM\",\"Big Street ATM\",\"Big Street ATM\",\"Big Street ATM\",\"Big Street ATM\",\"Big Street ATM\",\"Big Street ATM\",\"Big Street ATM\",\"Big Street ATM\",\"Big Street ATM\",\"Big Street ATM\",\"Big Street ATM\",\"Big Street ATM\",\"Big Street ATM\",\"Big Street ATM\",\"Big Street ATM\",\"Big Street ATM\",\"Big Street ATM\",\"Big Street ATM\",\"Big Street ATM\",\"Big Street ATM\",\"Big Street ATM\",\"Big Street ATM\",\"Big Street ATM\",\"Big Street ATM\",\"Big Street ATM\",\"Big Street ATM\",\"Big Street ATM\",\"Big Street ATM\",\"Big Street ATM\",\"Big Street ATM\",\"Big Street ATM\",\"Big Street ATM\",\"Big Street ATM\",\"Big Street ATM\",\"Big Street ATM\",\"Big Street ATM\",\"Big Street ATM\",\"Big Street ATM\",\"Big Street ATM\",\"Big Street ATM\",\"Big Street ATM\",\"Big Street ATM\",\"Big Street ATM\",\"Big Street ATM\",\"Big Street ATM\",\"Big Street ATM\",\"Big Street ATM\",\"Big Street ATM\",\"Big Street ATM\",\"Big Street ATM\",\"Big Street ATM\",\"Big Street ATM\",\"Big Street ATM\",\"Big Street ATM\",\"Big Street ATM\",\"Big Street ATM\",\"Big Street ATM\",\"Big Street ATM\",\"Big Street ATM\",\"Big Street ATM\",\"Big Street ATM\",\"Big Street ATM\",\"Big Street ATM\",\"Big Street ATM\",\"Big Street ATM\",\"Big Street ATM\",\"Big Street ATM\",\"Big Street ATM\",\"Big Street ATM\",\"Big Street ATM\",\"Big Street ATM\",\"Big Street ATM\",\"Big Street ATM\",\"Big Street ATM\",\"Big Street ATM\",\"Big Street ATM\",\"Big Street ATM\",\"Big Street ATM\",\"Big Street ATM\",\"Big Street ATM\",\"Big Street ATM\",\"Big Street ATM\",\"Big Street ATM\",\"Big Street ATM\",\"Big Street ATM\",\"Big Street ATM\",\"Big Street ATM\",\"Big Street ATM\",\"Big Street ATM\",\"Big Street ATM\",\"Big Street ATM\",\"Big Street ATM\",\"Big Street ATM\",\"Big Street ATM\",\"Big Street ATM\",\"Big Street ATM\",\"Big Street ATM\",\"Big Street ATM\",\"Big Street ATM\",\"Big Street ATM\",\"Big Street ATM\",\"Big Street ATM\",\"Big Street ATM\",\"Big Street ATM\",\"Big Street ATM\",\"Big Street ATM\",\"Big Street ATM\",\"Big Street ATM\",\"Big Street ATM\",\"Big Street ATM\",\"Big Street ATM\",\"Big Street ATM\",\"Big Street ATM\",\"Big Street ATM\",\"Big Street ATM\",\"Big Street ATM\",\"Big Street ATM\",\"Big Street ATM\",\"Big Street ATM\",\"Big Street ATM\",\"Big Street ATM\",\"Big Street ATM\",\"Big Street ATM\",\"Big Street ATM\",\"Big Street ATM\",\"Big Street ATM\",\"Big Street ATM\",\"Big Street ATM\",\"Big Street ATM\",\"Big Street ATM\",\"Big Street ATM\",\"Big Street ATM\",\"Big Street ATM\",\"Big Street ATM\",\"Big Street ATM\",\"Big Street ATM\",\"Big Street ATM\",\"Big Street ATM\",\"Big Street ATM\",\"Big Street ATM\",\"Big Street ATM\",\"Big Street ATM\",\"Big Street ATM\",\"Big Street ATM\",\"Big Street ATM\",\"Big Street ATM\",\"Big Street ATM\",\"Big Street ATM\",\"Big Street ATM\",\"Big Street ATM\",\"Big Street ATM\",\"Big Street ATM\",\"Big Street ATM\",\"Big Street ATM\",\"Big Street ATM\",\"Big Street ATM\",\"Big Street ATM\",\"Big Street ATM\",\"Big Street ATM\",\"Big Street ATM\",\"Big Street ATM\",\"Big Street ATM\",\"Big Street ATM\",\"Big Street ATM\",\"Big Street ATM\",\"Big Street ATM\",\"Big Street ATM\",\"Big Street ATM\",\"Big Street ATM\",\"Big Street ATM\",\"Big Street ATM\",\"Big Street ATM\",\"Big Street ATM\",\"Big Street ATM\",\"Big Street ATM\",\"Big Street ATM\",\"Big Street ATM\",\"Big Street ATM\",\"Big Street ATM\",\"Big Street ATM\",\"Big Street ATM\",\"Big Street ATM\",\"Big Street ATM\",\"Big Street ATM\",\"Big Street ATM\",\"Big Street ATM\",\"Big Street ATM\",\"Big Street ATM\",\"Big Street ATM\",\"Big Street ATM\",\"Big Street ATM\",\"Big Street ATM\",\"Big Street ATM\",\"Big Street ATM\",\"Big Street ATM\",\"Big Street ATM\",\"Big Street ATM\",\"Big Street ATM\",\"Big Street ATM\",\"Big Street ATM\",\"Big Street ATM\",\"Big Street ATM\",\"Big Street ATM\",\"Big Street ATM\",\"Big Street ATM\",\"Big Street ATM\",\"Big Street ATM\",\"Big Street ATM\",\"Big Street ATM\",\"Big Street ATM\",\"Big Street ATM\",\"Big Street ATM\",\"Big Street ATM\",\"Big Street ATM\",\"Big Street ATM\",\"Big Street ATM\",\"Big Street ATM\",\"Big Street ATM\",\"Big Street ATM\",\"Big Street ATM\",\"Big Street ATM\",\"Big Street ATM\",\"Big Street ATM\",\"Big Street ATM\",\"Big Street ATM\",\"Big Street ATM\",\"Big Street ATM\",\"Big Street ATM\",\"Big Street ATM\",\"Big Street ATM\",\"Big Street ATM\",\"Big Street ATM\",\"Big Street ATM\",\"Big Street ATM\",\"Big Street ATM\",\"Big Street ATM\",\"Big Street ATM\",\"Big Street ATM\",\"Big Street ATM\",\"Big Street ATM\",\"Big Street ATM\",\"Big Street ATM\",\"Big Street ATM\",\"Big Street ATM\",\"Big Street ATM\",\"Big Street ATM\",\"Big Street ATM\",\"Big Street ATM\",\"Big Street ATM\",\"Big Street ATM\",\"Big Street ATM\",\"Big Street ATM\",\"Big Street ATM\",\"Big Street ATM\",\"Big Street ATM\",\"Big Street ATM\",\"Big Street ATM\",\"Big Street ATM\",\"Big Street ATM\",\"Big Street ATM\",\"Big Street ATM\",\"Big Street ATM\",\"Big Street ATM\",\"Big Street ATM\",\"Big Street ATM\",\"Big Street ATM\",\"Big Street ATM\",\"Big Street ATM\",\"Big Street ATM\",\"Big Street ATM\",\"Big Street ATM\",\"Big Street ATM\",\"Big Street ATM\",\"Big Street ATM\",\"Big Street ATM\",\"Big Street ATM\",\"Big Street ATM\",\"Big Street ATM\",\"Big Street ATM\",\"Big Street ATM\",\"Big Street ATM\",\"Big Street ATM\",\"Big Street ATM\",\"Big Street ATM\",\"Big Street ATM\",\"Big Street ATM\",\"Big Street ATM\",\"Big Street ATM\",\"Big Street ATM\",\"Big Street ATM\",\"Big Street ATM\",\"Big Street ATM\",\"Big Street ATM\",\"Big Street ATM\",\"Big Street ATM\",\"Big Street ATM\",\"Big Street ATM\",\"Big Street ATM\",\"Big Street ATM\",\"Big Street ATM\",\"Big Street ATM\",\"Big Street ATM\",\"Big Street ATM\",\"Big Street ATM\",\"Big Street ATM\",\"Big Street ATM\",\"Big Street ATM\",\"Big Street ATM\",\"Big Street ATM\",\"Big Street ATM\",\"Big Street ATM\",\"Big Street ATM\",\"Big Street ATM\",\"Big Street ATM\",\"Big Street ATM\",\"Big Street ATM\",\"Big Street ATM\",\"Big Street ATM\",\"Big Street ATM\",\"Big Street ATM\",\"Big Street ATM\",\"Big Street ATM\",\"Big Street ATM\",\"Big Street ATM\",\"Big Street ATM\",\"Big Street ATM\",\"Big Street ATM\",\"Big Street ATM\",\"Big Street ATM\",\"Big Street ATM\",\"Big Street ATM\",\"Big Street ATM\",\"Big Street ATM\",\"Big Street ATM\",\"Big Street ATM\",\"Big Street ATM\",\"Big Street ATM\",\"Big Street ATM\",\"Big Street ATM\",\"Big Street ATM\",\"Big Street ATM\",\"Big Street ATM\",\"Big Street ATM\",\"Big Street ATM\",\"Big Street ATM\",\"Big Street ATM\",\"Big Street ATM\",\"Big Street ATM\",\"Big Street ATM\",\"Big Street ATM\",\"Big Street ATM\",\"Big Street ATM\",\"Big Street ATM\",\"Big Street ATM\",\"Big Street ATM\",\"Big Street ATM\",\"Big Street ATM\",\"Big Street ATM\",\"Big Street ATM\",\"Big Street ATM\",\"Big Street ATM\",\"Big Street ATM\",\"Big Street ATM\",\"Big Street ATM\",\"Big Street ATM\",\"Big Street ATM\",\"Big Street ATM\",\"Big Street ATM\",\"Big Street ATM\",\"Big Street ATM\",\"Big Street ATM\",\"Big Street ATM\",\"Big Street ATM\",\"Big Street ATM\",\"Big Street ATM\",\"Big Street ATM\",\"Big Street ATM\",\"Big Street ATM\",\"Big Street ATM\",\"Big Street ATM\",\"Big Street ATM\",\"Big Street ATM\",\"Big Street ATM\",\"Big Street ATM\",\"Big Street ATM\",\"Big Street ATM\",\"Big Street ATM\",\"Big Street ATM\",\"Big Street ATM\",\"Big Street ATM\",\"Big Street ATM\",\"Big Street ATM\",\"Big Street ATM\",\"Big Street ATM\",\"Big Street ATM\",\"Big Street ATM\",\"Big Street ATM\",\"Big Street ATM\",\"Big Street ATM\",\"Big Street ATM\",\"Big Street ATM\",\"Big Street ATM\",\"Big Street ATM\",\"Big Street ATM\",\"Big Street ATM\",\"Big Street ATM\",\"Big Street ATM\",\"Big Street ATM\",\"Big Street ATM\",\"Big Street ATM\",\"Big Street ATM\",\"Big Street ATM\",\"Big Street ATM\",\"Big Street ATM\",\"Big Street ATM\",\"Big Street ATM\",\"Big Street ATM\",\"Big Street ATM\",\"Big Street ATM\",\"Big Street ATM\",\"Big Street ATM\",\"Big Street ATM\",\"Big Street ATM\",\"Big Street ATM\",\"Big Street ATM\",\"Big Street ATM\",\"Big Street ATM\",\"Big Street ATM\",\"Big Street ATM\",\"Big Street ATM\",\"Big Street ATM\",\"Big Street ATM\",\"Big Street ATM\",\"Big Street ATM\",\"Big Street ATM\",\"Big Street ATM\",\"Big Street ATM\",\"Big Street ATM\",\"Big Street ATM\",\"Big Street ATM\",\"Big Street ATM\",\"Big Street ATM\",\"Big Street ATM\",\"Big Street ATM\",\"Big Street ATM\",\"Big Street ATM\",\"Big Street ATM\",\"Big Street ATM\",\"Big Street ATM\",\"Big Street ATM\",\"Big Street ATM\",\"Big Street ATM\",\"Big Street ATM\",\"Big Street ATM\",\"Big Street ATM\",\"Big Street ATM\",\"Big Street ATM\",\"Big Street ATM\",\"Big Street ATM\",\"Big Street ATM\",\"Big Street ATM\",\"Big Street ATM\",\"Big Street ATM\",\"Big Street ATM\",\"Big Street ATM\",\"Big Street ATM\",\"Big Street ATM\",\"Big Street ATM\",\"Big Street ATM\",\"Big Street ATM\",\"Big Street ATM\",\"Big Street ATM\",\"Big Street ATM\",\"Big Street ATM\",\"Big Street ATM\",\"Big Street ATM\",\"Big Street ATM\",\"Big Street ATM\",\"Big Street ATM\",\"Big Street ATM\",\"Big Street ATM\",\"Big Street ATM\",\"Big Street ATM\",\"Big Street ATM\",\"Big Street ATM\",\"Big Street ATM\",\"Big Street ATM\",\"Big Street ATM\",\"Big Street ATM\",\"Big Street ATM\",\"Big Street ATM\",\"Big Street ATM\",\"Big Street ATM\",\"Big Street ATM\",\"Big Street ATM\",\"Big Street ATM\",\"Big Street ATM\",\"Big Street ATM\",\"Big Street ATM\",\"Big Street ATM\",\"Big Street ATM\",\"Big Street ATM\",\"Big Street ATM\",\"Big Street ATM\",\"Big Street ATM\",\"Big Street ATM\",\"Big Street ATM\",\"Big Street ATM\",\"Big Street ATM\",\"Big Street ATM\",\"Big Street ATM\",\"Big Street ATM\",\"Big Street ATM\",\"Big Street ATM\",\"Big Street ATM\",\"Big Street ATM\",\"Big Street ATM\",\"Big Street ATM\",\"Big Street ATM\",\"Big Street ATM\",\"Big Street ATM\",\"Big Street ATM\",\"Big Street ATM\",\"Big Street ATM\",\"Big Street ATM\",\"Big Street ATM\",\"Big Street ATM\",\"Big Street ATM\",\"Big Street ATM\",\"Big Street ATM\",\"Big Street ATM\",\"Big Street ATM\",\"Big Street ATM\",\"Big Street ATM\",\"Big Street ATM\",\"Big Street ATM\",\"Big Street ATM\",\"Big Street ATM\",\"Big Street ATM\",\"Big Street ATM\",\"Big Street ATM\",\"Big Street ATM\",\"Big Street ATM\",\"Big Street ATM\",\"Big Street ATM\",\"Big Street ATM\",\"Big Street ATM\",\"Big Street ATM\",\"Big Street ATM\",\"Big Street ATM\",\"Big Street ATM\",\"Big Street ATM\",\"Big Street ATM\",\"Big Street ATM\",\"Big Street ATM\",\"Big Street ATM\",\"Big Street ATM\",\"Big Street ATM\",\"Big Street ATM\",\"Big Street ATM\",\"Big Street ATM\",\"Big Street ATM\",\"Big Street ATM\",\"Big Street ATM\",\"Big Street ATM\",\"Big Street ATM\",\"Big Street ATM\",\"Big Street ATM\",\"Big Street ATM\",\"Big Street ATM\",\"Big Street ATM\",\"Big Street ATM\",\"Big Street ATM\",\"Big Street ATM\",\"Big Street ATM\",\"Big Street ATM\",\"Big Street ATM\",\"Big Street ATM\",\"Big Street ATM\",\"Big Street ATM\",\"Big Street ATM\",\"Big Street ATM\",\"Big Street ATM\",\"Big Street ATM\",\"Big Street ATM\",\"Big Street ATM\",\"Big Street ATM\",\"Big Street ATM\",\"Big Street ATM\",\"Big Street ATM\",\"Big Street ATM\",\"Big Street ATM\",\"Big Street ATM\",\"Big Street ATM\",\"Big Street ATM\",\"Big Street ATM\",\"Big Street ATM\",\"Big Street ATM\",\"Big Street ATM\",\"Big Street ATM\",\"Big Street ATM\",\"Big Street ATM\",\"Big Street ATM\",\"Big Street ATM\",\"Big Street ATM\",\"Big Street ATM\",\"Big Street ATM\",\"Big Street ATM\",\"Big Street ATM\",\"Big Street ATM\",\"Big Street ATM\",\"Big Street ATM\",\"Big Street ATM\",\"Big Street ATM\",\"Big Street ATM\",\"Big Street ATM\",\"Big Street ATM\",\"Big Street ATM\",\"Big Street ATM\",\"Big Street ATM\",\"Big Street ATM\",\"Big Street ATM\",\"Big Street ATM\",\"Big Street ATM\",\"Big Street ATM\",\"Big Street ATM\",\"Big Street ATM\",\"Big Street ATM\",\"Big Street ATM\",\"Big Street ATM\",\"Big Street ATM\",\"Big Street ATM\",\"Big Street ATM\",\"Big Street ATM\",\"Big Street ATM\",\"Big Street ATM\",\"Big Street ATM\",\"Big Street ATM\",\"Big Street ATM\",\"Big Street ATM\",\"Big Street ATM\",\"Big Street ATM\",\"Big Street ATM\",\"Big Street ATM\",\"Big Street ATM\",\"Big Street ATM\",\"Big Street ATM\",\"Big Street ATM\",\"Big Street ATM\",\"Big Street ATM\",\"Big Street ATM\",\"Big Street ATM\",\"Big Street ATM\",\"Big Street ATM\",\"Big Street ATM\",\"Big Street ATM\",\"Big Street ATM\",\"Big Street ATM\",\"Big Street ATM\",\"Big Street ATM\",\"Big Street ATM\",\"Big Street ATM\",\"Big Street ATM\",\"Big Street ATM\",\"Big Street ATM\",\"Big Street ATM\",\"Big Street ATM\",\"Big Street ATM\",\"Big Street ATM\",\"Big Street ATM\",\"Big Street ATM\",\"Big Street ATM\",\"Big Street ATM\",\"Big Street ATM\",\"Big Street ATM\",\"Big Street ATM\",\"Big Street ATM\",\"Big Street ATM\",\"Big Street ATM\",\"Big Street ATM\",\"Big Street ATM\",\"Big Street ATM\",\"Big Street ATM\",\"Big Street ATM\",\"Big Street ATM\",\"Big Street ATM\",\"Big Street ATM\",\"Big Street ATM\",\"Big Street ATM\",\"Big Street ATM\",\"Big Street ATM\",\"Big Street ATM\",\"Big Street ATM\",\"Big Street ATM\",\"Big Street ATM\",\"Big Street ATM\",\"Big Street ATM\",\"Big Street ATM\",\"Big Street ATM\",\"Big Street ATM\",\"Big Street ATM\",\"Big Street ATM\",\"Big Street ATM\",\"Big Street ATM\",\"Big Street ATM\",\"Big Street ATM\",\"Big Street ATM\",\"Big Street ATM\",\"Big Street ATM\",\"Big Street ATM\",\"Big Street ATM\",\"Big Street ATM\",\"Big Street ATM\",\"Big Street ATM\",\"Big Street ATM\",\"Big Street ATM\",\"Big Street ATM\",\"Big Street ATM\",\"Big Street ATM\",\"Big Street ATM\",\"Big Street ATM\",\"Big Street ATM\",\"Big Street ATM\",\"Big Street ATM\",\"Big Street ATM\",\"Big Street ATM\",\"Big Street ATM\",\"Big Street ATM\",\"Big Street ATM\",\"Big Street ATM\",\"Big Street ATM\",\"Big Street ATM\",\"Big Street ATM\",\"Big Street ATM\",\"Big Street ATM\",\"Big Street ATM\",\"Big Street ATM\",\"Big Street ATM\",\"Big Street ATM\",\"Big Street ATM\",\"Big Street ATM\",\"Big Street ATM\",\"Big Street ATM\",\"Big Street ATM\",\"Big Street ATM\",\"Big Street ATM\",\"Big Street ATM\",\"Big Street ATM\",\"Big Street ATM\",\"Big Street ATM\",\"Big Street ATM\",\"Big Street ATM\",\"Big Street ATM\",\"Big Street ATM\",\"Big Street ATM\",\"Big Street ATM\",\"Big Street ATM\",\"Big Street ATM\",\"Big Street ATM\",\"Big Street ATM\",\"Big Street ATM\",\"Big Street ATM\",\"Big Street ATM\",\"Big Street ATM\",\"Big Street ATM\",\"Big Street ATM\",\"Big Street ATM\",\"Big Street ATM\",\"Big Street ATM\",\"Big Street ATM\",\"Big Street ATM\",\"Big Street ATM\",\"Big Street ATM\",\"Big Street ATM\",\"Big Street ATM\",\"Big Street ATM\",\"Big Street ATM\",\"Big Street ATM\",\"Big Street ATM\",\"Big Street ATM\",\"Big Street ATM\",\"Big Street ATM\",\"Big Street ATM\",\"Big Street ATM\",\"Big Street ATM\",\"Big Street ATM\",\"Big Street ATM\",\"Big Street ATM\",\"Big Street ATM\",\"Big Street ATM\",\"Big Street ATM\",\"Big Street ATM\",\"Big Street ATM\",\"Big Street ATM\",\"Big Street ATM\",\"Big Street ATM\",\"Big Street ATM\",\"Big Street ATM\",\"Big Street ATM\",\"Big Street ATM\",\"Big Street ATM\",\"Big Street ATM\",\"Big Street ATM\",\"Big Street ATM\",\"Big Street ATM\",\"Big Street ATM\",\"Big Street ATM\",\"Big Street ATM\",\"Big Street ATM\",\"Big Street ATM\",\"Big Street ATM\",\"Big Street ATM\",\"Big Street ATM\",\"Big Street ATM\",\"Big Street ATM\",\"Big Street ATM\",\"Big Street ATM\",\"Big Street ATM\",\"Big Street ATM\",\"Big Street ATM\",\"Big Street ATM\",\"Big Street ATM\",\"Big Street ATM\",\"Big Street ATM\",\"Big Street ATM\",\"Big Street ATM\",\"Big Street ATM\",\"Big Street ATM\",\"Big Street ATM\",\"Big Street ATM\",\"Big Street ATM\",\"Big Street ATM\",\"Big Street ATM\",\"Big Street ATM\",\"Big Street ATM\",\"Big Street ATM\",\"Big Street ATM\",\"Big Street ATM\",\"Big Street ATM\",\"Big Street ATM\",\"Big Street ATM\",\"Big Street ATM\",\"Big Street ATM\",\"Big Street ATM\",\"Big Street ATM\",\"Big Street ATM\",\"Big Street ATM\",\"Big Street ATM\",\"Big Street ATM\",\"Big Street ATM\",\"Big Street ATM\",\"Big Street ATM\",\"Big Street ATM\",\"Big Street ATM\",\"Big Street ATM\",\"Big Street ATM\",\"Big Street ATM\",\"Big Street ATM\",\"Big Street ATM\",\"Big Street ATM\",\"Big Street ATM\",\"Big Street ATM\",\"Big Street ATM\",\"Big Street ATM\",\"Big Street ATM\",\"Big Street ATM\",\"Big Street ATM\",\"Big Street ATM\",\"Big Street ATM\",\"Big Street ATM\",\"Big Street ATM\",\"Big Street ATM\",\"Big Street ATM\",\"Big Street ATM\",\"Big Street ATM\",\"Big Street ATM\",\"Big Street ATM\",\"Big Street ATM\",\"Big Street ATM\",\"Big Street ATM\",\"Big Street ATM\",\"Big Street ATM\",\"Big Street ATM\",\"Big Street ATM\",\"Big Street ATM\",\"Big Street ATM\",\"Big Street ATM\",\"Big Street ATM\",\"Big Street ATM\",\"Big Street ATM\",\"Big Street ATM\",\"Big Street ATM\",\"Big Street ATM\",\"Big Street ATM\",\"Big Street ATM\",\"Big Street ATM\",\"Big Street ATM\",\"Big Street ATM\",\"Big Street ATM\",\"Big Street ATM\",\"Big Street ATM\",\"Big Street ATM\",\"Big Street ATM\",\"Big Street ATM\",\"Big Street ATM\",\"Big Street ATM\",\"Big Street ATM\",\"Big Street ATM\",\"Big Street ATM\",\"Big Street ATM\",\"Big Street ATM\",\"Big Street ATM\",\"Big Street ATM\",\"Big Street ATM\",\"Big Street ATM\",\"Big Street ATM\",\"Big Street ATM\",\"Big Street ATM\",\"Big Street ATM\",\"Big Street ATM\",\"Big Street ATM\",\"Big Street ATM\",\"Big Street ATM\",\"Big Street ATM\",\"Big Street ATM\",\"Big Street ATM\",\"Big Street ATM\",\"Big Street ATM\",\"Big Street ATM\",\"Big Street ATM\",\"Big Street ATM\",\"Big Street ATM\",\"Big Street ATM\",\"Big Street ATM\",\"Big Street ATM\",\"Big Street ATM\",\"Big Street ATM\",\"Big Street ATM\",\"Big Street ATM\",\"Big Street ATM\",\"Big Street ATM\",\"Big Street ATM\",\"Big Street ATM\",\"Big Street ATM\",\"Big Street ATM\",\"Big Street ATM\",\"Big Street ATM\",\"Big Street ATM\",\"Big Street ATM\",\"Big Street ATM\",\"Big Street ATM\",\"Big Street ATM\",\"Big Street ATM\",\"Big Street ATM\",\"Big Street ATM\",\"Big Street ATM\",\"Big Street ATM\",\"Big Street ATM\",\"Big Street ATM\",\"Big Street ATM\",\"Big Street ATM\",\"Big Street ATM\",\"Big Street ATM\",\"Big Street ATM\",\"Big Street ATM\",\"Big Street ATM\",\"Big Street ATM\",\"Big Street ATM\",\"Big Street ATM\",\"Big Street ATM\",\"Big Street ATM\",\"Big Street ATM\",\"Big Street ATM\",\"Big Street ATM\",\"Big Street ATM\",\"Big Street ATM\",\"Big Street ATM\",\"Big Street ATM\",\"Big Street ATM\",\"Big Street ATM\",\"Big Street ATM\",\"Big Street ATM\",\"Big Street ATM\",\"Big Street ATM\",\"Big Street ATM\",\"Big Street ATM\",\"Big Street ATM\",\"Big Street ATM\",\"Big Street ATM\",\"Big Street ATM\",\"Big Street ATM\",\"Big Street ATM\",\"Big Street ATM\",\"Big Street ATM\",\"Big Street ATM\",\"Big Street ATM\",\"Big Street ATM\",\"Big Street ATM\",\"Big Street ATM\",\"Big Street ATM\",\"Big Street ATM\",\"Big Street ATM\",\"Big Street ATM\",\"Big Street ATM\",\"Big Street ATM\",\"Big Street ATM\",\"Big Street ATM\",\"Big Street ATM\",\"Big Street ATM\",\"Big Street ATM\",\"Big Street ATM\",\"Big Street ATM\",\"Big Street ATM\",\"Big Street ATM\",\"Big Street ATM\",\"Big Street ATM\",\"Big Street ATM\",\"Big Street ATM\",\"Big Street ATM\",\"Big Street ATM\",\"Big Street ATM\",\"Big Street ATM\",\"Big Street ATM\",\"Big Street ATM\",\"Big Street ATM\",\"Big Street ATM\",\"Big Street ATM\",\"Big Street ATM\",\"Big Street ATM\",\"Big Street ATM\",\"Big Street ATM\",\"Big Street ATM\",\"Big Street ATM\",\"Big Street ATM\",\"Big Street ATM\",\"Big Street ATM\",\"Big Street ATM\",\"Big Street ATM\",\"Big Street ATM\",\"Big Street ATM\",\"Big Street ATM\",\"Big Street ATM\",\"Big Street ATM\",\"Big Street ATM\",\"Big Street ATM\",\"Big Street ATM\",\"Big Street ATM\",\"Big Street ATM\",\"Big Street ATM\",\"Big Street ATM\",\"Big Street ATM\",\"Big Street ATM\",\"Big Street ATM\",\"Big Street ATM\",\"Big Street ATM\",\"Big Street ATM\",\"Big Street ATM\",\"Big Street ATM\",\"Big Street ATM\",\"Big Street ATM\",\"Big Street ATM\",\"Big Street ATM\",\"Big Street ATM\",\"Big Street ATM\",\"Big Street ATM\",\"Big Street ATM\",\"Big Street ATM\",\"Big Street ATM\",\"Big Street ATM\",\"Big Street ATM\",\"Big Street ATM\",\"Big Street ATM\",\"Big Street ATM\",\"Big Street ATM\",\"Big Street ATM\",\"Big Street ATM\",\"Big Street ATM\",\"Big Street ATM\",\"Big Street ATM\",\"Big Street ATM\",\"Big Street ATM\",\"Big Street ATM\",\"Big Street ATM\",\"Big Street ATM\",\"Big Street ATM\",\"Big Street ATM\",\"Big Street ATM\",\"Big Street ATM\",\"Big Street ATM\",\"Big Street ATM\",\"Big Street ATM\",\"Big Street ATM\",\"Big Street ATM\",\"Big Street ATM\",\"Big Street ATM\",\"Big Street ATM\",\"Big Street ATM\",\"Big Street ATM\",\"Big Street ATM\",\"Big Street ATM\",\"Big Street ATM\",\"Big Street ATM\",\"Big Street ATM\",\"Big Street ATM\",\"Big Street ATM\",\"Big Street ATM\",\"Big Street ATM\",\"Big Street ATM\",\"Big Street ATM\",\"Big Street ATM\",\"Big Street ATM\",\"Big Street ATM\",\"Big Street ATM\",\"Big Street ATM\",\"Big Street ATM\",\"Big Street ATM\",\"Big Street ATM\",\"Big Street ATM\",\"Big Street ATM\",\"Big Street ATM\",\"Big Street ATM\",\"Big Street ATM\",\"Big Street ATM\",\"Big Street ATM\",\"Big Street ATM\",\"Big Street ATM\",\"Big Street ATM\",\"Big Street ATM\",\"Big Street ATM\",\"Big Street ATM\",\"Big Street ATM\",\"Big Street ATM\",\"Big Street ATM\",\"Big Street ATM\",\"Big Street ATM\",\"Big Street ATM\",\"Big Street ATM\",\"Big Street ATM\",\"Big Street ATM\",\"Big Street ATM\",\"Big Street ATM\",\"Big Street ATM\",\"Big Street ATM\",\"Big Street ATM\",\"Big Street ATM\",\"Big Street ATM\",\"Big Street ATM\",\"Big Street ATM\",\"Big Street ATM\",\"Big Street ATM\",\"Big Street ATM\",\"Big Street ATM\",\"Big Street ATM\",\"Big Street ATM\",\"Big Street ATM\",\"Big Street ATM\",\"Big Street ATM\",\"Big Street ATM\",\"Big Street ATM\",\"Big Street ATM\",\"Big Street ATM\",\"Big Street ATM\",\"Big Street ATM\",\"Big Street ATM\",\"Big Street ATM\",\"Big Street ATM\",\"Big Street ATM\",\"Big Street ATM\",\"Big Street ATM\",\"Big Street ATM\",\"Big Street ATM\",\"Big Street ATM\",\"Big Street ATM\",\"Big Street ATM\",\"Big Street ATM\",\"Big Street ATM\",\"Big Street ATM\",\"Big Street ATM\",\"Big Street ATM\",\"Big Street ATM\",\"Big Street ATM\",\"Big Street ATM\",\"Big Street ATM\",\"Big Street ATM\",\"Big Street ATM\",\"Big Street ATM\",\"Big Street ATM\",\"Big Street ATM\",\"Big Street ATM\",\"Big Street ATM\",\"Big Street ATM\",\"Big Street ATM\",\"Big Street ATM\",\"Big Street ATM\",\"Big Street ATM\",\"Big Street ATM\",\"Big Street ATM\",\"Big Street ATM\",\"Big Street ATM\",\"Big Street ATM\",\"Big Street ATM\",\"Big Street ATM\",\"Big Street ATM\",\"Big Street ATM\",\"Big Street ATM\",\"Big Street ATM\",\"Big Street ATM\",\"Big Street ATM\",\"Big Street ATM\",\"Big Street ATM\",\"Big Street ATM\",\"Big Street ATM\",\"Big Street ATM\",\"Big Street ATM\",\"Big Street ATM\",\"Big Street ATM\",\"Big Street ATM\",\"Big Street ATM\",\"Big Street ATM\",\"Big Street ATM\",\"Big Street ATM\",\"Big Street ATM\",\"Big Street ATM\",\"Big Street ATM\",\"Big Street ATM\",\"Big Street ATM\",\"Big Street ATM\",\"Big Street ATM\",\"Big Street ATM\",\"Big Street ATM\",\"Big Street ATM\",\"Big Street ATM\",\"Big Street ATM\",\"Big Street ATM\",\"Big Street ATM\",\"Big Street ATM\",\"Big Street ATM\",\"Big Street ATM\",\"Big Street ATM\",\"Big Street ATM\",\"Big Street ATM\",\"Big Street ATM\",\"Big Street ATM\",\"Big Street ATM\",\"Big Street ATM\",\"Big Street ATM\",\"Big Street ATM\",\"Big Street ATM\",\"Big Street ATM\",\"Big Street ATM\",\"Big Street ATM\",\"Big Street ATM\",\"Big Street ATM\",\"Big Street ATM\",\"Big Street ATM\",\"Big Street ATM\",\"Big Street ATM\",\"Big Street ATM\",\"Big Street ATM\",\"Big Street ATM\",\"Big Street ATM\",\"Big Street ATM\",\"Big Street ATM\",\"Big Street ATM\",\"Big Street ATM\",\"Big Street ATM\",\"Big Street ATM\",\"Big Street ATM\",\"Big Street ATM\",\"Big Street ATM\",\"Big Street ATM\",\"Big Street ATM\",\"Big Street ATM\",\"Big Street ATM\",\"Big Street ATM\",\"Big Street ATM\",\"Big Street ATM\",\"Big Street ATM\",\"Big Street ATM\",\"Big Street ATM\",\"Big Street ATM\",\"Big Street ATM\",\"Big Street ATM\",\"Big Street ATM\",\"Big Street ATM\",\"Big Street ATM\",\"Big Street ATM\",\"Big Street ATM\",\"Big Street ATM\",\"Big Street ATM\",\"Big Street ATM\",\"Big Street ATM\",\"Big Street ATM\",\"Big Street ATM\",\"Big Street ATM\",\"Big Street ATM\",\"Big Street ATM\",\"Big Street ATM\",\"Big Street ATM\",\"Big Street ATM\",\"Big Street ATM\",\"Big Street ATM\",\"Big Street ATM\",\"Big Street ATM\",\"Big Street ATM\",\"Big Street ATM\",\"Big Street ATM\",\"Big Street ATM\",\"Big Street ATM\",\"Big Street ATM\",\"Big Street ATM\",\"Big Street ATM\",\"Big Street ATM\",\"Big Street ATM\",\"Big Street ATM\",\"Big Street ATM\",\"Big Street ATM\",\"Big Street ATM\",\"Big Street ATM\",\"Big Street ATM\",\"Big Street ATM\",\"Big Street ATM\",\"Big Street ATM\",\"Big Street ATM\",\"Big Street ATM\",\"Big Street ATM\",\"Big Street ATM\",\"Big Street ATM\",\"Big Street ATM\",\"Big Street ATM\",\"Big Street ATM\",\"Big Street ATM\",\"Big Street ATM\",\"Big Street ATM\",\"Big Street ATM\",\"Big Street ATM\",\"Big Street ATM\",\"Big Street ATM\",\"Big Street ATM\",\"Big Street ATM\",\"Big Street ATM\",\"Big Street ATM\",\"Big Street ATM\",\"Big Street ATM\",\"Big Street ATM\",\"Big Street ATM\",\"Big Street ATM\",\"Big Street ATM\",\"Big Street ATM\",\"Big Street ATM\",\"Big Street ATM\",\"Big Street ATM\",\"Big Street ATM\",\"Big Street ATM\",\"Big Street ATM\",\"Big Street ATM\",\"Big Street ATM\",\"Big Street ATM\",\"Big Street ATM\",\"Big Street ATM\",\"Big Street ATM\",\"Big Street ATM\",\"Big Street ATM\",\"Big Street ATM\",\"Big Street ATM\",\"Big Street ATM\",\"Big Street ATM\",\"Big Street ATM\",\"Big Street ATM\",\"Big Street ATM\",\"Big Street ATM\",\"Big Street ATM\",\"Big Street ATM\",\"Big Street ATM\",\"Big Street ATM\",\"Big Street ATM\",\"Big Street ATM\",\"Big Street ATM\",\"Big Street ATM\",\"Big Street ATM\",\"Big Street ATM\",\"Big Street ATM\",\"Big Street ATM\",\"Big Street ATM\",\"Big Street ATM\",\"Big Street ATM\",\"Big Street ATM\",\"Big Street ATM\",\"Big Street ATM\",\"Big Street ATM\",\"Big Street ATM\",\"Big Street ATM\",\"Big Street ATM\",\"Big Street ATM\",\"Big Street ATM\",\"Big Street ATM\",\"Big Street ATM\",\"Big Street ATM\",\"Big Street ATM\",\"Big Street ATM\",\"Big Street ATM\",\"Big Street ATM\",\"Big Street ATM\",\"Big Street ATM\",\"Big Street ATM\",\"Big Street ATM\",\"Big Street ATM\",\"Big Street ATM\",\"Big Street ATM\",\"Big Street ATM\",\"Big Street ATM\",\"Big Street ATM\",\"Big Street ATM\",\"Big Street ATM\",\"Big Street ATM\",\"Big Street ATM\",\"Big Street ATM\",\"Big Street ATM\",\"Big Street ATM\",\"Big Street ATM\",\"Big Street ATM\",\"Big Street ATM\",\"Big Street ATM\",\"Big Street ATM\",\"Big Street ATM\",\"Big Street ATM\",\"Big Street ATM\",\"Big Street ATM\",\"Big Street ATM\",\"Big Street ATM\",\"Big Street ATM\",\"Big Street ATM\",\"Big Street ATM\",\"Big Street ATM\",\"Big Street ATM\",\"Big Street ATM\",\"Big Street ATM\",\"Big Street ATM\",\"Big Street ATM\",\"Big Street ATM\",\"Big Street ATM\",\"Big Street ATM\",\"Big Street ATM\",\"Big Street ATM\",\"Big Street ATM\",\"Big Street ATM\",\"Big Street ATM\",\"Big Street ATM\",\"Big Street ATM\",\"Big Street ATM\",\"Big Street ATM\",\"Big Street ATM\",\"Big Street ATM\",\"Big Street ATM\",\"Big Street ATM\",\"Big Street ATM\",\"Big Street ATM\",\"Big Street ATM\",\"Big Street ATM\",\"Big Street ATM\",\"Big Street ATM\",\"Big Street ATM\",\"Big Street ATM\",\"Big Street ATM\",\"Big Street ATM\",\"Big Street ATM\",\"Big Street ATM\",\"Big Street ATM\",\"Big Street ATM\",\"Big Street ATM\",\"Big Street ATM\",\"Big Street ATM\",\"Big Street ATM\",\"Big Street ATM\",\"Big Street ATM\",\"Big Street ATM\",\"Big Street ATM\",\"Big Street ATM\",\"Big Street ATM\",\"Big Street ATM\",\"Big Street ATM\",\"Big Street ATM\",\"Big Street ATM\",\"Big Street ATM\",\"Big Street ATM\",\"Big Street ATM\",\"Big Street ATM\",\"Big Street ATM\",\"Big Street ATM\",\"Big Street ATM\",\"Big Street ATM\",\"Big Street ATM\",\"Big Street ATM\",\"Big Street ATM\",\"Big Street ATM\",\"Big Street ATM\",\"Big Street ATM\",\"Big Street ATM\",\"Big Street ATM\",\"Big Street ATM\",\"Big Street ATM\",\"Big Street ATM\",\"Big Street ATM\",\"Big Street ATM\",\"Big Street ATM\",\"Big Street ATM\",\"Big Street ATM\",\"Big Street ATM\",\"Big Street ATM\",\"Big Street ATM\",\"Big Street ATM\",\"Big Street ATM\",\"Big Street ATM\",\"Big Street ATM\",\"Big Street ATM\",\"Big Street ATM\",\"Big Street ATM\",\"Big Street ATM\",\"Big Street ATM\",\"Big Street ATM\",\"Big Street ATM\",\"Big Street ATM\",\"Big Street ATM\",\"Big Street ATM\",\"Big Street ATM\",\"Big Street ATM\",\"Big Street ATM\",\"Big Street ATM\",\"Big Street ATM\",\"Big Street ATM\",\"Big Street ATM\",\"Big Street ATM\",\"Big Street ATM\",\"Big Street ATM\",\"Big Street ATM\",\"Big Street ATM\",\"Big Street ATM\",\"Big Street ATM\",\"Big Street ATM\",\"Big Street ATM\",\"Big Street ATM\",\"Big Street ATM\",\"Big Street ATM\",\"Big Street ATM\",\"Big Street ATM\",\"Big Street ATM\",\"Big Street ATM\",\"Big Street ATM\",\"Big Street ATM\",\"Big Street ATM\",\"Big Street ATM\",\"Big Street ATM\",\"Big Street ATM\",\"Big Street ATM\",\"Big Street ATM\",\"Big Street ATM\",\"Big Street ATM\",\"Big Street ATM\",\"Big Street ATM\",\"Big Street ATM\",\"Big Street ATM\",\"Big Street ATM\",\"Big Street ATM\",\"Big Street ATM\",\"Big Street ATM\",\"Big Street ATM\",\"Big Street ATM\",\"Big Street ATM\",\"Big Street ATM\",\"Big Street ATM\",\"Big Street ATM\",\"Big Street ATM\",\"Big Street ATM\",\"Big Street ATM\",\"Big Street ATM\",\"Big Street ATM\",\"Big Street ATM\",\"Big Street ATM\",\"Big Street ATM\",\"Big Street ATM\",\"Big Street ATM\",\"Big Street ATM\",\"Big Street ATM\",\"Big Street ATM\",\"Big Street ATM\",\"Big Street ATM\",\"Big Street ATM\",\"Big Street ATM\",\"Big Street ATM\",\"Big Street ATM\",\"Big Street ATM\",\"Big Street ATM\",\"Big Street ATM\",\"Big Street ATM\",\"Big Street ATM\",\"Big Street ATM\",\"Big Street ATM\",\"Big Street ATM\",\"Big Street ATM\",\"Big Street ATM\",\"Big Street ATM\",\"Big Street ATM\",\"Big Street ATM\",\"Big Street ATM\",\"Big Street ATM\",\"Big Street ATM\",\"Big Street ATM\",\"Big Street ATM\",\"Big Street ATM\",\"Big Street ATM\",\"Big Street ATM\",\"Big Street ATM\",\"Big Street ATM\",\"Big Street ATM\",\"Big Street ATM\",\"Big Street ATM\",\"Big Street ATM\",\"Big Street ATM\",\"Big Street ATM\",\"Big Street ATM\",\"Big Street ATM\",\"Big Street ATM\",\"Big Street ATM\",\"Big Street ATM\",\"Big Street ATM\",\"Big Street ATM\",\"Big Street ATM\",\"Big Street ATM\",\"Big Street ATM\",\"Big Street ATM\",\"Big Street ATM\",\"Big Street ATM\",\"Big Street ATM\",\"Big Street ATM\",\"Big Street ATM\",\"Big Street ATM\",\"Big Street ATM\",\"Big Street ATM\",\"Big Street ATM\",\"Big Street ATM\",\"Big Street ATM\",\"Big Street ATM\",\"Big Street ATM\",\"Big Street ATM\",\"Big Street ATM\",\"Big Street ATM\",\"Big Street ATM\",\"Big Street ATM\",\"Big Street ATM\",\"Big Street ATM\",\"Big Street ATM\",\"Big Street ATM\",\"Big Street ATM\",\"Big Street ATM\",\"Big Street ATM\",\"Big Street ATM\",\"Big Street ATM\",\"Big Street ATM\",\"Big Street ATM\",\"Big Street ATM\",\"Big Street ATM\",\"Big Street ATM\",\"Big Street ATM\",\"Big Street ATM\",\"Big Street ATM\",\"Big Street ATM\",\"Big Street ATM\",\"Big Street ATM\",\"Big Street ATM\",\"Big Street ATM\",\"Big Street ATM\",\"Big Street ATM\",\"Big Street ATM\",\"Big Street ATM\",\"Big Street ATM\",\"Big Street ATM\",\"Big Street ATM\",\"Big Street ATM\",\"Big Street ATM\",\"Big Street ATM\",\"Big Street ATM\",\"Big Street ATM\",\"Big Street ATM\",\"Big Street ATM\",\"Big Street ATM\",\"Big Street ATM\",\"Big Street ATM\",\"Big Street ATM\",\"Big Street ATM\",\"Big Street ATM\",\"Big Street ATM\",\"Big Street ATM\",\"Big Street ATM\",\"Big Street ATM\",\"Big Street ATM\",\"Big Street ATM\",\"Big Street ATM\",\"Big Street ATM\",\"Big Street ATM\",\"Big Street ATM\",\"Big Street ATM\",\"Big Street ATM\",\"Big Street ATM\",\"Big Street ATM\",\"Big Street ATM\",\"Big Street ATM\",\"Big Street ATM\",\"Big Street ATM\",\"Big Street ATM\",\"Big Street ATM\",\"Big Street ATM\",\"Big Street ATM\",\"Big Street ATM\",\"Big Street ATM\",\"Big Street ATM\",\"Big Street ATM\",\"Big Street ATM\",\"Big Street ATM\",\"Big Street ATM\",\"Big Street ATM\",\"Big Street ATM\",\"Big Street ATM\",\"Big Street ATM\",\"Big Street ATM\",\"Big Street ATM\",\"Big Street ATM\",\"Big Street ATM\",\"Big Street ATM\",\"Big Street ATM\",\"Big Street ATM\",\"Big Street ATM\",\"Big Street ATM\",\"Big Street ATM\",\"Big Street ATM\",\"Big Street ATM\",\"Big Street ATM\",\"Big Street ATM\",\"Big Street ATM\",\"Big Street ATM\",\"Big Street ATM\",\"Big Street ATM\",\"Big Street ATM\",\"Big Street ATM\",\"Big Street ATM\",\"Big Street ATM\",\"Big Street ATM\",\"Big Street ATM\",\"Big Street ATM\",\"Big Street ATM\",\"Big Street ATM\",\"Big Street ATM\",\"Big Street ATM\",\"Big Street ATM\",\"Big Street ATM\",\"Big Street ATM\",\"Big Street ATM\",\"Big Street ATM\",\"Big Street ATM\",\"Big Street ATM\",\"Big Street ATM\",\"Big Street ATM\",\"Big Street ATM\",\"Big Street ATM\",\"Big Street ATM\",\"Big Street ATM\",\"Big Street ATM\",\"Big Street ATM\",\"Big Street ATM\",\"Big Street ATM\",\"Big Street ATM\",\"Big Street ATM\",\"Big Street ATM\",\"Big Street ATM\",\"Big Street ATM\",\"Big Street ATM\",\"Big Street ATM\",\"Big Street ATM\",\"Big Street ATM\",\"Big Street ATM\",\"Big Street ATM\",\"Big Street ATM\",\"Big Street ATM\",\"Big Street ATM\",\"Big Street ATM\",\"Big Street ATM\",\"Big Street ATM\",\"Big Street ATM\",\"Big Street ATM\",\"Big Street ATM\",\"Big Street ATM\",\"Big Street ATM\",\"Big Street ATM\",\"Big Street ATM\",\"Big Street ATM\",\"Big Street ATM\",\"Big Street ATM\",\"Big Street ATM\",\"Big Street ATM\",\"Big Street ATM\",\"Big Street ATM\",\"Big Street ATM\",\"Big Street ATM\",\"Big Street ATM\",\"Big Street ATM\",\"Big Street ATM\",\"Big Street ATM\",\"Big Street ATM\",\"Big Street ATM\",\"Big Street ATM\",\"Big Street ATM\",\"Big Street ATM\",\"Big Street ATM\",\"Big Street ATM\",\"Big Street ATM\",\"Big Street ATM\",\"Big Street ATM\",\"Big Street ATM\",\"Big Street ATM\",\"Big Street ATM\",\"Big Street ATM\",\"Big Street ATM\",\"Big Street ATM\",\"Big Street ATM\",\"Big Street ATM\",\"Big Street ATM\",\"Big Street ATM\",\"Big Street ATM\",\"Big Street ATM\",\"Big Street ATM\",\"Big Street ATM\",\"Big Street ATM\",\"Big Street ATM\",\"Big Street ATM\",\"Big Street ATM\",\"Big Street ATM\",\"Big Street ATM\",\"Big Street ATM\",\"Big Street ATM\",\"Big Street ATM\",\"Big Street ATM\",\"Big Street ATM\",\"Big Street ATM\",\"Big Street ATM\",\"Big Street ATM\",\"Big Street ATM\",\"Big Street ATM\",\"Big Street ATM\",\"Big Street ATM\",\"Big Street ATM\",\"Big Street ATM\",\"Big Street ATM\",\"Big Street ATM\",\"Big Street ATM\",\"Big Street ATM\",\"Big Street ATM\",\"Big Street ATM\",\"Big Street ATM\",\"Big Street ATM\",\"Big Street ATM\",\"Big Street ATM\",\"Big Street ATM\",\"Big Street ATM\",\"Big Street ATM\",\"Big Street ATM\",\"Big Street ATM\",\"Big Street ATM\",\"Big Street ATM\",\"Big Street ATM\",\"Big Street ATM\",\"Big Street ATM\",\"Big Street ATM\",\"Big Street ATM\",\"Big Street ATM\",\"Big Street ATM\",\"Big Street ATM\",\"Big Street ATM\",\"Big Street ATM\",\"Big Street ATM\",\"Big Street ATM\",\"Big Street ATM\",\"Big Street ATM\",\"Big Street ATM\",\"Big Street ATM\",\"Big Street ATM\",\"Big Street ATM\",\"Big Street ATM\",\"Big Street ATM\",\"Big Street ATM\",\"Big Street ATM\",\"Big Street ATM\",\"Big Street ATM\",\"Big Street ATM\",\"Big Street ATM\",\"Big Street ATM\",\"Big Street ATM\",\"Big Street ATM\",\"Big Street ATM\",\"Big Street ATM\",\"Big Street ATM\",\"Big Street ATM\",\"Big Street ATM\",\"Big Street ATM\",\"Big Street ATM\",\"Big Street ATM\",\"Big Street ATM\",\"Big Street ATM\",\"Big Street ATM\",\"Big Street ATM\",\"Big Street ATM\",\"Big Street ATM\",\"Big Street ATM\",\"Big Street ATM\",\"Big Street ATM\",\"Big Street ATM\",\"Big Street ATM\",\"Big Street ATM\",\"Big Street ATM\",\"Big Street ATM\",\"Big Street ATM\",\"Big Street ATM\",\"Big Street ATM\",\"Big Street ATM\",\"Big Street ATM\",\"Big Street ATM\",\"Big Street ATM\",\"Big Street ATM\",\"Big Street ATM\",\"Big Street ATM\",\"Big Street ATM\",\"Big Street ATM\",\"Big Street ATM\",\"Big Street ATM\",\"Big Street ATM\",\"Big Street ATM\",\"Big Street ATM\",\"Big Street ATM\",\"Big Street ATM\",\"Big Street ATM\",\"Big Street ATM\",\"Big Street ATM\",\"Big Street ATM\",\"Big Street ATM\",\"Big Street ATM\",\"Big Street ATM\",\"Big Street ATM\",\"Big Street ATM\",\"Big Street ATM\",\"Big Street ATM\",\"Big Street ATM\",\"Big Street ATM\",\"Big Street ATM\",\"Big Street ATM\",\"Big Street ATM\",\"Big Street ATM\",\"Big Street ATM\",\"Big Street ATM\",\"Big Street ATM\",\"Big Street ATM\",\"Big Street ATM\",\"Big Street ATM\",\"Big Street ATM\",\"Big Street ATM\",\"Big Street ATM\",\"Big Street ATM\",\"Big Street ATM\",\"Big Street ATM\",\"Big Street ATM\",\"Big Street ATM\",\"Big Street ATM\",\"Big Street ATM\",\"Big Street ATM\",\"Big Street ATM\",\"Big Street ATM\",\"Big Street ATM\",\"Big Street ATM\",\"Big Street ATM\",\"Big Street ATM\",\"Big Street ATM\",\"Big Street ATM\",\"Big Street ATM\",\"Big Street ATM\",\"Big Street ATM\",\"Big Street ATM\",\"Big Street ATM\",\"Big Street ATM\",\"Big Street ATM\",\"Big Street ATM\",\"Big Street ATM\",\"Big Street ATM\",\"Big Street ATM\",\"Big Street ATM\",\"Big Street ATM\",\"Big Street ATM\",\"Big Street ATM\",\"Big Street ATM\",\"Big Street ATM\",\"Big Street ATM\",\"Big Street ATM\",\"Big Street ATM\",\"Big Street ATM\",\"Big Street ATM\",\"Big Street ATM\",\"Big Street ATM\",\"Big Street ATM\",\"Big Street ATM\",\"Big Street ATM\",\"Big Street ATM\",\"Big Street ATM\",\"Big Street ATM\",\"Big Street ATM\",\"Big Street ATM\",\"Big Street ATM\",\"Big Street ATM\",\"Big Street ATM\",\"Big Street ATM\",\"Big Street ATM\",\"Big Street ATM\",\"Big Street ATM\",\"Big Street ATM\",\"Big Street ATM\",\"Big Street ATM\",\"Big Street ATM\",\"Big Street ATM\",\"Big Street ATM\",\"Big Street ATM\",\"Big Street ATM\",\"Big Street ATM\",\"Big Street ATM\",\"Big Street ATM\",\"Big Street ATM\",\"Big Street ATM\",\"Big Street ATM\",\"Big Street ATM\",\"Big Street ATM\",\"Big Street ATM\",\"Big Street ATM\",\"Big Street ATM\",\"Big Street ATM\",\"Big Street ATM\",\"Big Street ATM\",\"Big Street ATM\",\"Big Street ATM\",\"Big Street ATM\",\"Big Street ATM\",\"Big Street ATM\",\"Big Street ATM\",\"Big Street ATM\",\"Big Street ATM\",\"Big Street ATM\",\"Big Street ATM\",\"Big Street ATM\",\"Big Street ATM\",\"Big Street ATM\",\"Big Street ATM\",\"Big Street ATM\",\"Big Street ATM\",\"Big Street ATM\",\"Big Street ATM\",\"Big Street ATM\",\"Big Street ATM\",\"Big Street ATM\",\"Big Street ATM\",\"Big Street ATM\",\"Big Street ATM\",\"Big Street ATM\",\"Big Street ATM\",\"Big Street ATM\",\"Big Street ATM\",\"Big Street ATM\",\"Big Street ATM\",\"Big Street ATM\",\"Big Street ATM\",\"Big Street ATM\",\"Big Street ATM\",\"Big Street ATM\",\"Big Street ATM\",\"Big Street ATM\",\"Big Street ATM\",\"Big Street ATM\",\"Big Street ATM\",\"Big Street ATM\",\"Big Street ATM\",\"Big Street ATM\",\"Big Street ATM\",\"Big Street ATM\",\"Big Street ATM\",\"Big Street ATM\",\"Big Street ATM\",\"Big Street ATM\",\"Big Street ATM\",\"Big Street ATM\",\"Big Street ATM\",\"Big Street ATM\",\"Big Street ATM\",\"Big Street ATM\",\"Big Street ATM\",\"Big Street ATM\",\"Big Street ATM\",\"Big Street ATM\",\"Big Street ATM\",\"Big Street ATM\",\"Big Street ATM\",\"Big Street ATM\",\"Big Street ATM\",\"Big Street ATM\",\"Big Street ATM\",\"Big Street ATM\",\"Big Street ATM\",\"Big Street ATM\",\"Big Street ATM\",\"Big Street ATM\",\"Big Street ATM\",\"Big Street ATM\",\"Big Street ATM\",\"Big Street ATM\",\"Big Street ATM\",\"Big Street ATM\",\"Big Street ATM\",\"Big Street ATM\",\"Big Street ATM\",\"Big Street ATM\",\"Big Street ATM\",\"Big Street ATM\",\"Big Street ATM\",\"Big Street ATM\",\"Big Street ATM\",\"Big Street ATM\",\"Big Street ATM\",\"Big Street ATM\",\"Big Street ATM\",\"Big Street ATM\",\"Big Street ATM\",\"Big Street ATM\",\"Big Street ATM\",\"Big Street ATM\",\"Big Street ATM\",\"Big Street ATM\",\"Big Street ATM\",\"Big Street ATM\",\"Big Street ATM\",\"Big Street ATM\",\"Big Street ATM\",\"Big Street ATM\",\"Big Street ATM\",\"Big Street ATM\",\"Big Street ATM\",\"Big Street ATM\",\"Big Street ATM\",\"Big Street ATM\",\"Big Street ATM\",\"Big Street ATM\",\"Big Street ATM\",\"Big Street ATM\",\"Big Street ATM\",\"Big Street ATM\",\"Big Street ATM\"],\"Amount withdrawn Other Card\":[82100,31900,11000,50400,45300,31500,25900,74400,51400,29300,37500,29100,27600,23300,17200,25600,16200,90200,39300,43000,3900,34900,29700,14600,78300,17800,13100,22300,116500,15300,45700,40400,8700,45900,30000,52300,51400,41700,85500,51700,38300,26400,76400,20600,33000,46400,18100,33200,15100,10900,42900,16000,48700,34800,41100,7800,67500,6700,79200,40400,76600,67700,70200,25900,52600,37400,52800,30500,26600,60100,23300,58600,25900,68900,63400,13000,30600,51300,5900,33000,35000,7300,16000,9300,22000,24600,12900,66000,46300,61800,58800,39300,141700,46700,45000,48800,75900,42600,30300,39100,40800,46700,90800,46100,25300,66500,19000,30200,30900,56300,47000,24000,25000,34000,36200,22500,5300,17500,20600,4500,41200,35600,14000,19000,54400,44400,32500,26300,22500,111200,46100,29000,28300,39700,28200,36500,28100,53900,98900,47300,41600,37300,61500,32000,159200,156300,61000,24800,33000,48900,57700,54700,53300,58900,98600,32300,64300,62200,72700,105900,33500,23200,63200,71200,44000,40600,37500,40700,67100,79900,31900,93400,27700,47700,62500,52500,23400,25200,140500,109900,21600,73300,26500,39400,47600,60300,33600,36100,67100,22500,49900,35700,2600,56500,48600,81500,52400,12000,0,2500,64000,50500,76500,49300,104400,41500,52300,25400,27600,79700,74100,102700,166900,176200,208100,198800,121400,243600,151600,236700,132800,43900,13100,40300,28300,43900,0,11500,9400,42300,22100,24700,95400,32000,68200,37400,27300,24000,45200,9000,44300,36800,48200,43100,46000,61800,113900,74800,31400,52700,62200,23200,38600,87500,15900,39800,34900,45000,94700,63800,42500,51600,34200,11800,16000,19100,34200,43400,12500,75200,110900,27400,33100,46900,85500,17100,22200,37300,8500,72000,37100,52800,41700,109700,36100,82000,80800,75900,29200,20900,114400,29300,46800,46700,70700,32000,116800,21400,30000,70200,38800,28300,46800,61400,55500,37400,50600,78400,66400,10800,17600,46000,34300,68600,9200,30000,64000,17100,48800,40800,18900,49200,50300,30000,67200,31400,71000,78600,17500,65700,50700,24900,45300,70800,102100,157700,127500,130200,63700,82400,86800,31100,57200,48800,36300,42000,104000,58100,55200,44600,63200,21500,62300,59600,98100,57600,57200,89400,63400,45300,29200,26700,35200,100500,31300,51300,31000,36100,25000,14000,33600,42800,118600,64100,45000,20800,74600,54200,26000,26400,25900,38300,32500,32300,25500,125100,56800,40800,50400,35000,69400,91900,62300,99900,84000,94100,30700,80600,37100,35200,74400,86800,59400,69900,104600,66200,91700,23400,129700,45200,75900,39500,21900,11600,93500,62900,39400,33400,53900,58000,34800,43700,26100,17100,0,72400,41400,73200,121500,55200,63100,132900,94200,33100,34000,76500,84700,61100,27600,67100,33700,19400,87400,56500,64700,55400,54000,85900,42900,26900,41500,42100,84600,130100,37900,27200,106300,105600,24800,79200,47400,41700,66900,35900,107900,18800,72000,92800,74900,53600,500,15400,41100,54400,99900,53700,20500,13100,41100,84000,52700,85900,12500,2500,124300,500,18300,43100,13000,5000,11000,16600,101600,127600,63700,49000,119100,99800,64700,68600,56800,95900,46500,13000,12000,88100,138900,64200,112800,111800,61700,66700,159400,75600,128000,63900,16500,0,0,10100,99100,189200,229100,157800,215400,141800,389100,190500,147100,265700,180800,29600,75200,122400,27600,125000,88400,50900,28400,177000,135800,26000,68600,61200,30000,252600,146700,190500,84800,83500,102500,105100,109000,151600,173200,118500,88900,137400,41500,94100,97700,63000,60700,39400,36200,53100,61200,35100,55500,179000,52400,25100,70500,63200,57300,46200,89100,90500,141000,178300,66700,112400,87500,43400,51100,27700,19400,64400,43800,91900,115600,86800,27000,69700,72400,3400,42400,60800,18000,67200,37800,96500,53200,48300,57400,78200,165300,255800,143100,135500,129200,120100,198900,189100,156400,79200,134600,264400,145000,124300,162700,216800,234600,161600,124200,91100,99400,96900,98700,87100,159800,129700,147900,120400,55600,161000,231800,277000,225000,191300,150700,191600,146600,125900,166200,224700,178300,119800,118000,122100,75900,126200,118700,131200,101800,136000,160500,97300,109500,93300,140300,133700,72800,88400,71800,41700,166100,178900,160600,168300,162600,250200,133800,177500,151800,195700,247300,251400,291700,269500,136600,129700,126400,73400,137400,153900,135600,136900,158200,187100,157400,108000,136800,99200,189700,256000,311400,254200,265700,318900,225900,186100,241500,151900,202300,176900,186100,279700,135000,159100,299800,246100,200000,164900,152300,178100,113200,295100,110100,212100,103800,114800,102800,119200,160100,216000,224600,353700,276900,222400,212000,90600,209000,186500,150300,132600,135100,185200,176200,222200,171800,162600,277700,128500,158400,121200,114700,195000,101700,122600,138000,94200,55800,130100,291200,290100,126400,189900,270200,247300,255000,112200,211300,131700,256300,94800,91200,273500,156800,221400,157200,146100,163600,138700,222500,213000,126000,175900,82700,164600,115800,151300,116600,86700,155200,318900,144800,87900,158800,120500,127700,149800,152400,87100,151500,202400,135500,132300,79500,180500,212800,190200,191500,104300,137200,250600,147600,115200,119600,100700,143300,153500,61200,166200,207200,237400,289400,265900,203400,166800,194300,233000,128800,205000,192100,207300,231100,300600,233200,147200,157800,166900,230900,144600,68100,149900,199200,96900,151900,125700,244800,118200,160500,245200,164800,173100,240300,260400,103400,371600,168100,450600,147000,138200,164100,188200,141900,133200,167100,266000,181100,145200,162800,88200,247900,147000,137100,243700,242700,148200,179400,25800,70300,91100,101800,156100,269300,278900,370700,178300,224300,168900,252100,121200,320900,274500,199300,297700,232300,225900,170600,242200,238700,219900,254900,151900,326700,183400,238400,130200,126400,89200,86200,235400,196400,242500,264900,132200,238300,318900,389100,262900,219900,412300,243600,374900,321600,206300,109900,135600,53000,123800,217900,326700,274400,298200,110400,191200,159500,127100,189800,151000,137700,127000,161900,165000,130700,97700,267800,341000,190400,309600,176500,207900,196700,207700,272300,201200,168100,200700,239500,264700,142600,133900,241700,275900,210500,184200,120600,131000,159700,119500,156000,158800,159700,152100,202400,225600,274700,247800,232900,208500,202200,259300,333900,317700,265400,297900,240100,219400,216500,153400,296700,136100,138300,129100,192300,91300,113400,135300,152300,130900,128800,180800,181200,188500,322300,238800,240500,312200,308800,221300,269200,337300,210400,281200,193200,178500,130300,311200,288000,343500,235700,104700,140800,265600,173600,295500,152600,124800,163700,187500,221300,241200,163000,177300,199300,225800,265800,309800,329800,274700,171500,129800,214700,297000,182600,140000,259200,160800,271200,202900,244500,198000,235200,217800,113300,127500,219800,188800,179500,172400,94600,181300,156800,122600,223900,255600,177100,226300,232700,237000,274900,229300,291800,234900,191600,167400,156900,180300,199300,22900,48900,199700,192000,59700,220700,162300,140100,282800,187400,159900,192400,193300,316900,273300,356400,290900,282300,256000,306200,237400,161700,161600,264000,222000,166200,260100,250700,124000,137400,119600,97700,140900,152200,233400,155000,146400,85400,97100,191100,120500,255000,198000,429300,197000,128400,229700,160900,75400,176500,196500,302100,298700,301600,287300,271900,77700,148500,220100,213400,234200,164600,143000,202000,148900,124500,85800,191700,301000,324800,222300,231500,266800,152500,249200,335800,239900,150700,207200,225900,221900,150100,129100,248900,74300,147100,146300,283300,178100,118400,179100,130200,171700,316500,288400,193300,211700,243600,458200,148900,166800,211000,204600,202300,245600,266600,259500,331600,281200,196000,123600,126200,146200,218200,232500,231800,126200,110800,166600,201500,154400,0,156000,262500,149600,134200,159200,207700,188000,266100,159000,160100,64300,136500,239900,180500,68200,167000,129400,178400,159100,160900,118400,178700,130900,242000,169100,163300,181300,155200,143700,228600,270400,283500,260200,183900,305900,236400,239800,262800,375500,182600,166600,354800,303500,233600,227700,191400,307500,286200,179800,192600,224900,244400,156900,121900,102900,119400,138900,117100,154900,118100,205700,190500,154400,162800,265400,186400,251400,491100,128600,176300,251100,152200,158600,206200,204000,230000,249200,189500,231000,322000,194400,127800,203800,158400,171500,193300,223700,182400,178900,149600,256100,174700,210500,143100,176300,106900,182300,279200,414500,446200,73500,481100,419900,357000,371200,301100,147900,85200,175400,84100,218300,186500,219300,219200,88400,138400,136800,183700,196400,231100,201400,156000,126600,251400,256300,124500,200100,208200,419300,230900,267300,236000,274900,241200,250600,226900,319700,279500,215000,272300,322500,327600,222300,219800,203700,247700,212000,170300,272000,90200,272300,269000,187200,187400,260200,93800,69700,158000,455600,110200,0,142500,145400,214500,338600,282800,241100,234300,331200,260200,276400,175600,407200,340600,242600,305000,233700,291100,334200,268400,195700,240500,221300,255500,155300,160800,246300,355900,406600,423300,142600,0,111200,166500,246100,278100,326900,224400,220300,132700,184400,173400,230600,256800,183200,198300,162700,209000,186300,144500,166000,199000,174300,122300,186700,377600,100700,257700,185800,333600,288800,104900,171800,248700,182200,247200,216600,222900,278300,326700,195600,181300,189000,151200,101500,176200,230100,237300,235300,116100,133700,189900,194700,136200,155800,198000,172500,296300,361500,335700,295300,242200,176600,154400,192800,194800,263200,230100,209200,275800,289400,207000,148400,89700,131100,182400,244400,16400,121000,69600,151800,88500,148000,162400,156600,178800,189400,186600,216100,312900,215200,300900,230700,224700,317500,163100,201300,272500,190700,251900,201600,231100,185800,254600,175400,210200,192500,70800,203500,122300,190900,133700,122200,134000,162100,188200,204900,295500,351200,268400,397300,270200,234000,213200,262100,37300,2900,214000,206700,214300,228200,254800,265900,155300,177400,221400,267800,207800,226700,214000,181600,184900,146900,0,147500,206800,304900,285800,276700,187000,155600,141800,205700,257000,268400,137800,215700,223900,264200,221400,205600,199300,99200,196600,123900,171000,259000,197300,222800,234000,234800,54800,93800,128000,251500,278700,316400,303100,233800,279800,200200,249200,280600,273300,311400,368900,258300,216300,251700,184700,157300,135000,88800,2600,400,85100,126400,154300,150600,204700,143600,110800,280900,140200,147000,188600,127000,132800,275600,257300,245400,300600,343300,315700,380200,308700,268200,281200,206300,242700,167400,169200,138700,63500,157300,177100,201300,161600,214200,287400,140600,266000,220600,162800,287900,413900,161400,288200,301600,341600,130400,174200,300500,192000,179800,306600,346800,216800,177600,201600,274100,135900,139800,179300,146500,144600,161100,298000,171300,137800,248400,195800,136900,110300,162800,390500,506800,294200,202500,280600,305400,209100,220800,382800,252600,185800,277100,258100,142900,227500,279200,255100,247100,260800,219300,250400,177200,177000,222900,139100,132200,105500,288700,160900,366000,241700,338700,329600,346100,322400,297000,265000,260700,265900,194600,324400,209000,253700,305800,281600,176100,264900,370900,264900,200700,315300,224800,236600,143800,258000,215700,200700,120300,225800,131900,320000,339200,390400,228100,314300,210800,282200,288800,251000,301800,168800,407200,257200,252300,201600,194400,304500,171900,239600,248200,207600,236400,166100,165200,107500,264100,281600,285900,216100,267100,309000,194800,601600,334100,431800,295800,337000,306300,397100,327900,459100,415500,375600,299500,201700,87900,346500,224600,165000,319100,202700,165700,170400,229100,229900,161200,297200,268200,139200,192800,204500,224900,259300,401300,363400,440800,262800,294000,359400,271900,361400,217700,245200,281200,213900,456700,274300,178800,338500,200000,174600,190300,255100,287400,298000,323300,259000,102500,174700,262100,292800,313600,237500,341800,389900,206900,113800,297900,349600,323900,271700,204300,302400,528800,244200,239100,264300,315700,206400,251100,201100,258800,130200,97700,94500,184600,207800,30000,162400,31200,108700,207200,269600,350700,433000,490100,331100,387700,289600,386600,250100,173800,153200,160100,347800,313100,260600,238500,311700,343200,202500,122700,325600,276000,409300,426600,170900,255200,198200,273500,242500,283900,258200,306400,446000,270300,194400,366000,309400,323700,240700,311600,463700,316700,387700,265200,228500,365900,279300,165800,162100,170600,359200,231600,232400,289100,49400,167100,241600,155400,97200,62400,246400,122000,236900,351000,347800,290400,260800,6300,272800,131700,267500,295200,273900,97900,238600,240000,282900,248800,198500,190600,302900,260200,47500,94900,179300,241000,155800,193500,248000,129500,162300,230100,140500,147500,245200,343800,311000,326000,153600,124200,240700,260100,139900,239400,91000,243300,287600,351000,92100,163100,175200,208200,250200,131200,148800,213000,265900,344900,538300,554300,292200,457700,514600,371700,336400,435100,409200,266300,235600,247100,189100,158600,302700,229000,265600,205500,310800,194900,234800,214000,238000,175600,120400,251300,172200,104700,213400,42000,102400,213000,336700,264600,90300,200100,115200,260800,346400,251800,268000,223200,182900,265700,182600,28000,197800,161000,180200,48800,113000,21100,130700,156700,252600,257100,393600,288300,180300,299400,450000,361600,326200,253000,153900,137400,218400,322700,249900,329000,314500,161100,430000,306200,236300,226300,117000,310300,269300,249200,207900,239800,246600,297800,276900,329800,434800,324900,298100,492000,372000,364000,215400,298500,222800,60200,385500,367500,197700,274300,186900,140500,184300,298600,182300,228200,328600,230600,130000,241400,178800,214300,196100,216400,226800,216200,252500,256800,249500,305500,334700,123100,115200,258500,108700,30900,311500,136600,267800,133500,106300,60400,209900,249200,216700,369000,204200,174300,199000,280600,233900,77400,170900,257100,0,200600,390900,218800,342400,381900,242100,208700,0,25000,243100,0,98400,0,4000,2500,10000,6700,0,100,3900,18600,3000,22200,32700,0,800,6500,99600,89000,95900,83200,86700,69800,96700,115700,108700,159200,126500,188500,285400,418800,259500,19500,0,0,400,0,86200,152100,123400,87000,13900,121500,142700,192000,143900,0,64300,289900,135900,176700,221500,153000,92300,63800,165100,127100,149200,55300,161300,115000,49900,2000,3700,115300,96400,10000,121300,180800,58200,137800,83700,133800,319400,185100,294400,292300,43600,273200,722000,248800,370600,90100,315900,268800,201900,322000,384500,273100,269900,294100,183800,203900,301700,189000,227700,159100,182800,156800,192500,386400,275500,301900,333100,342800,504400,101800,258400,322000,250100,218400,276100,307900,159100,263700,185000,344000,385000,117000,236500,222000,205000,302200,229200,246500,157000,247000,206100,145400,223100,168400,157100,236100,280300,413400,384200,260800,324400,397300,240300,296300,235300,160500,264800,415700,229900,337400,101100,223200,155000,232300,238400,273300,272700,202100,230700,175000,75400,160600,240800,338300,296700,298600,475800,138100,191400,167400,89000,223000,340600,170800,228000,248000,205800,73600,168900,172100,188900,141900,257200,65500,147700,235800,205900,120700,87300,113700,215800,121500,137300,159500,154200,181200,251800,277000,195900,174800,86600,323500,214600,226600,173100,202200,364300,316500,262900,167400,204700,179100,258100,263600,122600,181400,301000,145600,269400,54400,242600,243700,174700,202600,293600,372000,522600,331200,375700,254900,306700,242100,232900,227000,376700,343500,183500,240300,226500,177000,224900,326300,178700,136900,178200,41600,208900,298800,241000,230800,274700,296200,246800,322600],\"Amount withdrawn XYZ Card\":[41700,20900,77100,51200,52700,54400,50600,54200,37600,60500,74400,13600,53600,67800,98700,29500,113600,73400,40200,38700,82700,50500,7100,89300,61600,22700,70200,49000,47000,25800,25100,121300,70500,121900,82700,91700,59000,38600,89800,42900,39800,81000,66800,54300,84000,77300,5600,66500,126700,43400,13100,48200,93800,57100,33600,25900,52100,11300,69800,65400,66700,41400,96900,90100,57600,73900,81600,142600,101000,50100,59100,76100,50200,42300,67800,63300,66800,43000,3300,66400,12600,45500,18000,28600,19300,64200,131300,42600,63900,70000,75900,91200,96100,54300,157300,66600,33900,79900,125300,73600,100500,64800,117700,59500,64700,1600,84000,123800,61200,115100,73700,49900,87300,45900,35400,39600,74800,60100,66100,17900,19000,80900,83200,33900,56800,72900,106100,74700,43100,93000,68800,72000,25000,25300,29100,41400,38600,77500,63800,147400,56700,49600,45500,88800,91200,111100,100200,123100,35700,87900,76100,81800,56300,65800,110700,49900,63400,43800,36400,65800,88000,33500,62300,103600,28700,48500,107000,47500,51400,58600,116800,78600,77100,84800,134600,71600,31500,51300,48600,20100,79500,85500,41500,83800,45800,53700,63000,90700,46700,75700,113600,62700,84100,49200,0,16000,69900,41400,100600,50000,94400,43300,45400,56000,41600,53400,82800,62000,81600,50600,89500,60600,125800,67800,102600,77600,69300,99600,75800,100900,136900,162500,196700,89100,45600,54400,29000,19300,76200,61200,26100,76600,33700,55500,66900,60200,98100,84500,18300,57500,58800,108000,83900,80900,155600,85100,118100,128300,77600,58800,71700,82500,29000,39600,77300,162800,84000,70100,100700,57200,71000,81600,83100,73800,35900,86900,35300,102400,19500,85200,38400,42100,144600,192600,63500,96100,46700,114300,28000,138500,144200,152200,64500,122200,119500,101700,92800,67600,72800,115300,64800,30100,62200,44200,79600,134500,92100,45600,25100,38600,47300,59400,41500,121800,167700,94200,128200,39300,54600,28700,94700,95300,87600,33600,35900,6300,36000,60900,76900,94000,44700,67600,85600,60700,20500,44100,38400,97200,28200,30700,64600,94300,77500,110100,29900,96000,84200,60000,63900,23600,81400,123800,48100,95300,46700,72200,84200,37500,157800,54000,49500,125400,40300,127200,136500,32400,71700,130700,57100,43500,86800,14100,31000,93300,62000,90600,175800,245700,71900,114300,85500,123800,89400,136100,106900,41900,61600,60400,133700,104100,178400,103100,117800,160900,81400,110800,57900,150100,87400,88100,68300,65700,179400,57800,89900,123200,177600,45900,111700,75900,110200,110000,116700,164600,156600,103700,83400,159500,147400,107800,86100,68100,37000,4000,113800,44400,82800,68200,100400,76900,75400,176200,120000,30100,12000,112700,99500,50100,151800,104000,54000,66200,69700,73300,129300,119000,156700,163100,98900,78700,61200,74400,138400,62500,189100,69000,102100,58100,111000,54200,43100,76600,125800,106900,143600,126900,123600,158600,158500,63300,99200,86100,130600,259200,149700,126900,153600,192500,233500,28700,37500,60300,85600,57800,100900,82000,76300,107900,45500,88500,150300,42100,60500,28100,30000,169300,106000,130900,42500,83700,135900,150100,81100,82900,129600,67700,76500,55700,114500,106100,150800,84300,78700,111900,72400,68200,106800,76700,58500,70200,50500,98900,46100,83000,57100,71700,91500,71300,44400,160000,71300,95600,62900,53800,40600,79400,67300,14600,3600,61600,87800,145100,154000,151500,244200,183800,69400,38000,10700,84900,79400,66800,36100,147300,94600,158200,111200,99500,53800,188200,54800,122200,66500,132100,208800,64400,79800,63100,154200,109400,141300,185900,62800,87400,49900,78600,32500,65100,140500,198600,98200,28300,24500,23700,32100,133600,179900,51800,79900,90400,46100,30300,89300,120400,119600,91400,10900,3100,61800,58600,85100,92100,53400,67300,85500,4800,122000,76100,183100,143400,114200,37600,52500,105700,80500,68700,51100,109300,44000,109700,145700,73300,169800,126000,146700,103700,68200,155300,199100,198100,54700,156300,108400,159400,95500,146200,116900,33300,80800,60900,96700,166500,107100,65300,111900,58800,199100,70000,114700,38000,117000,133000,83800,95900,115300,136400,183100,142800,152700,85700,217500,184200,133400,113500,72400,128400,180600,76800,169100,128300,86100,163400,75800,97200,85500,108700,65200,174400,169500,150000,79700,143900,166400,214600,151000,122400,244500,215400,159500,104700,48900,116400,220500,159000,195400,123900,150600,97500,103300,65100,55300,182600,135600,53900,98400,84700,121700,178400,132500,127100,157900,82200,127600,210400,125500,123800,139200,86500,203800,149500,106400,103000,91300,77000,73900,109100,191400,140900,110600,151800,131600,96000,240400,349500,104200,160000,139700,75500,124100,92400,144900,58200,98200,87000,92300,82700,200900,156400,153100,67600,97100,98500,100800,195900,96000,126900,108200,198900,208400,206600,212400,134000,73000,67000,203000,88000,85100,107100,199300,41700,83700,119200,155700,104200,341400,139400,47800,134400,135400,237600,125100,136600,133700,95400,158500,80600,115100,204300,110200,29700,59500,91800,275000,217500,182800,138300,100500,34400,42200,199200,125400,137000,156100,187900,227800,101600,128200,293900,206900,157300,240200,140900,113700,209200,70200,193600,125100,141800,99700,168900,152400,100700,30000,193800,153900,151100,90400,111800,201200,130900,103200,167200,94100,165000,103500,67300,227100,102700,86300,116000,75500,170100,212500,83800,80400,183000,190000,143900,60000,234900,64500,164100,149100,230100,142200,137400,220500,95100,133400,203700,108400,122000,50500,72500,286300,160700,173500,205200,161900,157000,223900,212700,128400,81100,195300,174500,125200,181800,182700,178900,103600,111100,32200,100200,117400,133400,132100,152200,96700,150300,183800,119600,41300,88500,152600,104500,110300,186300,109200,99600,212300,179700,94000,167300,142400,192100,231000,85200,225400,49600,92400,106800,75900,110600,124400,164600,160700,141200,104200,107400,179500,112500,114400,118800,84800,135000,150100,150900,170700,149900,122200,217700,257400,191100,156800,186500,116800,188600,136300,91700,95800,121700,157500,72700,162500,132400,129000,142800,228100,245900,102500,63500,186300,84300,247600,155600,63400,238000,259900,137300,111100,344100,163600,46200,198900,184600,133300,107500,100200,134000,171700,214500,186300,145900,134900,39800,145100,170700,143100,64400,135600,136100,92900,118500,277800,161600,128800,182900,39700,196200,210200,208800,127500,51700,177400,146500,146000,69400,110400,125700,137300,188100,195100,102900,165700,274100,213900,132200,150800,124300,91200,145100,126000,136900,156000,228400,141700,268300,213600,140500,200800,278900,221100,129400,137100,191200,197700,71600,135400,109300,162100,175900,109600,176300,76500,95300,341300,155200,229300,262900,120000,112500,49400,143700,161200,129000,178500,186500,102400,113000,72000,284400,108800,293200,233400,176900,200500,201900,47800,190900,178600,236200,96500,230000,274300,97100,226500,175000,113700,132200,211100,247600,204600,221900,293400,244700,129700,210300,151900,232900,153100,69600,98400,130700,148800,213300,133200,150600,188600,325100,173400,97600,144000,159300,199300,147400,236700,172900,226400,164900,129000,103200,125400,91000,197600,216400,176600,144400,138800,186400,182400,100400,166900,244400,106300,182400,124800,251800,148800,177600,210000,264200,288000,146200,110700,157500,206600,316200,225000,100100,139600,199600,183700,62900,257700,113000,104200,181400,229100,181600,149800,250200,151700,167700,99000,122400,97600,180200,261300,272800,153600,325300,332000,193700,238500,179000,347700,110100,273200,132100,180700,83200,183200,359900,119400,44500,213100,308700,139400,179400,119900,109800,208000,201000,152400,222000,185400,145200,96500,307100,165000,257000,267100,197100,158200,216700,209600,149200,305600,159900,243100,134300,0,54400,281600,239600,181800,246100,250300,155900,237600,217300,29300,175000,248800,104400,161000,214900,153800,161200,206900,89200,180400,126600,19200,136800,118300,77700,202500,73900,91200,245700,237500,90200,203200,183600,160100,148100,196400,233800,122000,61500,251700,148300,138000,232400,137200,255200,105500,100200,132700,263500,181800,168300,164300,138500,332600,74900,291100,237400,166600,194300,144800,129000,197300,127200,209100,147900,232500,191100,73900,108500,151900,87600,153900,105400,134900,117200,131000,92600,208400,101100,78700,174100,77100,109500,172500,88100,97100,115600,77300,102700,126200,142900,117000,197800,202200,180200,187200,102900,118000,147300,200800,130500,229900,106400,61000,155700,58000,105700,144900,113700,105100,26100,158100,174900,168100,72500,239400,118100,51800,105600,8100,181200,121700,150400,171200,101200,189700,215200,108500,202400,104000,112900,90400,97500,117700,299100,76500,72500,81500,137700,159800,148300,257500,162400,118900,84200,135900,161800,158900,224900,218300,183000,124800,113700,103300,177600,100900,124300,117800,124000,55800,242500,98800,88300,221400,148800,118600,55500,309000,216000,24000,200,48000,75400,77100,226000,218400,206800,54300,202000,54600,180000,84300,113300,153600,164700,224100,171600,215900,194800,98800,99400,42700,186800,199000,106900,116700,91500,171800,100300,237200,327100,1600,59200,153000,138300,164300,206400,171200,119900,143000,259300,167400,298900,111800,133600,169600,203500,101100,85000,212100,224100,133000,238000,171500,193600,294000,159800,134600,122600,161400,224000,32100,181000,121600,131700,160200,212500,292900,202900,319700,159500,164700,238400,103500,230700,248600,193300,143500,174500,61500,206400,243600,156400,103600,241100,117000,195000,234800,317700,203500,146100,264800,115000,50200,275400,149500,159600,132300,185200,193900,126600,158500,139000,223400,96900,149200,105400,10200,207100,250100,214700,62800,167600,104000,128100,161500,189000,158000,199000,243900,178900,214500,273400,237400,137900,111800,149000,157600,167100,136400,144400,236500,238500,78500,52100,194900,166600,130200,188900,134100,138800,128200,224000,189800,262300,173300,198600,242000,168000,214100,268300,215200,150600,13800,113100,0,3400,295000,203100,168600,116700,264600,100000,180500,235600,116700,160200,120300,117000,243700,196800,219200,206000,64700,98600,218000,206700,263500,136600,59100,128900,208300,140300,194500,173000,160600,176800,113800,208600,141400,176900,195700,159900,99500,136000,206000,339000,293500,159200,237700,222200,68400,206000,175300,243500,187200,106300,227600,200100,113000,97300,149700,205600,147000,178600,160000,221900,197200,159700,46200,180900,149000,85500,126400,49000,182400,218600,115400,209100,119400,184200,145000,136700,161900,169500,100400,25100,105100,138900,147100,87900,114300,77900,104800,138000,188400,155100,123700,203900,133600,228300,152100,175800,109500,201800,158400,244600,200200,190600,169400,120400,129700,179300,253600,126800,331200,168100,128100,230100,91000,116100,119400,191200,273800,244000,126000,159800,147100,133300,162400,196600,200400,87500,149500,226000,67800,170400,242000,167800,154900,201300,204800,184500,102600,229400,179400,196800,197600,146300,246400,177400,213400,232800,198400,356800,226300,265700,221200,168200,156700,145500,178400,229400,208400,273600,272300,153700,200000,78200,141600,217000,166100,69100,275500,292300,89100,45000,214200,222400,227800,156600,130000,114200,232100,199700,109300,371200,298000,174500,169700,263700,123900,232200,128200,204900,163500,283500,212100,228400,103500,264100,123300,184600,99100,190800,252900,211300,290900,132500,62500,180100,257200,178900,126400,219500,205800,269000,115300,263200,101200,248800,252000,153300,237100,200500,204300,244000,209300,121700,124100,112600,117400,182800,131700,294200,237400,253800,287500,216100,260700,207700,280100,222700,387600,134200,144300,137400,501100,124400,162900,95300,206800,268100,310900,347200,162800,199700,408200,223700,120600,150800,150500,174200,430400,322600,148400,157400,351800,310600,255000,121400,235400,168100,134100,242900,209300,197000,272300,288500,277600,141300,276300,197300,200700,213700,109500,253500,151300,235400,196900,255600,238100,131800,58000,113600,125600,180400,252000,155900,273700,99000,111100,168500,260400,272700,223000,186400,275200,117300,179400,217600,183300,150500,217900,128300,153300,148100,230600,173600,83800,263300,120100,19600,152400,43000,85600,105300,180600,267200,359000,144000,93900,182600,299000,181900,45000,54000,99400,158500,228200,305300,310900,220200,245600,328300,190100,244000,322300,159600,125800,225800,229400,411500,201500,160700,349300,243600,211900,326400,219800,132600,150600,262700,284900,91600,238700,257500,462400,250900,157800,228600,226200,214800,222100,232300,279100,102400,246500,326800,235100,164800,4400,55800,143100,84900,75900,19800,181000,7900,154300,129600,139300,284100,160500,4400,127100,85800,205100,337100,380900,46700,214100,136800,360400,267600,243800,85800,245000,187900,27700,141200,259400,140400,149400,112800,246000,266000,178100,82500,72200,111300,49100,114800,291200,304200,267000,195000,109600,166000,104000,199700,361900,133400,125900,246600,117600,178900,300000,248200,87400,190100,145400,272800,169000,210100,258500,173900,270600,203900,156100,255800,152400,262000,293200,145700,120300,190400,242700,277600,196600,157200,105700,107400,57600,150600,183600,256600,202000,127300,70600,133100,182300,153500,184900,61800,102900,72100,171400,194300,69700,89300,117400,141400,155600,226100,341600,45600,333400,159700,59200,4700,117600,161500,147600,64700,89300,20700,66400,35900,74200,171000,169100,155500,48900,169900,157300,88800,166500,265300,145700,143100,220900,110800,165600,54700,162500,70600,207300,145700,210900,166500,60900,107700,151100,127300,200000,155100,106000,127500,199300,224900,290600,318800,204000,128600,140200,275700,91100,360700,104400,85000,104400,204200,184900,212800,219600,60200,87600,80700,77600,153400,126800,212200,209600,161500,93900,302900,210400,350700,98000,153800,128500,182400,66600,222100,298400,66800,46300,78600,89800,17700,268700,189700,139600,23900,153900,48000,198500,267700,135600,106500,138600,79500,211000,327000,235400,86000,76200,59400,1000,157300,255800,178200,311900,194900,138900,125700,8000,4100,27400,200,52500,18600,5000,7500,31500,15800,2100,6500,10000,11000,500,9500,4000,500,4000,5200,18000,35300,24200,64000,80000,46500,50100,99600,67600,73700,102300,81400,127300,135700,113300,23400,50000,15200,1100,2000,42400,75900,169900,102300,11100,40500,62000,102300,59400,16100,91700,225100,150300,76800,87700,96100,152500,188700,162400,80300,92700,53800,127200,219500,160000,37600,9100,99700,45200,50100,166000,94200,75600,117600,55700,21100,121600,330300,163100,289300,87600,88100,157300,51800,265600,32000,99300,185600,122200,125700,46300,84600,80100,55200,261400,160700,153000,94500,70200,71100,144400,163300,173800,178800,252700,208700,118400,190900,177100,46600,165300,148500,83200,246700,320000,154500,318000,178200,107000,121100,92500,100000,99000,240500,125500,206000,79600,87500,92500,165000,171200,109200,203300,102800,71200,295100,176000,224500,186700,173600,219800,244500,176300,130800,163600,121700,29800,164900,153700,166200,53600,150700,84700,224300,206200,172200,219200,179500,125300,38200,33300,120500,80800,245500,169500,210100,98600,103100,95900,112100,94700,292800,129900,153700,185200,228700,215200,92000,199200,280600,118200,126200,212200,40500,112100,227000,174000,116200,187400,73400,115200,167800,120500,141100,113000,242500,173500,94800,168700,210400,140900,111400,112100,177700,154600,160200,203400,123800,94000,137300,192100,222200,197700,129100,92500,45700,271300,185500,240900,13700,161200,105600,58500,57700,149500,148200,171700,186500,126600,103100,300700,215400,122800,340700,175600,116300,113000,304500,210700,199300,161400,148400,152400,317700,204600,78800,132700,260100,160500,283000,162700,215000,221800,146200],\"Festival Religion\":[\"H\",\"NH\",\"NH\",\"NH\",\"NH\",\"NH\",\"NH\",\"NH\",\"NH\",\"NH\",\"NH\",\"NH\",\"NH\",\"NH\",\"H\",\"H\",\"H\",\"NH\",\"NH\",\"NH\",\"NH\",\"NH\",\"NH\",\"NH\",\"NH\",\"N\",\"NH\",\"NH\",\"NH\",\"NH\",\"NH\",\"NH\",\"NH\",\"NH\",\"NH\",\"NH\",\"NH\",\"NH\",\"NH\",\"NH\",\"NH\",\"NH\",\"NH\",\"NH\",\"NH\",\"NH\",\"M\",\"NH\",\"NH\",\"NH\",\"NH\",\"NH\",\"NH\",\"NH\",\"NH\",\"NH\",\"NH\",\"NH\",\"NH\",\"NH\",\"NH\",\"H\",\"NH\",\"NH\",\"NH\",\"NH\",\"NH\",\"NH\",\"NH\",\"NH\",\"NH\",\"NH\",\"NH\",\"NH\",\"NH\",\"NH\",\"NH\",\"NH\",\"H\",\"NH\",\"NH\",\"NH\",\"NH\",\"NH\",\"NH\",\"NH\",\"NH\",\"NH\",\"NH\",\"NH\",\"NH\",\"NH\",\"NH\",\"H\",\"NH\",\"NH\",\"NH\",\"NH\",\"NH\",\"NH\",\"NH\",\"H\",\"NH\",\"N\",\"NH\",\"H\",\"NH\",\"NH\",\"NH\",\"NH\",\"NH\",\"C\",\"NH\",\"NH\",\"NH\",\"NH\",\"NH\",\"NH\",\"NH\",\"NH\",\"N\",\"NH\",\"NH\",\"NH\",\"NH\",\"NH\",\"NH\",\"NH\",\"NH\",\"NH\",\"NH\",\"NH\",\"NH\",\"NH\",\"NH\",\"NH\",\"H\",\"NH\",\"NH\",\"NH\",\"NH\",\"NH\",\"NH\",\"NH\",\"NH\",\"NH\",\"NH\",\"NH\",\"NH\",\"NH\",\"NH\",\"NH\",\"NH\",\"NH\",\"NH\",\"NH\",\"NH\",\"NH\",\"NH\",\"NH\",\"NH\",\"NH\",\"NH\",\"NH\",\"NH\",\"NH\",\"NH\",\"NH\",\"NH\",\"NH\",\"NH\",\"NH\",\"NH\",\"NH\",\"NH\",\"NH\",\"NH\",\"NH\",\"NH\",\"NH\",\"NH\",\"NH\",\"NH\",\"NH\",\"NH\",\"NH\",\"NH\",\"NH\",\"NH\",\"NH\",\"NH\",\"NH\",\"NH\",\"NH\",\"NH\",\"NH\",\"NH\",\"NH\",\"NH\",\"NH\",\"NH\",\"NH\",\"NH\",\"NH\",\"NH\",\"NH\",\"NH\",\"NH\",\"NH\",\"NH\",\"NH\",\"NH\",\"NH\",\"NH\",\"NH\",\"NH\",\"NH\",\"NH\",\"NH\",\"NH\",\"NH\",\"NH\",\"NH\",\"NH\",\"NH\",\"NH\",\"N\",\"NH\",\"NH\",\"NH\",\"NH\",\"NH\",\"H\",\"NH\",\"NH\",\"NH\",\"NH\",\"NH\",\"NH\",\"NH\",\"NH\",\"NH\",\"M\",\"H\",\"NH\",\"NH\",\"NH\",\"NH\",\"NH\",\"NH\",\"NH\",\"NH\",\"NH\",\"NH\",\"NH\",\"NH\",\"NH\",\"NH\",\"NH\",\"NH\",\"NH\",\"NH\",\"NH\",\"NH\",\"NH\",\"NH\",\"NH\",\"NH\",\"NH\",\"NH\",\"NH\",\"NH\",\"NH\",\"NH\",\"N\",\"NH\",\"NH\",\"H\",\"NH\",\"NH\",\"NH\",\"NH\",\"NH\",\"NH\",\"NH\",\"NH\",\"NH\",\"NH\",\"NH\",\"NH\",\"NH\",\"NH\",\"NH\",\"NH\",\"NH\",\"NH\",\"NH\",\"H\",\"NH\",\"NH\",\"NH\",\"NH\",\"NH\",\"NH\",\"NH\",\"NH\",\"NH\",\"NH\",\"NH\",\"M\",\"NH\",\"NH\",\"NH\",\"NH\",\"NH\",\"NH\",\"NH\",\"NH\",\"NH\",\"NH\",\"NH\",\"NH\",\"NH\",\"NH\",\"NH\",\"NH\",\"NH\",\"NH\",\"NH\",\"NH\",\"NH\",\"NH\",\"NH\",\"NH\",\"NH\",\"NH\",\"NH\",\"M\",\"NH\",\"NH\",\"NH\",\"NH\",\"NH\",\"NH\",\"NH\",\"NH\",\"NH\",\"NH\",\"NH\",\"NH\",\"NH\",\"NH\",\"NH\",\"NH\",\"NH\",\"NH\",\"C\",\"NH\",\"NH\",\"NH\",\"NH\",\"NH\",\"NH\",\"C\",\"C\",\"C\",\"C\",\"C\",\"C\",\"NH\",\"NH\",\"NH\",\"NH\",\"NH\",\"NH\",\"NH\",\"NH\",\"H\",\"H\",\"H\",\"H\",\"H\",\"H\",\"NH\",\"NH\",\"NH\",\"NH\",\"NH\",\"N\",\"N\",\"NH\",\"NH\",\"NH\",\"NH\",\"NH\",\"NH\",\"NH\",\"NH\",\"M\",\"M\",\"M\",\"M\",\"M\",\"M\",\"NH\",\"NH\",\"NH\",\"NH\",\"NH\",\"NH\",\"NH\",\"NH\",\"NH\",\"NH\",\"NH\",\"NH\",\"NH\",\"NH\",\"NH\",\"NH\",\"NH\",\"NH\",\"NH\",\"NH\",\"NH\",\"NH\",\"NH\",\"NH\",\"NH\",\"NH\",\"NH\",\"NH\",\"NH\",\"NH\",\"NH\",\"NH\",\"NH\",\"NH\",\"NH\",\"NH\",\"NH\",\"NH\",\"NH\",\"NH\",\"NH\",\"H\",\"NH\",\"NH\",\"NH\",\"NH\",\"NH\",\"NH\",\"NH\",\"NH\",\"NH\",\"NH\",\"NH\",\"NH\",\"H\",\"C\",\"NH\",\"NH\",\"NH\",\"NH\",\"NH\",\"NH\",\"H\",\"NH\",\"NH\",\"NH\",\"NH\",\"NH\",\"NH\",\"NH\",\"NH\",\"NH\",\"NH\",\"NH\",\"NH\",\"NH\",\"NH\",\"NH\",\"NH\",\"NH\",\"N\",\"N\",\"N\",\"N\",\"NH\",\"NH\",\"NH\",\"NH\",\"NH\",\"NH\",\"NH\",\"NH\",\"NH\",\"NH\",\"NH\",\"NH\",\"NH\",\"NH\",\"NH\",\"NH\",\"NH\",\"NH\",\"NH\",\"NH\",\"NH\",\"NH\",\"NH\",\"NH\",\"NH\",\"NH\",\"NH\",\"NH\",\"NH\",\"NH\",\"NH\",\"NH\",\"NH\",\"NH\",\"NH\",\"NH\",\"NH\",\"NH\",\"NH\",\"NH\",\"NH\",\"NH\",\"NH\",\"NH\",\"NH\",\"NH\",\"NH\",\"NH\",\"NH\",\"NH\",\"NH\",\"NH\",\"NH\",\"NH\",\"NH\",\"NH\",\"NH\",\"NH\",\"NH\",\"NH\",\"NH\",\"NH\",\"NH\",\"NH\",\"NH\",\"NH\",\"NH\",\"NH\",\"NH\",\"NH\",\"NH\",\"NH\",\"NH\",\"NH\",\"NH\",\"NH\",\"NH\",\"NH\",\"NH\",\"NH\",\"NH\",\"NH\",\"NH\",\"NH\",\"NH\",\"NH\",\"NH\",\"NH\",\"NH\",\"NH\",\"NH\",\"NH\",\"NH\",\"NH\",\"NH\",\"NH\",\"NH\",\"NH\",\"NH\",\"NH\",\"NH\",\"NH\",\"N\",\"N\",\"N\",\"NH\",\"M\",\"M\",\"M\",\"M\",\"M\",\"NH\",\"NH\",\"NH\",\"NH\",\"NH\",\"NH\",\"NH\",\"NH\",\"NH\",\"NH\",\"NH\",\"NH\",\"NH\",\"NH\",\"NH\",\"NH\",\"NH\",\"NH\",\"NH\",\"NH\",\"NH\",\"NH\",\"NH\",\"NH\",\"NH\",\"H\",\"H\",\"H\",\"NH\",\"NH\",\"NH\",\"NH\",\"NH\",\"NH\",\"NH\",\"NH\",\"NH\",\"NH\",\"N\",\"N\",\"N\",\"N\",\"NH\",\"NH\",\"NH\",\"NH\",\"NH\",\"NH\",\"NH\",\"NH\",\"NH\",\"NH\",\"NH\",\"NH\",\"NH\",\"NH\",\"NH\",\"NH\",\"NH\",\"H\",\"H\",\"H\",\"H\",\"M\",\"NH\",\"NH\",\"NH\",\"NH\",\"NH\",\"NH\",\"NH\",\"NH\",\"NH\",\"NH\",\"NH\",\"NH\",\"NH\",\"NH\",\"NH\",\"NH\",\"H\",\"H\",\"H\",\"H\",\"NH\",\"NH\",\"NH\",\"NH\",\"NH\",\"NH\",\"NH\",\"M\",\"M\",\"M\",\"M\",\"M\",\"M\",\"NH\",\"NH\",\"NH\",\"NH\",\"NH\",\"NH\",\"NH\",\"NH\",\"NH\",\"NH\",\"NH\",\"NH\",\"NH\",\"NH\",\"NH\",\"NH\",\"NH\",\"NH\",\"NH\",\"NH\",\"NH\",\"NH\",\"NH\",\"NH\",\"C\",\"C\",\"C\",\"C\",\"NH\",\"NH\",\"NH\",\"C\",\"NH\",\"NH\",\"NH\",\"NH\",\"NH\",\"NH\",\"NH\",\"NH\",\"NH\",\"NH\",\"NH\",\"NH\",\"H\",\"H\",\"H\",\"NH\",\"NH\",\"NH\",\"NH\",\"NH\",\"NH\",\"NH\",\"NH\",\"M\",\"N\",\"NH\",\"NH\",\"NH\",\"NH\",\"NH\",\"NH\",\"NH\",\"NH\",\"NH\",\"NH\",\"NH\",\"NH\",\"NH\",\"NH\",\"NH\",\"NH\",\"NH\",\"NH\",\"NH\",\"NH\",\"NH\",\"NH\",\"NH\",\"NH\",\"NH\",\"NH\",\"NH\",\"NH\",\"NH\",\"NH\",\"NH\",\"NH\",\"NH\",\"NH\",\"NH\",\"NH\",\"NH\",\"NH\",\"NH\",\"NH\",\"NH\",\"NH\",\"NH\",\"NH\",\"NH\",\"NH\",\"NH\",\"NH\",\"NH\",\"NH\",\"NH\",\"NH\",\"NH\",\"NH\",\"NH\",\"NH\",\"NH\",\"NH\",\"NH\",\"NH\",\"NH\",\"C\",\"NH\",\"NH\",\"NH\",\"NH\",\"NH\",\"NH\",\"NH\",\"NH\",\"NH\",\"NH\",\"NH\",\"NH\",\"H\",\"NH\",\"NH\",\"N\",\"NH\",\"NH\",\"NH\",\"NH\",\"NH\",\"NH\",\"NH\",\"NH\",\"NH\",\"H\",\"NH\",\"NH\",\"NH\",\"NH\",\"NH\",\"NH\",\"N\",\"NH\",\"NH\",\"NH\",\"NH\",\"NH\",\"NH\",\"NH\",\"NH\",\"NH\",\"NH\",\"NH\",\"NH\",\"NH\",\"NH\",\"NH\",\"NH\",\"NH\",\"NH\",\"NH\",\"NH\",\"NH\",\"NH\",\"NH\",\"H\",\"NH\",\"NH\",\"NH\",\"NH\",\"NH\",\"NH\",\"NH\",\"NH\",\"NH\",\"NH\",\"NH\",\"NH\",\"NH\",\"NH\",\"NH\",\"NH\",\"NH\",\"NH\",\"NH\",\"NH\",\"NH\",\"NH\",\"NH\",\"NH\",\"NH\",\"NH\",\"NH\",\"NH\",\"NH\",\"NH\",\"NH\",\"NH\",\"NH\",\"NH\",\"NH\",\"NH\",\"NH\",\"NH\",\"NH\",\"NH\",\"NH\",\"NH\",\"NH\",\"NH\",\"NH\",\"NH\",\"NH\",\"NH\",\"NH\",\"NH\",\"NH\",\"NH\",\"NH\",\"NH\",\"NH\",\"NH\",\"NH\",\"NH\",\"NH\",\"NH\",\"NH\",\"NH\",\"NH\",\"NH\",\"NH\",\"NH\",\"NH\",\"NH\",\"NH\",\"NH\",\"NH\",\"NH\",\"NH\",\"NH\",\"NH\",\"NH\",\"NH\",\"NH\",\"NH\",\"NH\",\"NH\",\"NH\",\"NH\",\"NH\",\"NH\",\"NH\",\"NH\",\"NH\",\"NH\",\"NH\",\"NH\",\"NH\",\"NH\",\"NH\",\"NH\",\"NH\",\"NH\",\"NH\",\"NH\",\"NH\",\"NH\",\"NH\",\"NH\",\"NH\",\"H\",\"NH\",\"NH\",\"NH\",\"NH\",\"NH\",\"NH\",\"NH\",\"NH\",\"NH\",\"NH\",\"NH\",\"NH\",\"NH\",\"NH\",\"NH\",\"NH\",\"NH\",\"NH\",\"NH\",\"NH\",\"NH\",\"NH\",\"N\",\"NH\",\"NH\",\"NH\",\"NH\",\"NH\",\"NH\",\"NH\",\"NH\",\"NH\",\"NH\",\"NH\",\"H\",\"NH\",\"NH\",\"NH\",\"NH\",\"NH\",\"NH\",\"NH\",\"NH\",\"NH\",\"NH\",\"NH\",\"NH\",\"NH\",\"NH\",\"NH\",\"NH\",\"NH\",\"NH\",\"NH\",\"H\",\"NH\",\"M\",\"NH\",\"NH\",\"NH\",\"NH\",\"NH\",\"NH\",\"NH\",\"NH\",\"NH\",\"NH\",\"NH\",\"NH\",\"NH\",\"NH\",\"NH\",\"NH\",\"NH\",\"NH\",\"NH\",\"NH\",\"NH\",\"NH\",\"NH\",\"NH\",\"NH\",\"NH\",\"NH\",\"NH\",\"NH\",\"NH\",\"NH\",\"NH\",\"NH\",\"NH\",\"NH\",\"NH\",\"NH\",\"NH\",\"NH\",\"C\",\"NH\",\"NH\",\"NH\",\"NH\",\"NH\",\"NH\",\"C\",\"NH\",\"NH\",\"NH\",\"NH\",\"NH\",\"NH\",\"NH\",\"NH\",\"NH\",\"NH\",\"NH\",\"NH\",\"H\",\"H\",\"H\",\"NH\",\"NH\",\"NH\",\"NH\",\"NH\",\"NH\",\"NH\",\"NH\",\"NH\",\"N\",\"NH\",\"NH\",\"NH\",\"NH\",\"NH\",\"NH\",\"NH\",\"NH\",\"NH\",\"NH\",\"NH\",\"NH\",\"NH\",\"NH\",\"NH\",\"NH\",\"NH\",\"NH\",\"NH\",\"NH\",\"NH\",\"NH\",\"NH\",\"NH\",\"NH\",\"NH\",\"NH\",\"NH\",\"NH\",\"NH\",\"NH\",\"NH\",\"NH\",\"NH\",\"NH\",\"NH\",\"NH\",\"NH\",\"NH\",\"NH\",\"NH\",\"NH\",\"NH\",\"NH\",\"NH\",\"NH\",\"NH\",\"NH\",\"NH\",\"NH\",\"NH\",\"NH\",\"NH\",\"NH\",\"NH\",\"NH\",\"NH\",\"NH\",\"NH\",\"NH\",\"NH\",\"NH\",\"NH\",\"H\",\"NH\",\"NH\",\"NH\",\"NH\",\"NH\",\"NH\",\"NH\",\"NH\",\"NH\",\"NH\",\"NH\",\"H\",\"H\",\"NH\",\"NH\",\"NH\",\"C\",\"NH\",\"NH\",\"NH\",\"NH\",\"NH\",\"NH\",\"NH\",\"NH\",\"NH\",\"NH\",\"NH\",\"NH\",\"N\",\"NH\",\"NH\",\"NH\",\"NH\",\"NH\",\"NH\",\"NH\",\"NH\",\"NH\",\"NH\",\"NH\",\"NH\",\"NH\",\"NH\",\"NH\",\"NH\",\"NH\",\"NH\",\"NH\",\"NH\",\"NH\",\"NH\",\"NH\",\"NH\",\"NH\",\"NH\",\"NH\",\"NH\",\"NH\",\"NH\",\"NH\",\"NH\",\"NH\",\"NH\",\"NH\",\"NH\",\"NH\",\"NH\",\"NH\",\"NH\",\"NH\",\"NH\",\"NH\",\"NH\",\"NH\",\"NH\",\"NH\",\"NH\",\"NH\",\"NH\",\"NH\",\"NH\",\"NH\",\"NH\",\"NH\",\"NH\",\"NH\",\"NH\",\"NH\",\"NH\",\"NH\",\"NH\",\"NH\",\"NH\",\"NH\",\"NH\",\"NH\",\"NH\",\"NH\",\"NH\",\"NH\",\"NH\",\"NH\",\"NH\",\"NH\",\"NH\",\"NH\",\"NH\",\"NH\",\"NH\",\"NH\",\"NH\",\"NH\",\"NH\",\"NH\",\"NH\",\"NH\",\"NH\",\"M\",\"NH\",\"NH\",\"NH\",\"NH\",\"NH\",\"NH\",\"NH\",\"NH\",\"NH\",\"NH\",\"NH\",\"NH\",\"NH\",\"NH\",\"NH\",\"N\",\"NH\",\"H\",\"NH\",\"NH\",\"NH\",\"NH\",\"NH\",\"NH\",\"NH\",\"NH\",\"NH\",\"NH\",\"NH\",\"H\",\"NH\",\"NH\",\"NH\",\"NH\",\"NH\",\"NH\",\"NH\",\"NH\",\"NH\",\"NH\",\"NH\",\"NH\",\"NH\",\"NH\",\"NH\",\"NH\",\"NH\",\"NH\",\"NH\",\"NH\",\"NH\",\"NH\",\"NH\",\"NH\",\"NH\",\"NH\",\"NH\",\"NH\",\"NH\",\"NH\",\"NH\",\"NH\",\"NH\",\"N\",\"H\",\"NH\",\"M\",\"NH\",\"NH\",\"NH\",\"NH\",\"NH\",\"NH\",\"NH\",\"NH\",\"NH\",\"NH\",\"NH\",\"NH\",\"NH\",\"NH\",\"NH\",\"H\",\"NH\",\"NH\",\"NH\",\"NH\",\"NH\",\"NH\",\"NH\",\"NH\",\"NH\",\"NH\",\"NH\",\"NH\",\"M\",\"NH\",\"NH\",\"NH\",\"NH\",\"NH\",\"NH\",\"NH\",\"NH\",\"NH\",\"NH\",\"NH\",\"NH\",\"NH\",\"NH\",\"NH\",\"NH\",\"NH\",\"NH\",\"NH\",\"NH\",\"NH\",\"NH\",\"NH\",\"NH\",\"NH\",\"NH\",\"NH\",\"NH\",\"NH\",\"NH\",\"NH\",\"NH\",\"NH\",\"NH\",\"NH\",\"NH\",\"NH\",\"NH\",\"NH\",\"NH\",\"NH\",\"NH\",\"NH\",\"NH\",\"NH\",\"NH\",\"NH\",\"NH\",\"NH\",\"NH\",\"C\",\"NH\",\"NH\",\"NH\",\"NH\",\"NH\",\"NH\",\"C\",\"NH\",\"NH\",\"M\",\"NH\",\"NH\",\"NH\",\"NH\",\"NH\",\"NH\",\"NH\",\"NH\",\"NH\",\"NH\",\"H\",\"N\",\"H\",\"NH\",\"NH\",\"NH\",\"NH\",\"NH\",\"NH\",\"NH\",\"NH\",\"N\",\"NH\",\"NH\",\"NH\",\"NH\",\"NH\",\"NH\",\"NH\",\"NH\",\"NH\",\"NH\",\"NH\",\"NH\",\"NH\",\"NH\",\"NH\",\"NH\",\"NH\",\"NH\",\"NH\",\"NH\",\"NH\",\"NH\",\"NH\",\"NH\",\"NH\",\"NH\",\"NH\",\"NH\",\"NH\",\"NH\",\"NH\",\"NH\",\"NH\",\"NH\",\"NH\",\"NH\",\"NH\",\"NH\",\"NH\",\"NH\",\"NH\",\"NH\",\"NH\",\"NH\",\"NH\",\"NH\",\"NH\",\"NH\",\"NH\",\"NH\",\"NH\",\"H\",\"NH\",\"NH\",\"NH\",\"NH\",\"NH\",\"NH\",\"NH\",\"NH\",\"NH\",\"NH\",\"NH\",\"H\",\"NH\",\"NH\",\"NH\",\"NH\",\"NH\",\"NH\",\"NH\",\"NH\",\"NH\",\"NH\",\"H\",\"NH\",\"NH\",\"NH\",\"NH\",\"NH\",\"NH\",\"NH\",\"NH\",\"NH\",\"NH\",\"NH\",\"NH\",\"NH\",\"NH\",\"NH\",\"NH\",\"N\",\"NH\",\"NH\",\"NH\",\"NH\",\"NH\",\"NH\",\"NH\",\"NH\",\"NH\",\"NH\",\"NH\",\"NH\",\"NH\",\"NH\",\"NH\",\"NH\",\"NH\",\"NH\",\"NH\",\"NH\",\"NH\",\"NH\",\"NH\",\"NH\",\"NH\",\"NH\",\"NH\",\"NH\",\"NH\",\"NH\",\"NH\",\"NH\",\"NH\",\"NH\",\"NH\",\"NH\",\"NH\",\"NH\",\"NH\",\"NH\",\"NH\",\"NH\",\"NH\",\"NH\",\"NH\",\"NH\",\"NH\",\"NH\",\"NH\",\"NH\",\"NH\",\"NH\",\"NH\",\"NH\",\"NH\",\"NH\",\"NH\",\"NH\",\"NH\",\"NH\",\"NH\",\"NH\",\"NH\",\"NH\",\"NH\",\"NH\",\"NH\",\"NH\",\"NH\",\"NH\",\"NH\",\"NH\",\"NH\",\"NH\",\"NH\",\"M\",\"NH\",\"NH\",\"NH\",\"NH\",\"NH\",\"NH\",\"NH\",\"NH\",\"NH\",\"NH\",\"NH\",\"NH\",\"NH\",\"NH\",\"NH\",\"NH\",\"NH\",\"NH\",\"NH\",\"NH\",\"NH\",\"NH\",\"NH\",\"NH\",\"NH\",\"NH\",\"NH\",\"N\",\"NH\",\"NH\",\"NH\",\"NH\",\"NH\",\"NH\",\"NH\",\"NH\",\"NH\",\"NH\",\"NH\",\"NH\",\"NH\",\"NH\",\"NH\",\"NH\",\"NH\",\"NH\",\"NH\",\"NH\",\"H\",\"NH\",\"NH\",\"NH\",\"NH\",\"NH\",\"NH\",\"NH\",\"NH\",\"NH\",\"NH\",\"NH\",\"H\",\"NH\",\"NH\",\"NH\",\"NH\",\"NH\",\"NH\",\"M\",\"NH\",\"NH\",\"NH\",\"NH\",\"NH\",\"NH\",\"NH\",\"N\",\"NH\",\"NH\",\"NH\",\"NH\",\"NH\",\"NH\",\"NH\",\"NH\",\"NH\",\"NH\",\"NH\",\"NH\",\"NH\",\"NH\",\"NH\",\"NH\",\"NH\",\"NH\",\"H\",\"H\",\"M\",\"NH\",\"NH\",\"NH\",\"NH\",\"NH\",\"NH\",\"NH\",\"NH\",\"NH\",\"NH\",\"NH\",\"NH\",\"NH\",\"NH\",\"NH\",\"NH\",\"NH\",\"H\",\"NH\",\"NH\",\"NH\",\"NH\",\"NH\",\"NH\",\"NH\",\"NH\",\"NH\",\"NH\",\"NH\",\"NH\",\"M\",\"NH\",\"NH\",\"NH\",\"NH\",\"NH\",\"NH\",\"NH\",\"NH\",\"NH\",\"NH\",\"NH\",\"NH\",\"NH\",\"NH\",\"NH\",\"NH\",\"NH\",\"NH\",\"NH\",\"NH\",\"NH\",\"NH\",\"NH\",\"NH\",\"NH\",\"NH\",\"NH\",\"NH\",\"NH\",\"NH\",\"NH\",\"C\",\"NH\",\"NH\",\"NH\",\"NH\",\"NH\",\"NH\",\"C\",\"NH\",\"NH\",\"NH\",\"NH\",\"NH\",\"NH\",\"NH\",\"NH\",\"NH\",\"NH\",\"NH\",\"NH\",\"NH\",\"H\",\"H\",\"H\",\"NH\",\"NH\",\"NH\",\"NH\",\"NH\",\"NH\",\"NH\",\"NH\",\"N\",\"NH\",\"NH\",\"NH\",\"NH\",\"NH\",\"NH\",\"NH\",\"NH\",\"NH\",\"NH\",\"NH\",\"NH\",\"NH\",\"NH\",\"NH\",\"NH\",\"NH\",\"NH\",\"NH\",\"NH\",\"NH\",\"NH\",\"NH\",\"NH\",\"NH\",\"NH\",\"NH\",\"NH\",\"NH\",\"NH\",\"NH\",\"NH\",\"NH\",\"NH\",\"NH\",\"NH\",\"NH\",\"NH\",\"NH\",\"NH\",\"NH\",\"NH\",\"NH\",\"NH\",\"NH\",\"NH\",\"NH\",\"NH\",\"NH\",\"NH\",\"NH\",\"NH\",\"NH\",\"NH\",\"NH\",\"NH\",\"NH\",\"C\",\"NH\",\"NH\",\"NH\",\"NH\",\"NH\",\"NH\",\"NH\",\"NH\",\"NH\",\"NH\",\"NH\",\"N\",\"NH\",\"NH\",\"NH\",\"NH\",\"NH\",\"N\",\"NH\",\"NH\",\"NH\",\"H\",\"NH\",\"NH\",\"NH\",\"NH\",\"NH\",\"NH\",\"NH\",\"NH\",\"NH\",\"NH\",\"NH\",\"NH\",\"NH\",\"NH\",\"NH\",\"NH\",\"NH\",\"NH\",\"NH\",\"NH\",\"NH\",\"NH\",\"NH\",\"NH\",\"NH\",\"NH\",\"NH\",\"NH\",\"NH\",\"NH\",\"NH\",\"NH\",\"NH\",\"NH\",\"NH\",\"NH\",\"NH\",\"NH\",\"NH\",\"NH\",\"NH\",\"NH\",\"NH\",\"NH\",\"NH\",\"NH\",\"NH\",\"NH\",\"NH\",\"NH\",\"NH\",\"NH\",\"NH\",\"NH\",\"NH\",\"NH\",\"NH\",\"NH\",\"NH\",\"NH\",\"NH\",\"NH\",\"NH\",\"NH\",\"NH\",\"NH\",\"NH\",\"NH\",\"NH\",\"NH\",\"NH\",\"NH\",\"NH\",\"NH\",\"NH\",\"M\",\"NH\",\"NH\",\"NH\",\"NH\",\"NH\",\"NH\",\"NH\",\"NH\",\"NH\",\"NH\",\"NH\",\"NH\",\"NH\",\"NH\",\"NH\",\"NH\",\"NH\",\"NH\",\"NH\",\"NH\",\"NH\",\"NH\",\"NH\",\"NH\",\"NH\",\"NH\",\"NH\",\"NH\",\"NH\",\"NH\",\"NH\",\"NH\",\"NH\",\"N\",\"NH\",\"NH\",\"NH\",\"NH\",\"NH\",\"NH\",\"NH\",\"NH\",\"NH\",\"H\",\"NH\",\"NH\",\"NH\",\"NH\",\"NH\",\"NH\",\"NH\",\"NH\",\"NH\",\"NH\",\"H\",\"NH\",\"NH\",\"NH\",\"NH\",\"NH\",\"NH\",\"NH\",\"M\",\"NH\",\"NH\",\"NH\",\"NH\",\"NH\",\"NH\",\"NH\",\"NH\",\"NH\",\"NH\",\"NH\",\"NH\",\"NH\",\"NH\",\"NH\",\"NH\",\"NH\",\"NH\",\"NH\",\"NH\",\"NH\",\"NH\",\"NH\",\"NH\",\"NH\",\"H\",\"H\",\"NH\",\"NH\",\"NH\",\"NH\",\"NH\",\"NH\",\"NH\",\"NH\",\"NH\",\"NH\",\"NH\",\"NH\",\"NH\",\"NH\",\"NH\",\"NH\",\"H\",\"NH\",\"NH\",\"NH\",\"NH\",\"NH\",\"NH\",\"NH\",\"NH\",\"NH\",\"NH\",\"NH\",\"NH\",\"NH\",\"NH\",\"NH\",\"NH\",\"NH\",\"NH\",\"NH\",\"NH\",\"NH\",\"NH\",\"NH\",\"NH\",\"NH\",\"NH\",\"NH\",\"NH\",\"NH\",\"NH\",\"NH\",\"NH\",\"NH\",\"NH\",\"NH\",\"N\",\"NH\",\"NH\",\"NH\",\"NH\",\"NH\",\"NH\",\"NH\",\"NH\",\"NH\",\"NH\",\"NH\",\"NH\",\"NH\",\"NH\",\"NH\",\"NH\",\"NH\",\"NH\",\"NH\",\"NH\",\"NH\",\"NH\",\"NH\",\"NH\",\"NH\",\"NH\",\"NH\",\"NH\",\"NH\",\"NH\",\"NH\",\"NH\",\"NH\",\"NH\",\"NH\",\"NH\",\"NH\",\"NH\",\"NH\",\"NH\",\"NH\",\"NH\",\"NH\",\"NH\",\"NH\",\"NH\",\"NH\",\"NH\",\"NH\",\"NH\",\"N\",\"NH\",\"NH\",\"NH\",\"NH\",\"NH\",\"NH\",\"NH\",\"NH\",\"NH\",\"NH\",\"NH\",\"N\",\"NH\",\"NH\",\"NH\",\"NH\",\"NH\",\"NH\",\"NH\",\"NH\",\"NH\",\"NH\",\"NH\",\"NH\",\"NH\",\"NH\",\"NH\",\"NH\",\"N\",\"NH\",\"NH\",\"NH\",\"NH\",\"NH\",\"NH\",\"NH\",\"NH\",\"NH\",\"NH\",\"NH\",\"NH\",\"NH\",\"NH\",\"NH\",\"NH\",\"NH\",\"NH\",\"NH\",\"NH\",\"NH\",\"NH\",\"NH\",\"NH\",\"NH\",\"NH\",\"NH\",\"NH\",\"NH\",\"NH\",\"NH\",\"NH\",\"NH\",\"NH\",\"NH\",\"NH\",\"NH\",\"NH\",\"NH\",\"NH\",\"NH\",\"NH\",\"NH\",\"NH\",\"NH\",\"NH\",\"NH\",\"NH\",\"NH\",\"NH\",\"NH\",\"NH\",\"NH\",\"M\",\"NH\",\"NH\",\"NH\",\"NH\",\"NH\",\"NH\",\"NH\",\"NH\",\"NH\",\"NH\",\"NH\",\"NH\",\"NH\",\"NH\",\"NH\",\"NH\",\"NH\",\"NH\",\"NH\",\"NH\",\"NH\",\"NH\",\"NH\",\"NH\",\"NH\",\"NH\",\"NH\",\"NH\",\"NH\",\"NH\",\"NH\",\"NH\",\"NH\",\"NH\",\"NH\",\"NH\",\"NH\",\"NH\",\"NH\",\"NH\",\"NH\",\"NH\",\"NH\",\"NH\",\"NH\",\"NH\",\"NH\",\"NH\",\"NH\",\"N\",\"NH\",\"NH\",\"NH\",\"NH\",\"NH\",\"NH\",\"NH\",\"NH\",\"H\",\"NH\",\"NH\",\"NH\",\"NH\",\"NH\",\"NH\",\"NH\",\"M\",\"NH\",\"NH\",\"NH\",\"NH\",\"NH\",\"NH\",\"NH\",\"NH\",\"NH\",\"NH\",\"NH\",\"NH\",\"NH\",\"NH\",\"NH\",\"NH\",\"NH\",\"NH\",\"NH\",\"NH\",\"NH\",\"NH\",\"NH\",\"NH\",\"NH\",\"H\"],\"Holiday Sequence\":[\"WHH\",\"HHW\",\"WWW\",\"WWW\",\"WWW\",\"WWW\",\"WWW\",\"WHH\",\"HHW\",\"HWW\",\"WWW\",\"WWW\",\"WWW\",\"WWH\",\"WHH\",\"HHH\",\"HHW\",\"HWW\",\"WWW\",\"WWW\",\"WWH\",\"WHH\",\"HHW\",\"HWW\",\"WHW\",\"WHW\",\"HWW\",\"WWH\",\"WHH\",\"HHW\",\"HWW\",\"WWW\",\"WWW\",\"WWW\",\"WWH\",\"WHH\",\"HHW\",\"HWW\",\"WWW\",\"WWW\",\"WWW\",\"WWW\",\"WHH\",\"HHW\",\"HWW\",\"WWH\",\"WHW\",\"HWW\",\"WWH\",\"WHH\",\"HHW\",\"HWW\",\"WWW\",\"WWW\",\"WWW\",\"WWH\",\"WHH\",\"HHW\",\"HWW\",\"WWW\",\"WWW\",\"WWW\",\"WWH\",\"WHH\",\"HHW\",\"HWW\",\"WWW\",\"WWW\",\"WWW\",\"WWW\",\"WHH\",\"HHW\",\"HWW\",\"WWW\",\"WWW\",\"WWW\",\"WWH\",\"WHH\",\"HHW\",\"HWW\",\"WWW\",\"WWW\",\"WWW\",\"WWH\",\"WHH\",\"HHW\",\"HWW\",\"WWW\",\"WWW\",\"WWW\",\"WWH\",\"WHH\",\"HHW\",\"HWW\",\"WWW\",\"WWW\",\"WWW\",\"WWH\",\"WHH\",\"HHW\",\"HWH\",\"WHW\",\"HWH\",\"WHW\",\"HWH\",\"WHH\",\"HHW\",\"HWW\",\"WWW\",\"WWW\",\"WWH\",\"WHH\",\"HHH\",\"HHW\",\"HWW\",\"WWW\",\"WWW\",\"WWW\",\"WWH\",\"WHH\",\"HHW\",\"HWW\",\"WWW\",\"WWW\",\"WWW\",\"WWH\",\"WHH\",\"HHW\",\"HWW\",\"WWW\",\"WWW\",\"WWW\",\"WWH\",\"WHH\",\"HHW\",\"HWH\",\"WHW\",\"HWW\",\"WWW\",\"WWH\",\"WHH\",\"HHW\",\"HWW\",\"WWW\",\"WWW\",\"WWW\",\"WWH\",\"WHH\",\"HHW\",\"HWW\",\"WWW\",\"WWW\",\"WWW\",\"WWH\",\"WHH\",\"HHW\",\"HWW\",\"WWW\",\"WWW\",\"WWW\",\"WWH\",\"WHH\",\"HHW\",\"HWW\",\"WWW\",\"WWW\",\"WWW\",\"WWH\",\"WHH\",\"HHW\",\"HWW\",\"WWW\",\"WWW\",\"WWW\",\"WWH\",\"WHH\",\"HHW\",\"HWW\",\"WWW\",\"WWW\",\"WWW\",\"WWH\",\"WHH\",\"HHW\",\"HWW\",\"WWW\",\"WWW\",\"WWW\",\"WWW\",\"WHH\",\"HHW\",\"HWW\",\"WWW\",\"WWW\",\"WWW\",\"WWH\",\"WHH\",\"HHW\",\"HWW\",\"WWW\",\"WWW\",\"WWW\",\"WWH\",\"WHH\",\"HHW\",\"HWW\",\"WWW\",\"WWW\",\"WWW\",\"WWH\",\"WHH\",\"HHW\",\"HWW\",\"WWW\",\"WWW\",\"WWW\",\"WWH\",\"WHH\",\"HHW\",\"HWW\",\"WWW\",\"WWW\",\"WWW\",\"WWH\",\"WHH\",\"HHH\",\"HHW\",\"HWW\",\"WWW\",\"WWW\",\"WWH\",\"WHH\",\"HHW\",\"HWW\",\"WWW\",\"WWW\",\"WWW\",\"WWH\",\"WHH\",\"HHW\",\"HWW\",\"WHH\",\"WHH\",\"HHW\",\"HWH\",\"WHH\",\"HHW\",\"HWW\",\"WWW\",\"WWW\",\"WWW\",\"WWW\",\"WHH\",\"HHW\",\"HWW\",\"WWW\",\"WWW\",\"WWW\",\"WWH\",\"WHH\",\"HHW\",\"HWW\",\"WWW\",\"WWW\",\"WWW\",\"WWH\",\"WHH\",\"HHW\",\"HWW\",\"WWW\",\"WWW\",\"WWW\",\"WWH\",\"WHH\",\"HHW\",\"HWW\",\"WWH\",\"WHH\",\"WWH\",\"WHH\",\"HHW\",\"HWW\",\"WWW\",\"WWW\",\"WWW\",\"WWH\",\"WHH\",\"HHW\",\"HWW\",\"WWW\",\"WWW\",\"WWW\",\"WWH\",\"WHH\",\"HHW\",\"HWW\",\"WWH\",\"WHW\",\"HWW\",\"WWH\",\"WHH\",\"HHW\",\"HWW\",\"WWW\",\"WWW\",\"WWW\",\"WWH\",\"WHH\",\"HHH\",\"HHW\",\"HWW\",\"WWW\",\"WWW\",\"WWH\",\"HHW\",\"HWW\",\"WWW\",\"WWW\",\"WWW\",\"WWH\",\"WHH\",\"HHW\",\"HWW\",\"WWW\",\"WWW\",\"WWW\",\"WWH\",\"WHH\",\"HHW\",\"HWW\",\"WWW\",\"WWW\",\"WWW\",\"WWH\",\"WHH\",\"HHW\",\"HWH\",\"WHW\",\"HWW\",\"WWW\",\"WWH\",\"WHH\",\"HHW\",\"HWW\",\"WWW\",\"WWW\",\"WWW\",\"WWH\",\"WHH\",\"HHW\",\"HWW\",\"WWW\",\"WWW\",\"WWW\",\"WWH\",\"WHH\",\"HHW\",\"HWW\",\"WWW\",\"WWW\",\"WWW\",\"WWH\",\"WHH\",\"HHW\",\"HHW\",\"HHW\",\"HHW\",\"HHW\",\"HHW\",\"WHH\",\"HHW\",\"HHW\",\"HHW\",\"HHW\",\"HHW\",\"HHW\",\"WHH\",\"HHH\",\"HHH\",\"HHW\",\"HHW\",\"HHW\",\"HHW\",\"WHH\",\"HHW\",\"HHW\",\"HHW\",\"HHW\",\"WHW\",\"WHW\",\"WHH\",\"HHW\",\"HHW\",\"HHW\",\"HHW\",\"HHW\",\"HHW\",\"WHH\",\"HHW\",\"HHW\",\"HHW\",\"HHW\",\"HHW\",\"HHW\",\"WHH\",\"HHW\",\"HHW\",\"HHW\",\"HHW\",\"HHW\",\"HHW\",\"WHH\",\"HHW\",\"HHW\",\"HHW\",\"HHW\",\"HHW\",\"HHW\",\"WHH\",\"HHW\",\"HHW\",\"HHW\",\"HHW\",\"HHW\",\"HHW\",\"WHH\",\"HHW\",\"HHW\",\"HHW\",\"HHW\",\"HHW\",\"HHW\",\"WHH\",\"HHW\",\"HHW\",\"HHW\",\"HHW\",\"HHW\",\"HHW\",\"WHH\",\"HHW\",\"HHW\",\"HHW\",\"HHW\",\"HHW\",\"WHH\",\"HHH\",\"HHW\",\"HHW\",\"HHW\",\"HHW\",\"HHW\",\"HHW\",\"WHH\",\"HHW\",\"HHW\",\"HHW\",\"HHW\",\"WHH\",\"HHH\",\"HHH\",\"HHW\",\"HHW\",\"HHW\",\"HHW\",\"HHW\",\"WHH\",\"HHH\",\"HHW\",\"HHW\",\"HHW\",\"HHW\",\"HHW\",\"HHW\",\"WHH\",\"HHW\",\"HHW\",\"HHW\",\"HHW\",\"HHW\",\"HHW\",\"WHH\",\"HHW\",\"HHW\",\"WHW\",\"WHW\",\"WHW\",\"WHW\",\"WHH\",\"HHW\",\"HHW\",\"HHW\",\"HHW\",\"HHW\",\"HHW\",\"WHH\",\"HHW\",\"HHW\",\"HHW\",\"HHW\",\"HHW\",\"HHW\",\"HHW\",\"WHH\",\"HHW\",\"HHW\",\"HHW\",\"HHW\",\"HHW\",\"WHH\",\"HHW\",\"HHW\",\"HHW\",\"HHW\",\"HHW\",\"HHW\",\"WHH\",\"HHW\",\"HHW\",\"HHW\",\"HHW\",\"HHW\",\"HHW\",\"WHH\",\"HHW\",\"HHW\",\"HHW\",\"HHW\",\"HHW\",\"HHW\",\"WHH\",\"HHW\",\"HHW\",\"HHW\",\"HHW\",\"HHW\",\"HHW\",\"WHH\",\"HHW\",\"HHW\",\"HHW\",\"HHW\",\"HHW\",\"HHW\",\"WHH\",\"HHW\",\"HHW\",\"HHW\",\"HHW\",\"HHW\",\"HHW\",\"WHH\",\"HHW\",\"HHW\",\"HHW\",\"HHW\",\"HHW\",\"HHW\",\"WHH\",\"HHW\",\"HHW\",\"HHW\",\"HHW\",\"HHW\",\"HHW\",\"WHH\",\"HHW\",\"HHW\",\"HHW\",\"HHW\",\"HHW\",\"HHW\",\"WHH\",\"HHW\",\"HHW\",\"HHW\",\"HHW\",\"HHW\",\"HHW\",\"WHH\",\"HHW\",\"HHW\",\"HHW\",\"HHW\",\"HHW\",\"HHW\",\"WHH\",\"HHW\",\"HHW\",\"HHW\",\"WHW\",\"WHW\",\"WHW\",\"HHH\",\"HHW\",\"HHW\",\"HHW\",\"HHW\",\"HHW\",\"WHH\",\"HHW\",\"HHW\",\"HHW\",\"HHW\",\"HHW\",\"HHW\",\"WHH\",\"HHW\",\"HHW\",\"HHW\",\"HHW\",\"HHW\",\"HHW\",\"WHH\",\"HHW\",\"HHW\",\"HHW\",\"HHW\",\"HHW\",\"HHW\",\"WHH\",\"HHW\",\"HHW\",\"HHW\",\"WHW\",\"WHW\",\"WHW\",\"WHH\",\"HHW\",\"HHW\",\"HHW\",\"HHW\",\"HHW\",\"HHW\",\"WHH\",\"HHW\",\"HHW\",\"WHW\",\"WHW\",\"WHW\",\"WHW\",\"WHH\",\"HHW\",\"HHW\",\"HHW\",\"HHW\",\"HHW\",\"HHW\",\"WHH\",\"HHW\",\"HHW\",\"HHW\",\"HHW\",\"HHW\",\"HHW\",\"WHH\",\"HHW\",\"HHW\",\"WHH\",\"HHW\",\"HHW\",\"HHW\",\"WHH\",\"HHW\",\"HHW\",\"HHW\",\"HHW\",\"HHW\",\"HHW\",\"WHH\",\"HHW\",\"HHW\",\"HHW\",\"HHW\",\"HHW\",\"HHW\",\"WHH\",\"HHW\",\"HHW\",\"WHW\",\"WHW\",\"WHW\",\"WHW\",\"WHH\",\"HHW\",\"HHW\",\"HHW\",\"HHW\",\"HHW\",\"WHH\",\"HHW\",\"HHW\",\"HHW\",\"HHW\",\"HHW\",\"HHW\",\"WHH\",\"HHW\",\"HHW\",\"HHW\",\"HHW\",\"HHW\",\"HHW\",\"WHH\",\"HHW\",\"HHW\",\"HHW\",\"HHW\",\"HHW\",\"HHW\",\"WHH\",\"HHW\",\"HHW\",\"HHW\",\"HHW\",\"HHW\",\"HHW\",\"WHH\",\"HHW\",\"HHW\",\"WHW\",\"WHW\",\"WHW\",\"WHW\",\"WHH\",\"HHW\",\"HHW\",\"WHW\",\"HWW\",\"WWW\",\"WHH\",\"HHW\",\"HWW\",\"WWW\",\"WWW\",\"WWW\",\"WWW\",\"WWH\",\"HHH\",\"HHH\",\"HHH\",\"HHH\",\"HHW\",\"HWW\",\"WWH\",\"WHH\",\"HHW\",\"HWW\",\"WWW\",\"WWW\",\"WWH\",\"WHH\",\"HHH\",\"HHH\",\"HWW\",\"WWW\",\"WWW\",\"WWW\",\"WWH\",\"WHH\",\"HHW\",\"HWW\",\"WWW\",\"WWW\",\"WWW\",\"WWH\",\"WHH\",\"HHW\",\"HWW\",\"WWW\",\"WWW\",\"WWW\",\"WWH\",\"WHH\",\"HHW\",\"HWW\",\"WWW\",\"WWW\",\"WWW\",\"WWH\",\"WHH\",\"HHW\",\"HWW\",\"WWW\",\"WWW\",\"WWW\",\"WWH\",\"WHH\",\"HHW\",\"HWW\",\"WWW\",\"WWW\",\"WWW\",\"WWH\",\"WHH\",\"HWW\",\"HWW\",\"WWW\",\"WWW\",\"WWW\",\"WWH\",\"WHH\",\"HHW\",\"HWW\",\"WWW\",\"WWW\",\"WWW\",\"WWH\",\"WHH\",\"HHW\",\"HWW\",\"WWW\",\"WWW\",\"WWH\",\"WHH\",\"HHH\",\"HHW\",\"HWW\",\"WWW\",\"WWW\",\"WWW\",\"WWH\",\"WHH\",\"HHW\",\"HWW\",\"WWW\",\"WWH\",\"WHW\",\"HWH\",\"WHH\",\"HHW\",\"HWW\",\"WWW\",\"WWW\",\"WWW\",\"WWH\",\"WHH\",\"HHW\",\"HWW\",\"WWH\",\"WHW\",\"HWW\",\"WWH\",\"WHH\",\"HHW\",\"HWW\",\"WWH\",\"WHW\",\"HWW\",\"WWH\",\"WHH\",\"HHW\",\"HWW\",\"WWW\",\"WWW\",\"WWW\",\"WWH\",\"WHH\",\"HHW\",\"HWW\",\"WWW\",\"WWW\",\"WWW\",\"WWH\",\"WHH\",\"HHW\",\"HWW\",\"WWW\",\"WWW\",\"WWW\",\"WWH\",\"WHH\",\"HWW\",\"WWW\",\"WWW\",\"WWW\",\"WWH\",\"WHH\",\"HHW\",\"HWW\",\"WWW\",\"WWW\",\"WWW\",\"WWH\",\"WHH\",\"HHW\",\"HWW\",\"WWW\",\"WWW\",\"WWW\",\"WWH\",\"WHH\",\"HHW\",\"HWW\",\"WWW\",\"WWW\",\"WWW\",\"WWH\",\"WHH\",\"HHW\",\"HWW\",\"WWW\",\"WWW\",\"WWW\",\"WWH\",\"WHH\",\"HHW\",\"HWW\",\"WWW\",\"WWW\",\"WWW\",\"WWH\",\"WHH\",\"HHW\",\"HWW\",\"WWW\",\"WWW\",\"WWW\",\"WWH\",\"WHH\",\"HHW\",\"HWW\",\"WWW\",\"WWW\",\"WWW\",\"WWH\",\"WHH\",\"HHW\",\"HWW\",\"WWW\",\"WWW\",\"WWW\",\"WWH\",\"WHH\",\"HHW\",\"HWW\",\"WWW\",\"WWW\",\"WWW\",\"WWH\",\"WHH\",\"HHW\",\"HWW\",\"WWW\",\"WWW\",\"WWW\",\"WWH\",\"WHH\",\"HHW\",\"HWW\",\"WWW\",\"WWH\",\"HWH\",\"WHH\",\"HHW\",\"HWW\",\"WWW\",\"WWW\",\"WWW\",\"WWH\",\"WHH\",\"HHW\",\"HWW\",\"WWW\",\"WWW\",\"WWW\",\"WWH\",\"WHH\",\"HHW\",\"HWW\",\"WWW\",\"WWW\",\"WWW\",\"WWH\",\"WHH\",\"HHH\",\"HHW\",\"HWW\",\"WWW\",\"WWW\",\"WWH\",\"WHH\",\"HHW\",\"HWW\",\"WWW\",\"WWW\",\"WWW\",\"WWH\",\"WHH\",\"HHW\",\"HWW\",\"WWW\",\"WWW\",\"WWW\",\"WWH\",\"WHH\",\"HHW\",\"HWW\",\"WWH\",\"WHW\",\"HWW\",\"WWH\",\"WHH\",\"HHW\",\"HWW\",\"WWW\",\"WWW\",\"WWW\",\"WWH\",\"WHH\",\"HHH\",\"HHW\",\"HWW\",\"WWW\",\"WWW\",\"WWH\",\"WHH\",\"HHW\",\"HWW\",\"WWW\",\"WWW\",\"WWW\",\"WWH\",\"WHH\",\"HHW\",\"HWW\",\"WWW\",\"WWW\",\"WWW\",\"WWH\",\"WHH\",\"HHW\",\"HWH\",\"WHW\",\"HWW\",\"WWW\",\"WWH\",\"WHH\",\"HHW\",\"HWW\",\"WWW\",\"WWW\",\"WWW\",\"WWH\",\"WHH\",\"HHW\",\"HWW\",\"WWW\",\"WWW\",\"WWW\",\"WWH\",\"WHH\",\"HHW\",\"HWW\",\"WWW\",\"WWW\",\"WWW\",\"WWH\",\"WHH\",\"HHW\",\"HWW\",\"WWW\",\"WWW\",\"WWW\",\"WWH\",\"WHH\",\"HHW\",\"HWW\",\"WWW\",\"WWW\",\"WWW\",\"HWW\",\"WWH\",\"WHW\",\"HWW\",\"WWH\",\"WHH\",\"HHW\",\"HWW\",\"WWH\",\"WHW\",\"HWW\",\"WWH\",\"WHH\",\"HHW\",\"HWW\",\"WWW\",\"WWW\",\"WWW\",\"WWH\",\"WHH\",\"HHW\",\"HWH\",\"WHH\",\"HHH\",\"HHW\",\"HWH\",\"WHH\",\"HHW\",\"HWW\",\"WWW\",\"WWW\",\"WWW\",\"WWH\",\"WHH\",\"HHW\",\"HWW\",\"WWW\",\"WWW\",\"WWW\",\"WWH\",\"WHH\",\"HHW\",\"HWW\",\"WWW\",\"WWW\",\"WWW\",\"WWH\",\"WHH\",\"HHW\",\"HWW\",\"WWW\",\"WWW\",\"WWW\",\"WWH\",\"WHH\",\"HHW\",\"HWW\",\"WWW\",\"WWW\",\"WWW\",\"WWH\",\"WHH\",\"HHW\",\"HWW\",\"WWW\",\"WWW\",\"WWW\",\"WWH\",\"WHH\",\"HHW\",\"HWW\",\"WWW\",\"WWW\",\"WWW\",\"WWH\",\"WHH\",\"HHW\",\"HWW\",\"WWW\",\"WWW\",\"WWW\",\"WWH\",\"WHH\",\"HHW\",\"HWW\",\"WWW\",\"WWW\",\"WWW\",\"WWH\",\"WHH\",\"HHW\",\"HWW\",\"WWW\",\"WWW\",\"WWW\",\"WWH\",\"WHH\",\"HHH\",\"HHW\",\"WWW\",\"WWW\",\"WWH\",\"WHH\",\"HHW\",\"HWW\",\"WWW\",\"WWW\",\"WWW\",\"WWH\",\"WHH\",\"HHH\",\"HHW\",\"HWW\",\"WWW\",\"WWH\",\"WHH\",\"HHH\",\"HHW\",\"HWW\",\"WWW\",\"WWW\",\"WWW\",\"WWH\",\"WHH\",\"HHW\",\"HWW\",\"WWW\",\"WWH\",\"WHW\",\"HWH\",\"WHH\",\"HHW\",\"HWW\",\"WWW\",\"WWW\",\"WWW\",\"WWH\",\"WHH\",\"HHW\",\"HWW\",\"WWW\",\"WWW\",\"WWW\",\"WWH\",\"WHH\",\"HHW\",\"HWW\",\"WWW\",\"WWW\",\"WWW\",\"WWH\",\"WHH\",\"HHW\",\"HWW\",\"WWW\",\"WWW\",\"WWW\",\"WWH\",\"WHH\",\"HHW\",\"HWW\",\"WWW\",\"WWW\",\"WWW\",\"WWH\",\"WHH\",\"HHW\",\"HWW\",\"WWW\",\"WWW\",\"WWW\",\"WWH\",\"WHH\",\"HHW\",\"HWW\",\"WWW\",\"WWW\",\"WWW\",\"WWH\",\"WHH\",\"HHW\",\"HWW\",\"WWW\",\"WWW\",\"WWW\",\"WWH\",\"WHH\",\"HHW\",\"HWW\",\"WWW\",\"WWW\",\"WWW\",\"WWH\",\"WHH\",\"HHW\",\"HWW\",\"WWW\",\"WWW\",\"WWW\",\"WWH\",\"WHH\",\"HHW\",\"HWW\",\"WWW\",\"WWW\",\"WWW\",\"WWH\",\"WHH\",\"HHW\",\"HWW\",\"WWW\",\"WWW\",\"WWW\",\"WWH\",\"WHH\",\"HHW\",\"HWH\",\"WHW\",\"HWW\",\"WWW\",\"WWH\",\"WHH\",\"HHW\",\"HWW\",\"WWW\",\"WWW\",\"WWW\",\"WWH\",\"WHH\",\"HWW\",\"WWW\",\"WWW\",\"WWH\",\"WHH\",\"HHH\",\"HHW\",\"HWW\",\"WWW\",\"WWW\",\"WWW\",\"WWH\",\"WHH\",\"HHW\",\"HWW\",\"WWW\",\"WWW\",\"WWH\",\"WHH\",\"HHH\",\"HHW\",\"HWW\",\"WWW\",\"WWW\",\"WWW\",\"WWH\",\"WHH\",\"HHW\",\"HWW\",\"WWW\",\"WWW\",\"WWW\",\"WWH\",\"WHH\",\"HHW\",\"HWW\",\"WWW\",\"WWW\",\"WWW\",\"WWH\",\"WHH\",\"HHW\",\"HWW\",\"WWW\",\"WWW\",\"WWW\",\"WWH\",\"WHH\",\"HHW\",\"HWW\",\"WWW\",\"WWH\",\"WHH\",\"HHH\",\"HHH\",\"HHW\",\"WWW\",\"WWW\",\"WWW\",\"WWH\",\"WHH\",\"HHW\",\"HWW\",\"WWW\",\"WWW\",\"WWW\",\"WWH\",\"WHH\",\"HHW\",\"HWW\",\"WWH\",\"WHW\",\"HWW\",\"WWH\",\"WHH\",\"HHW\",\"HWW\",\"WWW\",\"WWW\",\"WWW\",\"WWH\",\"WHH\",\"HHW\",\"HWH\",\"WHW\",\"HWW\",\"WWW\",\"WWH\",\"WHH\",\"HHW\",\"HWW\",\"WWW\",\"WWW\",\"WWW\",\"WWH\",\"WHH\",\"HHW\",\"HWW\",\"WWW\",\"WWW\",\"WWW\",\"WWH\",\"WHH\",\"HHW\",\"HWW\",\"WWW\",\"WWW\",\"WWW\",\"WWH\",\"WHH\",\"HHW\",\"HWW\",\"WWW\",\"WWW\",\"WWW\",\"WWH\",\"WHH\",\"HHW\",\"HWW\",\"WWW\",\"WWW\",\"WWW\",\"WWH\",\"WHH\",\"HHW\",\"HWW\",\"WWW\",\"WWW\",\"WWW\",\"WWH\",\"WHH\",\"HHW\",\"HWW\",\"WWW\",\"WWH\",\"WHW\",\"HWH\",\"WHH\",\"HHW\",\"HWW\",\"WWW\",\"WWH\",\"WHW\",\"HWH\",\"WHH\",\"HHW\",\"HWW\",\"WWW\",\"WWW\",\"WWW\",\"WWH\",\"WHH\",\"HHW\",\"HWW\",\"WWW\",\"WWH\",\"WHH\",\"HHH\",\"HHH\",\"HHW\",\"HWW\",\"WWW\",\"WWW\",\"WWW\",\"WWH\",\"WHH\",\"HHH\",\"HHW\",\"HWW\",\"WWW\",\"WWW\",\"WWH\",\"WHH\",\"HHW\",\"HWW\",\"WWW\",\"WWW\",\"WWW\",\"WWH\",\"WHH\",\"HHW\",\"HWW\",\"WWW\",\"WWW\",\"WWW\",\"WWH\",\"WHH\",\"HHW\",\"HWW\",\"WWW\",\"WWW\",\"WWW\",\"WWH\",\"WHH\",\"HHW\",\"HWW\",\"WWW\",\"WWW\",\"WWW\",\"WWH\",\"WHH\",\"HHW\",\"HWW\",\"WWW\",\"WWW\",\"WWW\",\"WWH\",\"WHH\",\"HHW\",\"WWW\",\"WWW\",\"WWH\",\"WHH\",\"HHW\",\"HWW\",\"WWW\",\"WWW\",\"WWW\",\"WWH\",\"WHH\",\"HHW\",\"HWW\",\"WWW\",\"WWW\",\"WWW\",\"WWH\",\"WHH\",\"HHW\",\"HWW\",\"WWW\",\"WWH\",\"WHH\",\"HHH\",\"HHW\",\"HWW\",\"WWW\",\"WWW\",\"WWW\",\"WWH\",\"WHH\",\"HHW\",\"HWH\",\"WHW\",\"HWW\",\"WWW\",\"WWH\",\"WHH\",\"HHW\",\"HWW\",\"WWW\",\"WWW\",\"WWW\",\"WWH\",\"WHH\",\"HHW\",\"HWW\",\"WWW\",\"WWW\",\"WWH\",\"WHH\",\"HHH\",\"HHW\",\"HWW\",\"WWW\",\"WWW\",\"WWW\",\"WWH\",\"WHH\",\"HHW\",\"HWW\",\"WWW\",\"WWW\",\"WWW\",\"WWH\",\"WHH\",\"HHW\",\"HWW\",\"WWW\",\"WWW\",\"WWW\",\"WWH\",\"WHH\",\"HHW\",\"HWW\",\"WWW\",\"WWW\",\"WWW\",\"WWH\",\"WHH\",\"HHW\",\"WWW\",\"WWW\",\"WWW\",\"WWH\",\"WHH\",\"HHW\",\"HWW\",\"WWW\",\"WWW\",\"WWW\",\"WWH\",\"WHH\",\"HHW\",\"HWW\",\"WWW\",\"WWW\",\"WWW\",\"WHH\",\"HHW\",\"HWW\",\"WWW\",\"WWW\",\"WWW\",\"WWH\",\"WHH\",\"HHW\",\"HWW\",\"WWW\",\"WWW\",\"WWW\",\"WWH\",\"WHH\",\"HHW\",\"HWW\",\"WWW\",\"WWW\",\"WWW\",\"WWH\",\"WHH\",\"HHW\",\"HWW\",\"WWW\",\"WWW\",\"WWW\",\"WWH\",\"WHH\",\"HHW\",\"HWW\",\"WWW\",\"WWW\",\"WWW\",\"WWH\",\"WHH\",\"HHW\",\"HWW\",\"WWW\",\"WWW\",\"WWH\",\"WWH\",\"WHH\",\"HHW\",\"HWW\",\"WWW\",\"WWW\",\"WWW\",\"WWH\",\"WHH\",\"HHW\",\"HWW\",\"WWW\",\"WWW\",\"WWW\",\"WWH\",\"WHH\",\"HHW\",\"HWW\",\"WWW\",\"WWW\",\"WWW\",\"WWH\",\"WHH\",\"HHW\",\"HWW\",\"WWW\",\"WWW\",\"WWW\",\"WWH\",\"WHH\",\"HHW\",\"HWW\",\"WWW\",\"WWW\",\"WWW\",\"WWH\",\"WHH\",\"HHW\",\"HWW\",\"WWW\",\"WWW\",\"WWW\",\"WWH\",\"WHH\",\"HHW\",\"HWW\",\"WWW\",\"WWH\",\"WHW\",\"HWH\",\"WHH\",\"HHW\",\"HWW\",\"WWW\",\"WWH\",\"WHW\",\"HWH\",\"WHH\",\"HHW\",\"HWW\",\"WWW\",\"WWW\",\"WWH\",\"WHH\",\"HHH\",\"HHW\",\"HWW\",\"WWW\",\"WWW\",\"WWW\",\"WWH\",\"WHH\",\"HHW\",\"HWW\",\"WWW\",\"WWW\",\"WWW\",\"WWH\",\"WHH\",\"HHW\",\"HWW\",\"WWH\",\"WHH\",\"HHH\",\"HHH\",\"HHH\",\"HHW\",\"HWW\",\"WWW\",\"WWW\",\"WWW\",\"WWH\",\"WHH\",\"HHW\",\"HWW\",\"WWW\",\"WWW\",\"WWW\",\"WWH\",\"WHH\",\"HHW\",\"HWH\",\"WHW\",\"HWW\",\"WWW\",\"WWH\",\"WHH\",\"HHW\",\"HWW\",\"WWW\",\"WWW\",\"WWW\",\"WWH\",\"WHH\",\"HHH\",\"HHW\",\"HWW\",\"WWW\",\"WWW\",\"WWH\",\"WHH\",\"HHW\",\"HWW\",\"WWW\",\"WWW\",\"WWW\",\"WWH\",\"WHH\",\"HHW\",\"HWW\",\"WWW\",\"WWW\",\"WWW\",\"WWH\",\"WHH\",\"HHW\",\"HWW\",\"WWW\",\"WWW\",\"WWW\",\"WWH\",\"WHH\",\"HHW\",\"HWW\",\"WWW\",\"WWW\",\"WWH\",\"WHH\",\"HHH\",\"HHW\",\"HWW\",\"WWW\",\"WWW\",\"WWH\",\"WHH\",\"HHH\",\"HHW\",\"HWW\",\"WWW\",\"WWW\",\"WWW\",\"WWH\",\"WHH\",\"HHW\",\"HWW\",\"WWW\",\"WWW\",\"WWH\",\"WHH\",\"HHH\",\"HHW\",\"HWW\",\"WWW\",\"WWW\",\"WWW\",\"WWH\",\"WHH\",\"HHW\",\"HWH\",\"WHW\",\"HWW\",\"WWW\",\"WWH\",\"WHH\",\"HHW\",\"HWW\",\"WWW\",\"WWW\",\"WWW\",\"WWH\",\"WHH\",\"HHW\",\"HWW\",\"WWW\",\"WWW\",\"WWW\",\"WWH\",\"WHH\",\"HHW\",\"HWW\",\"WWW\",\"WWW\",\"WWW\",\"WWH\",\"WHH\",\"HHW\",\"HWW\",\"WWW\",\"WWW\",\"WWW\",\"WWH\",\"WHH\",\"HHW\",\"HWW\",\"WWW\",\"WWW\",\"WWH\",\"WHH\",\"HHW\",\"HWW\",\"WWW\",\"WWW\",\"WWW\",\"WWH\",\"WHH\",\"HHW\",\"HWW\",\"WWW\",\"WWW\",\"WWW\",\"WWH\",\"WHH\",\"HHW\",\"HWW\",\"WWW\",\"WWW\",\"WWH\",\"WHH\",\"HHH\",\"HHW\",\"HWW\",\"WWW\",\"WWW\",\"WHH\",\"HHW\",\"HWW\",\"WWW\",\"WWW\",\"WWH\",\"WHH\",\"HHH\",\"HHW\",\"HWW\",\"WWW\",\"WWH\",\"WHW\",\"WHH\",\"HHW\",\"HWH\",\"WHW\",\"HWW\",\"WWW\",\"WWH\",\"WHH\",\"HHW\",\"HWW\",\"WWW\",\"WWW\",\"WWW\",\"WWH\",\"WHH\",\"HWW\",\"WWW\",\"WWW\",\"WWW\",\"WWH\",\"WHH\",\"HHW\",\"HWW\",\"WWW\",\"WWW\",\"WWW\",\"WWH\",\"WHH\",\"HHW\",\"HWW\",\"WWW\",\"WWW\",\"WWW\",\"WWH\",\"HHW\",\"HWW\",\"WWW\",\"WWW\",\"WWW\",\"WWH\",\"WHH\",\"HHW\",\"HWW\",\"WWW\",\"WWW\",\"WWW\",\"WWH\",\"WHH\",\"HHW\",\"HWW\",\"WWW\",\"WWW\",\"WWW\",\"WWH\",\"WHH\",\"HHW\",\"HWW\",\"WWW\",\"WWW\",\"WWW\",\"WWH\",\"WHH\",\"HHW\",\"HWW\",\"WWW\",\"WWW\",\"WWW\",\"WWH\",\"WHH\",\"HHW\",\"HWW\",\"WWW\",\"WWW\",\"WWW\",\"WWH\",\"WHH\",\"HHW\",\"HWW\",\"WWW\",\"WHW\",\"HWH\",\"WHH\",\"HHW\",\"HWW\",\"WWW\",\"WWW\",\"WWW\",\"WWH\",\"WHH\",\"HHW\",\"HWW\",\"WWW\",\"WWW\",\"WWW\",\"WWH\",\"WHH\",\"WWH\",\"WHH\",\"HHW\",\"HWW\",\"WWW\",\"WWW\",\"WWW\",\"WWH\",\"WHH\",\"HHW\",\"HWW\",\"WWW\",\"WWW\",\"WWW\",\"WWH\",\"WHH\",\"HHH\",\"HHW\",\"HWW\",\"WWW\",\"WWW\",\"WWH\",\"WHH\",\"HHW\",\"HWW\",\"WWW\",\"WWH\",\"WHW\",\"HWH\",\"WHH\",\"HHW\",\"HWW\",\"WWW\",\"WWW\",\"WWW\",\"WWH\",\"WHH\",\"HHH\",\"HHW\",\"HWW\",\"WWW\",\"WWW\",\"WWH\",\"WHH\",\"HHW\",\"HWH\",\"WHW\",\"HWW\",\"WWW\",\"WWH\",\"WHH\",\"HHW\",\"HWW\",\"WWW\",\"WWW\",\"WWW\",\"WWH\",\"WHH\",\"HHW\",\"HWW\",\"WWW\",\"WWW\",\"WWW\",\"WWH\",\"WHH\",\"HWW\",\"WWW\",\"WWW\",\"WWW\",\"WWH\",\"WHH\",\"HHH\",\"HHH\",\"HHH\",\"HWW\",\"WWH\",\"WHH\",\"HHW\",\"HWW\",\"WWW\",\"WWW\",\"WWW\",\"WWH\",\"WHH\",\"HHW\",\"HWW\",\"WWW\",\"WWW\",\"WWW\",\"WWH\",\"WHH\",\"HHW\",\"HWW\",\"WWW\",\"WWW\",\"WWH\",\"WHH\",\"HHW\",\"HWW\",\"WWW\",\"WWH\",\"WHH\",\"HHW\",\"HWW\",\"WWW\",\"WWW\",\"WWW\",\"WWH\",\"WHH\",\"HHW\",\"WWW\",\"WWW\",\"WWW\",\"WWH\",\"HWW\",\"WWW\",\"WWW\",\"HWW\",\"WWW\",\"WWW\",\"WWH\",\"WHH\",\"HHW\",\"HWW\",\"WWW\",\"WWH\",\"WHW\",\"HWH\",\"WHH\",\"HHW\",\"HWW\",\"WWW\",\"WWW\",\"WWW\",\"WHH\",\"WHH\",\"HHW\",\"HWW\",\"WWW\",\"WWH\",\"WHH\",\"HHW\",\"HWW\",\"WWW\",\"WWW\",\"WWH\",\"WHH\",\"HHW\",\"HWW\",\"WWW\",\"WWW\",\"WWW\",\"WWH\",\"WHH\",\"HHW\",\"HWW\",\"WWW\",\"WWW\",\"WWW\",\"WWH\",\"HHW\",\"HWW\",\"WWW\",\"WWW\",\"WWW\",\"WWH\",\"WHH\",\"HHW\",\"HWW\",\"WWW\",\"WWW\",\"WWW\",\"WWH\",\"WHH\",\"HHW\",\"HWW\",\"WWH\",\"WHW\",\"HWW\",\"WWH\",\"WHH\",\"HHW\",\"HWW\",\"WWW\",\"WWW\",\"WWW\",\"WWW\",\"WWW\",\"WWH\",\"WHH\",\"HHH\",\"HHW\",\"HWW\",\"WWW\",\"WWW\",\"WWW\",\"WWH\",\"WHH\",\"HHW\",\"HWW\",\"WWW\",\"WWW\",\"WWW\",\"WWH\",\"WHH\",\"HHH\",\"HHW\",\"HWW\",\"WWW\",\"WWW\",\"WWH\",\"WHH\",\"HHW\",\"HWW\",\"WWW\",\"WWW\",\"WWW\",\"WWH\",\"WHH\",\"HHW\",\"HWW\",\"WWW\",\"WWW\",\"WWW\",\"WWH\",\"WHH\",\"HHW\",\"HWW\",\"WWW\",\"WWW\",\"WWW\",\"WWH\",\"WHH\",\"HHW\",\"HWW\",\"WWW\",\"WWW\",\"WWW\",\"WWH\",\"WHH\",\"HHW\",\"HWW\",\"WWW\",\"WWW\",\"WWW\",\"WWH\",\"WHH\",\"HHW\",\"HWW\",\"WWW\",\"WWH\",\"WHH\",\"HHW\",\"HWW\",\"WWW\",\"WWW\",\"WWW\",\"WWH\",\"WHH\",\"HHH\",\"HHW\",\"HWW\",\"WWW\",\"WWW\",\"WWH\",\"WHH\",\"HHW\",\"HWW\",\"WWW\",\"WWW\",\"WWW\",\"WWH\",\"WHH\",\"HHW\",\"HWW\",\"WWW\",\"WWW\",\"WWW\",\"WWH\",\"WHH\",\"HHW\",\"HWW\",\"WWW\",\"WWW\",\"WWW\",\"WWH\",\"WHH\",\"HHW\",\"HWW\",\"WWW\",\"WWW\",\"WWW\",\"WWH\",\"WHH\",\"HHW\",\"HWW\",\"WWW\",\"WWW\",\"WWW\",\"WWH\",\"WHH\",\"HHW\",\"HWW\",\"WWW\",\"WWW\",\"WWW\",\"WWH\",\"WHH\",\"HHW\",\"HWH\",\"HHW\",\"HWW\",\"WWH\",\"WHH\",\"HHW\",\"HWW\",\"WWW\",\"WWW\",\"WWH\",\"WHH\",\"HHH\",\"HHW\",\"HWW\",\"WWW\",\"WWW\",\"WWW\",\"WWH\",\"WHH\",\"HHW\",\"HWW\",\"WWW\",\"WWW\",\"WWW\",\"WWH\",\"WHH\",\"HHW\",\"HWW\",\"WWW\",\"WWW\",\"WWW\",\"WWH\",\"WHH\",\"HHW\",\"HWW\",\"WWW\",\"WWW\",\"WWW\",\"WWH\",\"HHW\",\"HWW\",\"WWW\",\"WWW\",\"WWH\",\"WHH\"],\"No Of Other Card Withdrawals\":[30,12,3,22,16,13,10,20,19,15,22,10,10,9,8,8,9,16,17,15,4,13,10,5,18,9,9,7,38,8,10,19,6,14,10,10,18,15,22,18,16,15,28,12,16,17,8,11,11,7,14,11,18,12,18,7,16,6,17,15,22,20,16,15,26,10,18,10,8,14,19,19,9,22,21,8,10,18,3,8,18,7,8,10,8,14,7,17,13,21,23,17,35,12,17,14,15,15,12,22,20,17,25,12,9,20,15,13,15,19,19,13,15,15,16,6,8,13,6,5,17,8,2,7,19,9,6,14,13,26,14,7,14,10,7,20,9,12,24,10,22,17,16,16,34,39,22,7,13,12,18,17,17,13,17,16,19,15,20,20,17,6,15,17,11,12,14,12,26,27,13,29,11,15,17,11,18,7,23,24,10,19,18,14,17,15,11,10,18,6,10,11,5,16,14,15,11,6,0,4,21,23,26,17,37,22,15,7,14,27,25,47,36,50,49,43,41,58,54,52,43,15,11,12,15,20,0,4,8,13,13,13,26,16,21,14,12,10,26,4,21,17,22,19,12,15,44,18,10,19,21,5,20,27,6,18,13,14,29,24,19,20,14,8,10,12,15,16,8,19,26,15,16,15,25,5,10,16,5,25,21,20,19,17,16,25,30,26,11,13,29,12,18,19,17,9,30,16,9,18,18,15,11,19,18,19,20,28,19,7,11,14,19,23,7,8,20,11,19,13,13,17,15,17,18,9,22,25,19,18,18,15,12,21,29,54,32,41,20,28,30,14,24,18,23,20,33,13,22,24,17,8,20,18,32,22,19,25,23,19,21,7,12,30,11,21,14,15,17,10,16,18,38,23,18,9,31,30,16,14,10,12,12,12,13,30,16,16,18,14,16,29,21,25,24,25,14,22,18,18,24,20,24,28,25,33,26,21,39,18,23,24,18,7,30,22,23,16,26,30,17,24,13,7,0,19,26,21,28,16,18,28,21,17,19,34,21,28,16,31,16,11,27,26,30,26,15,24,17,19,23,26,29,30,16,16,23,32,11,20,19,20,19,14,21,8,19,19,10,19,1,6,13,21,24,15,13,8,15,25,15,19,3,2,28,2,9,10,7,4,8,9,29,24,17,21,44,20,23,35,25,34,15,5,5,33,41,21,43,48,40,22,46,34,34,25,3,0,0,2,30,44,78,43,70,55,111,61,53,63,50,25,44,49,23,47,33,23,22,41,39,29,23,28,24,82,35,52,38,32,26,33,46,40,66,37,30,45,25,29,32,26,21,14,21,21,27,23,20,48,21,17,24,20,19,17,27,29,36,47,32,35,25,22,25,14,7,18,14,29,38,32,11,23,38,9,22,21,19,31,34,29,25,18,24,40,49,76,52,31,39,47,48,54,67,35,44,67,54,50,75,82,63,58,63,50,39,49,51,40,51,49,59,58,30,70,67,101,69,51,55,63,71,51,61,77,61,40,57,46,47,53,52,48,48,62,63,36,46,46,40,50,36,41,30,27,51,55,60,49,59,80,42,69,49,71,94,86,74,87,49,56,41,36,54,52,58,51,62,65,58,58,44,60,62,71,89,103,81,97,80,58,69,60,89,68,59,75,61,53,97,95,63,54,58,62,51,99,46,67,50,60,46,53,59,77,87,99,76,65,71,24,70,71,46,51,67,70,76,83,76,58,91,55,75,60,78,59,57,66,52,49,39,68,92,83,53,69,75,104,74,53,70,60,76,33,38,88,59,76,62,57,49,59,84,53,59,60,39,66,73,79,46,30,58,85,47,35,60,48,57,68,65,47,59,82,51,53,42,65,60,76,72,43,60,76,74,60,62,63,54,75,35,60,76,76,91,82,72,57,74,77,52,92,67,64,75,95,83,76,85,66,73,74,30,66,72,73,59,61,79,64,67,91,93,68,76,81,34,99,61,111,48,53,64,77,56,53,84,71,65,49,60,42,82,78,67,72,81,63,80,23,45,48,53,64,85,85,111,56,79,59,74,46,82,77,59,98,81,75,70,77,89,73,83,57,84,61,90,70,64,39,31,62,64,76,97,42,59,84,113,78,76,106,66,87,93,82,51,57,28,46,85,119,129,87,44,72,60,58,75,58,60,60,81,43,49,34,81,103,69,110,63,65,68,59,97,61,65,59,69,93,58,55,116,80,85,71,61,65,73,90,57,64,67,64,66,67,82,65,80,81,80,87,109,127,93,100,82,76,75,62,100,68,73,46,85,63,46,77,82,56,58,70,74,59,104,71,66,93,87,72,92,117,79,80,66,64,55,101,122,104,82,51,62,85,67,103,65,69,58,60,74,73,81,63,77,69,71,83,112,95,69,55,78,85,70,60,90,70,72,73,87,88,90,83,55,52,72,80,86,69,46,77,73,53,70,86,50,82,75,65,82,72,77,76,73,59,61,64,67,4,17,84,44,32,67,73,59,96,57,48,74,66,102,82,99,80,99,82,86,98,57,92,95,87,72,100,96,45,51,67,41,73,60,87,63,60,53,34,72,47,83,65,111,69,60,67,63,25,60,77,92,93,89,102,89,44,55,85,88,105,86,87,67,65,60,49,78,83,110,85,76,85,48,88,91,86,43,74,76,74,63,68,86,52,67,72,81,68,73,84,47,63,104,88,78,67,106,133,51,56,83,68,85,72,80,83,98,93,72,46,35,55,86,81,74,55,49,63,82,62,0,64,91,93,63,50,61,46,64,52,57,29,42,71,66,26,51,49,47,57,62,52,61,48,93,77,59,71,66,63,88,109,100,83,95,129,80,73,103,100,60,53,87,74,85,94,68,92,78,62,68,80,83,58,54,58,54,59,62,69,49,77,62,52,65,92,68,76,106,42,52,73,57,77,71,61,63,70,69,80,105,66,48,82,67,69,87,94,66,65,79,92,70,73,64,77,38,74,84,119,114,55,113,117,101,112,95,57,33,47,26,72,78,72,88,50,54,58,68,73,79,87,54,48,63,83,56,52,73,108,79,85,67,81,92,90,74,90,84,85,78,109,123,92,96,79,88,79,103,93,40,98,90,79,66,113,44,33,72,122,37,0,35,43,62,99,89,81,89,126,82,70,79,94,100,80,106,73,86,110,114,78,94,74,68,52,42,73,94,105,120,57,0,26,47,64,88,103,65,64,68,53,73,78,96,62,68,75,59,68,70,71,62,62,51,83,110,35,78,54,84,70,38,61,88,68,58,74,61,87,89,65,90,75,62,61,67,80,82,84,57,51,69,81,61,69,75,69,87,118,78,83,89,48,46,78,63,75,72,88,85,86,73,46,34,43,75,101,6,51,52,49,44,61,76,70,48,69,72,70,93,78,77,73,68,83,60,76,102,83,82,73,83,70,105,71,77,80,35,83,58,84,75,53,59,60,67,72,85,90,71,85,79,71,83,94,10,6,74,68,78,70,67,85,66,68,64,105,79,77,79,64,66,63,0,53,72,80,80,70,51,36,64,58,73,68,51,61,80,75,87,64,69,48,73,43,60,69,72,63,81,79,21,56,47,83,76,89,91,71,69,54,82,75,88,101,118,79,73,54,64,62,65,38,4,1,32,55,64,76,76,66,58,79,47,52,87,32,41,78,76,67,93,97,87,91,95,72,88,71,76,62,54,62,21,60,63,71,56,63,84,65,100,94,60,81,110,53,83,92,116,53,69,83,58,57,96,108,86,72,75,83,70,85,84,46,65,62,99,58,68,103,79,63,48,71,92,135,90,65,67,92,83,60,97,95,87,93,90,58,71,81,95,90,88,80,72,74,71,113,53,64,52,98,72,103,94,92,90,98,88,81,108,87,78,64,101,71,79,105,93,53,81,103,91,80,96,82,68,48,79,77,79,62,83,47,78,98,109,80,90,74,74,70,53,96,77,127,98,69,90,72,92,60,90,97,72,77,74,86,55,99,92,83,85,86,87,72,149,117,125,106,90,93,110,114,137,104,106,119,74,44,112,78,65,107,76,75,68,92,80,78,96,105,74,87,97,103,92,128,116,118,90,99,133,101,119,78,99,78,99,125,90,63,101,69,79,82,114,97,102,94,83,52,62,105,89,100,83,111,113,49,34,85,81,101,88,57,101,138,83,80,70,89,86,82,80,86,64,29,54,81,89,23,57,29,43,86,87,114,120,128,99,116,90,105,65,52,49,48,110,105,98,86,118,104,71,70,88,110,113,133,79,100,78,98,76,101,105,94,126,65,76,117,106,101,70,105,110,104,124,103,83,100,93,81,77,70,104,79,90,91,21,80,92,74,39,27,72,28,64,82,92,87,88,4,78,60,112,110,89,32,72,88,90,94,91,77,84,103,14,31,73,91,68,70,86,53,64,62,42,43,71,123,109,102,62,67,75,79,64,79,67,72,90,106,35,61,48,78,93,51,45,79,73,99,130,118,108,116,134,110,87,120,117,92,73,91,79,61,92,85,90,91,101,76,76,79,77,68,41,91,59,44,68,16,27,59,99,68,40,59,31,102,109,85,80,61,76,103,50,5,55,63,75,32,48,15,51,40,81,83,118,72,46,84,133,117,94,60,47,45,64,102,96,125,93,61,115,94,94,72,48,78,85,98,76,94,104,105,99,102,124,94,90,141,127,105,71,105,62,21,120,101,82,75,67,36,70,104,62,73,92,83,77,94,103,92,82,88,87,67,82,71,86,93,98,68,46,91,60,27,99,54,98,73,57,34,78,84,53,104,69,57,73,77,89,17,60,90,0,51,90,77,104,122,88,60,0,15,129,0,51,0,2,1,4,5,0,1,3,13,3,17,17,0,2,5,39,38,43,48,48,36,45,48,50,61,45,73,91,115,78,7,0,0,2,0,37,58,56,23,8,57,58,74,57,0,31,81,47,59,54,51,32,34,58,47,67,19,64,52,17,1,3,60,25,11,46,53,39,62,35,49,111,67,85,84,24,87,169,72,114,31,116,96,60,99,111,87,94,86,69,71,87,59,70,50,63,61,59,97,90,91,100,111,133,45,87,88,83,66,85,87,73,71,60,111,109,33,69,62,62,92,68,68,52,67,62,66,71,67,61,79,82,97,106,66,82,112,70,109,73,47,68,108,65,96,46,78,62,75,71,83,89,72,81,83,37,67,74,104,78,97,116,44,58,34,34,71,105,80,70,90,63,21,57,76,79,49,80,25,50,68,80,56,37,52,77,42,52,69,65,74,89,64,81,76,46,107,89,63,70,62,86,97,91,57,64,69,79,90,65,68,91,64,92,17,90,114,53,65,109,89,140,106,100,74,83,96,88,97,105,115,49,74,86,75,83,110,89,61,62,14,72,101,98,81,95,90,96,103],\"No Of Withdrawals\":[50,17,24,34,30,29,23,37,36,29,42,19,22,25,24,17,37,29,33,25,21,25,18,26,39,18,26,22,53,18,23,36,19,40,28,23,32,28,42,32,31,31,45,28,33,34,14,26,35,15,20,23,35,31,30,22,23,15,39,29,37,29,41,39,42,28,45,32,25,27,30,41,25,33,38,23,27,32,6,27,27,15,16,26,17,41,32,30,32,39,43,31,56,20,39,33,23,28,42,42,41,31,56,30,29,25,38,32,27,40,34,24,35,36,27,17,30,32,20,14,23,23,22,18,32,22,28,31,29,45,31,23,22,15,18,31,23,28,39,29,36,35,33,34,55,65,39,29,32,33,34,34,30,25,34,29,33,27,32,35,39,14,29,42,20,23,34,23,43,45,34,51,28,36,44,23,35,20,35,33,28,38,36,40,33,32,34,33,31,25,33,27,23,28,14,19,27,20,15,20,38,38,39,33,47,34,36,24,32,40,42,68,57,67,72,57,57,85,70,67,71,37,47,29,26,34,4,14,24,25,22,36,35,31,42,32,29,34,31,14,38,42,36,35,34,29,67,36,27,38,38,23,32,39,20,44,31,27,43,41,36,35,33,25,23,34,28,40,18,44,42,28,35,53,43,22,23,39,14,44,45,41,30,39,36,44,52,41,24,35,49,16,36,29,34,37,53,24,16,28,33,37,23,38,41,38,44,41,30,12,28,32,37,34,15,16,36,25,37,28,24,37,32,36,25,25,33,48,27,27,35,34,28,43,41,74,46,52,39,38,50,39,41,36,44,37,54,25,46,38,28,36,33,46,65,35,42,42,37,35,37,13,22,47,30,40,38,58,35,25,40,41,64,56,38,24,49,46,46,36,38,40,28,41,38,53,35,48,33,40,38,43,56,45,45,50,37,39,38,33,47,38,46,48,52,53,46,41,65,34,38,35,28,9,53,39,45,41,47,52,34,49,40,16,2,43,48,33,58,43,25,46,35,28,44,50,36,59,39,45,31,27,49,44,62,45,40,40,38,33,38,43,53,57,44,36,40,64,32,29,41,36,42,48,48,26,46,44,42,26,6,27,31,41,51,37,36,24,28,55,37,39,21,6,34,31,36,37,18,20,33,47,48,48,45,45,65,35,42,55,44,53,32,28,18,53,65,38,58,64,57,41,59,56,52,41,20,22,15,40,51,63,99,56,89,76,130,66,56,90,70,47,81,75,62,72,53,38,32,55,54,49,38,60,37,110,52,81,48,62,38,64,71,63,100,51,48,60,51,52,50,56,42,37,38,41,43,45,43,82,46,27,39,34,29,36,52,47,56,60,48,44,48,41,49,31,13,22,33,43,54,52,35,37,55,16,48,41,53,56,54,42,34,34,40,59,62,95,62,48,65,68,76,79,97,61,64,94,89,86,96,112,90,89,91,87,63,69,72,66,76,80,86,76,55,89,97,118,94,65,74,89,94,71,88,104,91,70,87,63,84,80,79,68,69,86,102,55,77,76,64,76,57,63,53,50,80,87,90,79,76,110,75,109,83,92,132,127,111,105,62,76,70,55,86,81,86,78,85,85,80,90,78,76,81,96,117,141,105,127,112,82,98,90,113,95,85,90,90,76,120,118,95,76,77,90,77,130,67,97,76,89,94,109,98,106,118,125,108,94,104,47,95,99,68,73,100,106,111,103,96,83,120,90,107,84,106,86,89,102,96,74,58,98,129,116,85,99,120,122,94,81,110,90,118,54,54,122,84,127,90,91,72,81,115,72,76,104,71,81,96,107,91,82,96,111,74,46,74,82,88,96,104,87,104,113,80,94,76,99,97,111,103,84,86,119,115,89,98,96,85,102,47,97,105,111,113,102,103,98,100,115,86,124,92,88,118,122,105,109,110,102,115,97,49,93,111,111,84,100,110,89,102,129,131,104,116,100,74,138,85,139,77,71,110,103,92,91,121,109,107,89,100,75,118,113,108,107,120,99,106,40,59,75,90,93,128,127,132,86,127,95,96,73,116,105,95,135,110,102,104,120,111,118,115,97,128,84,141,98,93,68,55,100,93,128,133,90,91,113,148,116,105,144,100,127,126,115,94,84,57,97,128,153,159,117,82,125,87,85,109,86,101,90,120,71,76,63,127,139,93,137,97,97,111,109,127,100,109,97,95,150,103,73,151,129,123,101,93,99,113,138,85,105,107,89,106,96,129,85,119,125,121,131,150,166,119,138,106,123,129,100,132,91,114,84,129,98,73,115,116,102,106,112,120,107,151,110,106,119,116,117,128,149,119,124,110,106,100,136,158,146,125,80,101,128,103,132,88,106,92,98,108,100,111,105,124,108,118,133,150,121,92,98,104,116,110,95,113,101,100,107,115,127,133,116,93,97,91,116,117,118,71,119,131,79,114,124,85,119,114,107,121,117,127,121,106,98,101,107,107,17,44,129,77,73,100,101,98,144,101,80,105,108,140,112,147,119,141,116,115,128,84,115,135,130,112,120,123,85,85,96,81,118,97,118,92,107,84,67,120,93,128,95,154,119,101,111,97,48,86,112,128,118,132,136,127,77,89,121,130,147,123,134,102,94,94,91,123,130,154,143,128,131,96,121,159,117,82,114,119,110,94,127,137,71,104,119,110,107,114,113,91,101,144,137,126,105,131,198,76,99,130,112,120,115,124,125,140,130,114,69,35,73,125,123,106,105,93,94,128,103,7,103,137,136,98,92,95,70,109,83,99,48,61,99,101,40,90,77,71,100,94,78,92,80,124,113,92,105,92,91,131,149,130,128,123,177,113,103,142,147,92,85,129,103,137,118,110,133,120,98,106,115,122,91,96,94,92,107,91,99,77,107,101,79,95,123,108,108,142,59,70,114,84,107,99,86,88,98,88,106,145,102,74,115,100,98,134,122,99,101,114,125,108,94,80,115,48,103,114,150,149,71,151,159,138,147,131,87,50,82,30,113,104,106,122,82,90,107,93,108,106,115,84,73,101,133,75,73,92,140,105,109,118,121,120,113,104,121,114,126,122,146,158,123,124,122,116,118,131,131,50,142,123,113,106,152,58,43,115,164,52,2,49,59,89,146,133,120,109,172,105,108,107,121,142,123,153,105,115,155,141,104,109,101,102,77,76,98,129,141,161,103,3,51,75,103,127,139,104,98,109,94,112,136,131,102,111,128,87,97,115,108,100,118,88,127,165,61,106,78,130,118,46,122,116,102,77,119,102,127,137,104,122,119,95,102,116,116,112,127,89,94,122,117,90,107,104,115,129,172,119,128,137,87,69,123,108,118,109,127,126,118,116,80,66,73,120,140,16,96,96,101,74,101,101,97,91,119,109,117,129,122,131,123,119,123,100,112,138,123,118,112,127,112,147,96,121,119,69,122,88,113,113,91,97,110,104,115,137,133,113,137,116,124,102,136,10,13,130,107,119,104,120,118,117,111,93,142,109,120,131,106,108,112,11,78,120,122,132,94,70,60,106,99,107,107,77,91,116,112,121,97,106,83,102,68,93,119,121,94,130,117,29,98,81,126,116,116,144,105,97,78,122,117,134,137,161,117,114,90,88,108,93,61,32,11,61,100,102,108,110,113,102,113,81,89,118,40,69,116,103,95,136,116,119,139,139,101,120,107,105,109,85,90,37,91,113,118,90,99,121,101,143,135,111,119,172,88,121,136,150,87,102,129,106,108,124,144,126,110,112,122,112,113,127,80,91,108,144,98,111,149,118,109,78,117,150,177,125,93,113,140,134,111,128,150,131,148,131,95,116,112,142,140,126,132,132,112,112,151,85,106,83,122,122,161,126,118,135,143,126,116,156,118,122,105,136,127,136,155,136,87,113,150,124,123,138,127,107,82,114,128,112,106,117,82,131,141,161,109,122,100,129,115,78,135,117,176,125,119,122,121,141,95,141,148,119,116,121,121,98,129,126,135,124,134,135,122,202,164,168,153,143,140,170,151,176,145,180,157,109,69,157,125,118,154,117,123,121,140,112,119,135,146,146,143,129,145,149,181,148,148,133,132,163,140,160,118,141,129,142,157,137,104,143,112,116,121,149,145,144,144,122,73,77,134,122,135,128,156,155,67,51,115,122,143,131,85,149,171,131,124,104,127,130,117,118,129,115,55,73,132,123,42,86,46,68,122,124,162,174,166,132,160,134,152,84,69,70,77,161,150,151,129,166,155,107,134,147,144,147,181,130,165,121,136,135,141,150,142,169,97,113,168,156,134,109,152,171,161,165,152,135,140,130,117,119,101,150,134,127,143,26,99,124,105,55,38,105,35,90,111,121,134,122,10,104,79,150,163,142,45,112,118,152,140,133,99,134,132,23,49,125,133,100,101,135,96,102,80,53,68,87,148,149,150,100,113,106,110,86,124,124,100,129,154,51,89,85,127,118,86,79,125,107,142,171,157,167,160,173,150,127,163,167,115,96,121,124,104,131,117,114,119,127,103,112,114,116,90,62,119,92,66,96,27,42,75,126,92,60,79,49,138,142,117,127,78,134,133,67,8,81,90,100,47,68,24,67,46,107,119,147,106,63,109,169,145,125,99,71,69,98,138,133,150,126,83,151,131,129,99,59,107,122,135,116,125,135,141,136,143,165,150,120,175,160,147,98,153,83,35,152,137,112,106,105,53,87,133,87,108,124,115,109,129,130,136,115,139,110,88,105,96,102,132,137,95,60,107,86,36,137,86,132,86,93,54,102,119,77,130,96,76,107,119,129,24,72,103,1,75,126,100,141,156,113,109,4,18,145,1,76,10,4,5,17,15,2,5,8,19,4,22,23,1,3,7,47,48,57,65,69,57,62,78,73,88,75,97,128,151,99,15,4,3,4,1,50,73,86,40,11,70,80,97,78,3,46,110,79,74,69,79,55,69,81,67,85,29,99,80,35,7,6,80,36,16,79,82,53,79,47,63,139,107,110,115,37,103,203,86,149,35,143,128,79,125,123,115,117,100,114,100,117,75,94,77,101,94,93,132,125,129,129,145,167,59,122,118,117,101,127,123,113,96,78,135,139,54,98,96,90,120,92,90,77,95,89,93,95,98,91,128,121,131,149,92,111,140,106,135,106,71,83,137,95,120,58,113,89,106,103,114,127,106,118,99,44,88,90,144,115,131,150,56,72,49,49,116,122,105,98,122,95,33,82,106,109,71,104,35,64,103,111,80,60,71,101,69,83,91,81,119,124,82,105,124,66,129,111,84,95,93,119,118,115,81,97,95,112,110,81,80,130,95,135,22,113,132,61,83,139,118,174,135,127,100,121,136,114,143,135,136,75,118,110,112,108,141,125,109,85,24,91,136,126,122,131,130,137,137],\"No Of XYZ Card Withdrawals\":[20,5,21,12,14,16,13,17,17,14,20,9,12,16,16,9,28,13,16,10,17,12,8,21,21,9,17,15,15,10,13,17,13,26,18,13,14,13,20,14,15,16,17,16,17,17,6,15,24,8,6,12,17,19,12,15,7,9,22,14,15,9,25,24,16,18,27,22,17,13,11,22,16,11,17,15,17,14,3,19,9,8,8,16,9,27,25,13,19,18,20,14,21,8,22,19,8,13,30,20,21,14,31,18,20,5,23,19,12,21,15,11,20,21,11,11,22,19,14,9,6,15,20,11,13,13,22,17,16,19,17,16,8,5,11,11,14,16,15,19,14,18,17,18,21,26,17,22,19,21,16,17,13,12,17,13,14,12,12,15,22,8,14,25,9,11,20,11,17,18,21,22,17,21,27,12,17,13,12,9,18,19,18,26,16,17,23,23,13,19,23,16,18,12,0,4,16,14,15,16,17,15,13,16,10,12,21,17,18,13,17,21,21,17,23,14,16,27,16,15,28,22,36,17,11,14,4,10,16,12,9,23,9,15,21,18,17,24,5,10,17,25,14,16,22,14,23,18,17,19,17,18,12,12,14,26,18,13,14,17,17,15,19,17,13,22,13,24,10,25,16,13,19,38,18,17,13,23,9,19,24,21,11,22,20,19,22,15,13,22,20,4,18,10,17,28,23,8,7,10,15,22,12,19,23,19,24,13,11,5,17,18,18,11,8,8,16,14,18,15,11,20,17,19,7,16,11,23,8,9,17,19,16,22,12,20,14,11,19,10,20,25,17,18,21,17,21,12,24,14,11,28,13,28,33,13,23,17,14,16,16,6,10,17,19,19,24,43,18,15,24,23,26,33,20,15,18,16,30,22,28,28,16,29,25,23,19,32,15,26,22,14,35,20,21,25,23,17,20,15,23,18,22,20,27,20,20,20,26,16,15,11,10,2,23,17,22,25,21,22,17,25,27,9,2,24,22,12,30,27,7,18,14,11,25,16,15,31,23,14,15,16,22,18,32,19,25,16,21,14,15,17,24,27,28,20,17,32,21,9,22,16,23,34,27,18,27,25,32,7,5,21,18,20,27,22,23,16,13,30,22,20,18,4,6,29,27,27,11,16,25,38,19,24,28,24,21,15,19,20,19,19,17,23,13,20,24,17,15,16,17,19,13,22,18,16,17,22,15,38,21,19,21,13,19,21,19,5,3,27,20,22,37,26,39,25,20,15,10,14,15,20,15,32,13,28,17,29,10,30,12,31,25,23,34,14,18,15,26,23,18,30,21,23,17,20,16,22,23,34,25,10,15,14,10,19,25,18,20,13,16,9,23,19,24,17,6,4,19,14,16,20,24,14,17,7,26,20,34,25,20,13,9,16,16,19,13,19,10,17,26,21,28,25,30,26,20,27,35,36,21,30,27,31,28,37,24,20,21,26,25,31,27,18,25,19,30,17,25,14,19,26,23,20,27,27,30,30,30,17,37,27,27,20,21,24,39,19,31,30,24,26,21,22,23,23,29,32,30,30,17,30,33,40,34,21,38,41,37,18,13,20,29,19,32,29,28,27,23,20,22,32,34,16,19,25,28,38,24,30,32,24,29,30,24,27,26,15,29,23,23,23,32,22,19,28,26,31,21,30,26,29,48,56,39,29,31,26,32,29,33,23,25,28,22,22,33,36,35,20,20,25,29,35,32,24,28,27,32,36,44,25,19,30,37,33,32,30,45,18,20,28,40,30,42,21,16,34,25,51,28,34,23,22,31,19,17,44,32,15,23,28,45,52,38,26,27,11,14,34,31,28,39,40,45,31,29,41,34,34,37,35,31,41,26,43,41,29,36,33,31,27,12,37,29,35,22,20,31,41,26,38,34,32,25,24,43,27,22,33,25,36,42,23,19,27,39,38,25,39,31,25,35,38,38,36,40,19,40,39,24,28,29,18,46,26,36,38,37,38,42,40,40,33,36,35,41,35,39,36,26,17,14,27,37,29,43,42,21,30,48,36,22,27,34,28,36,37,29,27,34,43,22,45,32,40,44,23,51,28,29,29,24,38,29,52,36,48,32,29,35,38,29,38,34,40,33,33,43,27,29,51,43,34,30,30,38,53,27,27,34,28,41,30,39,28,27,29,46,36,24,27,34,32,43,50,30,39,44,38,26,57,45,18,35,49,38,30,32,34,40,48,28,41,40,25,40,29,47,20,39,44,41,44,41,39,26,38,24,47,54,38,32,23,41,38,44,35,27,38,34,46,48,42,46,48,47,39,40,26,29,45,36,32,40,44,44,42,45,35,36,42,43,29,39,43,36,29,23,37,34,38,34,27,30,42,47,39,47,50,38,26,23,43,26,31,40,35,23,31,28,34,28,39,43,33,38,45,19,36,31,49,25,42,58,26,44,38,35,37,39,42,39,45,50,45,33,39,40,43,40,13,27,45,33,41,33,28,39,48,44,32,31,42,38,30,48,39,42,34,29,30,27,23,40,43,40,20,27,40,34,29,40,45,37,31,29,47,31,33,48,46,45,30,43,50,41,44,34,23,26,35,36,25,43,34,38,33,34,36,42,42,37,47,35,29,34,42,45,47,44,58,52,46,48,33,68,31,39,40,43,36,31,59,51,19,37,47,29,39,41,29,44,38,40,49,48,38,25,65,25,43,47,44,35,43,44,42,42,37,42,23,0,18,39,42,32,50,44,31,46,41,7,39,46,43,35,42,34,24,45,31,42,19,19,28,35,14,39,28,24,43,32,26,31,32,31,36,33,34,26,28,43,40,30,45,28,48,33,30,39,47,32,32,42,29,52,24,42,41,42,36,38,35,39,33,42,36,38,48,29,30,28,30,39,27,30,31,40,32,36,17,18,41,27,30,28,25,25,28,19,26,40,36,26,33,33,29,47,28,33,36,35,33,38,21,16,38,10,29,30,31,35,16,38,42,37,35,36,30,17,35,4,41,26,34,34,32,36,49,25,35,27,28,30,25,38,50,19,21,19,32,26,24,51,40,28,23,30,31,30,41,44,37,35,31,28,43,28,39,28,38,10,44,33,34,40,39,14,10,43,42,15,2,14,16,27,47,44,39,20,46,23,38,28,27,42,43,47,32,29,45,27,26,15,27,34,25,34,25,35,36,41,46,3,25,28,39,39,36,39,34,41,41,39,58,35,40,43,53,28,29,45,37,38,56,37,44,55,26,28,24,46,48,8,61,28,34,19,45,41,40,48,39,32,44,33,41,49,36,30,43,32,43,53,36,29,38,29,46,42,54,41,45,48,39,23,45,45,43,37,39,41,32,43,34,32,30,45,39,10,45,44,52,30,40,25,27,43,50,37,47,36,44,54,50,51,40,40,36,36,40,36,39,44,42,42,25,44,39,34,39,30,29,38,38,38,50,37,43,52,43,42,52,37,53,19,42,0,7,56,39,41,34,53,33,51,43,29,37,30,43,52,42,42,49,11,25,48,42,52,24,19,24,42,41,34,39,26,30,36,37,34,33,37,35,29,25,33,50,49,31,49,38,8,42,34,43,40,27,53,34,28,24,40,42,46,36,43,38,41,36,24,46,28,23,28,10,29,45,38,32,34,47,44,34,34,37,31,8,28,38,27,28,43,19,32,48,44,29,32,36,29,47,31,28,16,31,50,47,34,36,37,36,43,41,51,38,62,35,38,44,34,34,33,46,48,51,28,36,40,38,37,39,42,28,43,34,26,46,45,40,43,46,39,46,30,46,58,42,35,28,46,48,51,51,31,55,44,55,41,37,45,31,47,50,38,52,60,38,41,38,32,42,31,24,50,58,32,26,45,45,38,35,48,31,44,41,35,56,57,50,43,34,32,47,33,43,42,45,39,34,35,51,33,44,34,35,53,43,52,29,32,26,55,45,25,39,40,49,27,50,32,49,49,35,51,51,47,39,47,35,43,30,34,52,39,48,48,50,53,47,43,47,53,47,60,37,39,41,74,38,35,25,45,47,53,47,41,48,53,48,32,41,39,41,72,56,32,42,57,53,32,30,43,33,30,39,41,40,42,51,43,32,47,41,42,43,37,39,35,48,42,50,39,21,15,29,33,35,45,45,42,18,17,30,41,42,43,28,48,33,48,44,34,38,44,35,38,43,51,26,19,51,34,19,29,17,25,36,37,48,54,38,33,44,44,47,19,17,21,29,51,45,53,43,48,51,36,64,59,34,34,48,51,65,43,38,59,40,45,48,43,32,37,51,50,33,39,47,61,57,41,49,52,40,37,36,42,31,46,55,37,52,5,19,32,31,16,11,33,7,26,29,29,47,34,6,26,19,38,53,53,13,40,30,62,46,42,22,50,29,9,18,52,42,32,31,49,43,38,18,11,25,16,25,40,48,38,46,31,31,22,45,57,28,39,48,16,28,37,49,25,35,34,46,34,43,41,39,59,44,39,40,40,43,50,23,23,30,45,43,39,32,24,28,26,27,36,35,39,22,21,28,33,22,28,11,15,16,27,24,20,20,18,36,33,32,47,17,58,30,17,3,26,27,25,15,20,9,16,6,26,36,29,34,17,25,36,28,31,39,24,24,34,36,37,25,33,22,36,37,35,27,11,29,37,37,40,31,31,36,37,41,41,56,30,34,33,42,27,48,21,14,32,36,30,31,38,17,17,29,25,35,32,32,32,35,27,44,33,51,23,21,23,25,16,39,39,27,14,16,26,9,38,32,34,13,36,20,24,35,24,26,27,19,34,42,40,7,12,13,1,24,36,23,37,34,25,49,4,3,16,1,25,10,2,4,13,10,2,4,5,6,1,5,6,1,1,2,8,10,14,17,21,21,17,30,23,27,30,24,37,36,21,8,4,3,2,1,13,15,30,17,3,13,22,23,21,3,15,29,32,15,15,28,23,35,23,20,18,10,35,28,18,6,3,20,11,5,33,29,14,17,12,14,28,40,25,31,13,16,34,14,35,4,27,32,19,26,12,28,23,14,45,29,30,16,24,27,38,33,34,35,35,38,29,34,34,14,35,30,34,35,42,36,40,25,18,24,30,21,29,34,28,28,24,22,25,28,27,27,24,31,30,49,39,34,43,26,29,28,36,26,33,24,15,29,30,24,12,35,27,31,32,31,38,34,37,16,7,21,16,40,37,34,34,12,14,15,15,45,17,25,28,32,32,12,25,30,30,22,24,10,14,35,31,24,23,19,24,27,31,22,16,45,35,18,24,48,20,22,22,21,25,31,33,21,24,24,33,26,33,20,16,12,39,31,43,5,23,18,8,18,30,29,34,29,27,26,38,40,26,46,30,21,26,44,24,37,25,31,36,48,23,10,19,35,28,41,36,40,41,34],\"Total amount Withdrawn\":[123800,52800,88100,101600,98000,85900,76500,128600,89000,89800,111900,42700,81200,91100,115900,55100,129800,163600,79500,81700,86600,85400,36800,103900,139900,40500,83300,71300,163500,41100,70800,161700,79200,167800,112700,144000,110400,80300,175300,94600,78100,107400,143200,74900,117000,123700,23700,99700,141800,54300,56000,64200,142500,91900,74700,33700,119600,18000,149000,105800,143300,109100,167100,116000,110200,111300,134400,173100,127600,110200,82400,134700,76100,111200,131200,76300,97400,94300,9200,99400,47600,52800,34000,37900,41300,88800,144200,108600,110200,131800,134700,130500,237800,101000,202300,115400,109800,122500,155600,112700,141300,111500,208500,105600,90000,68100,103000,154000,92100,171400,120700,73900,112300,79900,71600,62100,80100,77600,86700,22400,60200,116500,97200,52900,111200,117300,138600,101000,65600,204200,114900,101000,53300,65000,57300,77900,66700,131400,162700,194700,98300,86900,107000,120800,250400,267400,161200,147900,68700,136800,133800,136500,109600,124700,209300,82200,127700,106000,109100,171700,121500,56700,125500,174800,72700,89100,144500,88200,118500,138500,148700,172000,104800,132500,197100,124100,54900,76500,189100,130000,101100,158800,68000,123200,93400,114000,96600,126800,113800,98200,163500,98400,86700,105700,48600,97500,122300,53400,100600,52500,158400,93800,121900,105300,146000,94900,135100,87400,109200,130300,163600,163300,292700,244000,310700,276400,190700,343200,227400,337600,269700,206400,209800,129400,73900,98300,29000,30800,85600,103500,48200,101300,129100,87500,135100,97600,125400,108500,63500,66500,103100,144800,132100,124000,201600,146900,232000,203100,109000,111500,133900,105700,67600,127100,93200,202600,118900,115100,195400,121000,113500,133200,117300,85600,51900,106000,69500,145800,32000,160400,149300,69500,177700,239500,149000,113200,68900,151600,36500,210500,181300,205000,106200,231900,155600,183700,173600,143500,102000,136200,179200,59400,109000,90900,150300,166500,208900,67000,55100,108800,86100,87700,88300,183200,223200,131600,178800,117700,121000,39500,112300,141300,121900,102200,45100,36300,100000,78000,125700,134800,63600,116800,135900,90700,87700,75500,109400,175800,45700,96400,115300,119200,122800,180900,132000,253700,211700,190200,127600,106000,168200,154900,105300,144100,83000,114200,188200,95600,213000,98600,112700,146900,102600,186800,234600,90000,128900,220100,120500,88800,116000,40800,66200,193800,93300,141900,206800,281800,96900,128300,119100,166600,208000,200200,151900,62700,136200,114600,159700,130500,204300,141400,150300,193200,106900,235900,114700,190900,137800,123100,137700,157600,241700,157700,173900,217300,208300,126500,148800,111100,184600,196800,176100,234500,261200,169900,175100,182900,277100,153000,162000,107600,58900,15600,207300,107300,122200,101600,154300,134900,110200,219900,146100,47200,12000,185100,140900,123300,273300,159200,117100,199100,163900,106400,163300,195500,241400,224200,126500,145800,94900,93800,225800,119000,253800,124400,156100,144000,153900,81100,84600,118700,210400,237000,181500,154100,229900,264200,183300,142500,146600,127800,197500,295100,257600,145700,225600,285300,308400,82300,38000,75700,126700,112200,200800,135700,96800,121000,86600,172500,203000,128000,73000,30600,154300,169800,124300,174000,55500,88700,146900,166700,182700,210500,193300,116700,195600,155500,179200,174700,207600,180200,125200,124900,84400,156300,245700,140900,171300,182000,112200,165600,205500,158600,185100,135600,108000,71300,44400,170100,170400,284800,292000,211600,256000,221200,456400,205100,150700,327300,268600,174700,229200,273900,271800,308800,157800,88900,39100,261900,215200,92800,104700,208500,124600,410800,257900,290000,138600,271700,157300,227300,175500,283700,382000,182900,168700,200500,195700,203500,239000,248900,123500,126800,86100,131700,93700,100200,196000,377600,150600,53400,95000,86900,89400,179800,269000,142300,220900,268700,112800,142700,176800,163800,170700,119100,30300,67500,105600,150500,200700,178900,80400,137000,157900,8200,164400,136900,201100,210600,152000,134100,105700,154000,137900,146900,216400,365100,187100,245200,274900,193400,368700,315100,303100,182900,202800,419700,344100,322400,217400,373100,343000,321000,219700,237300,216300,130200,179500,148000,256500,296200,255000,185700,167500,219800,430900,347000,339700,229300,267700,324600,230400,221800,281500,361100,361400,262600,270700,207800,293400,310400,252100,244700,174200,264400,341100,174100,278600,221600,226400,297100,148600,185600,157300,150400,231300,353300,330100,318300,242300,394100,300200,392100,302800,318100,491800,466800,451200,374200,185500,246100,346900,232400,332800,277800,286200,234400,261500,252200,212700,290600,272400,153100,288100,340700,433100,432600,398200,446000,383800,268300,369100,362300,327800,300700,325300,366200,338800,308600,406200,349100,291300,241900,226200,287200,304600,436000,220700,363900,235400,210800,343200,468700,264300,376000,364300,429200,401000,314800,356900,148800,307200,273500,242600,215300,336000,341600,329300,289800,268900,261100,378500,324400,254400,248100,222900,393900,310100,329200,350400,228200,128800,197100,494200,378100,211500,297000,469500,289000,338700,231400,367000,235900,597700,234200,139000,407900,292200,459000,282300,282700,297300,234100,381000,293600,241100,380200,192900,194300,175300,243100,391600,304200,338000,457200,245300,122300,201000,319700,253100,286800,308500,275000,379300,304000,263700,426200,286400,337800,453000,331100,305200,313500,207400,444200,272700,257000,219300,269600,295700,254200,91200,360000,361100,388500,379800,377700,404600,297700,297500,400200,222900,370000,295600,274600,458200,403300,319500,263200,233300,337000,443400,228400,148500,332900,389200,240800,211900,360600,309300,282300,309600,475300,307000,310500,460800,355500,236800,575300,276500,572600,197500,210700,450400,348900,315400,338400,329000,423000,405000,357900,291200,169300,443200,321500,262300,425500,425400,327100,283000,136900,102500,191300,219200,289500,401400,431100,467400,328600,408100,288500,293400,209700,473500,379000,309600,484000,341500,325500,382900,421900,332700,387200,397300,344000,557700,268600,463800,179800,218800,196000,162100,346000,320800,407100,425600,273400,342500,426300,568600,375400,334300,531100,328400,509900,471700,357200,280600,285500,175200,341500,475300,517800,431200,484700,227200,379800,295800,218800,285600,272700,295200,199700,324400,297400,259700,240500,495900,586900,292900,373100,362800,292200,444300,363300,335700,439200,428000,338000,350600,608800,306200,180100,440600,460500,343800,291700,220800,265000,331400,334000,342300,304700,294600,191900,347500,396300,417800,312200,368500,344600,295100,377800,611700,479300,394200,480800,279800,415600,426700,362200,424200,187800,315700,275600,338300,160700,223800,261000,289600,319000,323900,283700,346900,462600,536200,371000,391300,436500,400000,366400,395200,474200,366400,509600,334900,446800,343900,451700,488800,622400,456800,234100,277900,456800,371300,367100,288000,234100,325800,363400,330900,417500,239500,272600,540600,381000,495100,572700,449800,387200,220900,273500,375900,426000,361100,326500,361600,273800,343200,487300,353300,491200,468600,394700,313800,329400,267600,379700,358100,408600,191100,411300,431100,219700,450400,430600,290800,358500,443800,484600,479500,451200,585200,479600,321300,377700,308800,413200,352400,92500,147300,330400,340800,273000,353900,312900,328700,607900,360800,257500,336400,352600,516200,420700,593100,463800,508700,420900,435200,340600,287100,252600,461600,438400,342800,404500,389500,310400,319800,220000,264600,385300,258500,415800,279800,398200,234200,274700,401100,384700,543000,344200,540000,354500,335000,545900,385900,175500,316100,396100,485800,361600,559300,400300,376100,259100,377600,401700,363200,484400,316300,310700,301000,271300,222100,266000,453000,573800,478400,547600,563500,460500,391000,428200,683500,350000,423900,339300,406600,305100,333300,489000,368300,118800,360200,455000,422700,357500,238300,288900,338200,372700,468900,510400,378700,356900,340100,765300,313900,423800,478100,401700,360500,462300,476200,408700,637200,441100,439100,257900,126200,200600,499800,472100,413600,372300,361100,322500,439100,371700,29300,331000,511300,254000,295200,374100,361500,349200,473000,248200,340500,190900,155700,376700,298800,145900,369500,203300,269600,404800,398400,208600,381900,314500,402100,317200,359700,415100,277200,205200,480300,418700,421500,492600,321100,561100,341900,340000,395500,639000,364400,334900,519100,442000,566200,302600,482500,544900,452800,374100,337400,353900,441700,284100,331000,250800,351900,330000,191000,263400,270000,293300,344400,259800,297700,382600,317400,344000,699500,229700,255000,425200,229300,268100,378700,292100,327100,364800,266800,333700,448200,337300,244800,401600,360600,351700,380500,326600,300400,326200,350400,386600,404600,316900,204100,332000,164900,288000,424100,528200,551300,99600,639200,594800,525100,443700,540500,266000,137000,281000,92200,399500,308200,369700,390400,189600,328100,352000,292200,398800,335100,314300,246400,224100,369100,555400,201000,272600,289700,557000,390700,415600,493500,437300,360100,334800,362800,481500,438400,439900,490600,505500,452400,336000,323100,381300,348600,336300,288100,396000,146000,514800,367800,275500,408800,409000,212400,125200,467000,671600,134200,200,190500,220800,291600,564600,501200,447900,288600,533200,314800,456400,259900,520500,494200,407300,529100,405300,507000,529000,367200,295100,283200,408100,454500,262200,277500,337800,527700,506900,660500,469700,1600,170400,319500,384400,442400,533300,395600,340200,275700,443700,340800,529500,368600,316800,367900,366200,310100,271300,356600,390100,332000,412300,293800,380300,671600,260500,392300,308400,495000,512800,137000,352800,370300,313900,407400,429100,515800,481200,646400,355100,346000,427400,254700,332200,424800,423400,380800,409800,177600,340100,433500,351100,239800,396900,315000,367500,531100,679200,539200,441400,507000,291600,204600,468200,344300,422800,362400,394400,469700,416000,365500,287400,313100,228000,331600,349800,26600,328100,319700,366500,151300,315600,266400,284700,340300,378400,344600,415100,556800,394100,515400,504100,462100,455400,274900,350300,430100,357800,388300,346000,467600,424300,333100,227500,405100,359100,201000,392400,256400,329700,261900,346200,323800,424400,361500,403500,537500,519200,482500,665600,485400,384600,227000,375200,37300,6300,509000,409800,382900,344900,519400,365900,335800,413000,338100,428000,328100,343700,457700,378400,404100,352900,64700,246100,424800,511600,549300,413300,246100,284500,350100,346000,451500,441400,298400,392500,337700,472800,362800,382500,395000,259100,296100,259900,377000,598000,490800,382000,471700,457000,123200,299800,303300,495000,465900,422700,530700,433900,392800,297500,398900,486200,420300,490000,528900,480200,413500,411400,230900,338200,284000,174300,129000,49400,267500,345000,269700,359700,324100,327800,255800,417600,302100,316500,289000,152100,237900,414500,404400,333300,414900,421200,420500,518200,497100,423300,404900,410200,376300,395700,321300,314500,173000,359100,335500,445900,361800,404800,456800,261000,395700,399900,416400,414700,745100,329500,416300,531700,432600,246500,293600,491700,465800,423800,432600,506600,363900,310900,364000,470700,336300,227300,328800,372500,212400,331500,540000,339100,292700,449700,400600,321400,212900,392200,569900,703600,491800,348800,527000,482800,422500,453600,581200,609400,412100,542800,479300,311100,384200,424700,433500,476500,469200,492900,522700,330900,377000,301100,280700,349200,271600,357800,436400,658300,330800,383700,543800,568500,550200,453600,395000,374900,498000,394300,433700,580200,551700,480300,451300,439800,388800,603100,393100,405600,478800,508300,448700,372200,361500,479800,324000,304900,324900,322700,572900,550500,681300,360600,376800,390900,539400,467700,377400,521300,374600,676200,372500,515500,302800,443200,556500,325200,476700,448700,411900,480400,375400,286900,231600,376700,399000,468700,347800,561300,546400,448600,889100,550200,692500,503500,617100,529000,784700,462100,603400,552900,876700,423900,364600,183200,553300,492700,475900,666300,365500,365400,578600,452800,350500,312000,447700,442400,569600,515400,352900,382300,611100,711900,618400,562200,498200,462100,493500,514800,570700,414700,517500,569700,491500,598000,550600,376100,539200,413700,284100,443800,406400,522800,494900,578900,497100,234300,232700,375700,418400,494000,489500,497700,663600,305900,224900,466400,610000,596600,494700,390700,577600,646100,423600,456700,447600,466200,424300,379400,354400,406900,360800,271300,178300,447900,327900,49600,314800,74200,194300,312500,450200,617900,792000,634100,425000,570300,588600,568500,295100,227800,252600,318600,576000,618400,571500,458700,557300,671500,392600,366700,647900,435600,535100,652400,400300,666700,399700,434200,591800,527500,470100,632800,665800,402900,345000,628700,594300,415300,479400,569100,926100,567600,545500,493800,454700,580700,501400,398100,441200,273000,605700,558400,467500,453900,53800,222900,384700,240300,173100,82200,427400,129900,391200,480600,487100,574500,421300,10700,399900,217500,472600,632300,654800,144600,452700,376800,643300,516400,442300,276400,547900,448100,75200,236100,438700,381400,305200,306300,494000,395500,340400,312600,212700,258800,294300,458600,602200,630200,420600,319200,350300,426100,243900,439100,452900,376700,413500,597600,209700,342000,475200,456400,337600,321300,294200,485800,434900,555000,796800,728200,562800,661600,670700,627500,488800,697100,702400,412000,355900,437500,431800,436200,499300,386200,371300,312900,368400,345500,418400,470600,440000,302900,191000,384400,354500,258200,398300,103800,205300,285100,508100,458900,160000,289400,232600,402200,502000,477900,609600,268800,516300,425400,241800,32700,315400,322500,327800,113500,202300,41800,197100,192600,326800,428100,562700,443800,229200,469300,607300,450400,492700,518300,299600,280500,439300,433500,415500,383700,477000,231700,637300,451900,447200,392800,177900,418000,420400,376500,407900,394900,352600,425300,476200,554700,725400,643700,502100,620600,512200,639700,306500,659200,327200,145200,489900,571700,382600,487100,406500,200700,271900,379300,259900,381600,455400,442800,339600,402900,272700,517200,406500,567100,324800,370000,381000,439200,316100,527600,633100,189900,161500,337100,198500,48600,580200,326300,407400,157400,260200,108400,408400,516900,352300,475500,342800,253800,410000,607600,469300,163400,247100,316500,1000,357900,646700,397000,654300,576800,381000,334400,8000,29100,270500,200,150900,18600,9000,10000,41500,22500,2100,6600,13900,29600,3500,31700,36700,500,4800,11700,117600,124300,120100,147200,166700,116300,146800,215300,176300,232900,228800,269900,412700,554500,372800,42900,50000,15200,1500,2000,128600,228000,293300,189300,25000,162000,204700,294300,203300,16100,156000,515000,286200,253500,309200,249100,244800,252500,327500,207400,241900,109100,288500,334500,209900,39600,12800,215000,141600,60100,287300,275000,133800,255400,139400,154900,441000,515400,457500,581600,131200,361300,879300,300600,636200,122100,415200,454400,324100,447700,430800,357700,350000,349300,445200,364600,454700,283500,297900,230200,327200,320100,366300,565200,528200,510600,451500,533700,681500,148400,423700,470500,333300,465100,596100,462400,477100,441900,292000,465100,477500,217000,335500,462500,330500,508200,308800,334000,249500,412000,377300,254600,426400,271200,228300,531200,456300,637900,570900,434400,544200,641800,416600,427100,398900,282200,294600,580600,383600,503600,154700,373900,239700,456600,444600,445500,491900,381600,356000,213200,108700,281100,321600,583800,466200,508700,574400,241200,287300,279500,183700,515800,470500,324500,413200,476700,421000,165600,368100,452700,307100,268100,469400,106000,259800,462800,379900,236900,274700,187100,331000,289300,257800,300600,267200,423700,425300,371800,364600,385200,227500,434900,326700,404300,327700,362400,567700,440300,356900,304700,396800,401300,455800,392700,215100,227100,572300,331100,510300,68100,403800,349300,233200,260300,443100,520200,694300,517700,502300,358000,607400,457500,355700,567700,552300,459800,296500,544800,437200,376300,386300,474700,331100,454600,382800,120400,341600,558900,401500,513800,437400,511200,468600,468800],\"Transaction Date\":{\"__ndarray__\":\"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\",\"dtype\":\"float64\",\"order\":\"little\",\"shape\":[2354]},\"Weekday\":[\"SATURDAY\",\"SUNDAY\",\"MONDAY\",\"TUESDAY\",\"WEDNESDAY\",\"THURSDAY\",\"FRIDAY\",\"SATURDAY\",\"SUNDAY\",\"MONDAY\",\"TUESDAY\",\"WEDNESDAY\",\"THURSDAY\",\"FRIDAY\",\"SATURDAY\",\"SUNDAY\",\"MONDAY\",\"TUESDAY\",\"WEDNESDAY\",\"THURSDAY\",\"FRIDAY\",\"SATURDAY\",\"SUNDAY\",\"MONDAY\",\"TUESDAY\",\"WEDNESDAY\",\"THURSDAY\",\"FRIDAY\",\"SATURDAY\",\"SUNDAY\",\"MONDAY\",\"TUESDAY\",\"WEDNESDAY\",\"THURSDAY\",\"FRIDAY\",\"SATURDAY\",\"SUNDAY\",\"MONDAY\",\"TUESDAY\",\"WEDNESDAY\",\"THURSDAY\",\"FRIDAY\",\"SATURDAY\",\"SUNDAY\",\"MONDAY\",\"TUESDAY\",\"WEDNESDAY\",\"THURSDAY\",\"FRIDAY\",\"SATURDAY\",\"SUNDAY\",\"MONDAY\",\"TUESDAY\",\"WEDNESDAY\",\"THURSDAY\",\"FRIDAY\",\"SATURDAY\",\"SUNDAY\",\"MONDAY\",\"TUESDAY\",\"WEDNESDAY\",\"THURSDAY\",\"FRIDAY\",\"SATURDAY\",\"SUNDAY\",\"MONDAY\",\"TUESDAY\",\"WEDNESDAY\",\"THURSDAY\",\"FRIDAY\",\"SATURDAY\",\"SUNDAY\",\"MONDAY\",\"TUESDAY\",\"WEDNESDAY\",\"THURSDAY\",\"FRIDAY\",\"SATURDAY\",\"SUNDAY\",\"MONDAY\",\"TUESDAY\",\"WEDNESDAY\",\"THURSDAY\",\"FRIDAY\",\"SATURDAY\",\"SUNDAY\",\"MONDAY\",\"TUESDAY\",\"WEDNESDAY\",\"THURSDAY\",\"FRIDAY\",\"SATURDAY\",\"SUNDAY\",\"MONDAY\",\"TUESDAY\",\"WEDNESDAY\",\"THURSDAY\",\"FRIDAY\",\"SATURDAY\",\"SUNDAY\",\"MONDAY\",\"TUESDAY\",\"WEDNESDAY\",\"THURSDAY\",\"FRIDAY\",\"SATURDAY\",\"SUNDAY\",\"MONDAY\",\"TUESDAY\",\"WEDNESDAY\",\"THURSDAY\",\"FRIDAY\",\"SATURDAY\",\"SUNDAY\",\"MONDAY\",\"TUESDAY\",\"WEDNESDAY\",\"THURSDAY\",\"FRIDAY\",\"SATURDAY\",\"SUNDAY\",\"MONDAY\",\"TUESDAY\",\"WEDNESDAY\",\"THURSDAY\",\"FRIDAY\",\"SATURDAY\",\"SUNDAY\",\"MONDAY\",\"TUESDAY\",\"WEDNESDAY\",\"THURSDAY\",\"FRIDAY\",\"SATURDAY\",\"SUNDAY\",\"MONDAY\",\"TUESDAY\",\"WEDNESDAY\",\"THURSDAY\",\"FRIDAY\",\"SATURDAY\",\"SUNDAY\",\"MONDAY\",\"TUESDAY\",\"WEDNESDAY\",\"THURSDAY\",\"FRIDAY\",\"SATURDAY\",\"SUNDAY\",\"MONDAY\",\"TUESDAY\",\"WEDNESDAY\",\"THURSDAY\",\"FRIDAY\",\"SATURDAY\",\"SUNDAY\",\"MONDAY\",\"TUESDAY\",\"WEDNESDAY\",\"THURSDAY\",\"FRIDAY\",\"SATURDAY\",\"SUNDAY\",\"MONDAY\",\"TUESDAY\",\"WEDNESDAY\",\"THURSDAY\",\"FRIDAY\",\"SATURDAY\",\"SUNDAY\",\"MONDAY\",\"TUESDAY\",\"WEDNESDAY\",\"THURSDAY\",\"FRIDAY\",\"SATURDAY\",\"SUNDAY\",\"MONDAY\",\"TUESDAY\",\"WEDNESDAY\",\"THURSDAY\",\"FRIDAY\",\"SATURDAY\",\"SUNDAY\",\"MONDAY\",\"TUESDAY\",\"WEDNESDAY\",\"THURSDAY\",\"FRIDAY\",\"SATURDAY\",\"SUNDAY\",\"MONDAY\",\"TUESDAY\",\"WEDNESDAY\",\"THURSDAY\",\"FRIDAY\",\"SATURDAY\",\"SUNDAY\",\"MONDAY\",\"TUESDAY\",\"WEDNESDAY\",\"THURSDAY\",\"FRIDAY\",\"SATURDAY\",\"SUNDAY\",\"MONDAY\",\"TUESDAY\",\"WEDNESDAY\",\"THURSDAY\",\"FRIDAY\",\"SATURDAY\",\"SUNDAY\",\"MONDAY\",\"TUESDAY\",\"WEDNESDAY\",\"THURSDAY\",\"FRIDAY\",\"SATURDAY\",\"SUNDAY\",\"MONDAY\",\"TUESDAY\",\"WEDNESDAY\",\"THURSDAY\",\"FRIDAY\",\"SATURDAY\",\"SUNDAY\",\"MONDAY\",\"TUESDAY\",\"WEDNESDAY\",\"THURSDAY\",\"FRIDAY\",\"SATURDAY\",\"SUNDAY\",\"MONDAY\",\"TUESDAY\",\"WEDNESDAY\",\"THURSDAY\",\"FRIDAY\",\"SATURDAY\",\"SUNDAY\",\"MONDAY\",\"TUESDAY\",\"WEDNESDAY\",\"THURSDAY\",\"FRIDAY\",\"SATURDAY\",\"SUNDAY\",\"MONDAY\",\"TUESDAY\",\"WEDNESDAY\",\"THURSDAY\",\"FRIDAY\",\"SATURDAY\",\"SUNDAY\",\"MONDAY\",\"TUESDAY\",\"WEDNESDAY\",\"THURSDAY\",\"FRIDAY\",\"SATURDAY\",\"SUNDAY\",\"MONDAY\",\"TUESDAY\",\"WEDNESDAY\",\"THURSDAY\",\"FRIDAY\",\"SATURDAY\",\"SUNDAY\",\"MONDAY\",\"TUESDAY\",\"WEDNESDAY\",\"THURSDAY\",\"FRIDAY\",\"SATURDAY\",\"SUNDAY\",\"MONDAY\",\"TUESDAY\",\"WEDNESDAY\",\"FRIDAY\",\"SATURDAY\",\"SUNDAY\",\"MONDAY\",\"TUESDAY\",\"WEDNESDAY\",\"THURSDAY\",\"FRIDAY\",\"SATURDAY\",\"SUNDAY\",\"MONDAY\",\"TUESDAY\",\"WEDNESDAY\",\"THURSDAY\",\"FRIDAY\",\"SATURDAY\",\"SUNDAY\",\"MONDAY\",\"TUESDAY\",\"WEDNESDAY\",\"THURSDAY\",\"FRIDAY\",\"SATURDAY\",\"SUNDAY\",\"MONDAY\",\"TUESDAY\",\"WEDNESDAY\",\"THURSDAY\",\"FRIDAY\",\"SATURDAY\",\"SUNDAY\",\"MONDAY\",\"TUESDAY\",\"WEDNESDAY\",\"THURSDAY\",\"FRIDAY\",\"SUNDAY\",\"MONDAY\",\"TUESDAY\",\"WEDNESDAY\",\"THURSDAY\",\"FRIDAY\",\"SATURDAY\",\"SUNDAY\",\"MONDAY\",\"TUESDAY\",\"WEDNESDAY\",\"THURSDAY\",\"FRIDAY\",\"SATURDAY\",\"SUNDAY\",\"MONDAY\",\"TUESDAY\",\"WEDNESDAY\",\"THURSDAY\",\"FRIDAY\",\"SATURDAY\",\"SUNDAY\",\"MONDAY\",\"TUESDAY\",\"WEDNESDAY\",\"THURSDAY\",\"FRIDAY\",\"SATURDAY\",\"SUNDAY\",\"MONDAY\",\"TUESDAY\",\"WEDNESDAY\",\"THURSDAY\",\"FRIDAY\",\"SATURDAY\",\"SUNDAY\",\"MONDAY\",\"TUESDAY\",\"WEDNESDAY\",\"THURSDAY\",\"FRIDAY\",\"SATURDAY\",\"SUNDAY\",\"MONDAY\",\"TUESDAY\",\"WEDNESDAY\",\"THURSDAY\",\"FRIDAY\",\"SATURDAY\",\"SUNDAY\",\"SUNDAY\",\"SUNDAY\",\"SUNDAY\",\"SUNDAY\",\"SUNDAY\",\"SATURDAY\",\"SUNDAY\",\"SUNDAY\",\"SUNDAY\",\"SUNDAY\",\"SUNDAY\",\"SUNDAY\",\"SATURDAY\",\"SUNDAY\",\"MONDAY\",\"TUESDAY\",\"TUESDAY\",\"TUESDAY\",\"TUESDAY\",\"SATURDAY\",\"SUNDAY\",\"SUNDAY\",\"SUNDAY\",\"SUNDAY\",\"THURSDAY\",\"THURSDAY\",\"SATURDAY\",\"SUNDAY\",\"SUNDAY\",\"SUNDAY\",\"SUNDAY\",\"SUNDAY\",\"SUNDAY\",\"SATURDAY\",\"SUNDAY\",\"SUNDAY\",\"SUNDAY\",\"SUNDAY\",\"SUNDAY\",\"SUNDAY\",\"SATURDAY\",\"SUNDAY\",\"SUNDAY\",\"SUNDAY\",\"SUNDAY\",\"SUNDAY\",\"SUNDAY\",\"SATURDAY\",\"SUNDAY\",\"SUNDAY\",\"SUNDAY\",\"SUNDAY\",\"SUNDAY\",\"SUNDAY\",\"SATURDAY\",\"SUNDAY\",\"SUNDAY\",\"SUNDAY\",\"SUNDAY\",\"SUNDAY\",\"SUNDAY\",\"SATURDAY\",\"SUNDAY\",\"SUNDAY\",\"SUNDAY\",\"SUNDAY\",\"SUNDAY\",\"SUNDAY\",\"SATURDAY\",\"SUNDAY\",\"SUNDAY\",\"SUNDAY\",\"SUNDAY\",\"SUNDAY\",\"SUNDAY\",\"SATURDAY\",\"SUNDAY\",\"SUNDAY\",\"SUNDAY\",\"SUNDAY\",\"SUNDAY\",\"FRIDAY\",\"SATURDAY\",\"SUNDAY\",\"SUNDAY\",\"SUNDAY\",\"SUNDAY\",\"SUNDAY\",\"SUNDAY\",\"SATURDAY\",\"SUNDAY\",\"SUNDAY\",\"SUNDAY\",\"SUNDAY\",\"THURSDAY\",\"FRIDAY\",\"SATURDAY\",\"SUNDAY\",\"SUNDAY\",\"SUNDAY\",\"SUNDAY\",\"SUNDAY\",\"FRIDAY\",\"SATURDAY\",\"SUNDAY\",\"SUNDAY\",\"SUNDAY\",\"SUNDAY\",\"SUNDAY\",\"SUNDAY\",\"SATURDAY\",\"SUNDAY\",\"SUNDAY\",\"SUNDAY\",\"SUNDAY\",\"SUNDAY\",\"SUNDAY\",\"SATURDAY\",\"SUNDAY\",\"SUNDAY\",\"TUESDAY\",\"TUESDAY\",\"TUESDAY\",\"TUESDAY\",\"SATURDAY\",\"SUNDAY\",\"SUNDAY\",\"SUNDAY\",\"SUNDAY\",\"SUNDAY\",\"SUNDAY\",\"SATURDAY\",\"SUNDAY\",\"SUNDAY\",\"SUNDAY\",\"SUNDAY\",\"SUNDAY\",\"SUNDAY\",\"SUNDAY\",\"SUNDAY\",\"MONDAY\",\"MONDAY\",\"MONDAY\",\"MONDAY\",\"MONDAY\",\"SATURDAY\",\"SUNDAY\",\"SUNDAY\",\"SUNDAY\",\"SUNDAY\",\"SUNDAY\",\"SUNDAY\",\"SATURDAY\",\"SUNDAY\",\"SUNDAY\",\"SUNDAY\",\"SUNDAY\",\"SUNDAY\",\"SUNDAY\",\"SATURDAY\",\"SUNDAY\",\"SUNDAY\",\"SUNDAY\",\"SUNDAY\",\"SUNDAY\",\"SUNDAY\",\"SATURDAY\",\"SUNDAY\",\"SUNDAY\",\"SUNDAY\",\"SUNDAY\",\"SUNDAY\",\"SUNDAY\",\"SATURDAY\",\"SUNDAY\",\"SUNDAY\",\"SUNDAY\",\"SUNDAY\",\"SUNDAY\",\"SUNDAY\",\"SATURDAY\",\"SUNDAY\",\"SUNDAY\",\"SUNDAY\",\"SUNDAY\",\"SUNDAY\",\"SUNDAY\",\"SATURDAY\",\"SUNDAY\",\"SUNDAY\",\"SUNDAY\",\"SUNDAY\",\"SUNDAY\",\"SUNDAY\",\"SATURDAY\",\"SUNDAY\",\"SUNDAY\",\"SUNDAY\",\"SUNDAY\",\"SUNDAY\",\"SUNDAY\",\"SATURDAY\",\"SUNDAY\",\"SUNDAY\",\"SUNDAY\",\"SUNDAY\",\"SUNDAY\",\"SUNDAY\",\"SATURDAY\",\"SUNDAY\",\"SUNDAY\",\"SUNDAY\",\"SUNDAY\",\"SUNDAY\",\"SUNDAY\",\"SATURDAY\",\"SUNDAY\",\"SUNDAY\",\"SUNDAY\",\"SUNDAY\",\"SUNDAY\",\"SUNDAY\",\"SATURDAY\",\"SUNDAY\",\"SUNDAY\",\"SUNDAY\",\"WEDNESDAY\",\"WEDNESDAY\",\"WEDNESDAY\",\"SUNDAY\",\"MONDAY\",\"MONDAY\",\"MONDAY\",\"MONDAY\",\"MONDAY\",\"SATURDAY\",\"SUNDAY\",\"SUNDAY\",\"SUNDAY\",\"SUNDAY\",\"SUNDAY\",\"SUNDAY\",\"SATURDAY\",\"SUNDAY\",\"SUNDAY\",\"SUNDAY\",\"SUNDAY\",\"SUNDAY\",\"SUNDAY\",\"SATURDAY\",\"SUNDAY\",\"SUNDAY\",\"SUNDAY\",\"SUNDAY\",\"SUNDAY\",\"SUNDAY\",\"SATURDAY\",\"SUNDAY\",\"SUNDAY\",\"SUNDAY\",\"WEDNESDAY\",\"WEDNESDAY\",\"WEDNESDAY\",\"SATURDAY\",\"SUNDAY\",\"SUNDAY\",\"SUNDAY\",\"SUNDAY\",\"SUNDAY\",\"SUNDAY\",\"SATURDAY\",\"SUNDAY\",\"SUNDAY\",\"TUESDAY\",\"TUESDAY\",\"TUESDAY\",\"TUESDAY\",\"SATURDAY\",\"SUNDAY\",\"SUNDAY\",\"SUNDAY\",\"SUNDAY\",\"SUNDAY\",\"SUNDAY\",\"SATURDAY\",\"SUNDAY\",\"SUNDAY\",\"SUNDAY\",\"SUNDAY\",\"SUNDAY\",\"SUNDAY\",\"SATURDAY\",\"SUNDAY\",\"SUNDAY\",\"TUESDAY\",\"WEDNESDAY\",\"WEDNESDAY\",\"WEDNESDAY\",\"SATURDAY\",\"SUNDAY\",\"SUNDAY\",\"SUNDAY\",\"SUNDAY\",\"SUNDAY\",\"SUNDAY\",\"SATURDAY\",\"SUNDAY\",\"SUNDAY\",\"SUNDAY\",\"SUNDAY\",\"SUNDAY\",\"SUNDAY\",\"SATURDAY\",\"SUNDAY\",\"SUNDAY\",\"TUESDAY\",\"TUESDAY\",\"TUESDAY\",\"TUESDAY\",\"SATURDAY\",\"SUNDAY\",\"SUNDAY\",\"SUNDAY\",\"SUNDAY\",\"SUNDAY\",\"SATURDAY\",\"SUNDAY\",\"SUNDAY\",\"SUNDAY\",\"SUNDAY\",\"SUNDAY\",\"SUNDAY\",\"SATURDAY\",\"SUNDAY\",\"SUNDAY\",\"SUNDAY\",\"SUNDAY\",\"SUNDAY\",\"SUNDAY\",\"SATURDAY\",\"SUNDAY\",\"SUNDAY\",\"SUNDAY\",\"SUNDAY\",\"SUNDAY\",\"SUNDAY\",\"SATURDAY\",\"SUNDAY\",\"SUNDAY\",\"SUNDAY\",\"SUNDAY\",\"SUNDAY\",\"SUNDAY\",\"SATURDAY\",\"SUNDAY\",\"SUNDAY\",\"TUESDAY\",\"TUESDAY\",\"TUESDAY\",\"TUESDAY\",\"SATURDAY\",\"SUNDAY\",\"SUNDAY\",\"TUESDAY\",\"WEDNESDAY\",\"THURSDAY\",\"FRIDAY\",\"SATURDAY\",\"SUNDAY\",\"MONDAY\",\"TUESDAY\",\"WEDNESDAY\",\"THURSDAY\",\"FRIDAY\",\"SATURDAY\",\"SUNDAY\",\"MONDAY\",\"TUESDAY\",\"WEDNESDAY\",\"THURSDAY\",\"FRIDAY\",\"SATURDAY\",\"SUNDAY\",\"MONDAY\",\"TUESDAY\",\"WEDNESDAY\",\"THURSDAY\",\"FRIDAY\",\"SATURDAY\",\"SUNDAY\",\"MONDAY\",\"TUESDAY\",\"WEDNESDAY\",\"THURSDAY\",\"FRIDAY\",\"SATURDAY\",\"SUNDAY\",\"MONDAY\",\"TUESDAY\",\"WEDNESDAY\",\"THURSDAY\",\"FRIDAY\",\"SATURDAY\",\"SUNDAY\",\"MONDAY\",\"TUESDAY\",\"WEDNESDAY\",\"THURSDAY\",\"FRIDAY\",\"SATURDAY\",\"SUNDAY\",\"MONDAY\",\"TUESDAY\",\"WEDNESDAY\",\"THURSDAY\",\"FRIDAY\",\"SATURDAY\",\"SUNDAY\",\"MONDAY\",\"TUESDAY\",\"WEDNESDAY\",\"THURSDAY\",\"FRIDAY\",\"SATURDAY\",\"SUNDAY\",\"MONDAY\",\"TUESDAY\",\"WEDNESDAY\",\"THURSDAY\",\"FRIDAY\",\"SATURDAY\",\"SUNDAY\",\"MONDAY\",\"TUESDAY\",\"WEDNESDAY\",\"THURSDAY\",\"FRIDAY\",\"SATURDAY\",\"SUNDAY\",\"MONDAY\",\"TUESDAY\",\"WEDNESDAY\",\"THURSDAY\",\"FRIDAY\",\"SATURDAY\",\"SUNDAY\",\"MONDAY\",\"TUESDAY\",\"WEDNESDAY\",\"THURSDAY\",\"FRIDAY\",\"SATURDAY\",\"SUNDAY\",\"MONDAY\",\"TUESDAY\",\"WEDNESDAY\",\"THURSDAY\",\"FRIDAY\",\"SATURDAY\",\"SUNDAY\",\"MONDAY\",\"TUESDAY\",\"WEDNESDAY\",\"THURSDAY\",\"FRIDAY\",\"SATURDAY\",\"SUNDAY\",\"MONDAY\",\"TUESDAY\",\"WEDNESDAY\",\"THURSDAY\",\"FRIDAY\",\"SATURDAY\",\"SUNDAY\",\"MONDAY\",\"TUESDAY\",\"WEDNESDAY\",\"THURSDAY\",\"FRIDAY\",\"SATURDAY\",\"SUNDAY\",\"MONDAY\",\"TUESDAY\",\"WEDNESDAY\",\"THURSDAY\",\"FRIDAY\",\"SATURDAY\",\"SUNDAY\",\"MONDAY\",\"TUESDAY\",\"WEDNESDAY\",\"THURSDAY\",\"FRIDAY\",\"SATURDAY\",\"SUNDAY\",\"MONDAY\",\"TUESDAY\",\"WEDNESDAY\",\"THURSDAY\",\"FRIDAY\",\"SATURDAY\",\"SUNDAY\",\"MONDAY\",\"TUESDAY\",\"WEDNESDAY\",\"THURSDAY\",\"FRIDAY\",\"SATURDAY\",\"MONDAY\",\"TUESDAY\",\"WEDNESDAY\",\"THURSDAY\",\"FRIDAY\",\"SATURDAY\",\"SUNDAY\",\"MONDAY\",\"TUESDAY\",\"WEDNESDAY\",\"THURSDAY\",\"FRIDAY\",\"SATURDAY\",\"SUNDAY\",\"MONDAY\",\"TUESDAY\",\"WEDNESDAY\",\"THURSDAY\",\"FRIDAY\",\"SATURDAY\",\"SUNDAY\",\"MONDAY\",\"TUESDAY\",\"WEDNESDAY\",\"THURSDAY\",\"FRIDAY\",\"SATURDAY\",\"SUNDAY\",\"MONDAY\",\"TUESDAY\",\"WEDNESDAY\",\"THURSDAY\",\"FRIDAY\",\"SATURDAY\",\"SUNDAY\",\"MONDAY\",\"TUESDAY\",\"WEDNESDAY\",\"THURSDAY\",\"FRIDAY\",\"SATURDAY\",\"SUNDAY\",\"MONDAY\",\"TUESDAY\",\"WEDNESDAY\",\"THURSDAY\",\"FRIDAY\",\"SATURDAY\",\"SUNDAY\",\"MONDAY\",\"TUESDAY\",\"WEDNESDAY\",\"THURSDAY\",\"FRIDAY\",\"SATURDAY\",\"SUNDAY\",\"MONDAY\",\"TUESDAY\",\"WEDNESDAY\",\"THURSDAY\",\"FRIDAY\",\"SATURDAY\",\"SUNDAY\",\"MONDAY\",\"TUESDAY\",\"WEDNESDAY\",\"THURSDAY\",\"FRIDAY\",\"SATURDAY\",\"SUNDAY\",\"MONDAY\",\"TUESDAY\",\"WEDNESDAY\",\"THURSDAY\",\"FRIDAY\",\"SATURDAY\",\"SUNDAY\",\"MONDAY\",\"TUESDAY\",\"WEDNESDAY\",\"FRIDAY\",\"SATURDAY\",\"SUNDAY\",\"MONDAY\",\"TUESDAY\",\"WEDNESDAY\",\"THURSDAY\",\"FRIDAY\",\"SATURDAY\",\"SUNDAY\",\"MONDAY\",\"TUESDAY\",\"WEDNESDAY\",\"THURSDAY\",\"FRIDAY\",\"SATURDAY\",\"SUNDAY\",\"MONDAY\",\"TUESDAY\",\"WEDNESDAY\",\"THURSDAY\",\"FRIDAY\",\"SATURDAY\",\"SUNDAY\",\"MONDAY\",\"TUESDAY\",\"WEDNESDAY\",\"THURSDAY\",\"FRIDAY\",\"SATURDAY\",\"SUNDAY\",\"MONDAY\",\"TUESDAY\",\"WEDNESDAY\",\"THURSDAY\",\"FRIDAY\",\"SATURDAY\",\"SUNDAY\",\"MONDAY\",\"TUESDAY\",\"WEDNESDAY\",\"THURSDAY\",\"FRIDAY\",\"SATURDAY\",\"SUNDAY\",\"MONDAY\",\"TUESDAY\",\"WEDNESDAY\",\"THURSDAY\",\"FRIDAY\",\"SATURDAY\",\"SUNDAY\",\"MONDAY\",\"TUESDAY\",\"WEDNESDAY\",\"THURSDAY\",\"FRIDAY\",\"SATURDAY\",\"SUNDAY\",\"MONDAY\",\"TUESDAY\",\"WEDNESDAY\",\"THURSDAY\",\"FRIDAY\",\"SATURDAY\",\"SUNDAY\",\"MONDAY\",\"TUESDAY\",\"WEDNESDAY\",\"THURSDAY\",\"FRIDAY\",\"SATURDAY\",\"SUNDAY\",\"MONDAY\",\"TUESDAY\",\"WEDNESDAY\",\"THURSDAY\",\"FRIDAY\",\"SATURDAY\",\"SUNDAY\",\"MONDAY\",\"TUESDAY\",\"WEDNESDAY\",\"THURSDAY\",\"FRIDAY\",\"SATURDAY\",\"SUNDAY\",\"MONDAY\",\"TUESDAY\",\"WEDNESDAY\",\"THURSDAY\",\"FRIDAY\",\"SATURDAY\",\"SUNDAY\",\"MONDAY\",\"TUESDAY\",\"WEDNESDAY\",\"THURSDAY\",\"FRIDAY\",\"SATURDAY\",\"SUNDAY\",\"MONDAY\",\"TUESDAY\",\"WEDNESDAY\",\"THURSDAY\",\"FRIDAY\",\"SATURDAY\",\"SUNDAY\",\"MONDAY\",\"TUESDAY\",\"WEDNESDAY\",\"THURSDAY\",\"FRIDAY\",\"SATURDAY\",\"SUNDAY\",\"MONDAY\",\"TUESDAY\",\"WEDNESDAY\",\"THURSDAY\",\"MONDAY\",\"TUESDAY\",\"WEDNESDAY\",\"THURSDAY\",\"FRIDAY\",\"SATURDAY\",\"SUNDAY\",\"MONDAY\",\"TUESDAY\",\"WEDNESDAY\",\"THURSDAY\",\"FRIDAY\",\"SATURDAY\",\"SUNDAY\",\"MONDAY\",\"TUESDAY\",\"WEDNESDAY\",\"THURSDAY\",\"FRIDAY\",\"SATURDAY\",\"SUNDAY\",\"MONDAY\",\"TUESDAY\",\"WEDNESDAY\",\"THURSDAY\",\"FRIDAY\",\"SATURDAY\",\"SUNDAY\",\"MONDAY\",\"TUESDAY\",\"WEDNESDAY\",\"THURSDAY\",\"FRIDAY\",\"SATURDAY\",\"SUNDAY\",\"MONDAY\",\"TUESDAY\",\"WEDNESDAY\",\"THURSDAY\",\"FRIDAY\",\"SATURDAY\",\"SUNDAY\",\"MONDAY\",\"TUESDAY\",\"WEDNESDAY\",\"THURSDAY\",\"FRIDAY\",\"SATURDAY\",\"SUNDAY\",\"MONDAY\",\"TUESDAY\",\"WEDNESDAY\",\"THURSDAY\",\"FRIDAY\",\"SATURDAY\",\"SUNDAY\",\"MONDAY\",\"TUESDAY\",\"WEDNESDAY\",\"THURSDAY\",\"FRIDAY\",\"SATURDAY\",\"SUNDAY\",\"MONDAY\",\"TUESDAY\",\"WEDNESDAY\",\"THURSDAY\",\"FRIDAY\",\"SATURDAY\",\"SUNDAY\",\"MONDAY\",\"TUESDAY\",\"WEDNESDAY\",\"THURSDAY\",\"FRIDAY\",\"SATURDAY\",\"SUNDAY\",\"MONDAY\",\"TUESDAY\",\"WEDNESDAY\",\"THURSDAY\",\"FRIDAY\",\"SATURDAY\",\"SUNDAY\",\"MONDAY\",\"TUESDAY\",\"WEDNESDAY\",\"THURSDAY\",\"FRIDAY\",\"SATURDAY\",\"SUNDAY\",\"MONDAY\",\"TUESDAY\",\"WEDNESDAY\",\"THURSDAY\",\"FRIDAY\",\"SATURDAY\",\"SUNDAY\",\"MONDAY\",\"WEDNESDAY\",\"THURSDAY\",\"FRIDAY\",\"SATURDAY\",\"SUNDAY\",\"MONDAY\",\"TUESDAY\",\"WEDNESDAY\",\"THURSDAY\",\"FRIDAY\",\"SATURDAY\",\"SUNDAY\",\"MONDAY\",\"TUESDAY\",\"WEDNESDAY\",\"THURSDAY\",\"FRIDAY\",\"SATURDAY\",\"SUNDAY\",\"MONDAY\",\"TUESDAY\",\"WEDNESDAY\",\"THURSDAY\",\"FRIDAY\",\"SATURDAY\",\"SUNDAY\",\"MONDAY\",\"TUESDAY\",\"WEDNESDAY\",\"THURSDAY\",\"FRIDAY\",\"SATURDAY\",\"SUNDAY\",\"MONDAY\",\"TUESDAY\",\"WEDNESDAY\",\"THURSDAY\",\"FRIDAY\",\"SATURDAY\",\"SUNDAY\",\"MONDAY\",\"TUESDAY\",\"WEDNESDAY\",\"THURSDAY\",\"FRIDAY\",\"SATURDAY\",\"SUNDAY\",\"MONDAY\",\"TUESDAY\",\"WEDNESDAY\",\"THURSDAY\",\"FRIDAY\",\"SATURDAY\",\"SUNDAY\",\"MONDAY\",\"TUESDAY\",\"WEDNESDAY\",\"THURSDAY\",\"FRIDAY\",\"SATURDAY\",\"SUNDAY\",\"MONDAY\",\"TUESDAY\",\"WEDNESDAY\",\"THURSDAY\",\"FRIDAY\",\"SATURDAY\",\"SUNDAY\",\"MONDAY\",\"TUESDAY\",\"WEDNESDAY\",\"THURSDAY\",\"FRIDAY\",\"SATURDAY\",\"SUNDAY\",\"MONDAY\",\"TUESDAY\",\"WEDNESDAY\",\"THURSDAY\",\"FRIDAY\",\"SATURDAY\",\"SUNDAY\",\"MONDAY\",\"TUESDAY\",\"WEDNESDAY\",\"THURSDAY\",\"FRIDAY\",\"SATURDAY\",\"SUNDAY\",\"MONDAY\",\"TUESDAY\",\"WEDNESDAY\",\"THURSDAY\",\"FRIDAY\",\"SATURDAY\",\"SUNDAY\",\"MONDAY\",\"TUESDAY\",\"WEDNESDAY\",\"THURSDAY\",\"FRIDAY\",\"SATURDAY\",\"SUNDAY\",\"MONDAY\",\"TUESDAY\",\"WEDNESDAY\",\"THURSDAY\",\"FRIDAY\",\"SATURDAY\",\"SUNDAY\",\"MONDAY\",\"TUESDAY\",\"WEDNESDAY\",\"THURSDAY\",\"FRIDAY\",\"SATURDAY\",\"SUNDAY\",\"MONDAY\",\"TUESDAY\",\"WEDNESDAY\",\"THURSDAY\",\"FRIDAY\",\"SATURDAY\",\"SUNDAY\",\"MONDAY\",\"TUESDAY\",\"WEDNESDAY\",\"THURSDAY\",\"FRIDAY\",\"SATURDAY\",\"MONDAY\",\"TUESDAY\",\"WEDNESDAY\",\"THURSDAY\",\"FRIDAY\",\"SATURDAY\",\"SUNDAY\",\"MONDAY\",\"TUESDAY\",\"WEDNESDAY\",\"THURSDAY\",\"FRIDAY\",\"SATURDAY\",\"SUNDAY\",\"MONDAY\",\"TUESDAY\",\"WEDNESDAY\",\"THURSDAY\",\"FRIDAY\",\"SATURDAY\",\"SUNDAY\",\"MONDAY\",\"TUESDAY\",\"WEDNESDAY\",\"THURSDAY\",\"FRIDAY\",\"SATURDAY\",\"SUNDAY\",\"MONDAY\",\"TUESDAY\",\"WEDNESDAY\",\"THURSDAY\",\"FRIDAY\",\"SATURDAY\",\"SUNDAY\",\"MONDAY\",\"TUESDAY\",\"WEDNESDAY\",\"THURSDAY\",\"FRIDAY\",\"SATURDAY\",\"SUNDAY\",\"MONDAY\",\"TUESDAY\",\"WEDNESDAY\",\"THURSDAY\",\"FRIDAY\",\"SATURDAY\",\"SUNDAY\",\"MONDAY\",\"TUESDAY\",\"WEDNESDAY\",\"THURSDAY\",\"FRIDAY\",\"SATURDAY\",\"SUNDAY\",\"TUESDAY\",\"WEDNESDAY\",\"THURSDAY\",\"FRIDAY\",\"SATURDAY\",\"SUNDAY\",\"MONDAY\",\"TUESDAY\",\"WEDNESDAY\",\"THURSDAY\",\"FRIDAY\",\"SATURDAY\",\"SUNDAY\",\"MONDAY\",\"TUESDAY\",\"WEDNESDAY\",\"THURSDAY\",\"FRIDAY\",\"SATURDAY\",\"SUNDAY\",\"MONDAY\",\"TUESDAY\",\"WEDNESDAY\",\"THURSDAY\",\"FRIDAY\",\"SATURDAY\",\"SUNDAY\",\"MONDAY\",\"TUESDAY\",\"WEDNESDAY\",\"THURSDAY\",\"FRIDAY\",\"SATURDAY\",\"SUNDAY\",\"MONDAY\",\"TUESDAY\",\"WEDNESDAY\",\"THURSDAY\",\"FRIDAY\",\"SATURDAY\",\"SUNDAY\",\"MONDAY\",\"TUESDAY\",\"WEDNESDAY\",\"THURSDAY\",\"FRIDAY\",\"SATURDAY\",\"SUNDAY\",\"MONDAY\",\"TUESDAY\",\"WEDNESDAY\",\"THURSDAY\",\"FRIDAY\",\"SATURDAY\",\"SUNDAY\",\"MONDAY\",\"TUESDAY\",\"WEDNESDAY\",\"THURSDAY\",\"FRIDAY\",\"SATURDAY\",\"SUNDAY\",\"MONDAY\",\"TUESDAY\",\"WEDNESDAY\",\"THURSDAY\",\"FRIDAY\",\"SATURDAY\",\"SUNDAY\",\"MONDAY\",\"TUESDAY\",\"WEDNESDAY\",\"THURSDAY\",\"FRIDAY\",\"SATURDAY\",\"SUNDAY\",\"MONDAY\",\"TUESDAY\",\"WEDNESDAY\",\"THURSDAY\",\"FRIDAY\",\"SATURDAY\",\"SUNDAY\",\"MONDAY\",\"TUESDAY\",\"WEDNESDAY\",\"THURSDAY\",\"FRIDAY\",\"SATURDAY\",\"SUNDAY\",\"MONDAY\",\"TUESDAY\",\"WEDNESDAY\",\"THURSDAY\",\"FRIDAY\",\"SATURDAY\",\"SUNDAY\",\"MONDAY\",\"TUESDAY\",\"WEDNESDAY\",\"THURSDAY\",\"FRIDAY\",\"SATURDAY\",\"SUNDAY\",\"MONDAY\",\"TUESDAY\",\"WEDNESDAY\",\"THURSDAY\",\"FRIDAY\",\"SATURDAY\",\"SUNDAY\",\"MONDAY\",\"TUESDAY\",\"WEDNESDAY\",\"THURSDAY\",\"FRIDAY\",\"SATURDAY\",\"SUNDAY\",\"MONDAY\",\"TUESDAY\",\"WEDNESDAY\",\"THURSDAY\",\"FRIDAY\",\"SATURDAY\",\"SUNDAY\",\"MONDAY\",\"TUESDAY\",\"WEDNESDAY\",\"THURSDAY\",\"FRIDAY\",\"SATURDAY\",\"SUNDAY\",\"MONDAY\",\"TUESDAY\",\"WEDNESDAY\",\"THURSDAY\",\"FRIDAY\",\"SATURDAY\",\"SUNDAY\",\"MONDAY\",\"TUESDAY\",\"WEDNESDAY\",\"THURSDAY\",\"FRIDAY\",\"SATURDAY\",\"SUNDAY\",\"MONDAY\",\"TUESDAY\",\"WEDNESDAY\",\"THURSDAY\",\"FRIDAY\",\"SATURDAY\",\"SUNDAY\",\"WEDNESDAY\",\"THURSDAY\",\"FRIDAY\",\"SATURDAY\",\"SUNDAY\",\"MONDAY\",\"TUESDAY\",\"WEDNESDAY\",\"THURSDAY\",\"FRIDAY\",\"SATURDAY\",\"SUNDAY\",\"MONDAY\",\"TUESDAY\",\"WEDNESDAY\",\"THURSDAY\",\"FRIDAY\",\"SATURDAY\",\"SUNDAY\",\"MONDAY\",\"TUESDAY\",\"WEDNESDAY\",\"THURSDAY\",\"SATURDAY\",\"SUNDAY\",\"MONDAY\",\"TUESDAY\",\"WEDNESDAY\",\"THURSDAY\",\"FRIDAY\",\"SATURDAY\",\"SUNDAY\",\"MONDAY\",\"TUESDAY\",\"WEDNESDAY\",\"THURSDAY\",\"FRIDAY\",\"SATURDAY\",\"SUNDAY\",\"MONDAY\",\"TUESDAY\",\"WEDNESDAY\",\"THURSDAY\",\"FRIDAY\",\"SATURDAY\",\"SUNDAY\",\"MONDAY\",\"TUESDAY\",\"WEDNESDAY\",\"THURSDAY\",\"FRIDAY\",\"SATURDAY\",\"SUNDAY\",\"MONDAY\",\"TUESDAY\",\"WEDNESDAY\",\"THURSDAY\",\"FRIDAY\",\"SATURDAY\",\"SUNDAY\",\"MONDAY\",\"TUESDAY\",\"WEDNESDAY\",\"THURSDAY\",\"FRIDAY\",\"SATURDAY\",\"SUNDAY\",\"MONDAY\",\"TUESDAY\",\"WEDNESDAY\",\"THURSDAY\",\"FRIDAY\",\"SATURDAY\",\"SUNDAY\",\"MONDAY\",\"TUESDAY\",\"WEDNESDAY\",\"THURSDAY\",\"FRIDAY\",\"SATURDAY\",\"SUNDAY\",\"TUESDAY\",\"WEDNESDAY\",\"THURSDAY\",\"FRIDAY\",\"SATURDAY\",\"SUNDAY\",\"MONDAY\",\"TUESDAY\",\"WEDNESDAY\",\"THURSDAY\",\"FRIDAY\",\"SATURDAY\",\"SUNDAY\",\"MONDAY\",\"TUESDAY\",\"WEDNESDAY\",\"THURSDAY\",\"SATURDAY\",\"SUNDAY\",\"MONDAY\",\"TUESDAY\",\"WEDNESDAY\",\"THURSDAY\",\"FRIDAY\",\"SATURDAY\",\"SUNDAY\",\"MONDAY\",\"TUESDAY\",\"WEDNESDAY\",\"THURSDAY\",\"FRIDAY\",\"SATURDAY\",\"SUNDAY\",\"MONDAY\",\"TUESDAY\",\"WEDNESDAY\",\"THURSDAY\",\"FRIDAY\",\"SATURDAY\",\"SUNDAY\",\"MONDAY\",\"TUESDAY\",\"WEDNESDAY\",\"THURSDAY\",\"FRIDAY\",\"SATURDAY\",\"SUNDAY\",\"MONDAY\",\"TUESDAY\",\"WEDNESDAY\",\"THURSDAY\",\"FRIDAY\",\"SATURDAY\",\"SUNDAY\",\"MONDAY\",\"TUESDAY\",\"WEDNESDAY\",\"THURSDAY\",\"FRIDAY\",\"SATURDAY\",\"SUNDAY\",\"MONDAY\",\"TUESDAY\",\"WEDNESDAY\",\"THURSDAY\",\"FRIDAY\",\"SATURDAY\",\"SUNDAY\",\"MONDAY\",\"TUESDAY\",\"WEDNESDAY\",\"THURSDAY\",\"FRIDAY\",\"SATURDAY\",\"SUNDAY\",\"MONDAY\",\"TUESDAY\",\"WEDNESDAY\",\"THURSDAY\",\"FRIDAY\",\"SATURDAY\",\"SUNDAY\",\"MONDAY\",\"TUESDAY\",\"WEDNESDAY\",\"THURSDAY\",\"FRIDAY\",\"SATURDAY\",\"SUNDAY\",\"MONDAY\",\"TUESDAY\",\"WEDNESDAY\",\"THURSDAY\",\"FRIDAY\",\"SATURDAY\",\"SUNDAY\",\"MONDAY\",\"TUESDAY\",\"WEDNESDAY\",\"THURSDAY\",\"FRIDAY\",\"SATURDAY\",\"SUNDAY\",\"MONDAY\",\"TUESDAY\",\"WEDNESDAY\",\"THURSDAY\",\"FRIDAY\",\"SATURDAY\",\"SUNDAY\",\"MONDAY\",\"TUESDAY\",\"WEDNESDAY\",\"THURSDAY\",\"FRIDAY\",\"SATURDAY\",\"SUNDAY\",\"MONDAY\",\"TUESDAY\",\"WEDNESDAY\",\"THURSDAY\",\"FRIDAY\",\"SATURDAY\",\"SUNDAY\",\"MONDAY\",\"TUESDAY\",\"WEDNESDAY\",\"THURSDAY\",\"FRIDAY\",\"SATURDAY\",\"SUNDAY\",\"MONDAY\",\"TUESDAY\",\"WEDNESDAY\",\"THURSDAY\",\"FRIDAY\",\"SATURDAY\",\"SUNDAY\",\"MONDAY\",\"TUESDAY\",\"WEDNESDAY\",\"THURSDAY\",\"FRIDAY\",\"SATURDAY\",\"SUNDAY\",\"MONDAY\",\"TUESDAY\",\"WEDNESDAY\",\"THURSDAY\",\"FRIDAY\",\"SATURDAY\",\"SUNDAY\",\"MONDAY\",\"TUESDAY\",\"WEDNESDAY\",\"THURSDAY\",\"FRIDAY\",\"SATURDAY\",\"SUNDAY\",\"MONDAY\",\"TUESDAY\",\"WEDNESDAY\",\"THURSDAY\",\"FRIDAY\",\"SATURDAY\",\"SUNDAY\",\"MONDAY\",\"TUESDAY\",\"WEDNESDAY\",\"THURSDAY\",\"FRIDAY\",\"SATURDAY\",\"SUNDAY\",\"MONDAY\",\"TUESDAY\",\"WEDNESDAY\",\"THURSDAY\",\"FRIDAY\",\"SATURDAY\",\"SUNDAY\",\"MONDAY\",\"TUESDAY\",\"WEDNESDAY\",\"THURSDAY\",\"FRIDAY\",\"SATURDAY\",\"SUNDAY\",\"MONDAY\",\"TUESDAY\",\"WEDNESDAY\",\"THURSDAY\",\"FRIDAY\",\"SATURDAY\",\"SUNDAY\",\"MONDAY\",\"TUESDAY\",\"WEDNESDAY\",\"THURSDAY\",\"FRIDAY\",\"SATURDAY\",\"SUNDAY\",\"MONDAY\",\"TUESDAY\",\"WEDNESDAY\",\"THURSDAY\",\"FRIDAY\",\"SATURDAY\",\"SUNDAY\",\"MONDAY\",\"TUESDAY\",\"WEDNESDAY\",\"THURSDAY\",\"FRIDAY\",\"SATURDAY\",\"SUNDAY\",\"MONDAY\",\"TUESDAY\",\"WEDNESDAY\",\"THURSDAY\",\"FRIDAY\",\"SATURDAY\",\"SUNDAY\",\"MONDAY\",\"TUESDAY\",\"WEDNESDAY\",\"THURSDAY\",\"FRIDAY\",\"SATURDAY\",\"SUNDAY\",\"MONDAY\",\"TUESDAY\",\"WEDNESDAY\",\"THURSDAY\",\"FRIDAY\",\"SATURDAY\",\"SUNDAY\",\"MONDAY\",\"TUESDAY\",\"WEDNESDAY\",\"THURSDAY\",\"FRIDAY\",\"SATURDAY\",\"SUNDAY\",\"MONDAY\",\"TUESDAY\",\"WEDNESDAY\",\"THURSDAY\",\"FRIDAY\",\"SATURDAY\",\"SUNDAY\",\"MONDAY\",\"TUESDAY\",\"WEDNESDAY\",\"THURSDAY\",\"FRIDAY\",\"SATURDAY\",\"SUNDAY\",\"MONDAY\",\"TUESDAY\",\"WEDNESDAY\",\"THURSDAY\",\"FRIDAY\",\"SATURDAY\",\"SUNDAY\",\"MONDAY\",\"TUESDAY\",\"WEDNESDAY\",\"THURSDAY\",\"FRIDAY\",\"SATURDAY\",\"SUNDAY\",\"MONDAY\",\"TUESDAY\",\"WEDNESDAY\",\"FRIDAY\",\"SATURDAY\",\"SUNDAY\",\"MONDAY\",\"TUESDAY\",\"WEDNESDAY\",\"THURSDAY\",\"FRIDAY\",\"SATURDAY\",\"SUNDAY\",\"MONDAY\",\"TUESDAY\",\"WEDNESDAY\",\"THURSDAY\",\"FRIDAY\",\"SATURDAY\",\"SUNDAY\",\"MONDAY\",\"TUESDAY\",\"WEDNESDAY\",\"THURSDAY\",\"FRIDAY\",\"SATURDAY\",\"SUNDAY\",\"MONDAY\",\"WEDNESDAY\",\"THURSDAY\",\"SATURDAY\",\"SUNDAY\",\"MONDAY\",\"TUESDAY\",\"WEDNESDAY\",\"THURSDAY\",\"FRIDAY\",\"SATURDAY\",\"SUNDAY\",\"MONDAY\",\"TUESDAY\",\"WEDNESDAY\",\"THURSDAY\",\"SATURDAY\",\"SUNDAY\",\"MONDAY\",\"TUESDAY\",\"WEDNESDAY\",\"THURSDAY\",\"FRIDAY\",\"SATURDAY\",\"SUNDAY\",\"MONDAY\",\"TUESDAY\",\"WEDNESDAY\",\"THURSDAY\",\"FRIDAY\",\"SATURDAY\",\"MONDAY\",\"TUESDAY\",\"WEDNESDAY\",\"THURSDAY\",\"FRIDAY\",\"SATURDAY\",\"SUNDAY\",\"MONDAY\",\"TUESDAY\",\"WEDNESDAY\",\"THURSDAY\",\"FRIDAY\",\"SATURDAY\",\"SUNDAY\",\"MONDAY\",\"TUESDAY\",\"WEDNESDAY\",\"THURSDAY\",\"FRIDAY\",\"SUNDAY\",\"MONDAY\",\"TUESDAY\",\"WEDNESDAY\",\"THURSDAY\",\"FRIDAY\",\"SATURDAY\",\"SUNDAY\",\"MONDAY\",\"TUESDAY\",\"WEDNESDAY\",\"THURSDAY\",\"FRIDAY\",\"SATURDAY\",\"SUNDAY\",\"MONDAY\",\"TUESDAY\",\"WEDNESDAY\",\"THURSDAY\",\"FRIDAY\",\"SATURDAY\",\"SUNDAY\",\"MONDAY\",\"TUESDAY\",\"WEDNESDAY\",\"THURSDAY\",\"FRIDAY\",\"SATURDAY\",\"SUNDAY\",\"MONDAY\",\"TUESDAY\",\"WEDNESDAY\",\"THURSDAY\",\"FRIDAY\",\"SATURDAY\",\"SUNDAY\",\"MONDAY\",\"TUESDAY\",\"WEDNESDAY\",\"THURSDAY\",\"FRIDAY\",\"SATURDAY\",\"SUNDAY\",\"MONDAY\",\"TUESDAY\",\"THURSDAY\",\"FRIDAY\",\"SATURDAY\",\"SUNDAY\",\"MONDAY\",\"TUESDAY\",\"WEDNESDAY\",\"THURSDAY\",\"FRIDAY\",\"SATURDAY\",\"SUNDAY\",\"MONDAY\",\"TUESDAY\",\"WEDNESDAY\",\"THURSDAY\",\"FRIDAY\",\"SATURDAY\",\"FRIDAY\",\"SATURDAY\",\"SUNDAY\",\"MONDAY\",\"TUESDAY\",\"WEDNESDAY\",\"THURSDAY\",\"FRIDAY\",\"SATURDAY\",\"SUNDAY\",\"MONDAY\",\"TUESDAY\",\"WEDNESDAY\",\"THURSDAY\",\"FRIDAY\",\"SATURDAY\",\"SUNDAY\",\"MONDAY\",\"TUESDAY\",\"WEDNESDAY\",\"THURSDAY\",\"FRIDAY\",\"SATURDAY\",\"SUNDAY\",\"MONDAY\",\"TUESDAY\",\"WEDNESDAY\",\"THURSDAY\",\"FRIDAY\",\"SATURDAY\",\"SUNDAY\",\"MONDAY\",\"TUESDAY\",\"WEDNESDAY\",\"THURSDAY\",\"FRIDAY\",\"SATURDAY\",\"SUNDAY\",\"MONDAY\",\"TUESDAY\",\"WEDNESDAY\",\"THURSDAY\",\"FRIDAY\",\"SATURDAY\",\"SUNDAY\",\"MONDAY\",\"TUESDAY\",\"WEDNESDAY\",\"THURSDAY\",\"FRIDAY\",\"SATURDAY\",\"SUNDAY\",\"MONDAY\",\"TUESDAY\",\"WEDNESDAY\",\"THURSDAY\",\"FRIDAY\",\"SATURDAY\",\"SUNDAY\",\"MONDAY\",\"TUESDAY\",\"WEDNESDAY\",\"THURSDAY\",\"FRIDAY\",\"SATURDAY\",\"MONDAY\",\"TUESDAY\",\"WEDNESDAY\",\"THURSDAY\",\"FRIDAY\",\"SATURDAY\",\"SUNDAY\",\"MONDAY\",\"TUESDAY\",\"THURSDAY\",\"FRIDAY\",\"SATURDAY\",\"SUNDAY\",\"MONDAY\",\"TUESDAY\",\"WEDNESDAY\",\"THURSDAY\",\"FRIDAY\",\"SATURDAY\",\"SUNDAY\",\"MONDAY\",\"TUESDAY\",\"WEDNESDAY\",\"THURSDAY\",\"FRIDAY\",\"SATURDAY\",\"SUNDAY\",\"MONDAY\",\"WEDNESDAY\",\"THURSDAY\",\"FRIDAY\",\"SATURDAY\",\"SUNDAY\",\"MONDAY\",\"TUESDAY\",\"FRIDAY\",\"SATURDAY\",\"SUNDAY\",\"MONDAY\",\"TUESDAY\",\"WEDNESDAY\",\"THURSDAY\",\"FRIDAY\",\"SATURDAY\",\"SUNDAY\",\"TUESDAY\",\"WEDNESDAY\",\"THURSDAY\",\"FRIDAY\",\"MONDAY\",\"WEDNESDAY\",\"THURSDAY\",\"TUESDAY\",\"WEDNESDAY\",\"THURSDAY\",\"FRIDAY\",\"SATURDAY\",\"SUNDAY\",\"MONDAY\",\"TUESDAY\",\"WEDNESDAY\",\"THURSDAY\",\"FRIDAY\",\"SATURDAY\",\"SUNDAY\",\"MONDAY\",\"TUESDAY\",\"WEDNESDAY\",\"THURSDAY\",\"FRIDAY\",\"SATURDAY\",\"SUNDAY\",\"MONDAY\",\"THURSDAY\",\"FRIDAY\",\"SATURDAY\",\"SUNDAY\",\"MONDAY\",\"TUESDAY\",\"THURSDAY\",\"FRIDAY\",\"SATURDAY\",\"SUNDAY\",\"MONDAY\",\"TUESDAY\",\"WEDNESDAY\",\"THURSDAY\",\"FRIDAY\",\"SATURDAY\",\"SUNDAY\",\"MONDAY\",\"TUESDAY\",\"WEDNESDAY\",\"THURSDAY\",\"FRIDAY\",\"SUNDAY\",\"MONDAY\",\"TUESDAY\",\"WEDNESDAY\",\"THURSDAY\",\"FRIDAY\",\"SATURDAY\",\"SUNDAY\",\"MONDAY\",\"TUESDAY\",\"WEDNESDAY\",\"THURSDAY\",\"FRIDAY\",\"SATURDAY\",\"SUNDAY\",\"MONDAY\",\"TUESDAY\",\"WEDNESDAY\",\"THURSDAY\",\"FRIDAY\",\"SATURDAY\",\"SUNDAY\",\"MONDAY\",\"TUESDAY\",\"WEDNESDAY\",\"THURSDAY\",\"TUESDAY\",\"WEDNESDAY\",\"THURSDAY\",\"FRIDAY\",\"SATURDAY\",\"SUNDAY\",\"MONDAY\",\"TUESDAY\",\"WEDNESDAY\",\"THURSDAY\",\"FRIDAY\",\"SATURDAY\",\"SUNDAY\",\"MONDAY\",\"TUESDAY\",\"WEDNESDAY\",\"THURSDAY\",\"FRIDAY\",\"SATURDAY\",\"SUNDAY\",\"MONDAY\",\"TUESDAY\",\"WEDNESDAY\",\"THURSDAY\",\"FRIDAY\",\"SATURDAY\",\"SUNDAY\",\"MONDAY\",\"TUESDAY\",\"WEDNESDAY\",\"THURSDAY\",\"FRIDAY\",\"SATURDAY\",\"SUNDAY\",\"MONDAY\",\"TUESDAY\",\"WEDNESDAY\",\"THURSDAY\",\"FRIDAY\",\"SATURDAY\",\"SUNDAY\",\"MONDAY\",\"TUESDAY\",\"WEDNESDAY\",\"THURSDAY\",\"FRIDAY\",\"SATURDAY\",\"SUNDAY\",\"MONDAY\",\"TUESDAY\",\"WEDNESDAY\",\"THURSDAY\",\"FRIDAY\",\"SATURDAY\",\"SUNDAY\",\"MONDAY\",\"TUESDAY\",\"WEDNESDAY\",\"THURSDAY\",\"FRIDAY\",\"SATURDAY\",\"SUNDAY\",\"MONDAY\",\"TUESDAY\",\"FRIDAY\",\"SATURDAY\",\"SUNDAY\",\"MONDAY\",\"TUESDAY\",\"WEDNESDAY\",\"THURSDAY\",\"FRIDAY\",\"SATURDAY\",\"SUNDAY\",\"MONDAY\",\"TUESDAY\",\"WEDNESDAY\",\"THURSDAY\",\"FRIDAY\",\"SATURDAY\",\"SUNDAY\",\"MONDAY\",\"TUESDAY\",\"WEDNESDAY\",\"THURSDAY\",\"FRIDAY\",\"SATURDAY\",\"SUNDAY\",\"MONDAY\",\"TUESDAY\",\"WEDNESDAY\",\"THURSDAY\",\"FRIDAY\",\"SATURDAY\",\"SUNDAY\",\"MONDAY\",\"TUESDAY\",\"WEDNESDAY\",\"THURSDAY\",\"FRIDAY\",\"SATURDAY\",\"SUNDAY\",\"MONDAY\",\"TUESDAY\",\"WEDNESDAY\",\"THURSDAY\",\"FRIDAY\",\"SATURDAY\",\"SUNDAY\",\"MONDAY\",\"TUESDAY\",\"WEDNESDAY\",\"THURSDAY\",\"FRIDAY\",\"SATURDAY\",\"SUNDAY\",\"MONDAY\",\"TUESDAY\",\"WEDNESDAY\",\"THURSDAY\",\"FRIDAY\",\"SATURDAY\",\"SUNDAY\",\"MONDAY\",\"WEDNESDAY\",\"THURSDAY\",\"FRIDAY\",\"SATURDAY\",\"SUNDAY\",\"MONDAY\",\"TUESDAY\",\"WEDNESDAY\",\"THURSDAY\",\"FRIDAY\",\"SATURDAY\",\"SUNDAY\",\"MONDAY\",\"TUESDAY\",\"WEDNESDAY\",\"THURSDAY\",\"FRIDAY\",\"SATURDAY\",\"SUNDAY\",\"MONDAY\",\"TUESDAY\",\"WEDNESDAY\",\"THURSDAY\",\"FRIDAY\",\"SATURDAY\",\"SUNDAY\",\"MONDAY\",\"TUESDAY\",\"WEDNESDAY\",\"THURSDAY\",\"FRIDAY\",\"SATURDAY\",\"SUNDAY\",\"MONDAY\",\"TUESDAY\",\"WEDNESDAY\",\"THURSDAY\",\"FRIDAY\",\"SUNDAY\",\"MONDAY\",\"TUESDAY\",\"WEDNESDAY\",\"THURSDAY\",\"FRIDAY\"],\"Working Day\":[\"H\",\"H\",\"W\",\"W\",\"W\",\"W\",\"W\",\"H\",\"H\",\"W\",\"W\",\"W\",\"W\",\"W\",\"H\",\"H\",\"H\",\"W\",\"W\",\"W\",\"W\",\"H\",\"H\",\"W\",\"W\",\"H\",\"W\",\"W\",\"H\",\"H\",\"W\",\"W\",\"W\",\"W\",\"W\",\"H\",\"H\",\"W\",\"W\",\"W\",\"W\",\"W\",\"H\",\"H\",\"W\",\"W\",\"H\",\"W\",\"W\",\"H\",\"H\",\"W\",\"W\",\"W\",\"W\",\"W\",\"H\",\"H\",\"W\",\"W\",\"W\",\"W\",\"W\",\"H\",\"H\",\"W\",\"W\",\"W\",\"W\",\"W\",\"H\",\"H\",\"W\",\"W\",\"W\",\"W\",\"W\",\"H\",\"H\",\"W\",\"W\",\"W\",\"W\",\"W\",\"H\",\"H\",\"W\",\"W\",\"W\",\"W\",\"W\",\"H\",\"H\",\"W\",\"W\",\"W\",\"W\",\"W\",\"H\",\"H\",\"W\",\"H\",\"W\",\"H\",\"W\",\"H\",\"H\",\"W\",\"W\",\"W\",\"W\",\"H\",\"H\",\"H\",\"W\",\"W\",\"W\",\"W\",\"W\",\"H\",\"H\",\"W\",\"W\",\"W\",\"W\",\"W\",\"H\",\"H\",\"W\",\"W\",\"W\",\"W\",\"W\",\"H\",\"H\",\"W\",\"H\",\"W\",\"W\",\"W\",\"H\",\"H\",\"W\",\"W\",\"W\",\"W\",\"W\",\"H\",\"H\",\"W\",\"W\",\"W\",\"W\",\"W\",\"H\",\"H\",\"W\",\"W\",\"W\",\"W\",\"W\",\"H\",\"H\",\"W\",\"W\",\"W\",\"W\",\"W\",\"H\",\"H\",\"W\",\"W\",\"W\",\"W\",\"W\",\"H\",\"H\",\"W\",\"W\",\"W\",\"W\",\"W\",\"H\",\"H\",\"W\",\"W\",\"W\",\"W\",\"W\",\"H\",\"H\",\"W\",\"W\",\"W\",\"W\",\"W\",\"H\",\"H\",\"W\",\"W\",\"W\",\"W\",\"W\",\"H\",\"H\",\"W\",\"W\",\"W\",\"W\",\"W\",\"H\",\"H\",\"W\",\"W\",\"W\",\"W\",\"W\",\"H\",\"H\",\"W\",\"W\",\"W\",\"W\",\"W\",\"H\",\"H\",\"H\",\"W\",\"W\",\"W\",\"W\",\"H\",\"H\",\"W\",\"W\",\"W\",\"W\",\"W\",\"H\",\"H\",\"W\",\"W\",\"H\",\"H\",\"W\",\"H\",\"H\",\"W\",\"W\",\"W\",\"W\",\"W\",\"H\",\"H\",\"W\",\"W\",\"W\",\"W\",\"W\",\"H\",\"H\",\"W\",\"W\",\"W\",\"W\",\"W\",\"H\",\"H\",\"W\",\"W\",\"W\",\"W\",\"W\",\"H\",\"H\",\"W\",\"W\",\"H\",\"W\",\"H\",\"H\",\"W\",\"W\",\"W\",\"W\",\"W\",\"H\",\"H\",\"W\",\"W\",\"W\",\"W\",\"W\",\"H\",\"H\",\"W\",\"W\",\"H\",\"W\",\"W\",\"H\",\"H\",\"W\",\"W\",\"W\",\"W\",\"W\",\"H\",\"H\",\"H\",\"W\",\"W\",\"W\",\"W\",\"H\",\"W\",\"W\",\"W\",\"W\",\"W\",\"H\",\"H\",\"W\",\"W\",\"W\",\"W\",\"W\",\"H\",\"H\",\"W\",\"W\",\"W\",\"W\",\"W\",\"H\",\"H\",\"W\",\"H\",\"W\",\"W\",\"W\",\"H\",\"H\",\"W\",\"W\",\"W\",\"W\",\"W\",\"H\",\"H\",\"W\",\"W\",\"W\",\"W\",\"W\",\"H\",\"H\",\"W\",\"W\",\"W\",\"W\",\"W\",\"H\",\"H\",\"H\",\"H\",\"H\",\"H\",\"H\",\"H\",\"H\",\"H\",\"H\",\"H\",\"H\",\"H\",\"H\",\"H\",\"H\",\"H\",\"H\",\"H\",\"H\",\"H\",\"H\",\"H\",\"H\",\"H\",\"H\",\"H\",\"H\",\"H\",\"H\",\"H\",\"H\",\"H\",\"H\",\"H\",\"H\",\"H\",\"H\",\"H\",\"H\",\"H\",\"H\",\"H\",\"H\",\"H\",\"H\",\"H\",\"H\",\"H\",\"H\",\"H\",\"H\",\"H\",\"H\",\"H\",\"H\",\"H\",\"H\",\"H\",\"H\",\"H\",\"H\",\"H\",\"H\",\"H\",\"H\",\"H\",\"H\",\"H\",\"H\",\"H\",\"H\",\"H\",\"H\",\"H\",\"H\",\"H\",\"H\",\"H\",\"H\",\"H\",\"H\",\"H\",\"H\",\"H\",\"H\",\"H\",\"H\",\"H\",\"H\",\"H\",\"H\",\"H\",\"H\",\"H\",\"H\",\"H\",\"H\",\"H\",\"H\",\"H\",\"H\",\"H\",\"H\",\"H\",\"H\",\"H\",\"H\",\"H\",\"H\",\"H\",\"H\",\"H\",\"H\",\"H\",\"H\",\"H\",\"H\",\"H\",\"H\",\"H\",\"H\",\"H\",\"H\",\"H\",\"H\",\"H\",\"H\",\"H\",\"H\",\"H\",\"H\",\"H\",\"H\",\"H\",\"H\",\"H\",\"H\",\"H\",\"H\",\"H\",\"H\",\"H\",\"H\",\"H\",\"H\",\"H\",\"H\",\"H\",\"H\",\"H\",\"H\",\"H\",\"H\",\"H\",\"H\",\"H\",\"H\",\"H\",\"H\",\"H\",\"H\",\"H\",\"H\",\"H\",\"H\",\"H\",\"H\",\"H\",\"H\",\"H\",\"H\",\"H\",\"H\",\"H\",\"H\",\"H\",\"H\",\"H\",\"H\",\"H\",\"H\",\"H\",\"H\",\"H\",\"H\",\"H\",\"H\",\"H\",\"H\",\"H\",\"H\",\"H\",\"H\",\"H\",\"H\",\"H\",\"H\",\"H\",\"H\",\"H\",\"H\",\"H\",\"H\",\"H\",\"H\",\"H\",\"H\",\"H\",\"H\",\"H\",\"H\",\"H\",\"H\",\"H\",\"H\",\"H\",\"H\",\"H\",\"H\",\"H\",\"H\",\"H\",\"H\",\"H\",\"H\",\"H\",\"H\",\"H\",\"H\",\"H\",\"H\",\"H\",\"H\",\"H\",\"H\",\"H\",\"H\",\"H\",\"H\",\"H\",\"H\",\"H\",\"H\",\"H\",\"H\",\"H\",\"H\",\"H\",\"H\",\"H\",\"H\",\"H\",\"H\",\"H\",\"H\",\"H\",\"H\",\"H\",\"H\",\"H\",\"H\",\"H\",\"H\",\"H\",\"H\",\"H\",\"H\",\"H\",\"H\",\"H\",\"H\",\"H\",\"H\",\"H\",\"H\",\"H\",\"H\",\"H\",\"H\",\"H\",\"H\",\"H\",\"H\",\"H\",\"H\",\"H\",\"H\",\"H\",\"H\",\"H\",\"H\",\"H\",\"H\",\"H\",\"H\",\"H\",\"H\",\"H\",\"H\",\"H\",\"H\",\"H\",\"H\",\"H\",\"H\",\"H\",\"H\",\"H\",\"H\",\"H\",\"H\",\"H\",\"H\",\"H\",\"H\",\"H\",\"H\",\"H\",\"H\",\"H\",\"H\",\"H\",\"H\",\"H\",\"H\",\"H\",\"H\",\"H\",\"H\",\"H\",\"H\",\"H\",\"H\",\"H\",\"H\",\"H\",\"H\",\"H\",\"H\",\"H\",\"H\",\"H\",\"H\",\"H\",\"H\",\"H\",\"H\",\"H\",\"H\",\"H\",\"H\",\"H\",\"H\",\"H\",\"H\",\"H\",\"H\",\"H\",\"H\",\"H\",\"H\",\"H\",\"H\",\"H\",\"W\",\"W\",\"W\",\"H\",\"H\",\"W\",\"W\",\"W\",\"W\",\"W\",\"H\",\"H\",\"H\",\"H\",\"H\",\"W\",\"W\",\"H\",\"H\",\"W\",\"W\",\"W\",\"W\",\"H\",\"H\",\"H\",\"W\",\"W\",\"W\",\"W\",\"W\",\"H\",\"H\",\"W\",\"W\",\"W\",\"W\",\"W\",\"H\",\"H\",\"W\",\"W\",\"W\",\"W\",\"W\",\"H\",\"H\",\"W\",\"W\",\"W\",\"W\",\"W\",\"H\",\"H\",\"W\",\"W\",\"W\",\"W\",\"W\",\"H\",\"H\",\"W\",\"W\",\"W\",\"W\",\"W\",\"H\",\"H\",\"W\",\"W\",\"W\",\"W\",\"W\",\"H\",\"H\",\"W\",\"W\",\"W\",\"W\",\"W\",\"H\",\"H\",\"W\",\"W\",\"W\",\"W\",\"H\",\"H\",\"H\",\"W\",\"W\",\"W\",\"W\",\"W\",\"H\",\"H\",\"W\",\"W\",\"W\",\"H\",\"W\",\"H\",\"H\",\"W\",\"W\",\"W\",\"W\",\"W\",\"H\",\"H\",\"W\",\"W\",\"H\",\"W\",\"W\",\"H\",\"H\",\"W\",\"W\",\"H\",\"W\",\"W\",\"H\",\"H\",\"W\",\"W\",\"W\",\"W\",\"W\",\"H\",\"H\",\"W\",\"W\",\"W\",\"W\",\"W\",\"H\",\"H\",\"W\",\"W\",\"W\",\"W\",\"W\",\"H\",\"W\",\"W\",\"W\",\"W\",\"W\",\"H\",\"H\",\"W\",\"W\",\"W\",\"W\",\"W\",\"H\",\"H\",\"W\",\"W\",\"W\",\"W\",\"W\",\"H\",\"H\",\"W\",\"W\",\"W\",\"W\",\"W\",\"H\",\"H\",\"W\",\"W\",\"W\",\"W\",\"W\",\"H\",\"H\",\"W\",\"W\",\"W\",\"W\",\"W\",\"H\",\"H\",\"W\",\"W\",\"W\",\"W\",\"W\",\"H\",\"H\",\"W\",\"W\",\"W\",\"W\",\"W\",\"H\",\"H\",\"W\",\"W\",\"W\",\"W\",\"W\",\"H\",\"H\",\"W\",\"W\",\"W\",\"W\",\"W\",\"H\",\"H\",\"W\",\"W\",\"W\",\"W\",\"W\",\"H\",\"H\",\"W\",\"W\",\"W\",\"W\",\"H\",\"H\",\"W\",\"W\",\"W\",\"W\",\"W\",\"H\",\"H\",\"W\",\"W\",\"W\",\"W\",\"W\",\"H\",\"H\",\"W\",\"W\",\"W\",\"W\",\"W\",\"H\",\"H\",\"H\",\"W\",\"W\",\"W\",\"W\",\"H\",\"H\",\"W\",\"W\",\"W\",\"W\",\"W\",\"H\",\"H\",\"W\",\"W\",\"W\",\"W\",\"W\",\"H\",\"H\",\"W\",\"W\",\"H\",\"W\",\"W\",\"H\",\"H\",\"W\",\"W\",\"W\",\"W\",\"W\",\"H\",\"H\",\"H\",\"W\",\"W\",\"W\",\"W\",\"H\",\"H\",\"W\",\"W\",\"W\",\"W\",\"W\",\"H\",\"H\",\"W\",\"W\",\"W\",\"W\",\"W\",\"H\",\"H\",\"W\",\"H\",\"W\",\"W\",\"W\",\"H\",\"H\",\"W\",\"W\",\"W\",\"W\",\"W\",\"H\",\"H\",\"W\",\"W\",\"W\",\"W\",\"W\",\"H\",\"H\",\"W\",\"W\",\"W\",\"W\",\"W\",\"H\",\"H\",\"W\",\"W\",\"W\",\"W\",\"W\",\"H\",\"H\",\"W\",\"W\",\"W\",\"W\",\"W\",\"W\",\"H\",\"W\",\"W\",\"H\",\"H\",\"W\",\"W\",\"H\",\"W\",\"W\",\"H\",\"H\",\"W\",\"W\",\"W\",\"W\",\"W\",\"H\",\"H\",\"W\",\"H\",\"H\",\"H\",\"W\",\"H\",\"H\",\"W\",\"W\",\"W\",\"W\",\"W\",\"H\",\"H\",\"W\",\"W\",\"W\",\"W\",\"W\",\"H\",\"H\",\"W\",\"W\",\"W\",\"W\",\"W\",\"H\",\"H\",\"W\",\"W\",\"W\",\"W\",\"W\",\"H\",\"H\",\"W\",\"W\",\"W\",\"W\",\"W\",\"H\",\"H\",\"W\",\"W\",\"W\",\"W\",\"W\",\"H\",\"H\",\"W\",\"W\",\"W\",\"W\",\"W\",\"H\",\"H\",\"W\",\"W\",\"W\",\"W\",\"W\",\"H\",\"H\",\"W\",\"W\",\"W\",\"W\",\"W\",\"H\",\"H\",\"W\",\"W\",\"W\",\"W\",\"W\",\"H\",\"H\",\"H\",\"W\",\"W\",\"W\",\"H\",\"H\",\"W\",\"W\",\"W\",\"W\",\"W\",\"H\",\"H\",\"H\",\"W\",\"W\",\"W\",\"H\",\"H\",\"H\",\"W\",\"W\",\"W\",\"W\",\"W\",\"H\",\"H\",\"W\",\"W\",\"W\",\"H\",\"W\",\"H\",\"H\",\"W\",\"W\",\"W\",\"W\",\"W\",\"H\",\"H\",\"W\",\"W\",\"W\",\"W\",\"W\",\"H\",\"H\",\"W\",\"W\",\"W\",\"W\",\"W\",\"H\",\"H\",\"W\",\"W\",\"W\",\"W\",\"W\",\"H\",\"H\",\"W\",\"W\",\"W\",\"W\",\"W\",\"H\",\"H\",\"W\",\"W\",\"W\",\"W\",\"W\",\"H\",\"H\",\"W\",\"W\",\"W\",\"W\",\"W\",\"H\",\"H\",\"W\",\"W\",\"W\",\"W\",\"W\",\"H\",\"H\",\"W\",\"W\",\"W\",\"W\",\"W\",\"H\",\"H\",\"W\",\"W\",\"W\",\"W\",\"W\",\"H\",\"H\",\"W\",\"W\",\"W\",\"W\",\"W\",\"H\",\"H\",\"W\",\"W\",\"W\",\"W\",\"W\",\"H\",\"H\",\"W\",\"H\",\"W\",\"W\",\"W\",\"H\",\"H\",\"W\",\"W\",\"W\",\"W\",\"W\",\"H\",\"W\",\"W\",\"W\",\"W\",\"H\",\"H\",\"H\",\"W\",\"W\",\"W\",\"W\",\"W\",\"H\",\"H\",\"W\",\"W\",\"W\",\"W\",\"H\",\"H\",\"H\",\"W\",\"W\",\"W\",\"W\",\"W\",\"H\",\"H\",\"W\",\"W\",\"W\",\"W\",\"W\",\"H\",\"H\",\"W\",\"W\",\"W\",\"W\",\"W\",\"H\",\"H\",\"W\",\"W\",\"W\",\"W\",\"W\",\"H\",\"H\",\"W\",\"W\",\"W\",\"H\",\"H\",\"H\",\"H\",\"W\",\"W\",\"W\",\"W\",\"H\",\"H\",\"W\",\"W\",\"W\",\"W\",\"W\",\"H\",\"H\",\"W\",\"W\",\"H\",\"W\",\"W\",\"H\",\"H\",\"W\",\"W\",\"W\",\"W\",\"W\",\"H\",\"H\",\"W\",\"H\",\"W\",\"W\",\"W\",\"H\",\"H\",\"W\",\"W\",\"W\",\"W\",\"W\",\"H\",\"H\",\"W\",\"W\",\"W\",\"W\",\"W\",\"H\",\"H\",\"W\",\"W\",\"W\",\"W\",\"W\",\"H\",\"H\",\"W\",\"W\",\"W\",\"W\",\"W\",\"H\",\"H\",\"W\",\"W\",\"W\",\"W\",\"W\",\"H\",\"H\",\"W\",\"W\",\"W\",\"W\",\"W\",\"H\",\"H\",\"W\",\"W\",\"W\",\"H\",\"W\",\"H\",\"H\",\"W\",\"W\",\"W\",\"H\",\"W\",\"H\",\"H\",\"W\",\"W\",\"W\",\"W\",\"W\",\"H\",\"H\",\"W\",\"W\",\"W\",\"H\",\"H\",\"H\",\"H\",\"W\",\"W\",\"W\",\"W\",\"W\",\"H\",\"H\",\"H\",\"W\",\"W\",\"W\",\"W\",\"H\",\"H\",\"W\",\"W\",\"W\",\"W\",\"W\",\"H\",\"H\",\"W\",\"W\",\"W\",\"W\",\"W\",\"H\",\"H\",\"W\",\"W\",\"W\",\"W\",\"W\",\"H\",\"H\",\"W\",\"W\",\"W\",\"W\",\"W\",\"H\",\"H\",\"W\",\"W\",\"W\",\"W\",\"W\",\"H\",\"H\",\"W\",\"W\",\"W\",\"H\",\"H\",\"W\",\"W\",\"W\",\"W\",\"W\",\"H\",\"H\",\"W\",\"W\",\"W\",\"W\",\"W\",\"H\",\"H\",\"W\",\"W\",\"W\",\"H\",\"H\",\"H\",\"W\",\"W\",\"W\",\"W\",\"W\",\"H\",\"H\",\"W\",\"H\",\"W\",\"W\",\"W\",\"H\",\"H\",\"W\",\"W\",\"W\",\"W\",\"W\",\"H\",\"H\",\"W\",\"W\",\"W\",\"W\",\"H\",\"H\",\"H\",\"W\",\"W\",\"W\",\"W\",\"W\",\"H\",\"H\",\"W\",\"W\",\"W\",\"W\",\"W\",\"H\",\"H\",\"W\",\"W\",\"W\",\"W\",\"W\",\"H\",\"H\",\"W\",\"W\",\"W\",\"W\",\"W\",\"H\",\"H\",\"W\",\"W\",\"W\",\"W\",\"H\",\"H\",\"W\",\"W\",\"W\",\"W\",\"W\",\"H\",\"H\",\"W\",\"W\",\"W\",\"W\",\"H\",\"H\",\"W\",\"W\",\"W\",\"W\",\"W\",\"H\",\"H\",\"W\",\"W\",\"W\",\"W\",\"W\",\"H\",\"H\",\"W\",\"W\",\"W\",\"W\",\"W\",\"H\",\"H\",\"W\",\"W\",\"W\",\"W\",\"W\",\"H\",\"H\",\"W\",\"W\",\"W\",\"W\",\"W\",\"H\",\"H\",\"W\",\"W\",\"W\",\"W\",\"W\",\"H\",\"H\",\"W\",\"W\",\"W\",\"W\",\"W\",\"H\",\"H\",\"W\",\"W\",\"W\",\"W\",\"W\",\"H\",\"H\",\"W\",\"W\",\"W\",\"W\",\"W\",\"H\",\"H\",\"W\",\"W\",\"W\",\"W\",\"W\",\"H\",\"H\",\"W\",\"W\",\"W\",\"W\",\"W\",\"H\",\"H\",\"W\",\"W\",\"W\",\"W\",\"W\",\"H\",\"H\",\"W\",\"W\",\"W\",\"H\",\"W\",\"H\",\"H\",\"W\",\"W\",\"W\",\"H\",\"W\",\"H\",\"H\",\"W\",\"W\",\"W\",\"W\",\"H\",\"H\",\"H\",\"W\",\"W\",\"W\",\"W\",\"W\",\"H\",\"H\",\"W\",\"W\",\"W\",\"W\",\"W\",\"H\",\"H\",\"W\",\"W\",\"H\",\"H\",\"H\",\"H\",\"H\",\"W\",\"W\",\"W\",\"W\",\"W\",\"H\",\"H\",\"W\",\"W\",\"W\",\"W\",\"W\",\"H\",\"H\",\"W\",\"H\",\"W\",\"W\",\"W\",\"H\",\"H\",\"W\",\"W\",\"W\",\"W\",\"W\",\"H\",\"H\",\"H\",\"W\",\"W\",\"W\",\"W\",\"H\",\"H\",\"W\",\"W\",\"W\",\"W\",\"W\",\"H\",\"H\",\"W\",\"W\",\"W\",\"W\",\"W\",\"H\",\"H\",\"W\",\"W\",\"W\",\"W\",\"W\",\"H\",\"H\",\"W\",\"W\",\"W\",\"W\",\"H\",\"H\",\"H\",\"W\",\"W\",\"W\",\"W\",\"H\",\"H\",\"H\",\"W\",\"W\",\"W\",\"W\",\"W\",\"H\",\"H\",\"W\",\"W\",\"W\",\"W\",\"H\",\"H\",\"H\",\"W\",\"W\",\"W\",\"W\",\"W\",\"H\",\"H\",\"W\",\"H\",\"W\",\"W\",\"W\",\"H\",\"H\",\"W\",\"W\",\"W\",\"W\",\"W\",\"H\",\"H\",\"W\",\"W\",\"W\",\"W\",\"W\",\"H\",\"H\",\"W\",\"W\",\"W\",\"W\",\"W\",\"H\",\"H\",\"W\",\"W\",\"W\",\"W\",\"W\",\"H\",\"H\",\"W\",\"W\",\"W\",\"W\",\"H\",\"H\",\"W\",\"W\",\"W\",\"W\",\"W\",\"H\",\"H\",\"W\",\"W\",\"W\",\"W\",\"W\",\"H\",\"H\",\"W\",\"W\",\"W\",\"W\",\"H\",\"H\",\"H\",\"W\",\"W\",\"W\",\"H\",\"H\",\"W\",\"W\",\"W\",\"W\",\"H\",\"H\",\"H\",\"W\",\"W\",\"W\",\"H\",\"H\",\"H\",\"W\",\"H\",\"W\",\"W\",\"W\",\"H\",\"H\",\"W\",\"W\",\"W\",\"W\",\"W\",\"H\",\"W\",\"W\",\"W\",\"W\",\"W\",\"H\",\"H\",\"W\",\"W\",\"W\",\"W\",\"W\",\"H\",\"H\",\"W\",\"W\",\"W\",\"W\",\"W\",\"H\",\"W\",\"W\",\"W\",\"W\",\"W\",\"H\",\"H\",\"W\",\"W\",\"W\",\"W\",\"W\",\"H\",\"H\",\"W\",\"W\",\"W\",\"W\",\"W\",\"H\",\"H\",\"W\",\"W\",\"W\",\"W\",\"W\",\"H\",\"H\",\"W\",\"W\",\"W\",\"W\",\"W\",\"H\",\"H\",\"W\",\"W\",\"W\",\"W\",\"W\",\"H\",\"H\",\"W\",\"W\",\"H\",\"W\",\"H\",\"H\",\"W\",\"W\",\"W\",\"W\",\"W\",\"H\",\"H\",\"W\",\"W\",\"W\",\"W\",\"W\",\"H\",\"W\",\"H\",\"H\",\"W\",\"W\",\"W\",\"W\",\"W\",\"H\",\"H\",\"W\",\"W\",\"W\",\"W\",\"W\",\"H\",\"H\",\"H\",\"W\",\"W\",\"W\",\"W\",\"H\",\"H\",\"W\",\"W\",\"W\",\"H\",\"W\",\"H\",\"H\",\"W\",\"W\",\"W\",\"W\",\"W\",\"H\",\"H\",\"H\",\"W\",\"W\",\"W\",\"W\",\"H\",\"H\",\"W\",\"H\",\"W\",\"W\",\"W\",\"H\",\"H\",\"W\",\"W\",\"W\",\"W\",\"W\",\"H\",\"H\",\"W\",\"W\",\"W\",\"W\",\"W\",\"H\",\"W\",\"W\",\"W\",\"W\",\"W\",\"H\",\"H\",\"H\",\"H\",\"W\",\"W\",\"H\",\"H\",\"W\",\"W\",\"W\",\"W\",\"W\",\"H\",\"H\",\"W\",\"W\",\"W\",\"W\",\"W\",\"H\",\"H\",\"W\",\"W\",\"W\",\"W\",\"H\",\"H\",\"W\",\"W\",\"W\",\"H\",\"H\",\"W\",\"W\",\"W\",\"W\",\"W\",\"H\",\"H\",\"W\",\"W\",\"W\",\"W\",\"W\",\"W\",\"W\",\"W\",\"W\",\"W\",\"W\",\"H\",\"H\",\"W\",\"W\",\"W\",\"H\",\"W\",\"H\",\"H\",\"W\",\"W\",\"W\",\"W\",\"W\",\"H\",\"H\",\"W\",\"W\",\"W\",\"H\",\"H\",\"W\",\"W\",\"W\",\"W\",\"H\",\"H\",\"W\",\"W\",\"W\",\"W\",\"W\",\"H\",\"H\",\"W\",\"W\",\"W\",\"W\",\"W\",\"H\",\"W\",\"W\",\"W\",\"W\",\"W\",\"H\",\"H\",\"W\",\"W\",\"W\",\"W\",\"W\",\"H\",\"H\",\"W\",\"W\",\"H\",\"W\",\"W\",\"H\",\"H\",\"W\",\"W\",\"W\",\"W\",\"W\",\"W\",\"W\",\"H\",\"H\",\"H\",\"W\",\"W\",\"W\",\"W\",\"W\",\"H\",\"H\",\"W\",\"W\",\"W\",\"W\",\"W\",\"H\",\"H\",\"H\",\"W\",\"W\",\"W\",\"W\",\"H\",\"H\",\"W\",\"W\",\"W\",\"W\",\"W\",\"H\",\"H\",\"W\",\"W\",\"W\",\"W\",\"W\",\"H\",\"H\",\"W\",\"W\",\"W\",\"W\",\"W\",\"H\",\"H\",\"W\",\"W\",\"W\",\"W\",\"W\",\"H\",\"H\",\"W\",\"W\",\"W\",\"W\",\"W\",\"H\",\"H\",\"W\",\"W\",\"W\",\"H\",\"H\",\"W\",\"W\",\"W\",\"W\",\"W\",\"H\",\"H\",\"H\",\"W\",\"W\",\"W\",\"W\",\"H\",\"H\",\"W\",\"W\",\"W\",\"W\",\"W\",\"H\",\"H\",\"W\",\"W\",\"W\",\"W\",\"W\",\"H\",\"H\",\"W\",\"W\",\"W\",\"W\",\"W\",\"H\",\"H\",\"W\",\"W\",\"W\",\"W\",\"W\",\"H\",\"H\",\"W\",\"W\",\"W\",\"W\",\"W\",\"H\",\"H\",\"W\",\"W\",\"W\",\"W\",\"W\",\"H\",\"H\",\"W\",\"H\",\"W\",\"W\",\"H\",\"H\",\"W\",\"W\",\"W\",\"W\",\"H\",\"H\",\"H\",\"W\",\"W\",\"W\",\"W\",\"W\",\"H\",\"H\",\"W\",\"W\",\"W\",\"W\",\"W\",\"H\",\"H\",\"W\",\"W\",\"W\",\"W\",\"W\",\"H\",\"H\",\"W\",\"W\",\"W\",\"W\",\"W\",\"H\",\"W\",\"W\",\"W\",\"W\",\"H\"],\"index\":[0,5,10,15,20,25,30,35,40,45,50,55,60,65,70,75,80,85,90,95,100,105,110,115,120,125,130,135,140,145,150,155,160,165,170,175,180,185,190,195,200,205,210,215,220,225,230,235,240,245,250,255,260,265,270,275,280,285,290,295,300,305,310,315,320,325,330,335,340,345,350,355,360,365,370,375,380,385,390,395,400,405,410,415,420,425,430,435,440,445,450,455,460,465,470,475,480,485,490,495,500,505,510,515,520,525,530,535,540,545,550,555,560,565,570,575,580,585,590,595,600,605,610,615,620,625,630,635,640,645,650,655,660,665,670,675,680,685,690,695,700,705,710,715,720,725,730,735,740,745,750,755,760,765,770,775,780,785,790,795,800,805,810,815,820,825,830,835,840,845,850,855,860,865,870,875,880,885,890,895,900,905,910,915,920,925,930,935,940,945,950,955,960,965,970,975,980,985,990,995,1000,1005,1010,1015,1020,1025,1030,1035,1040,1045,1050,1055,1060,1065,1070,1075,1080,1085,1090,1095,1100,1105,1110,1115,1120,1125,1130,1135,1140,1145,1150,1155,1160,1165,1170,1175,1180,1185,1190,1195,1200,1205,1210,1215,1220,1225,1230,1235,1240,1245,1250,1255,1260,1265,1270,1275,1280,1285,1290,1295,1300,1305,1310,1315,1320,1325,1330,1335,1340,1345,1350,1355,1360,1365,1370,1375,1380,1385,1394,1399,1404,1409,1414,1419,1424,1429,1434,1439,1444,1449,1454,1459,1464,1469,1474,1479,1484,1489,1494,1499,1504,1509,1514,1519,1524,1529,1534,1539,1544,1549,1554,1559,1564,1569,1578,1583,1588,1593,1598,1603,1608,1613,1618,1623,1628,1633,1638,1643,1648,1653,1658,1663,1668,1673,1678,1683,1688,1693,1698,1703,1708,1713,1718,1723,1728,1733,1738,1743,1748,1753,1758,1763,1768,1773,1778,1783,1788,1793,1798,1803,1808,1813,1818,1823,1828,1833,1838,1843,1848,1853,1858,1863,1868,1873,1878,1883,1888,1893,1898,1903,1908,1913,1918,1923,1928,1933,1938,1943,1948,1953,1958,1963,1968,1973,1978,1983,1988,1993,1998,2003,2008,2013,2018,2023,2028,2033,2038,2043,2048,2053,2058,2063,2068,2073,2078,2083,2088,2093,2098,2103,2108,2113,2118,2123,2128,2133,2138,2143,2148,2153,2158,2163,2168,2173,2178,2183,2188,2193,2198,2203,2208,2213,2218,2223,2228,2233,2238,2243,2248,2253,2258,2263,2268,2273,2278,2283,2288,2293,2298,2303,2308,2313,2318,2323,2328,2333,2338,2343,2348,2353,2358,2363,2368,2373,2378,2383,2388,2393,2398,2403,2408,2413,2418,2423,2428,2433,2438,2443,2448,2453,2458,2463,2468,2473,2478,2483,2488,2493,2498,2503,2508,2513,2518,2523,2528,2533,2538,2543,2548,2553,2558,2563,2568,2573,2578,2583,2588,2593,2598,2603,2608,2613,2618,2623,2628,2633,2638,2643,2648,2653,2658,2663,2667,2672,2677,2682,2687,2692,2697,2702,2707,2712,2717,2722,2727,2732,2737,2742,2747,2752,2757,2762,2767,2772,2777,2782,2787,2792,2797,2802,2807,2812,2817,2822,2827,2832,2837,2842,2847,2852,2857,2862,2867,2872,2877,2882,2887,2892,2897,2902,2907,2912,2917,2922,2927,2932,2937,2942,2947,2952,2957,2962,2967,2976,2981,2985,2990,2995,3000,3005,3010,3015,3020,3025,3030,3035,3040,3045,3050,3055,3060,3065,3070,3075,3080,3085,3090,3095,3100,3105,3110,3115,3120,3125,3130,3135,3140,3145,3150,3155,3160,3165,3170,3175,3180,3185,3190,3195,3200,3205,3210,3215,3220,3225,3230,3235,3240,3245,3250,3255,3260,3265,3270,3275,3280,3285,3290,3295,3300,3305,3310,3315,3320,3325,3330,3335,3340,3345,3350,3355,3360,3365,3370,3375,3380,3385,3390,3395,3400,3405,3410,3415,3420,3425,3434,3439,3444,3449,3454,3459,3464,3469,3474,3479,3484,3489,3494,3499,3504,3509,3514,3519,3524,3529,3534,3539,3544,3549,3554,3559,3564,3569,3574,3579,3584,3589,3594,3599,3604,3609,3614,3619,3624,3629,3634,3639,3644,3649,3654,3659,3664,3669,3674,3679,3684,3689,3694,3699,3704,3709,3714,3719,3724,3729,3734,3739,3744,3749,3754,3759,3764,3769,3774,3779,3783,3788,3793,3798,3803,3808,3813,3818,3823,3828,3833,3838,3843,3848,3853,3858,3863,3868,3873,3878,3883,3888,3893,3898,3903,3908,3913,3918,3923,3928,3933,3938,3943,3948,3953,3958,3963,3968,3973,3978,3983,3988,3992,3997,4002,4007,4012,4017,4022,4027,4032,4037,4042,4047,4052,4057,4062,4067,4072,4077,4082,4087,4092,4097,4102,4107,4112,4117,4122,4127,4132,4137,4142,4147,4152,4157,4162,4167,4172,4177,4182,4187,4192,4197,4202,4206,4211,4216,4221,4226,4231,4236,4241,4246,4251,4256,4261,4266,4271,4276,4281,4286,4291,4296,4301,4306,4311,4316,4321,4326,4331,4336,4341,4346,4351,4356,4361,4366,4375,4380,4385,4390,4395,4400,4405,4410,4415,4420,4425,4430,4435,4440,4445,4450,4455,4460,4465,4470,4475,4480,4485,4490,4495,4500,4505,4510,4515,4520,4525,4530,4535,4540,4545,4550,4555,4560,4565,4570,4575,4580,4585,4590,4595,4600,4605,4610,4615,4620,4625,4630,4635,4640,4645,4650,4655,4660,4665,4670,4675,4680,4685,4690,4695,4700,4705,4710,4715,4720,4725,4730,4735,4740,4745,4750,4755,4760,4765,4770,4779,4784,4789,4794,4799,4804,4809,4814,4819,4824,4828,4833,4838,4843,4848,4853,4858,4863,4868,4873,4878,4883,4888,4893,4898,4903,4908,4913,4918,4923,4928,4933,4938,4943,4948,4953,4958,4963,4968,4973,4978,4983,4988,4993,4998,5003,5008,5013,5018,5023,5028,5033,5038,5043,5048,5053,5058,5063,5068,5073,5078,5083,5088,5093,5098,5103,5108,5113,5118,5123,5128,5133,5138,5143,5148,5153,5158,5163,5168,5173,5178,5183,5188,5193,5198,5203,5208,5213,5218,5223,5228,5233,5238,5243,5248,5253,5258,5263,5268,5273,5278,5283,5288,5293,5298,5303,5308,5313,5318,5323,5328,5333,5338,5343,5348,5353,5358,5363,5368,5373,5378,5383,5388,5392,5396,5401,5406,5411,5416,5421,5426,5431,5436,5441,5446,5451,5456,5461,5466,5471,5476,5481,5486,5491,5496,5501,5506,5511,5516,5521,5526,5531,5536,5541,5546,5551,5556,5561,5566,5571,5576,5581,5586,5591,5596,5601,5606,5611,5616,5621,5626,5631,5636,5641,5646,5651,5656,5661,5666,5671,5676,5681,5686,5691,5696,5701,5706,5711,5716,5721,5726,5731,5736,5741,5746,5751,5756,5761,5766,5771,5776,5781,5786,5791,5796,5801,5806,5811,5816,5821,5826,5831,5836,5841,5846,5851,5856,5861,5866,5871,5876,5881,5885,5889,5894,5898,5902,5906,5910,5915,5920,5925,5930,5935,5940,5945,5950,5955,5960,5965,5970,5975,5980,5985,5990,5995,6000,6005,6010,6015,6020,6025,6030,6035,6040,6045,6050,6055,6060,6065,6070,6075,6080,6085,6090,6095,6100,6105,6110,6115,6120,6125,6130,6135,6140,6145,6150,6155,6160,6165,6170,6175,6180,6185,6190,6195,6200,6205,6210,6215,6220,6225,6230,6235,6240,6245,6250,6255,6260,6265,6270,6275,6280,6285,6290,6295,6300,6305,6310,6315,6320,6325,6330,6335,6340,6345,6350,6355,6360,6365,6370,6375,6380,6385,6390,6395,6400,6405,6410,6415,6420,6425,6430,6435,6440,6445,6450,6455,6460,6465,6470,6475,6480,6485,6490,6495,6500,6505,6514,6519,6524,6529,6534,6539,6544,6549,6554,6559,6564,6569,6574,6579,6584,6589,6594,6599,6604,6609,6614,6619,6624,6629,6634,6639,6644,6649,6654,6659,6664,6669,6674,6679,6684,6689,6694,6699,6704,6709,6714,6719,6724,6729,6734,6739,6744,6749,6754,6759,6764,6769,6774,6778,6782,6787,6796,6801,6806,6811,6816,6821,6826,6831,6836,6841,6846,6851,6856,6861,6866,6871,6876,6881,6886,6891,6896,6901,6906,6911,6916,6921,6926,6931,6936,6941,6946,6951,6956,6961,6965,6970,6975,6980,6985,6990,6995,7000,7005,7010,7015,7020,7025,7030,7035,7040,7045,7050,7055,7060,7065,7070,7075,7080,7084,7089,7094,7099,7104,7109,7114,7119,7124,7129,7134,7139,7144,7149,7154,7159,7164,7169,7174,7179,7184,7189,7194,7199,7204,7209,7214,7219,7224,7229,7234,7239,7244,7249,7254,7259,7264,7269,7274,7279,7284,7289,7294,7299,7304,7309,7314,7319,7324,7329,7334,7339,7344,7349,7354,7359,7364,7369,7374,7379,7384,7389,7394,7399,7404,7409,7414,7419,7424,7429,7434,7439,7444,7449,7454,7459,7463,7468,7473,7478,7483,7488,7493,7498,7503,7508,7513,7518,7523,7528,7533,7538,7543,7548,7553,7566,7571,7576,7581,7586,7591,7596,7601,7606,7611,7616,7621,7626,7631,7636,7641,7646,7651,7656,7661,7666,7671,7676,7685,7690,7695,7700,7705,7710,7715,7720,7725,7730,7735,7740,7745,7750,7755,7760,7765,7770,7775,7780,7785,7790,7795,7800,7805,7810,7815,7820,7825,7830,7835,7840,7845,7850,7855,7860,7865,7870,7875,7880,7885,7890,7895,7900,7905,7910,7915,7920,7925,7930,7935,7940,7945,7950,7955,7960,7965,7970,7979,7984,7989,7994,7999,8004,8009,8014,8019,8024,8029,8034,8039,8044,8049,8054,8059,8068,8073,8078,8083,8088,8093,8098,8103,8108,8113,8118,8123,8128,8133,8138,8143,8147,8152,8157,8162,8167,8172,8177,8182,8187,8192,8197,8202,8207,8211,8214,8219,8224,8229,8234,8239,8244,8248,8253,8258,8263,8268,8273,8278,8283,8288,8293,8298,8303,8308,8313,8318,8323,8328,8333,8338,8343,8348,8353,8358,8363,8368,8373,8377,8381,8385,8390,8395,8400,8405,8410,8415,8420,8425,8430,8435,8440,8445,8450,8455,8460,8465,8470,8475,8480,8485,8490,8495,8500,8505,8510,8515,8520,8525,8530,8535,8540,8545,8550,8555,8560,8565,8570,8575,8580,8584,8589,8594,8599,8604,8609,8614,8619,8624,8629,8634,8639,8644,8649,8654,8659,8663,8668,8673,8678,8683,8688,8693,8698,8703,8708,8713,8717,8722,8727,8732,8737,8742,8747,8752,8757,8762,8767,8771,8775,8780,8785,8790,8795,8800,8805,8810,8815,8820,8825,8830,8834,8839,8844,8849,8854,8859,8864,8869,8874,8879,8883,8886,8889,8893,8897,8901,8905,8909,8913,8917,8921,8925,8929,8933,8937,8941,8945,8949,8953,8957,8961,8965,8969,8972,8976,8980,8984,8988,8992,8996,9000,9004,9008,9011,9015,9019,9023,9027,9031,9035,9039,9043,9047,9051,9054,9058,9061,9065,9069,9073,9077,9081,9086,9090,9095,9098,9103,9108,9113,9118,9123,9128,9133,9138,9143,9148,9153,9157,9162,9167,9171,9176,9181,9186,9191,9196,9200,9205,9210,9215,9220,9224,9229,9234,9239,9244,9249,9253,9257,9262,9267,9276,9281,9286,9291,9296,9301,9306,9310,9314,9319,9324,9329,9334,9339,9343,9346,9350,9355,9360,9365,9370,9374,9377,9380,9382,9391,9396,9405,9410,9415,9420,9425,9430,9435,9438,9442,9446,9451,9456,9461,9468,9473,9477,9482,9486,9491,9495,9499,9503,9506,9510,9514,9519,9524,9529,9535,9539,9543,9548,9552,9556,9560,9565,9570,9575,9580,9585,9590,9595,9597,9599,9603,9608,9613,9622,9627,9631,9635,9639,9643,9647,9650,9652,9656,9659,9663,9667,9672,9676,9680,9685,9688,9691,9694,9699,9703,9706,9711,9716,9721,9726,9731,9736,9740,9744,9748,9752,9756,9760,9765,9769,9773,9778,9783,9787,9791,9795,9798,9803,9812,9816,9821,9825,9828,9832,9836,9840,9843,9846,9849,9853,9858,9863,9868,9873,9878,9903,9908,9912,9915,9918,9921,9925,9929,9934,9939,9943,9948,9953,9958,9962,9966,9970,9975,9980,9985,9990,9994,9998,10002,10005,10009,10013,10017,10021,10026,10030,10035,10040,10044,10048,10053,10058,10062,10066,10070,10074,10078,10082,10087,10090,10093,10097,10101,10106,10110,10115,10120,10125,10130,10135,10140,10145,10150,10154,10158,10163,10168,10173,10178,10183,10192,10197,10202,10206,10211,10216,10221,10226,10231,10237,10242,10247,10252,10257,10262,10266,10271,10276,10281,10286,10291,10296,10301,10306,10311,10316,10319,10324,10331,10335,10339,10343,10347,10351,10356,10361,10363,10365,10367,10369,10370,10371,10374,10377,10381,10386,10390,10394,10398,10407,10416,10420,10457,10460,10463,10466,10471,10476,10479,10483,10487,10492,10497,10502,10507,10511,10516,10521,10526,10530,10534,10538,10541,10553,10558,10584,10589,10594,10599,10608,10613,10618,10623,10626,10631,10636,10641,10645,10649,10654,10658,10662,10666,10668,10670,10674,10676,10679,10684,10688,10692,10697,10702,10706,10711,10716,10721,10726,10731,10736,10741,10746,10750,10754,10758,10762,10765,10769,10774,10779,10784,10805,10810,10815,10820,10824,10829,10834,10839,10843,10847,10851,10855,10859,10863,10867,10871,10876,10881,10885,10889,10893,10897,10902,10907,10912,10917,10922,10927,10932,10937,10942,10947,10952,10957,10961,10965,10968,10972,10977,10981,10986,10991,10996,11001,11006,11011,11016,11021,11026,11031,11036,11041,11046,11050,11054,11058,11062,11066,11070,11074,11078,11082,11086,11090,11100,11104,11108,11112,11116,11120,11124,11128,11133,11138,11143,11147,11152,11157,11161,11165,11170,11174,11179,11184,11189,11194,11198,11202,11205,11209,11213,11218,11223,11227,11232,11236,11240,11244,11249,11253,11258,11262,11266,11271,11276,11281,11286,11291,11296,11300,11304,11308,11313,11318,11323,11328,11333,11338,11343,11348,11353,11358,11362,11365,11369,11373,11377,11382,11387,11392,11397,11402,11407,11412,11417,11422,11425,11430,11435,11440,11445,11450,11455,11460,11465,11470,11475,11480,11485,11490,11495,11500,11505,11510,11515,11520,11525,11530,11535,11540,11545,11550,11559,11564,11569,11574,11579,11584]},\"selected\":{\"id\":\"1058\"},\"selection_policy\":{\"id\":\"1057\"}},\"id\":\"1001\",\"type\":\"ColumnDataSource\"},{\"attributes\":{},\"id\":\"1042\",\"type\":\"DatetimeTickFormatter\"},{\"attributes\":{\"axis\":{\"id\":\"1015\"},\"dimension\":1,\"ticker\":null},\"id\":\"1018\",\"type\":\"Grid\"},{\"attributes\":{\"line_color\":\"#1f77b4\",\"x\":{\"field\":\"Transaction Date\"},\"y\":{\"field\":\"Total amount Withdrawn\"}},\"id\":\"1034\",\"type\":\"Line\"}],\"root_ids\":[\"1002\"]},\"title\":\"Bokeh Application\",\"version\":\"2.1.1\"}};\n",
              "  var render_items = [{\"docid\":\"84276012-635b-4fd8-a052-c107f236bbd7\",\"root_ids\":[\"1002\"],\"roots\":{\"1002\":\"a5eae7cf-e3f1-4a41-b561-223575b0658d\"}}];\n",
              "  root.Bokeh.embed.embed_items_notebook(docs_json, render_items);\n",
              "\n",
              "  }\n",
              "  if (root.Bokeh !== undefined) {\n",
              "    embed_document(root);\n",
              "  } else {\n",
              "    var attempts = 0;\n",
              "    var timer = setInterval(function(root) {\n",
              "      if (root.Bokeh !== undefined) {\n",
              "        clearInterval(timer);\n",
              "        embed_document(root);\n",
              "      } else {\n",
              "        attempts++;\n",
              "        if (attempts > 100) {\n",
              "          clearInterval(timer);\n",
              "          console.log(\"Bokeh: ERROR: Unable to run BokehJS code because BokehJS library is missing\");\n",
              "        }\n",
              "      }\n",
              "    }, 10, root)\n",
              "  }\n",
              "})(window);"
            ],
            "application/vnd.bokehjs_exec.v0+json": ""
          },
          "metadata": {
            "tags": [],
            "application/vnd.bokehjs_exec.v0+json": {
              "id": "1002"
            }
          }
        }
      ]
    },
    {
      "cell_type": "markdown",
      "metadata": {
        "id": "DnADqwBvvMpu",
        "colab_type": "text"
      },
      "source": [
        "#### One Hot Encoding for Categorical Features"
      ]
    },
    {
      "cell_type": "code",
      "metadata": {
        "id": "xzGXl8_ew4Ej",
        "colab_type": "code",
        "colab": {}
      },
      "source": [
        "categorical_features_list = ['Weekday', 'Festival Religion', 'Working Day', 'Holiday Sequence']\n",
        "big_street = pd.get_dummies(big_street, columns=categorical_features_list, drop_first=True)"
      ],
      "execution_count": 13,
      "outputs": []
    },
    {
      "cell_type": "markdown",
      "metadata": {
        "id": "yliWYHAExQCy",
        "colab_type": "text"
      },
      "source": [
        "#### Adding lookback of 5 days"
      ]
    },
    {
      "cell_type": "code",
      "metadata": {
        "id": "rXWsO_4Wxgjr",
        "colab_type": "code",
        "colab": {
          "base_uri": "https://localhost:8080/",
          "height": 386
        },
        "outputId": "cbbb8234-b517-49d6-fe46-cea6983695d8"
      },
      "source": [
        "for obs in range(1,6):\n",
        "    big_street[\"Total amount Withdrawn_\" + str(obs)] = big_street['Total amount Withdrawn'].shift(obs, fill_value=0)\n",
        "\n",
        "big_street.head(4)"
      ],
      "execution_count": 14,
      "outputs": [
        {
          "output_type": "execute_result",
          "data": {
            "text/html": [
              "<div>\n",
              "<style scoped>\n",
              "    .dataframe tbody tr th:only-of-type {\n",
              "        vertical-align: middle;\n",
              "    }\n",
              "\n",
              "    .dataframe tbody tr th {\n",
              "        vertical-align: top;\n",
              "    }\n",
              "\n",
              "    .dataframe thead th {\n",
              "        text-align: right;\n",
              "    }\n",
              "</style>\n",
              "<table border=\"1\" class=\"dataframe\">\n",
              "  <thead>\n",
              "    <tr style=\"text-align: right;\">\n",
              "      <th></th>\n",
              "      <th>ATM Name</th>\n",
              "      <th>Transaction Date</th>\n",
              "      <th>No Of Withdrawals</th>\n",
              "      <th>No Of XYZ Card Withdrawals</th>\n",
              "      <th>No Of Other Card Withdrawals</th>\n",
              "      <th>Total amount Withdrawn</th>\n",
              "      <th>Amount withdrawn XYZ Card</th>\n",
              "      <th>Amount withdrawn Other Card</th>\n",
              "      <th>Weekday_MONDAY</th>\n",
              "      <th>Weekday_SATURDAY</th>\n",
              "      <th>Weekday_SUNDAY</th>\n",
              "      <th>Weekday_THURSDAY</th>\n",
              "      <th>Weekday_TUESDAY</th>\n",
              "      <th>Weekday_WEDNESDAY</th>\n",
              "      <th>Festival Religion_H</th>\n",
              "      <th>Festival Religion_M</th>\n",
              "      <th>Festival Religion_N</th>\n",
              "      <th>Festival Religion_NH</th>\n",
              "      <th>Working Day_W</th>\n",
              "      <th>Holiday Sequence_HHW</th>\n",
              "      <th>Holiday Sequence_HWH</th>\n",
              "      <th>Holiday Sequence_HWW</th>\n",
              "      <th>Holiday Sequence_WHH</th>\n",
              "      <th>Holiday Sequence_WHW</th>\n",
              "      <th>Holiday Sequence_WWH</th>\n",
              "      <th>Holiday Sequence_WWW</th>\n",
              "      <th>Total amount Withdrawn_1</th>\n",
              "      <th>Total amount Withdrawn_2</th>\n",
              "      <th>Total amount Withdrawn_3</th>\n",
              "      <th>Total amount Withdrawn_4</th>\n",
              "      <th>Total amount Withdrawn_5</th>\n",
              "    </tr>\n",
              "  </thead>\n",
              "  <tbody>\n",
              "    <tr>\n",
              "      <th>0</th>\n",
              "      <td>Big Street ATM</td>\n",
              "      <td>2011-01-01</td>\n",
              "      <td>50</td>\n",
              "      <td>20</td>\n",
              "      <td>30</td>\n",
              "      <td>123800</td>\n",
              "      <td>41700</td>\n",
              "      <td>82100</td>\n",
              "      <td>0</td>\n",
              "      <td>1</td>\n",
              "      <td>0</td>\n",
              "      <td>0</td>\n",
              "      <td>0</td>\n",
              "      <td>0</td>\n",
              "      <td>1</td>\n",
              "      <td>0</td>\n",
              "      <td>0</td>\n",
              "      <td>0</td>\n",
              "      <td>0</td>\n",
              "      <td>0</td>\n",
              "      <td>0</td>\n",
              "      <td>0</td>\n",
              "      <td>1</td>\n",
              "      <td>0</td>\n",
              "      <td>0</td>\n",
              "      <td>0</td>\n",
              "      <td>0</td>\n",
              "      <td>0</td>\n",
              "      <td>0</td>\n",
              "      <td>0</td>\n",
              "      <td>0</td>\n",
              "    </tr>\n",
              "    <tr>\n",
              "      <th>5</th>\n",
              "      <td>Big Street ATM</td>\n",
              "      <td>2011-01-02</td>\n",
              "      <td>17</td>\n",
              "      <td>5</td>\n",
              "      <td>12</td>\n",
              "      <td>52800</td>\n",
              "      <td>20900</td>\n",
              "      <td>31900</td>\n",
              "      <td>0</td>\n",
              "      <td>0</td>\n",
              "      <td>1</td>\n",
              "      <td>0</td>\n",
              "      <td>0</td>\n",
              "      <td>0</td>\n",
              "      <td>0</td>\n",
              "      <td>0</td>\n",
              "      <td>0</td>\n",
              "      <td>1</td>\n",
              "      <td>0</td>\n",
              "      <td>1</td>\n",
              "      <td>0</td>\n",
              "      <td>0</td>\n",
              "      <td>0</td>\n",
              "      <td>0</td>\n",
              "      <td>0</td>\n",
              "      <td>0</td>\n",
              "      <td>123800</td>\n",
              "      <td>0</td>\n",
              "      <td>0</td>\n",
              "      <td>0</td>\n",
              "      <td>0</td>\n",
              "    </tr>\n",
              "    <tr>\n",
              "      <th>10</th>\n",
              "      <td>Big Street ATM</td>\n",
              "      <td>2011-01-03</td>\n",
              "      <td>24</td>\n",
              "      <td>21</td>\n",
              "      <td>3</td>\n",
              "      <td>88100</td>\n",
              "      <td>77100</td>\n",
              "      <td>11000</td>\n",
              "      <td>1</td>\n",
              "      <td>0</td>\n",
              "      <td>0</td>\n",
              "      <td>0</td>\n",
              "      <td>0</td>\n",
              "      <td>0</td>\n",
              "      <td>0</td>\n",
              "      <td>0</td>\n",
              "      <td>0</td>\n",
              "      <td>1</td>\n",
              "      <td>1</td>\n",
              "      <td>0</td>\n",
              "      <td>0</td>\n",
              "      <td>0</td>\n",
              "      <td>0</td>\n",
              "      <td>0</td>\n",
              "      <td>0</td>\n",
              "      <td>1</td>\n",
              "      <td>52800</td>\n",
              "      <td>123800</td>\n",
              "      <td>0</td>\n",
              "      <td>0</td>\n",
              "      <td>0</td>\n",
              "    </tr>\n",
              "    <tr>\n",
              "      <th>15</th>\n",
              "      <td>Big Street ATM</td>\n",
              "      <td>2011-01-04</td>\n",
              "      <td>34</td>\n",
              "      <td>12</td>\n",
              "      <td>22</td>\n",
              "      <td>101600</td>\n",
              "      <td>51200</td>\n",
              "      <td>50400</td>\n",
              "      <td>0</td>\n",
              "      <td>0</td>\n",
              "      <td>0</td>\n",
              "      <td>0</td>\n",
              "      <td>1</td>\n",
              "      <td>0</td>\n",
              "      <td>0</td>\n",
              "      <td>0</td>\n",
              "      <td>0</td>\n",
              "      <td>1</td>\n",
              "      <td>1</td>\n",
              "      <td>0</td>\n",
              "      <td>0</td>\n",
              "      <td>0</td>\n",
              "      <td>0</td>\n",
              "      <td>0</td>\n",
              "      <td>0</td>\n",
              "      <td>1</td>\n",
              "      <td>88100</td>\n",
              "      <td>52800</td>\n",
              "      <td>123800</td>\n",
              "      <td>0</td>\n",
              "      <td>0</td>\n",
              "    </tr>\n",
              "  </tbody>\n",
              "</table>\n",
              "</div>"
            ],
            "text/plain": [
              "          ATM Name  ... Total amount Withdrawn_5\n",
              "0   Big Street ATM  ...                        0\n",
              "5   Big Street ATM  ...                        0\n",
              "10  Big Street ATM  ...                        0\n",
              "15  Big Street ATM  ...                        0\n",
              "\n",
              "[4 rows x 31 columns]"
            ]
          },
          "metadata": {
            "tags": []
          },
          "execution_count": 14
        }
      ]
    },
    {
      "cell_type": "markdown",
      "metadata": {
        "id": "Zyp2HBuExuXm",
        "colab_type": "text"
      },
      "source": [
        "## Training and Testing Data Split\n",
        "Consider January 2013 to October 2013 for training data, October 2013 to November 2013 for validation and November 2013 to December 2013 for test"
      ]
    },
    {
      "cell_type": "code",
      "metadata": {
        "id": "gw6-EeqG049o",
        "colab_type": "code",
        "colab": {
          "base_uri": "https://localhost:8080/",
          "height": 254
        },
        "outputId": "5e7bfce8-2ec1-48cd-c606-354fd56403c6"
      },
      "source": [
        "big_street_train = big_street.loc[(big_street['Transaction Date'] >= pd.to_datetime(\"01/01/2013\")) & \\\n",
        "                                  (big_street['Transaction Date'] < pd.to_datetime(\"11/01/2013\"))]\n",
        "\n",
        "big_street_val = big_street.loc[(big_street['Transaction Date'] >= pd.to_datetime(\"11/01/2013\")) & \\\n",
        "                                (big_street['Transaction Date'] < pd.to_datetime(\"12/01/2013\"))]\n",
        "                                \n",
        "big_street_test = big_street.loc[(big_street['Transaction Date'] >= pd.to_datetime(\"12/01/2013\")) & \\\n",
        "                                 (big_street['Transaction Date'] < pd.to_datetime(\"01/01/2014\"))]\n",
        "\n",
        "big_street_train.tail(2)                                 "
      ],
      "execution_count": 15,
      "outputs": [
        {
          "output_type": "execute_result",
          "data": {
            "text/html": [
              "<div>\n",
              "<style scoped>\n",
              "    .dataframe tbody tr th:only-of-type {\n",
              "        vertical-align: middle;\n",
              "    }\n",
              "\n",
              "    .dataframe tbody tr th {\n",
              "        vertical-align: top;\n",
              "    }\n",
              "\n",
              "    .dataframe thead th {\n",
              "        text-align: right;\n",
              "    }\n",
              "</style>\n",
              "<table border=\"1\" class=\"dataframe\">\n",
              "  <thead>\n",
              "    <tr style=\"text-align: right;\">\n",
              "      <th></th>\n",
              "      <th>ATM Name</th>\n",
              "      <th>Transaction Date</th>\n",
              "      <th>No Of Withdrawals</th>\n",
              "      <th>No Of XYZ Card Withdrawals</th>\n",
              "      <th>No Of Other Card Withdrawals</th>\n",
              "      <th>Total amount Withdrawn</th>\n",
              "      <th>Amount withdrawn XYZ Card</th>\n",
              "      <th>Amount withdrawn Other Card</th>\n",
              "      <th>Weekday_MONDAY</th>\n",
              "      <th>Weekday_SATURDAY</th>\n",
              "      <th>Weekday_SUNDAY</th>\n",
              "      <th>Weekday_THURSDAY</th>\n",
              "      <th>Weekday_TUESDAY</th>\n",
              "      <th>Weekday_WEDNESDAY</th>\n",
              "      <th>Festival Religion_H</th>\n",
              "      <th>Festival Religion_M</th>\n",
              "      <th>Festival Religion_N</th>\n",
              "      <th>Festival Religion_NH</th>\n",
              "      <th>Working Day_W</th>\n",
              "      <th>Holiday Sequence_HHW</th>\n",
              "      <th>Holiday Sequence_HWH</th>\n",
              "      <th>Holiday Sequence_HWW</th>\n",
              "      <th>Holiday Sequence_WHH</th>\n",
              "      <th>Holiday Sequence_WHW</th>\n",
              "      <th>Holiday Sequence_WWH</th>\n",
              "      <th>Holiday Sequence_WWW</th>\n",
              "      <th>Total amount Withdrawn_1</th>\n",
              "      <th>Total amount Withdrawn_2</th>\n",
              "      <th>Total amount Withdrawn_3</th>\n",
              "      <th>Total amount Withdrawn_4</th>\n",
              "      <th>Total amount Withdrawn_5</th>\n",
              "    </tr>\n",
              "  </thead>\n",
              "  <tbody>\n",
              "    <tr>\n",
              "      <th>5153</th>\n",
              "      <td>Big Street ATM</td>\n",
              "      <td>2013-10-30</td>\n",
              "      <td>108</td>\n",
              "      <td>39</td>\n",
              "      <td>69</td>\n",
              "      <td>381000</td>\n",
              "      <td>155200</td>\n",
              "      <td>225800</td>\n",
              "      <td>0</td>\n",
              "      <td>0</td>\n",
              "      <td>0</td>\n",
              "      <td>0</td>\n",
              "      <td>0</td>\n",
              "      <td>1</td>\n",
              "      <td>0</td>\n",
              "      <td>0</td>\n",
              "      <td>0</td>\n",
              "      <td>1</td>\n",
              "      <td>1</td>\n",
              "      <td>0</td>\n",
              "      <td>0</td>\n",
              "      <td>0</td>\n",
              "      <td>0</td>\n",
              "      <td>0</td>\n",
              "      <td>0</td>\n",
              "      <td>1</td>\n",
              "      <td>540600</td>\n",
              "      <td>272600</td>\n",
              "      <td>239500</td>\n",
              "      <td>417500</td>\n",
              "      <td>330900</td>\n",
              "    </tr>\n",
              "    <tr>\n",
              "      <th>5158</th>\n",
              "      <td>Big Street ATM</td>\n",
              "      <td>2013-10-31</td>\n",
              "      <td>118</td>\n",
              "      <td>47</td>\n",
              "      <td>71</td>\n",
              "      <td>495100</td>\n",
              "      <td>229300</td>\n",
              "      <td>265800</td>\n",
              "      <td>0</td>\n",
              "      <td>0</td>\n",
              "      <td>0</td>\n",
              "      <td>1</td>\n",
              "      <td>0</td>\n",
              "      <td>0</td>\n",
              "      <td>0</td>\n",
              "      <td>0</td>\n",
              "      <td>0</td>\n",
              "      <td>1</td>\n",
              "      <td>1</td>\n",
              "      <td>0</td>\n",
              "      <td>0</td>\n",
              "      <td>0</td>\n",
              "      <td>0</td>\n",
              "      <td>0</td>\n",
              "      <td>0</td>\n",
              "      <td>1</td>\n",
              "      <td>381000</td>\n",
              "      <td>540600</td>\n",
              "      <td>272600</td>\n",
              "      <td>239500</td>\n",
              "      <td>417500</td>\n",
              "    </tr>\n",
              "  </tbody>\n",
              "</table>\n",
              "</div>"
            ],
            "text/plain": [
              "            ATM Name  ... Total amount Withdrawn_5\n",
              "5153  Big Street ATM  ...                   330900\n",
              "5158  Big Street ATM  ...                   417500\n",
              "\n",
              "[2 rows x 31 columns]"
            ]
          },
          "metadata": {
            "tags": []
          },
          "execution_count": 15
        }
      ]
    },
    {
      "cell_type": "code",
      "metadata": {
        "id": "C2H6FgMb2vUg",
        "colab_type": "code",
        "colab": {
          "base_uri": "https://localhost:8080/",
          "height": 167
        },
        "outputId": "7027bd16-e8ae-4f0f-e1f7-5d6852e1b2d9"
      },
      "source": [
        "clean_train = big_street_train[['Total amount Withdrawn', \"Weekday_MONDAY\", \"Weekday_SATURDAY\", \"Weekday_SUNDAY\", \"Weekday_THURSDAY\", \"Weekday_TUESDAY\", \"Weekday_WEDNESDAY\", \"Festival Religion_H\", \"Festival Religion_M\",\"Festival Religion_N\", \"Festival Religion_NH\", \"Working Day_W\", \"Holiday Sequence_HHW\", \"Holiday Sequence_HWH\" , \"Holiday Sequence_HWW\", \"Holiday Sequence_WHH\", \"Holiday Sequence_WHW\", \"Holiday Sequence_WWH\", \"Holiday Sequence_WWW\", \"Total amount Withdrawn_1\", \"Total amount Withdrawn_2\", \"Total amount Withdrawn_3\", \"Total amount Withdrawn_4\", \"Total amount Withdrawn_5\"]]\n",
        "clean_val = big_street_val[['Total amount Withdrawn', \"Weekday_MONDAY\", \"Weekday_SATURDAY\", \"Weekday_SUNDAY\", \"Weekday_THURSDAY\", \"Weekday_TUESDAY\", \"Weekday_WEDNESDAY\", \"Festival Religion_H\", \"Festival Religion_M\",\"Festival Religion_N\", \"Festival Religion_NH\", \"Working Day_W\", \"Holiday Sequence_HHW\", \"Holiday Sequence_HWH\" , \"Holiday Sequence_HWW\", \"Holiday Sequence_WHH\", \"Holiday Sequence_WHW\", \"Holiday Sequence_WWH\", \"Holiday Sequence_WWW\", \"Total amount Withdrawn_1\", \"Total amount Withdrawn_2\", \"Total amount Withdrawn_3\", \"Total amount Withdrawn_4\", \"Total amount Withdrawn_5\"]]\n",
        "clean_test = big_street_test[['Total amount Withdrawn', \"Weekday_MONDAY\", \"Weekday_SATURDAY\", \"Weekday_SUNDAY\", \"Weekday_THURSDAY\", \"Weekday_TUESDAY\", \"Weekday_WEDNESDAY\", \"Festival Religion_H\", \"Festival Religion_M\",\"Festival Religion_N\", \"Festival Religion_NH\", \"Working Day_W\", \"Holiday Sequence_HHW\", \"Holiday Sequence_HWH\" , \"Holiday Sequence_HWW\", \"Holiday Sequence_WHH\", \"Holiday Sequence_WHW\", \"Holiday Sequence_WWH\", \"Holiday Sequence_WWW\", \"Total amount Withdrawn_1\", \"Total amount Withdrawn_2\", \"Total amount Withdrawn_3\", \"Total amount Withdrawn_4\", \"Total amount Withdrawn_5\"]]\n",
        "clean_train.head(2)"
      ],
      "execution_count": 16,
      "outputs": [
        {
          "output_type": "execute_result",
          "data": {
            "text/html": [
              "<div>\n",
              "<style scoped>\n",
              "    .dataframe tbody tr th:only-of-type {\n",
              "        vertical-align: middle;\n",
              "    }\n",
              "\n",
              "    .dataframe tbody tr th {\n",
              "        vertical-align: top;\n",
              "    }\n",
              "\n",
              "    .dataframe thead th {\n",
              "        text-align: right;\n",
              "    }\n",
              "</style>\n",
              "<table border=\"1\" class=\"dataframe\">\n",
              "  <thead>\n",
              "    <tr style=\"text-align: right;\">\n",
              "      <th></th>\n",
              "      <th>Total amount Withdrawn</th>\n",
              "      <th>Weekday_MONDAY</th>\n",
              "      <th>Weekday_SATURDAY</th>\n",
              "      <th>Weekday_SUNDAY</th>\n",
              "      <th>Weekday_THURSDAY</th>\n",
              "      <th>Weekday_TUESDAY</th>\n",
              "      <th>Weekday_WEDNESDAY</th>\n",
              "      <th>Festival Religion_H</th>\n",
              "      <th>Festival Religion_M</th>\n",
              "      <th>Festival Religion_N</th>\n",
              "      <th>Festival Religion_NH</th>\n",
              "      <th>Working Day_W</th>\n",
              "      <th>Holiday Sequence_HHW</th>\n",
              "      <th>Holiday Sequence_HWH</th>\n",
              "      <th>Holiday Sequence_HWW</th>\n",
              "      <th>Holiday Sequence_WHH</th>\n",
              "      <th>Holiday Sequence_WHW</th>\n",
              "      <th>Holiday Sequence_WWH</th>\n",
              "      <th>Holiday Sequence_WWW</th>\n",
              "      <th>Total amount Withdrawn_1</th>\n",
              "      <th>Total amount Withdrawn_2</th>\n",
              "      <th>Total amount Withdrawn_3</th>\n",
              "      <th>Total amount Withdrawn_4</th>\n",
              "      <th>Total amount Withdrawn_5</th>\n",
              "    </tr>\n",
              "  </thead>\n",
              "  <tbody>\n",
              "    <tr>\n",
              "      <th>3649</th>\n",
              "      <td>429200</td>\n",
              "      <td>0</td>\n",
              "      <td>0</td>\n",
              "      <td>0</td>\n",
              "      <td>0</td>\n",
              "      <td>1</td>\n",
              "      <td>0</td>\n",
              "      <td>0</td>\n",
              "      <td>0</td>\n",
              "      <td>0</td>\n",
              "      <td>0</td>\n",
              "      <td>0</td>\n",
              "      <td>0</td>\n",
              "      <td>0</td>\n",
              "      <td>0</td>\n",
              "      <td>0</td>\n",
              "      <td>1</td>\n",
              "      <td>0</td>\n",
              "      <td>0</td>\n",
              "      <td>364300</td>\n",
              "      <td>376000</td>\n",
              "      <td>264300</td>\n",
              "      <td>468700</td>\n",
              "      <td>343200</td>\n",
              "    </tr>\n",
              "    <tr>\n",
              "      <th>3654</th>\n",
              "      <td>401000</td>\n",
              "      <td>0</td>\n",
              "      <td>0</td>\n",
              "      <td>0</td>\n",
              "      <td>0</td>\n",
              "      <td>0</td>\n",
              "      <td>1</td>\n",
              "      <td>0</td>\n",
              "      <td>0</td>\n",
              "      <td>0</td>\n",
              "      <td>1</td>\n",
              "      <td>1</td>\n",
              "      <td>0</td>\n",
              "      <td>0</td>\n",
              "      <td>1</td>\n",
              "      <td>0</td>\n",
              "      <td>0</td>\n",
              "      <td>0</td>\n",
              "      <td>0</td>\n",
              "      <td>429200</td>\n",
              "      <td>364300</td>\n",
              "      <td>376000</td>\n",
              "      <td>264300</td>\n",
              "      <td>468700</td>\n",
              "    </tr>\n",
              "  </tbody>\n",
              "</table>\n",
              "</div>"
            ],
            "text/plain": [
              "      Total amount Withdrawn  ...  Total amount Withdrawn_5\n",
              "3649                  429200  ...                    343200\n",
              "3654                  401000  ...                    468700\n",
              "\n",
              "[2 rows x 24 columns]"
            ]
          },
          "metadata": {
            "tags": []
          },
          "execution_count": 16
        }
      ]
    },
    {
      "cell_type": "markdown",
      "metadata": {
        "id": "jNiJvMxS8iPj",
        "colab_type": "text"
      },
      "source": [
        "## Random Forest Regressor"
      ]
    },
    {
      "cell_type": "markdown",
      "metadata": {
        "id": "marC6eo4GSeA",
        "colab_type": "text"
      },
      "source": [
        "### Fitting the model"
      ]
    },
    {
      "cell_type": "code",
      "metadata": {
        "id": "wBG9sCIs87pq",
        "colab_type": "code",
        "colab": {}
      },
      "source": [
        "from sklearn.preprocessing import StandardScaler, MinMaxScaler\n",
        "from sklearn.ensemble import RandomForestRegressor\n",
        "from sklearn.metrics import r2_score, mean_squared_error"
      ],
      "execution_count": 17,
      "outputs": []
    },
    {
      "cell_type": "code",
      "metadata": {
        "id": "GG2Y72Vv88oe",
        "colab_type": "code",
        "colab": {}
      },
      "source": [
        "X_train,y_train = clean_train.drop([\"Total amount Withdrawn\"],axis=1), clean_train['Total amount Withdrawn']\n",
        "X_test,y_test = clean_test.drop([\"Total amount Withdrawn\"],axis=1), clean_test['Total amount Withdrawn']\n",
        "X_val,y_val = clean_val.drop([\"Total amount Withdrawn\"],axis=1), clean_val['Total amount Withdrawn']"
      ],
      "execution_count": 18,
      "outputs": []
    },
    {
      "cell_type": "code",
      "metadata": {
        "id": "crh85ZqT9I5P",
        "colab_type": "code",
        "colab": {
          "base_uri": "https://localhost:8080/",
          "height": 139
        },
        "outputId": "9ac54a8a-2298-4a2e-e1ac-67be6f42591b"
      },
      "source": [
        "rfr = RandomForestRegressor(random_state=2017,verbose=0,n_jobs=5)\n",
        "rfr.fit(X_train, y_train)"
      ],
      "execution_count": 19,
      "outputs": [
        {
          "output_type": "execute_result",
          "data": {
            "text/plain": [
              "RandomForestRegressor(bootstrap=True, ccp_alpha=0.0, criterion='mse',\n",
              "                      max_depth=None, max_features='auto', max_leaf_nodes=None,\n",
              "                      max_samples=None, min_impurity_decrease=0.0,\n",
              "                      min_impurity_split=None, min_samples_leaf=1,\n",
              "                      min_samples_split=2, min_weight_fraction_leaf=0.0,\n",
              "                      n_estimators=100, n_jobs=5, oob_score=False,\n",
              "                      random_state=2017, verbose=0, warm_start=False)"
            ]
          },
          "metadata": {
            "tags": []
          },
          "execution_count": 19
        }
      ]
    },
    {
      "cell_type": "markdown",
      "metadata": {
        "id": "AGSjFC3wFXEg",
        "colab_type": "text"
      },
      "source": [
        "### Results and Errors"
      ]
    },
    {
      "cell_type": "code",
      "metadata": {
        "id": "cXpVXMT59OHy",
        "colab_type": "code",
        "colab": {
          "base_uri": "https://localhost:8080/",
          "height": 191
        },
        "outputId": "194ad1db-3717-47b2-a472-594d2d899f53"
      },
      "source": [
        "big_street_test['Total amount Withdrawn_RFR'] = rfr.predict(X_test)\n",
        "\n",
        "print(\"Root Mean Squared Errors\")\n",
        "print(f'Train R2 Score => {rfr.score(X_train, y_train)}, RMSE => {mean_squared_error(y_train, rfr.predict(X_train), squared=False)}')\n",
        "print(f'Val R2 Score => {rfr.score(X_val, y_val)}, RMSE => {mean_squared_error(y_val, rfr.predict(X_val), squared=False)}')\n",
        "print(f'Test R2 Score => {rfr.score(X_test, y_test)}, RMSE => {mean_squared_error(y_test, rfr.predict(X_test), squared=False)}')"
      ],
      "execution_count": 20,
      "outputs": [
        {
          "output_type": "stream",
          "text": [
            "/usr/local/lib/python3.6/dist-packages/ipykernel_launcher.py:1: SettingWithCopyWarning: \n",
            "A value is trying to be set on a copy of a slice from a DataFrame.\n",
            "Try using .loc[row_indexer,col_indexer] = value instead\n",
            "\n",
            "See the caveats in the documentation: https://pandas.pydata.org/pandas-docs/stable/user_guide/indexing.html#returning-a-view-versus-a-copy\n",
            "  \"\"\"Entry point for launching an IPython kernel.\n"
          ],
          "name": "stderr"
        },
        {
          "output_type": "stream",
          "text": [
            "Root Mean Squared Errors\n",
            "Train R2 Score => 0.8628444867350625, RMSE => 36641.64452839192\n",
            "Val R2 Score => -0.3275294222004592, RMSE => 100206.06136523545\n",
            "Test R2 Score => 0.03434573155249543, RMSE => 118226.78485154426\n"
          ],
          "name": "stdout"
        }
      ]
    },
    {
      "cell_type": "markdown",
      "metadata": {
        "id": "BcLE4qVUGrgU",
        "colab_type": "text"
      },
      "source": [
        "## LSTM"
      ]
    },
    {
      "cell_type": "markdown",
      "metadata": {
        "id": "ED_waBjT9Z3R",
        "colab_type": "text"
      },
      "source": [
        "### Modelling"
      ]
    },
    {
      "cell_type": "code",
      "metadata": {
        "id": "zF9cKMf49iFm",
        "colab_type": "code",
        "colab": {}
      },
      "source": [
        "from keras.models import Sequential\n",
        "from keras.layers import Dense\n",
        "from keras.layers import LSTM"
      ],
      "execution_count": 21,
      "outputs": []
    },
    {
      "cell_type": "code",
      "metadata": {
        "id": "5R_s15pf9kNh",
        "colab_type": "code",
        "colab": {}
      },
      "source": [
        "model_k = Sequential()\n",
        "model_k.add(LSTM(1, input_shape=(1,23)))\n",
        "model_k.add(Dense(1))\n",
        "model_k.compile(loss='mean_squared_error', optimizer='adam')"
      ],
      "execution_count": 36,
      "outputs": []
    },
    {
      "cell_type": "markdown",
      "metadata": {
        "id": "oG5N8UqWOMMj",
        "colab_type": "text"
      },
      "source": [
        "### Reshaping the data"
      ]
    },
    {
      "cell_type": "code",
      "metadata": {
        "id": "wI2Jov3V98As",
        "colab_type": "code",
        "colab": {}
      },
      "source": [
        "X_train_reshaped = X_train.values.reshape((X_train.shape[0], 1, X_train.shape[1]))\n",
        "X_val_reshaped = X_val.values.reshape((X_val.shape[0], 1, X_val.shape[1]))\n",
        "X_test_reshaped = X_test.values.reshape((X_test.shape[0], 1, X_test.shape[1]))"
      ],
      "execution_count": 46,
      "outputs": []
    },
    {
      "cell_type": "markdown",
      "metadata": {
        "id": "858rILoLOO8g",
        "colab_type": "text"
      },
      "source": [
        "### Fitting the model"
      ]
    },
    {
      "cell_type": "code",
      "metadata": {
        "id": "GKnzxHFB-F_b",
        "colab_type": "code",
        "colab": {
          "base_uri": "https://localhost:8080/",
          "height": 364
        },
        "outputId": "637f55b5-87a5-47c7-8602-87f1aec25c4f"
      },
      "source": [
        "history = model_k.fit(X_train_reshaped, y_train, validation_data=(X_val_reshaped, y_val),\\\n",
        "epochs=10, batch_size=96, verbose=2)"
      ],
      "execution_count": 47,
      "outputs": [
        {
          "output_type": "stream",
          "text": [
            "Epoch 1/10\n",
            "4/4 - 0s - loss: 122888912896.0000 - val_loss: 143221522432.0000\n",
            "Epoch 2/10\n",
            "4/4 - 0s - loss: 122888912896.0000 - val_loss: 143221506048.0000\n",
            "Epoch 3/10\n",
            "4/4 - 0s - loss: 122888888320.0000 - val_loss: 143221506048.0000\n",
            "Epoch 4/10\n",
            "4/4 - 0s - loss: 122888896512.0000 - val_loss: 143221506048.0000\n",
            "Epoch 5/10\n",
            "4/4 - 0s - loss: 122888896512.0000 - val_loss: 143221506048.0000\n",
            "Epoch 6/10\n",
            "4/4 - 0s - loss: 122888896512.0000 - val_loss: 143221489664.0000\n",
            "Epoch 7/10\n",
            "4/4 - 0s - loss: 122888888320.0000 - val_loss: 143221489664.0000\n",
            "Epoch 8/10\n",
            "4/4 - 0s - loss: 122888888320.0000 - val_loss: 143221489664.0000\n",
            "Epoch 9/10\n",
            "4/4 - 0s - loss: 122888871936.0000 - val_loss: 143221489664.0000\n",
            "Epoch 10/10\n",
            "4/4 - 0s - loss: 122888871936.0000 - val_loss: 143221489664.0000\n"
          ],
          "name": "stdout"
        }
      ]
    },
    {
      "cell_type": "markdown",
      "metadata": {
        "id": "KUq2M8sZOVY5",
        "colab_type": "text"
      },
      "source": [
        "### Results and Errors"
      ]
    },
    {
      "cell_type": "code",
      "metadata": {
        "id": "W421rId8OcAT",
        "colab_type": "code",
        "colab": {
          "base_uri": "https://localhost:8080/",
          "height": 86
        },
        "outputId": "1756c15f-001b-44a6-e474-619058ae6f2c"
      },
      "source": [
        "y_train_pred = model_k.predict(X_train_reshaped)\n",
        "y_val_pred = model_k.predict(X_val_reshaped)\n",
        "y_test_pred = model_k.predict(X_test_reshaped)\n",
        "\n",
        "print(\"Root Mean Squared Errors\")\n",
        "print(f'Train RMSE => {mean_squared_error(y_train, y_train_pred, squared=False)}')\n",
        "print(f'Val RMSE => {mean_squared_error(y_val, y_val_pred, squared=False)}')\n",
        "print(f'Test RMSE => {mean_squared_error(y_test, y_test_pred, squared=False)}')"
      ],
      "execution_count": 48,
      "outputs": [
        {
          "output_type": "stream",
          "text": [
            "Root Mean Squared Errors\n",
            "Train RMSE => 350555.09259246854\n",
            "Val RMSE => 378446.12816991366\n",
            "Test RMSE => 392386.05874806247\n"
          ],
          "name": "stdout"
        }
      ]
    },
    {
      "cell_type": "code",
      "metadata": {
        "id": "6JpEbAYWKaOs",
        "colab_type": "code",
        "colab": {}
      },
      "source": [
        ""
      ],
      "execution_count": null,
      "outputs": []
    }
  ]
}