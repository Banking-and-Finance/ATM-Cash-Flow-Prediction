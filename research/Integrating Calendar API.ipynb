{
 "cells": [
  {
   "cell_type": "markdown",
   "metadata": {},
   "source": [
    "# Google Calendar API Integration"
   ]
  },
  {
   "cell_type": "markdown",
   "metadata": {},
   "source": [
    "Table of contents:\n",
    "    "
   ]
  },
  {
   "cell_type": "markdown",
   "metadata": {},
   "source": [
    "## OAuth 2.0 Setup"
   ]
  },
  {
   "cell_type": "code",
   "execution_count": 3,
   "metadata": {},
   "outputs": [],
   "source": [
    "from apiclient.discovery import build\n",
    "from google_auth_oauthlib.flow import InstalledAppFlow"
   ]
  },
  {
   "cell_type": "code",
   "execution_count": 4,
   "metadata": {},
   "outputs": [],
   "source": [
    "scopes = ['https://www.googleapis.com/auth/calendar']"
   ]
  },
  {
   "cell_type": "code",
   "execution_count": 5,
   "metadata": {
    "scrolled": true
   },
   "outputs": [],
   "source": [
    "flow = InstalledAppFlow.from_client_secrets_file(\"credentials.json\", scopes=scopes)\n"
   ]
  },
  {
   "cell_type": "code",
   "execution_count": 7,
   "metadata": {
    "scrolled": false
   },
   "outputs": [
    {
     "name": "stdout",
     "output_type": "stream",
     "text": [
      "Please visit this URL to authorize this application: https://accounts.google.com/o/oauth2/auth?response_type=code&client_id=871044571445-4mdju3plb9kvhlamm0q3l45p4em8qant.apps.googleusercontent.com&redirect_uri=urn%3Aietf%3Awg%3Aoauth%3A2.0%3Aoob&scope=https%3A%2F%2Fwww.googleapis.com%2Fauth%2Fcalendar&state=kZMgZhYojszU4ulhVsUuaErJ4Pz5dS&prompt=consent&access_type=offline\n",
      "Enter the authorization code: 4/4AHp-7nMGdxpRyHtktFs-2knpEPos-a4Vwmv5FmV_103Gam6mOdnNTs\n"
     ]
    }
   ],
   "source": [
    "creds = flow.run_console()"
   ]
  },
  {
   "cell_type": "code",
   "execution_count": 8,
   "metadata": {},
   "outputs": [
    {
     "data": {
      "text/plain": [
       "<google.oauth2.credentials.Credentials at 0x14ead4f6940>"
      ]
     },
     "execution_count": 8,
     "metadata": {},
     "output_type": "execute_result"
    }
   ],
   "source": [
    "creds"
   ]
  },
  {
   "cell_type": "markdown",
   "metadata": {},
   "source": [
    " Creating a file using pickle to store the credentials so as to use it from time to time\n",
    " "
   ]
  },
  {
   "cell_type": "code",
   "execution_count": 9,
   "metadata": {},
   "outputs": [],
   "source": [
    "import pickle\n"
   ]
  },
  {
   "cell_type": "code",
   "execution_count": 10,
   "metadata": {},
   "outputs": [],
   "source": [
    "pickle.dump(creds, open(\"token.pkl\", \"wb\"))"
   ]
  },
  {
   "cell_type": "code",
   "execution_count": 11,
   "metadata": {},
   "outputs": [],
   "source": [
    "creds = pickle.load(open(\"token.pkl\", \"rb\"))"
   ]
  },
  {
   "cell_type": "code",
   "execution_count": 12,
   "metadata": {},
   "outputs": [],
   "source": [
    "service = build(\"calendar\", \"v3\", credentials = creds)"
   ]
  },
  {
   "cell_type": "markdown",
   "metadata": {},
   "source": [
    "## Get my calendars"
   ]
  },
  {
   "cell_type": "code",
   "execution_count": 13,
   "metadata": {},
   "outputs": [],
   "source": [
    "result = service.calendarList().list().execute()"
   ]
  },
  {
   "cell_type": "code",
   "execution_count": 14,
   "metadata": {},
   "outputs": [
    {
     "data": {
      "text/plain": [
       "{'kind': 'calendar#calendarList',\n",
       " 'etag': '\"p32savlsgkrlem0g\"',\n",
       " 'nextSyncToken': 'CLiv15Cm6usCEhZjaGF2YW52aXNtaXRAZ21haWwuY29t',\n",
       " 'items': [{'kind': 'calendar#calendarListEntry',\n",
       "   'etag': '\"1599732553037000\"',\n",
       "   'id': 'chavanvismit@gmail.com',\n",
       "   'summary': 'chavanvismit@gmail.com',\n",
       "   'timeZone': 'Asia/Kolkata',\n",
       "   'colorId': '14',\n",
       "   'backgroundColor': '#9fe1e7',\n",
       "   'foregroundColor': '#000000',\n",
       "   'selected': True,\n",
       "   'accessRole': 'owner',\n",
       "   'defaultReminders': [{'method': 'popup', 'minutes': 30}],\n",
       "   'notificationSettings': {'notifications': [{'type': 'eventCreation',\n",
       "      'method': 'email'},\n",
       "     {'type': 'eventChange', 'method': 'email'},\n",
       "     {'type': 'eventCancellation', 'method': 'email'},\n",
       "     {'type': 'eventResponse', 'method': 'email'}]},\n",
       "   'primary': True,\n",
       "   'conferenceProperties': {'allowedConferenceSolutionTypes': ['hangoutsMeet']}},\n",
       "  {'kind': 'calendar#calendarListEntry',\n",
       "   'etag': '\"1599732552489000\"',\n",
       "   'id': 'addressbook#contacts@group.v.calendar.google.com',\n",
       "   'summary': 'Contacts',\n",
       "   'timeZone': 'Asia/Kolkata',\n",
       "   'colorId': '13',\n",
       "   'backgroundColor': '#92e1c0',\n",
       "   'foregroundColor': '#000000',\n",
       "   'selected': True,\n",
       "   'accessRole': 'reader',\n",
       "   'defaultReminders': [],\n",
       "   'conferenceProperties': {'allowedConferenceSolutionTypes': ['hangoutsMeet']}},\n",
       "  {'kind': 'calendar#calendarListEntry',\n",
       "   'etag': '\"1590940825912000\"',\n",
       "   'id': 'en.indian#holiday@group.v.calendar.google.com',\n",
       "   'summary': 'Holidays in India',\n",
       "   'timeZone': 'Asia/Kolkata',\n",
       "   'colorId': '8',\n",
       "   'backgroundColor': '#16a765',\n",
       "   'foregroundColor': '#000000',\n",
       "   'selected': True,\n",
       "   'accessRole': 'reader',\n",
       "   'defaultReminders': [],\n",
       "   'conferenceProperties': {'allowedConferenceSolutionTypes': ['hangoutsMeet']}}]}"
      ]
     },
     "execution_count": 14,
     "metadata": {},
     "output_type": "execute_result"
    }
   ],
   "source": [
    "result\n"
   ]
  },
  {
   "cell_type": "markdown",
   "metadata": {},
   "source": [
    "## Get my calendar events"
   ]
  },
  {
   "cell_type": "code",
   "execution_count": 15,
   "metadata": {},
   "outputs": [],
   "source": [
    "calendar_id = result['items'][0]['id']\n",
    "show = service.events().list(calendarId = calendar_id).execute()"
   ]
  },
  {
   "cell_type": "code",
   "execution_count": 16,
   "metadata": {},
   "outputs": [
    {
     "data": {
      "text/plain": [
       "{'kind': 'calendar#events',\n",
       " 'etag': '\"p32savlsgkrlem0g\"',\n",
       " 'summary': 'chavanvismit@gmail.com',\n",
       " 'updated': '2020-09-15T04:14:11.331Z',\n",
       " 'timeZone': 'Asia/Kolkata',\n",
       " 'accessRole': 'owner',\n",
       " 'defaultReminders': [{'method': 'popup', 'minutes': 30}],\n",
       " 'nextSyncToken': 'CLiv15Cm6usCELiv15Cm6usCGAU=',\n",
       " 'items': [{'kind': 'calendar#event',\n",
       "   'etag': '\"3181872687952000\"',\n",
       "   'id': '75h3idhn6cqmab9g65i3ab9k6ti30b9p6coj6b9mccomcohi6grj2e3374',\n",
       "   'status': 'confirmed',\n",
       "   'htmlLink': 'https://www.google.com/calendar/event?eid=NzVoM2lkaG42Y3FtYWI5ZzY1aTNhYjlrNnRpMzBiOXA2Y29qNmI5bWNjb21jb2hpNmdyajJlMzM3NCBjaGF2YW52aXNtaXRAbQ',\n",
       "   'created': '2020-05-31T13:35:05.000Z',\n",
       "   'updated': '2020-05-31T14:45:43.976Z',\n",
       "   'summary': 'Discussion about Requirements and Initial Visualizations',\n",
       "   'description': \"Finish up Requirements document\\nTake a look at Vismit's PR and take decisions to solve some issues\",\n",
       "   'creator': {'email': 'mohdabbas378@gmail.com'},\n",
       "   'organizer': {'email': 'mohdabbas378@gmail.com'},\n",
       "   'start': {'dateTime': '2020-05-31T21:30:00+05:30'},\n",
       "   'end': {'dateTime': '2020-05-31T22:30:00+05:30'},\n",
       "   'iCalUID': '75h3idhn6cqmab9g65i3ab9k6ti30b9p6coj6b9mccomcohi6grj2e3374@google.com',\n",
       "   'sequence': 0,\n",
       "   'attendees': [{'email': 'chavanvismit@gmail.com',\n",
       "     'self': True,\n",
       "     'responseStatus': 'needsAction'},\n",
       "    {'email': 'mohdabbas378@gmail.com',\n",
       "     'organizer': True,\n",
       "     'responseStatus': 'accepted'},\n",
       "    {'email': 'jamesjasvin5@gmail.com',\n",
       "     'displayName': 'Jasvin James',\n",
       "     'responseStatus': 'accepted'}],\n",
       "   'hangoutLink': 'https://meet.google.com/bdz-ajbm-vxn',\n",
       "   'conferenceData': {'createRequest': {'requestId': 'ccpm2e35cgp66b9l61j66b9k61i3gb9o6th38b9pcgsjidpo6tgjac1oco',\n",
       "     'conferenceSolutionKey': {'type': 'hangoutsMeet'},\n",
       "     'status': {'statusCode': 'success'}},\n",
       "    'entryPoints': [{'entryPointType': 'video',\n",
       "      'uri': 'https://meet.google.com/bdz-ajbm-vxn',\n",
       "      'label': 'meet.google.com/bdz-ajbm-vxn'}],\n",
       "    'conferenceSolution': {'key': {'type': 'hangoutsMeet'},\n",
       "     'name': 'Google Meet',\n",
       "     'iconUri': 'https://lh5.googleusercontent.com/proxy/bWvYBOb7O03a7HK5iKNEAPoUNPEXH1CHZjuOkiqxHx8OtyVn9sZ6Ktl8hfqBNQUUbCDg6T2unnsHx7RSkCyhrKgHcdoosAW8POQJm_ZEvZU9ZfAE7mZIBGr_tDlF8Z_rSzXcjTffVXg3M46v'},\n",
       "    'conferenceId': 'bdz-ajbm-vxn',\n",
       "    'signature': 'ADR/mfNowYzgGmoh1pRuajiL2oSg'},\n",
       "   'reminders': {'useDefault': True}},\n",
       "  {'kind': 'calendar#event',\n",
       "   'etag': '\"3184977625694000\"',\n",
       "   'id': 'c4s68db274sm6bb6c4qm2b9k6opm2bb1coo3eb9k6oq62c1mcosjgoph6g',\n",
       "   'status': 'confirmed',\n",
       "   'htmlLink': 'https://www.google.com/calendar/event?eid=YzRzNjhkYjI3NHNtNmJiNmM0cW0yYjlrNm9wbTJiYjFjb28zZWI5azZvcTYyYzFtY29zamdvcGg2ZyBjaGF2YW52aXNtaXRAbQ',\n",
       "   'created': '2020-06-18T13:59:57.000Z',\n",
       "   'updated': '2020-06-18T14:00:12.847Z',\n",
       "   'summary': 'Decision Taking after Dirty Implementation',\n",
       "   'creator': {'email': 'mohdabbas378@gmail.com'},\n",
       "   'organizer': {'email': 'mohdabbas378@gmail.com'},\n",
       "   'start': {'dateTime': '2020-06-18T19:30:00+05:30'},\n",
       "   'end': {'dateTime': '2020-06-18T20:30:00+05:30'},\n",
       "   'iCalUID': 'c4s68db274sm6bb6c4qm2b9k6opm2bb1coo3eb9k6oq62c1mcosjgoph6g@google.com',\n",
       "   'sequence': 0,\n",
       "   'attendees': [{'email': 'chavanvismit@gmail.com',\n",
       "     'self': True,\n",
       "     'responseStatus': 'needsAction'},\n",
       "    {'email': 'mohdabbas378@gmail.com',\n",
       "     'organizer': True,\n",
       "     'responseStatus': 'accepted'},\n",
       "    {'email': 'jamesjasvin5@gmail.com',\n",
       "     'displayName': 'Jasvin James',\n",
       "     'responseStatus': 'needsAction'}],\n",
       "   'hangoutLink': 'https://meet.google.com/kaq-drkg-jfz',\n",
       "   'conferenceData': {'createRequest': {'requestId': 'cpi3ic9j6kq6ab9h6oq3cb9k6sqjgbb26hi6ab9i6krjcpb46th62d3574',\n",
       "     'conferenceSolutionKey': {'type': 'hangoutsMeet'},\n",
       "     'status': {'statusCode': 'success'}},\n",
       "    'entryPoints': [{'entryPointType': 'video',\n",
       "      'uri': 'https://meet.google.com/kaq-drkg-jfz',\n",
       "      'label': 'meet.google.com/kaq-drkg-jfz'}],\n",
       "    'conferenceSolution': {'key': {'type': 'hangoutsMeet'},\n",
       "     'name': 'Google Meet',\n",
       "     'iconUri': 'https://lh5.googleusercontent.com/proxy/bWvYBOb7O03a7HK5iKNEAPoUNPEXH1CHZjuOkiqxHx8OtyVn9sZ6Ktl8hfqBNQUUbCDg6T2unnsHx7RSkCyhrKgHcdoosAW8POQJm_ZEvZU9ZfAE7mZIBGr_tDlF8Z_rSzXcjTffVXg3M46v'},\n",
       "    'conferenceId': 'kaq-drkg-jfz',\n",
       "    'signature': 'ADR/mfN22kDN34rLSJHDbu/kM3y+'},\n",
       "   'reminders': {'useDefault': True}},\n",
       "  {'kind': 'calendar#event',\n",
       "   'etag': '\"3199465158756000\"',\n",
       "   'id': '5rh3t6qsagtm2gj44o9l7f04if',\n",
       "   'status': 'confirmed',\n",
       "   'htmlLink': 'https://www.google.com/calendar/event?eid=NXJoM3Q2cXNhZ3RtMmdqNDRvOWw3ZjA0aWYgY2hhdmFudmlzbWl0QG0',\n",
       "   'created': '2020-09-10T10:09:39.000Z',\n",
       "   'updated': '2020-09-10T10:09:39.378Z',\n",
       "   'summary': 'Meeting',\n",
       "   'creator': {'email': 'chavanvismit@gmail.com', 'self': True},\n",
       "   'organizer': {'email': 'chavanvismit@gmail.com', 'self': True},\n",
       "   'start': {'dateTime': '2020-09-10T15:00:00+05:30'},\n",
       "   'end': {'dateTime': '2020-09-10T16:00:00+05:30'},\n",
       "   'iCalUID': '5rh3t6qsagtm2gj44o9l7f04if@google.com',\n",
       "   'sequence': 0,\n",
       "   'reminders': {'useDefault': True}},\n",
       "  {'kind': 'calendar#event',\n",
       "   'etag': '\"3200286502662000\"',\n",
       "   'id': '6gr62oj46spm2bb1cksj6b9k74oj4bb164r6ab9lc4sjiopmckrjachhck',\n",
       "   'status': 'confirmed',\n",
       "   'htmlLink': 'https://www.google.com/calendar/event?eid=NmdyNjJvajQ2c3BtMmJiMWNrc2o2YjlrNzRvajRiYjE2NHI2YWI5bGM0c2ppb3BtY2tyamFjaGhja18yMDIwMDkxNVQxNjQ1MDBaIGNoYXZhbnZpc21pdEBt',\n",
       "   'created': '2020-09-15T01:11:02.000Z',\n",
       "   'updated': '2020-09-15T04:14:11.331Z',\n",
       "   'summary': 'Final Year Project Weekly Planning',\n",
       "   'creator': {'email': 'mohdabbas378@gmail.com'},\n",
       "   'organizer': {'email': 'mohdabbas378@gmail.com'},\n",
       "   'start': {'dateTime': '2020-09-15T22:15:00+05:30',\n",
       "    'timeZone': 'Asia/Kolkata'},\n",
       "   'end': {'dateTime': '2020-09-15T23:15:00+05:30',\n",
       "    'timeZone': 'Asia/Kolkata'},\n",
       "   'recurrence': ['RRULE:FREQ=WEEKLY;WKST=MO;UNTIL=20201231T000000Z;INTERVAL=1;BYDAY=TU'],\n",
       "   'iCalUID': '6gr62oj46spm2bb1cksj6b9k74oj4bb164r6ab9lc4sjiopmckrjachhck@google.com',\n",
       "   'sequence': 1,\n",
       "   'attendees': [{'email': 'chavanvismit@gmail.com',\n",
       "     'self': True,\n",
       "     'responseStatus': 'needsAction'},\n",
       "    {'email': 'mohdabbas378@gmail.com',\n",
       "     'organizer': True,\n",
       "     'responseStatus': 'accepted'},\n",
       "    {'email': 'jamesjasvin5@gmail.com',\n",
       "     'displayName': 'Jasvin James',\n",
       "     'responseStatus': 'needsAction'}],\n",
       "   'hangoutLink': 'https://meet.google.com/stm-svws-aaw',\n",
       "   'conferenceData': {'createRequest': {'requestId': 'cgp34db164o3gb9j74o62b9k64o6ab9o6sqmab9hckrj8ohoc8o3apb46g',\n",
       "     'conferenceSolutionKey': {'type': 'hangoutsMeet'},\n",
       "     'status': {'statusCode': 'success'}},\n",
       "    'entryPoints': [{'entryPointType': 'video',\n",
       "      'uri': 'https://meet.google.com/stm-svws-aaw',\n",
       "      'label': 'meet.google.com/stm-svws-aaw'}],\n",
       "    'conferenceSolution': {'key': {'type': 'hangoutsMeet'},\n",
       "     'name': 'Google Meet',\n",
       "     'iconUri': 'https://lh5.googleusercontent.com/proxy/bWvYBOb7O03a7HK5iKNEAPoUNPEXH1CHZjuOkiqxHx8OtyVn9sZ6Ktl8hfqBNQUUbCDg6T2unnsHx7RSkCyhrKgHcdoosAW8POQJm_ZEvZU9ZfAE7mZIBGr_tDlF8Z_rSzXcjTffVXg3M46v'},\n",
       "    'conferenceId': 'stm-svws-aaw',\n",
       "    'signature': 'ADR/mfObl4pULX9/bwIrAOtbdjxK'},\n",
       "   'reminders': {'useDefault': True}}]}"
      ]
     },
     "execution_count": 16,
     "metadata": {},
     "output_type": "execute_result"
    }
   ],
   "source": [
    "show"
   ]
  },
  {
   "cell_type": "code",
   "execution_count": 17,
   "metadata": {},
   "outputs": [],
   "source": [
    "calendar_id = result['items'][2]['id']\n",
    "show = service.events().list(calendarId = calendar_id).execute()"
   ]
  },
  {
   "cell_type": "code",
   "execution_count": 18,
   "metadata": {
    "scrolled": false
   },
   "outputs": [],
   "source": [
    "#show"
   ]
  },
  {
   "cell_type": "markdown",
   "metadata": {},
   "source": [
    "## Generating a list of all holidays\n"
   ]
  },
  {
   "cell_type": "code",
   "execution_count": 19,
   "metadata": {},
   "outputs": [],
   "source": [
    "#Creating a dataframe for holidays\n",
    "import pandas as pd\n",
    "\n",
    "holidays = pd.DataFrame(columns= ['Name','Date'])\n",
    "dict= {}\n",
    "Date = []\n",
    "Name = []\n",
    "\n",
    "#Converting the dict objects to input of the dataframe.\n",
    "page_token = None\n",
    "while True:\n",
    "  events = service.events().list(calendarId= calendar_id, pageToken=page_token).execute()\n",
    "  for event in events['items']:\n",
    "        Name.append(event['summary'])\n",
    "        dict.update(event['start'])\n",
    "        Date.append(dict['date'])\n",
    "        \n",
    "    \n",
    "    \n",
    "  page_token = events.get('nextPageToken')\n",
    "  if not page_token:\n",
    "    break\n",
    "\n"
   ]
  },
  {
   "cell_type": "code",
   "execution_count": 20,
   "metadata": {},
   "outputs": [
    {
     "data": {
      "text/html": [
       "<div>\n",
       "<style scoped>\n",
       "    .dataframe tbody tr th:only-of-type {\n",
       "        vertical-align: middle;\n",
       "    }\n",
       "\n",
       "    .dataframe tbody tr th {\n",
       "        vertical-align: top;\n",
       "    }\n",
       "\n",
       "    .dataframe thead th {\n",
       "        text-align: right;\n",
       "    }\n",
       "</style>\n",
       "<table border=\"1\" class=\"dataframe\">\n",
       "  <thead>\n",
       "    <tr style=\"text-align: right;\">\n",
       "      <th></th>\n",
       "      <th>Name</th>\n",
       "      <th>Date</th>\n",
       "    </tr>\n",
       "  </thead>\n",
       "  <tbody>\n",
       "    <tr>\n",
       "      <th>0</th>\n",
       "      <td>New Year's Day</td>\n",
       "      <td>2019-01-01</td>\n",
       "    </tr>\n",
       "    <tr>\n",
       "      <th>1</th>\n",
       "      <td>Guru Govind Singh Jayanti</td>\n",
       "      <td>2019-01-13</td>\n",
       "    </tr>\n",
       "    <tr>\n",
       "      <th>2</th>\n",
       "      <td>Lohri</td>\n",
       "      <td>2019-01-13</td>\n",
       "    </tr>\n",
       "    <tr>\n",
       "      <th>3</th>\n",
       "      <td>Makar Sankranti</td>\n",
       "      <td>2019-01-14</td>\n",
       "    </tr>\n",
       "    <tr>\n",
       "      <th>4</th>\n",
       "      <td>Pongal</td>\n",
       "      <td>2019-01-15</td>\n",
       "    </tr>\n",
       "    <tr>\n",
       "      <th>...</th>\n",
       "      <td>...</td>\n",
       "      <td>...</td>\n",
       "    </tr>\n",
       "    <tr>\n",
       "      <th>154</th>\n",
       "      <td>Bakr Id/Eid ul-Adha</td>\n",
       "      <td>2021-07-20</td>\n",
       "    </tr>\n",
       "    <tr>\n",
       "      <th>155</th>\n",
       "      <td>Vasant Panchami</td>\n",
       "      <td>2020-01-30</td>\n",
       "    </tr>\n",
       "    <tr>\n",
       "      <th>156</th>\n",
       "      <td>Ambedkar Jayanti</td>\n",
       "      <td>2020-04-14</td>\n",
       "    </tr>\n",
       "    <tr>\n",
       "      <th>157</th>\n",
       "      <td>Bakr Id/Eid ul-Adha</td>\n",
       "      <td>2020-08-01</td>\n",
       "    </tr>\n",
       "    <tr>\n",
       "      <th>158</th>\n",
       "      <td>Muharram/Ashura</td>\n",
       "      <td>2020-08-30</td>\n",
       "    </tr>\n",
       "  </tbody>\n",
       "</table>\n",
       "<p>159 rows × 2 columns</p>\n",
       "</div>"
      ],
      "text/plain": [
       "                          Name        Date\n",
       "0               New Year's Day  2019-01-01\n",
       "1    Guru Govind Singh Jayanti  2019-01-13\n",
       "2                        Lohri  2019-01-13\n",
       "3              Makar Sankranti  2019-01-14\n",
       "4                       Pongal  2019-01-15\n",
       "..                         ...         ...\n",
       "154        Bakr Id/Eid ul-Adha  2021-07-20\n",
       "155            Vasant Panchami  2020-01-30\n",
       "156           Ambedkar Jayanti  2020-04-14\n",
       "157        Bakr Id/Eid ul-Adha  2020-08-01\n",
       "158            Muharram/Ashura  2020-08-30\n",
       "\n",
       "[159 rows x 2 columns]"
      ]
     },
     "execution_count": 20,
     "metadata": {},
     "output_type": "execute_result"
    }
   ],
   "source": [
    "holidays['Name'] = Name\n",
    "holidays['Date'] = Date\n",
    "holidays\n"
   ]
  },
  {
   "cell_type": "code",
   "execution_count": 21,
   "metadata": {},
   "outputs": [
    {
     "data": {
      "text/plain": [
       "0      2019-01-01\n",
       "1      2019-01-13\n",
       "2      2019-01-13\n",
       "3      2019-01-14\n",
       "4      2019-01-15\n",
       "          ...    \n",
       "154    2021-07-20\n",
       "155    2020-01-30\n",
       "156    2020-04-14\n",
       "157    2020-08-01\n",
       "158    2020-08-30\n",
       "Name: Date, Length: 159, dtype: object"
      ]
     },
     "execution_count": 21,
     "metadata": {},
     "output_type": "execute_result"
    }
   ],
   "source": [
    "holidays['Date']"
   ]
  },
  {
   "cell_type": "markdown",
   "metadata": {},
   "source": [
    "## Conversion of Date column from string to datetime"
   ]
  },
  {
   "cell_type": "code",
   "execution_count": 27,
   "metadata": {},
   "outputs": [
    {
     "data": {
      "text/html": [
       "<div>\n",
       "<style scoped>\n",
       "    .dataframe tbody tr th:only-of-type {\n",
       "        vertical-align: middle;\n",
       "    }\n",
       "\n",
       "    .dataframe tbody tr th {\n",
       "        vertical-align: top;\n",
       "    }\n",
       "\n",
       "    .dataframe thead th {\n",
       "        text-align: right;\n",
       "    }\n",
       "</style>\n",
       "<table border=\"1\" class=\"dataframe\">\n",
       "  <thead>\n",
       "    <tr style=\"text-align: right;\">\n",
       "      <th></th>\n",
       "      <th>Name</th>\n",
       "      <th>Date</th>\n",
       "    </tr>\n",
       "  </thead>\n",
       "  <tbody>\n",
       "    <tr>\n",
       "      <th>0</th>\n",
       "      <td>New Year's Day</td>\n",
       "      <td>2019-01-01</td>\n",
       "    </tr>\n",
       "    <tr>\n",
       "      <th>1</th>\n",
       "      <td>Guru Govind Singh Jayanti</td>\n",
       "      <td>2019-01-13</td>\n",
       "    </tr>\n",
       "    <tr>\n",
       "      <th>2</th>\n",
       "      <td>Lohri</td>\n",
       "      <td>2019-01-13</td>\n",
       "    </tr>\n",
       "    <tr>\n",
       "      <th>3</th>\n",
       "      <td>Makar Sankranti</td>\n",
       "      <td>2019-01-14</td>\n",
       "    </tr>\n",
       "    <tr>\n",
       "      <th>4</th>\n",
       "      <td>Pongal</td>\n",
       "      <td>2019-01-15</td>\n",
       "    </tr>\n",
       "    <tr>\n",
       "      <th>...</th>\n",
       "      <td>...</td>\n",
       "      <td>...</td>\n",
       "    </tr>\n",
       "    <tr>\n",
       "      <th>154</th>\n",
       "      <td>Bakr Id/Eid ul-Adha</td>\n",
       "      <td>2021-07-20</td>\n",
       "    </tr>\n",
       "    <tr>\n",
       "      <th>155</th>\n",
       "      <td>Vasant Panchami</td>\n",
       "      <td>2020-01-30</td>\n",
       "    </tr>\n",
       "    <tr>\n",
       "      <th>156</th>\n",
       "      <td>Ambedkar Jayanti</td>\n",
       "      <td>2020-04-14</td>\n",
       "    </tr>\n",
       "    <tr>\n",
       "      <th>157</th>\n",
       "      <td>Bakr Id/Eid ul-Adha</td>\n",
       "      <td>2020-08-01</td>\n",
       "    </tr>\n",
       "    <tr>\n",
       "      <th>158</th>\n",
       "      <td>Muharram/Ashura</td>\n",
       "      <td>2020-08-30</td>\n",
       "    </tr>\n",
       "  </tbody>\n",
       "</table>\n",
       "<p>159 rows × 2 columns</p>\n",
       "</div>"
      ],
      "text/plain": [
       "                          Name       Date\n",
       "0               New Year's Day 2019-01-01\n",
       "1    Guru Govind Singh Jayanti 2019-01-13\n",
       "2                        Lohri 2019-01-13\n",
       "3              Makar Sankranti 2019-01-14\n",
       "4                       Pongal 2019-01-15\n",
       "..                         ...        ...\n",
       "154        Bakr Id/Eid ul-Adha 2021-07-20\n",
       "155            Vasant Panchami 2020-01-30\n",
       "156           Ambedkar Jayanti 2020-04-14\n",
       "157        Bakr Id/Eid ul-Adha 2020-08-01\n",
       "158            Muharram/Ashura 2020-08-30\n",
       "\n",
       "[159 rows x 2 columns]"
      ]
     },
     "execution_count": 27,
     "metadata": {},
     "output_type": "execute_result"
    }
   ],
   "source": [
    "from datetime import datetime\n",
    "\n",
    "holidays['Date'] = pd.to_datetime(holidays['Date'], format='%Y-%m-%d')\n",
    "\n",
    "holidays"
   ]
  },
  {
   "cell_type": "code",
   "execution_count": 30,
   "metadata": {},
   "outputs": [
    {
     "data": {
      "text/html": [
       "<div>\n",
       "<style scoped>\n",
       "    .dataframe tbody tr th:only-of-type {\n",
       "        vertical-align: middle;\n",
       "    }\n",
       "\n",
       "    .dataframe tbody tr th {\n",
       "        vertical-align: top;\n",
       "    }\n",
       "\n",
       "    .dataframe thead th {\n",
       "        text-align: right;\n",
       "    }\n",
       "</style>\n",
       "<table border=\"1\" class=\"dataframe\">\n",
       "  <thead>\n",
       "    <tr style=\"text-align: right;\">\n",
       "      <th></th>\n",
       "      <th>Name</th>\n",
       "      <th>Date</th>\n",
       "    </tr>\n",
       "  </thead>\n",
       "  <tbody>\n",
       "    <tr>\n",
       "      <th>39</th>\n",
       "      <td>Dussehra</td>\n",
       "      <td>2019-10-08</td>\n",
       "    </tr>\n",
       "    <tr>\n",
       "      <th>82</th>\n",
       "      <td>Dussehra</td>\n",
       "      <td>2020-10-25</td>\n",
       "    </tr>\n",
       "    <tr>\n",
       "      <th>145</th>\n",
       "      <td>Dussehra</td>\n",
       "      <td>2021-10-15</td>\n",
       "    </tr>\n",
       "  </tbody>\n",
       "</table>\n",
       "</div>"
      ],
      "text/plain": [
       "         Name       Date\n",
       "39   Dussehra 2019-10-08\n",
       "82   Dussehra 2020-10-25\n",
       "145  Dussehra 2021-10-15"
      ]
     },
     "execution_count": 30,
     "metadata": {},
     "output_type": "execute_result"
    }
   ],
   "source": [
    "#Few search results as per Name or date to verify authenticity\n",
    "\n",
    "holidays[holidays['Name']=='Dussehra']"
   ]
  },
  {
   "cell_type": "code",
   "execution_count": 31,
   "metadata": {},
   "outputs": [
    {
     "data": {
      "text/html": [
       "<div>\n",
       "<style scoped>\n",
       "    .dataframe tbody tr th:only-of-type {\n",
       "        vertical-align: middle;\n",
       "    }\n",
       "\n",
       "    .dataframe tbody tr th {\n",
       "        vertical-align: top;\n",
       "    }\n",
       "\n",
       "    .dataframe thead th {\n",
       "        text-align: right;\n",
       "    }\n",
       "</style>\n",
       "<table border=\"1\" class=\"dataframe\">\n",
       "  <thead>\n",
       "    <tr style=\"text-align: right;\">\n",
       "      <th></th>\n",
       "      <th>Name</th>\n",
       "      <th>Date</th>\n",
       "    </tr>\n",
       "  </thead>\n",
       "  <tbody>\n",
       "    <tr>\n",
       "      <th>45</th>\n",
       "      <td>Bhai Duj</td>\n",
       "      <td>2019-10-29</td>\n",
       "    </tr>\n",
       "  </tbody>\n",
       "</table>\n",
       "</div>"
      ],
      "text/plain": [
       "        Name       Date\n",
       "45  Bhai Duj 2019-10-29"
      ]
     },
     "execution_count": 31,
     "metadata": {},
     "output_type": "execute_result"
    }
   ],
   "source": [
    "holidays[holidays['Date']=='2019-10-29']"
   ]
  },
  {
   "cell_type": "code",
   "execution_count": 32,
   "metadata": {},
   "outputs": [
    {
     "data": {
      "text/html": [
       "<div>\n",
       "<style scoped>\n",
       "    .dataframe tbody tr th:only-of-type {\n",
       "        vertical-align: middle;\n",
       "    }\n",
       "\n",
       "    .dataframe tbody tr th {\n",
       "        vertical-align: top;\n",
       "    }\n",
       "\n",
       "    .dataframe thead th {\n",
       "        text-align: right;\n",
       "    }\n",
       "</style>\n",
       "<table border=\"1\" class=\"dataframe\">\n",
       "  <thead>\n",
       "    <tr style=\"text-align: right;\">\n",
       "      <th></th>\n",
       "      <th>Name</th>\n",
       "      <th>Date</th>\n",
       "    </tr>\n",
       "  </thead>\n",
       "  <tbody>\n",
       "    <tr>\n",
       "      <th>7</th>\n",
       "      <td>Shivaji Jayanti</td>\n",
       "      <td>2019-02-19</td>\n",
       "    </tr>\n",
       "    <tr>\n",
       "      <th>8</th>\n",
       "      <td>Guru Ravidas Jayanti</td>\n",
       "      <td>2019-02-19</td>\n",
       "    </tr>\n",
       "  </tbody>\n",
       "</table>\n",
       "</div>"
      ],
      "text/plain": [
       "                   Name       Date\n",
       "7       Shivaji Jayanti 2019-02-19\n",
       "8  Guru Ravidas Jayanti 2019-02-19"
      ]
     },
     "execution_count": 32,
     "metadata": {},
     "output_type": "execute_result"
    }
   ],
   "source": [
    "holidays[holidays['Date']=='2019-02-19']"
   ]
  },
  {
   "cell_type": "code",
   "execution_count": null,
   "metadata": {},
   "outputs": [],
   "source": []
  }
 ],
 "metadata": {
  "kernelspec": {
   "display_name": "Python 3",
   "language": "python",
   "name": "python3"
  },
  "language_info": {
   "codemirror_mode": {
    "name": "ipython",
    "version": 3
   },
   "file_extension": ".py",
   "mimetype": "text/x-python",
   "name": "python",
   "nbconvert_exporter": "python",
   "pygments_lexer": "ipython3",
   "version": "3.8.1"
  },
  "toc": {
   "base_numbering": 1,
   "nav_menu": {},
   "number_sections": true,
   "sideBar": true,
   "skip_h1_title": false,
   "title_cell": "Table of Contents",
   "title_sidebar": "Contents",
   "toc_cell": false,
   "toc_position": {},
   "toc_section_display": true,
   "toc_window_display": false
  }
 },
 "nbformat": 4,
 "nbformat_minor": 4
}
